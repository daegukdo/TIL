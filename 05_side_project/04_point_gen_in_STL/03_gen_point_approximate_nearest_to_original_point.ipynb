{
 "cells": [
  {
   "cell_type": "markdown",
   "metadata": {},
   "source": [
    "### 같은 평면상에 있는 error가 추가된 points\n",
    "\n",
    " - 이전 단계에서 수행한 points를 다시 load\n",
    " \n",
    " - 또한 기존의 STL data로 만들어진 point로부터 최근접 point를 찾기 위해서 다시 load "
   ]
  },
  {
   "cell_type": "code",
   "execution_count": 1,
   "metadata": {},
   "outputs": [],
   "source": [
    "import numpy as np\n",
    "\n",
    "# 다시 읽어드리기\n",
    "\n",
    "each_point_data = np.load('data/femur_each_point_data.npy')\n",
    "points40_with_error_on_plane = np.load('data/points40_with_error_on_plane.npy')"
   ]
  },
  {
   "cell_type": "markdown",
   "metadata": {},
   "source": [
    "###### 최근접 점 찾기\n",
    "\n",
    " - STL points data로부터 최근접 point를 찾기\n",
    " \n",
    " - kd tree 방법을 사용\n",
    " \n",
    " - ref\n",
    " \n",
    " > https://stackoverflow.com/questions/48126771/nearest-neighbour-search-kdtree"
   ]
  },
  {
   "cell_type": "code",
   "execution_count": 3,
   "metadata": {},
   "outputs": [],
   "source": [
    "from sklearn.neighbors import KDTree"
   ]
  },
  {
   "cell_type": "code",
   "execution_count": null,
   "metadata": {},
   "outputs": [],
   "source": [
    "tree = KDTree(X)\n",
    "nearest_dist, nearest_ind = tree.query(X, k=2)  # k=2 nearest neighbors where k1 = identity\n",
    "\n",
    "print(X)\n",
    "print(nearest_dist[:, 1])    # drop id; assumes sorted -> see args!\n",
    "print(nearest_ind[:, 1])     # drop id "
   ]
  }
 ],
 "metadata": {
  "kernelspec": {
   "display_name": "Python 3",
   "language": "python",
   "name": "python3"
  },
  "language_info": {
   "codemirror_mode": {
    "name": "ipython",
    "version": 3
   },
   "file_extension": ".py",
   "mimetype": "text/x-python",
   "name": "python",
   "nbconvert_exporter": "python",
   "pygments_lexer": "ipython3",
   "version": "3.6.8"
  }
 },
 "nbformat": 4,
 "nbformat_minor": 2
}
