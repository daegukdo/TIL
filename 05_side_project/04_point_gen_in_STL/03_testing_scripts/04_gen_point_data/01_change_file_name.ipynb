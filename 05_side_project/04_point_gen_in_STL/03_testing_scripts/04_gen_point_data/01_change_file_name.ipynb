{
 "cells": [
  {
   "cell_type": "code",
   "execution_count": 3,
   "metadata": {},
   "outputs": [],
   "source": [
    "import os\n",
    "\n",
    "def rename_file(path, name, ext):\n",
    "    count = 0\n",
    "    pre_path = path + '/' \n",
    "    for filename in os.listdir(path):\n",
    "        print(path + '/' + filename)\n",
    "        count = count + 1\n",
    "        os.rename(pre_path + filename, pre_path + filename[:13] + \"0_processed\" + ext)"
   ]
  },
  {
   "cell_type": "code",
   "execution_count": 4,
   "metadata": {},
   "outputs": [
    {
     "name": "stdout",
     "output_type": "stream",
     "text": [
      "raw_data/Fc1L_0_point400_processed.txt\n",
      "raw_data/Fc1L_1_point400_processed.txt\n",
      "raw_data/Fc1L_2_point400_processed.txt\n",
      "raw_data/Fc1L_3_point400_processed.txt\n",
      "raw_data/Fc1L_4_point400_processed.txt\n",
      "raw_data/Fc1L_5_point400_processed.txt\n",
      "raw_data/Fc1L_6_point400_processed.txt\n",
      "raw_data/Fc1L_7_point400_processed.txt\n",
      "raw_data/Fc1L_8_point400_processed.txt\n",
      "raw_data/Fc1L_9_point400_processed.txt\n",
      "raw_data/Fc1R_0_point400_processed.txt\n",
      "raw_data/Fc1R_1_point400_processed.txt\n",
      "raw_data/Fc1R_2_point400_processed.txt\n",
      "raw_data/Fc1R_3_point400_processed.txt\n",
      "raw_data/Fc1R_4_point400_processed.txt\n",
      "raw_data/Fc1R_5_point400_processed.txt\n",
      "raw_data/Fc1R_6_point400_processed.txt\n",
      "raw_data/Fc1R_7_point400_processed.txt\n",
      "raw_data/Fc1R_8_point400_processed.txt\n",
      "raw_data/Fc1R_9_point400_processed.txt\n",
      "raw_data/Fc2L_0_point400_processed.txt\n",
      "raw_data/Fc2L_1_point400_processed.txt\n",
      "raw_data/Fc2L_2_point400_processed.txt\n",
      "raw_data/Fc2L_3_point400_processed.txt\n",
      "raw_data/Fc2L_4_point400_processed.txt\n",
      "raw_data/Fc2L_5_point400_processed.txt\n",
      "raw_data/Fc2L_6_point400_processed.txt\n",
      "raw_data/Fc2L_7_point400_processed.txt\n",
      "raw_data/Fc2L_8_point400_processed.txt\n",
      "raw_data/Fc2L_9_point400_processed.txt\n",
      "raw_data/Fc2R_0_point400_processed.txt\n",
      "raw_data/Fc2R_1_point400_processed.txt\n",
      "raw_data/Fc2R_2_point400_processed.txt\n",
      "raw_data/Fc2R_3_point400_processed.txt\n",
      "raw_data/Fc2R_4_point400_processed.txt\n",
      "raw_data/Fc2R_5_point400_processed.txt\n",
      "raw_data/Fc2R_6_point400_processed.txt\n",
      "raw_data/Fc2R_7_point400_processed.txt\n",
      "raw_data/Fc2R_8_point400_processed.txt\n",
      "raw_data/Fc2R_9_point400_processed.txt\n",
      "raw_data/Tc1L_0_point400_processed.txt\n",
      "raw_data/Tc1L_1_point400_processed.txt\n",
      "raw_data/Tc1L_2_point400_processed.txt\n",
      "raw_data/Tc1L_3_point400_processed.txt\n",
      "raw_data/Tc1L_4_point400_processed.txt\n",
      "raw_data/Tc1L_5_point400_processed.txt\n",
      "raw_data/Tc1L_6_point400_processed.txt\n",
      "raw_data/Tc1L_7_point400_processed.txt\n",
      "raw_data/Tc1L_8_point400_processed.txt\n",
      "raw_data/Tc1L_9_point400_processed.txt\n",
      "raw_data/Tc1R_0_point400_processed.txt\n",
      "raw_data/Tc1R_1_point400_processed.txt\n",
      "raw_data/Tc1R_2_point400_processed.txt\n",
      "raw_data/Tc1R_3_point400_processed.txt\n",
      "raw_data/Tc1R_4_point400_processed.txt\n",
      "raw_data/Tc1R_5_point400_processed.txt\n",
      "raw_data/Tc1R_6_point400_processed.txt\n",
      "raw_data/Tc1R_7_point400_processed.txt\n",
      "raw_data/Tc1R_8_point400_processed.txt\n",
      "raw_data/Tc1R_9_point400_processed.txt\n",
      "raw_data/Tc2L_0_point400_processed.txt\n",
      "raw_data/Tc2L_1_point400_processed.txt\n",
      "raw_data/Tc2L_2_point400_processed.txt\n",
      "raw_data/Tc2L_3_point400_processed.txt\n",
      "raw_data/Tc2L_4_point400_processed.txt\n",
      "raw_data/Tc2L_5_point400_processed.txt\n",
      "raw_data/Tc2L_6_point400_processed.txt\n",
      "raw_data/Tc2L_7_point400_processed.txt\n",
      "raw_data/Tc2L_8_point400_processed.txt\n",
      "raw_data/Tc2L_9_point400_processed.txt\n",
      "raw_data/Tc2R_0_point400_processed.txt\n",
      "raw_data/Tc2R_1_point400_processed.txt\n",
      "raw_data/Tc2R_2_point400_processed.txt\n",
      "raw_data/Tc2R_3_point400_processed.txt\n",
      "raw_data/Tc2R_4_point400_processed.txt\n",
      "raw_data/Tc2R_5_point400_processed.txt\n",
      "raw_data/Tc2R_6_point400_processed.txt\n",
      "raw_data/Tc2R_7_point400_processed.txt\n",
      "raw_data/Tc2R_8_point400_processed.txt\n",
      "raw_data/Tc2R_9_point400_processed.txt\n"
     ]
    }
   ],
   "source": [
    "data_in_path = 'raw_data'\n",
    "rename_file(data_in_path, 'data', '.txt')"
   ]
  },
  {
   "cell_type": "code",
   "execution_count": 2,
   "metadata": {},
   "outputs": [
    {
     "data": {
      "text/plain": [
       "'Fc1L_0_point4'"
      ]
     },
     "execution_count": 2,
     "metadata": {},
     "output_type": "execute_result"
    }
   ],
   "source": [
    "a = \"Fc1L_0_point400_processed\"\n",
    "a[:13]"
   ]
  },
  {
   "cell_type": "code",
   "execution_count": null,
   "metadata": {},
   "outputs": [],
   "source": []
  }
 ],
 "metadata": {
  "kernelspec": {
   "display_name": "Python 3",
   "language": "python",
   "name": "python3"
  },
  "language_info": {
   "codemirror_mode": {
    "name": "ipython",
    "version": 3
   },
   "file_extension": ".py",
   "mimetype": "text/x-python",
   "name": "python",
   "nbconvert_exporter": "python",
   "pygments_lexer": "ipython3",
   "version": "3.6.8"
  }
 },
 "nbformat": 4,
 "nbformat_minor": 2
}
