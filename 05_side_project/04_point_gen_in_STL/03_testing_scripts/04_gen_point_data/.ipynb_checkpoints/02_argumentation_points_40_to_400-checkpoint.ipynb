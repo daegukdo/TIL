{
 "cells": [
  {
   "cell_type": "code",
   "execution_count": 1,
   "metadata": {},
   "outputs": [],
   "source": [
    "import math\n",
    "import numpy as np\n",
    "import random\n",
    "\n",
    "def random_vector(length = 1):\n",
    "    \"\"\"\n",
    "    make vector that have length in sphere\n",
    "    \n",
    "    input data structure\n",
    "    vector length = int\n",
    "    \n",
    "    output data structure\n",
    "    vector = [vx, vy, vz]\n",
    "    \"\"\"\n",
    "    \n",
    "    rand_i, rand_j = np.random.rand(2)            # Two independent random numbers from a uniform distribution in the range (0, 1)\n",
    "    theta          = 2 * np.pi * rand_i           # Spherical coordinate theta\n",
    "    phi            = np.arccos(2 * rand_j - 1)    # Spherical coordinate phi, corrected for distribution bias\n",
    "    x              = np.cos(theta) * np.sin(phi)  # Cartesian coordinate x\n",
    "    y              = np.sin(theta) * np.sin(phi)  # Cartesian coordinate y\n",
    "    z              = np.cos(phi)                  # Cartesian coordinate z\n",
    "    vector         = [x*math.sqrt(length), y*math.sqrt(length), z*math.sqrt(length)]\n",
    "    return vector\n",
    "\n",
    "def add_mm_error_to_point(point, error = 20):\n",
    "    \"\"\"\n",
    "    input data structure\n",
    "    point = [x, y, z] # x, y, z unit = mm\n",
    "    \n",
    "    output data structure\n",
    "    point_added_error = [x', y', z']\n",
    "    \"\"\"\n",
    "    \n",
    "    point_added_error = point.copy()\n",
    "    \n",
    "    xyz_error = random_vector(error)\n",
    "\n",
    "    point_added_error[0] += xyz_error[0]\n",
    "    point_added_error[1] += xyz_error[1]\n",
    "    point_added_error[2] += xyz_error[2]\n",
    "    \n",
    "    return point_added_error"
   ]
  },
  {
   "cell_type": "code",
   "execution_count": 2,
   "metadata": {},
   "outputs": [
    {
     "ename": "FileNotFoundError",
     "evalue": "[Errno 2] No such file or directory: 'Fc1L_0_point40_processed.txt'",
     "output_type": "error",
     "traceback": [
      "\u001b[1;31m---------------------------------------------------------------------------\u001b[0m",
      "\u001b[1;31mFileNotFoundError\u001b[0m                         Traceback (most recent call last)",
      "\u001b[1;32m<ipython-input-2-7ffb2bbcd5a0>\u001b[0m in \u001b[0;36m<module>\u001b[1;34m\u001b[0m\n\u001b[0;32m      5\u001b[0m \u001b[1;33m\u001b[0m\u001b[0m\n\u001b[0;32m      6\u001b[0m \u001b[1;32mfor\u001b[0m \u001b[0mfilename\u001b[0m \u001b[1;32min\u001b[0m \u001b[0mos\u001b[0m\u001b[1;33m.\u001b[0m\u001b[0mlistdir\u001b[0m\u001b[1;33m(\u001b[0m\u001b[0mpath\u001b[0m\u001b[1;33m)\u001b[0m\u001b[1;33m:\u001b[0m\u001b[1;33m\u001b[0m\u001b[1;33m\u001b[0m\u001b[0m\n\u001b[1;32m----> 7\u001b[1;33m     \u001b[1;32mwith\u001b[0m \u001b[0mopen\u001b[0m\u001b[1;33m(\u001b[0m\u001b[0mfilename\u001b[0m\u001b[1;33m,\u001b[0m \u001b[1;34m'r'\u001b[0m\u001b[1;33m)\u001b[0m \u001b[1;32mas\u001b[0m \u001b[0mfile\u001b[0m\u001b[1;33m:\u001b[0m\u001b[1;33m\u001b[0m\u001b[1;33m\u001b[0m\u001b[0m\n\u001b[0m\u001b[0;32m      8\u001b[0m         \u001b[0m_reader\u001b[0m \u001b[1;33m=\u001b[0m \u001b[0mcsv\u001b[0m\u001b[1;33m.\u001b[0m\u001b[0mreader\u001b[0m\u001b[1;33m(\u001b[0m\u001b[0mfile\u001b[0m\u001b[1;33m)\u001b[0m\u001b[1;33m\u001b[0m\u001b[1;33m\u001b[0m\u001b[0m\n\u001b[0;32m      9\u001b[0m         \u001b[0m_raw\u001b[0m \u001b[1;33m=\u001b[0m \u001b[0mlist\u001b[0m\u001b[1;33m(\u001b[0m\u001b[0m_reader\u001b[0m\u001b[1;33m)\u001b[0m\u001b[1;33m\u001b[0m\u001b[1;33m\u001b[0m\u001b[0m\n",
      "\u001b[1;31mFileNotFoundError\u001b[0m: [Errno 2] No such file or directory: 'Fc1L_0_point40_processed.txt'"
     ]
    }
   ],
   "source": [
    "import os\n",
    "import csv\n",
    "\n",
    "path = \"raw_data\"\n",
    "\n",
    "for filename in os.listdir(path):\n",
    "    with open(path + '/' + filename, 'r') as file:\n",
    "        _reader = csv.reader(file) \n",
    "        _raw = list(_reader) \n",
    "    raw = np.array(_raw, dtype='float')\n",
    "    \n",
    "    raw_argumentation = []\n",
    "\n",
    "    for i in range(len(raw)):\n",
    "        point = raw[i]\n",
    "        for j in range(10):\n",
    "            raw_argumentation.append(add_mm_error_to_point(point, 0.5))\n",
    "            \n",
    "    ext_file_name = \"data/\" + filename[:13] + \"00_processed.txt\"\n",
    "\n",
    "    with open(ext_file_name, 'w') as ext_file:\n",
    "        for i in range(len(raw_argumentation)):\n",
    "            tmp_point = raw_argumentation[i]\n",
    "            tmp_data_str = \"\"\n",
    "            for j in range(len(tmp_point)):\n",
    "                tmp_data_str += str(tmp_point[j])\n",
    "                if j < 2:\n",
    "                    tmp_data_str += ', '\n",
    "                else:\n",
    "                    tmp_data_str += '\\n'\n",
    "            ext_file.write(tmp_data_str)"
   ]
  },
  {
   "cell_type": "code",
   "execution_count": null,
   "metadata": {},
   "outputs": [],
   "source": []
  }
 ],
 "metadata": {
  "kernelspec": {
   "display_name": "Python 3",
   "language": "python",
   "name": "python3"
  },
  "language_info": {
   "codemirror_mode": {
    "name": "ipython",
    "version": 3
   },
   "file_extension": ".py",
   "mimetype": "text/x-python",
   "name": "python",
   "nbconvert_exporter": "python",
   "pygments_lexer": "ipython3",
   "version": "3.6.8"
  }
 },
 "nbformat": 4,
 "nbformat_minor": 2
}
