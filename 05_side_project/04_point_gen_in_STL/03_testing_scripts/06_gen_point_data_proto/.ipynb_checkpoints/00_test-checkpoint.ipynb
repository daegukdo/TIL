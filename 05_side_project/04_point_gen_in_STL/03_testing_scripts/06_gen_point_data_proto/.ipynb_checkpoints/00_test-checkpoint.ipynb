{
 "cells": [
  {
   "cell_type": "code",
   "execution_count": 1,
   "metadata": {},
   "outputs": [],
   "source": [
    "import random"
   ]
  },
  {
   "cell_type": "code",
   "execution_count": 35,
   "metadata": {},
   "outputs": [
    {
     "name": "stdout",
     "output_type": "stream",
     "text": [
      "-2.18308152654501\n",
      "5.6603226094586425\n",
      "13.555755920111665\n",
      "5.177460489901975\n",
      "-11.922221198345518\n",
      "-16.837516637082082\n",
      "-4.549194294357086\n",
      "19.342542799478466\n",
      "14.964713044993566\n",
      "-10.793408587773822\n",
      "-2.3863494112163437\n",
      "-13.164797520525795\n",
      "11.600261785960502\n",
      "-18.34896581129779\n",
      "-14.871206451043042\n",
      "2.585304808144315\n",
      "-17.117004330584635\n",
      "-19.112327644775018\n",
      "10.998977332332558\n",
      "13.533579791601476\n",
      "0.6281999466010113\n",
      "-5.528020343282524\n",
      "13.1596096604979\n",
      "11.000926483340159\n",
      "12.937647749364004\n",
      "-19.930883013446202\n",
      "-6.654030294113911\n",
      "-8.78699067740325\n",
      "2.3358279453683615\n",
      "-3.7112764341594584\n",
      "-8.878396911079065\n",
      "-15.360540155219118\n",
      "16.87220923788619\n",
      "-17.552282740445854\n",
      "-7.493302815220124\n",
      "-1.8970712805184995\n",
      "13.184381880500354\n",
      "11.60932612722057\n",
      "15.292258846730988\n",
      "14.223659833167751\n"
     ]
    }
   ],
   "source": [
    "max_error = 20\n",
    "\n",
    "for i in range(40):\n",
    "    print(random.uniform(-max_error, max_error))"
   ]
  },
  {
   "cell_type": "code",
   "execution_count": null,
   "metadata": {},
   "outputs": [],
   "source": []
  }
 ],
 "metadata": {
  "kernelspec": {
   "display_name": "Python 3",
   "language": "python",
   "name": "python3"
  },
  "language_info": {
   "codemirror_mode": {
    "name": "ipython",
    "version": 3
   },
   "file_extension": ".py",
   "mimetype": "text/x-python",
   "name": "python",
   "nbconvert_exporter": "python",
   "pygments_lexer": "ipython3",
   "version": "3.6.8"
  }
 },
 "nbformat": 4,
 "nbformat_minor": 2
}
