{
 "cells": [
  {
   "cell_type": "markdown",
   "metadata": {},
   "source": [
    "### usrcrd!"
   ]
  },
  {
   "cell_type": "code",
   "execution_count": 1,
   "metadata": {},
   "outputs": [],
   "source": [
    "import numpy as np\n",
    "import math\n",
    "\n",
    "def euler2mtx(data):\n",
    "    # input ... radian\n",
    "    posX = data[0]\n",
    "    posY = data[1]\n",
    "    posZ = data[2]\n",
    "    pitch = data[3]\n",
    "    roll = data[4]\n",
    "    yaw = data[5]\n",
    "    \n",
    "    Rx = np.array([[1, 0, 0, 0],\n",
    "                   [0, math.cos(pitch), -1 * math.sin(pitch), 0],\n",
    "                   [0, math.sin(pitch), math.cos(pitch), 0],\n",
    "                   [0, 0, 0, 1]])\n",
    "    \n",
    "    Ry = np.array([[math.cos(roll), 0, math.sin(roll), 0],\n",
    "                   [0, 1, 0, 0],\n",
    "                   [-1 * math.sin(roll), 0, math.cos(roll), 0],\n",
    "                   [0, 0, 0, 1]])\n",
    "    \n",
    "    Rz = np.array([[math.cos(yaw), -1 * math.sin(yaw), 0, 0],\n",
    "                   [math.sin(yaw), math.cos(yaw), 0, 0],\n",
    "                   [0, 0, 1, 0],\n",
    "                   [0, 0, 0, 1]])\n",
    "    \n",
    "    mtxR = np.dot(Rz, np.dot(Ry, Rx))\n",
    "    \n",
    "    mtxR[0][3] = posX\n",
    "    mtxR[1][3] = posY\n",
    "    mtxR[2][3] = posZ\n",
    "    \n",
    "    return mtxR\n",
    "\n",
    "# ref : https://www.learnopencv.com/rotation-matrix-to-euler-angles/\n",
    "# Calculates rotation matrix to euler angles\n",
    "# The result is the same as MATLAB except the order\n",
    "# of the euler angles ( x and z are swapped ).\n",
    "def mtx2euler(mtx) :\n",
    "    dLocSqrt = (mtx[0][0] * mtx[0][0] +  mtx[1][0] * mtx[1][0])\n",
    "    \n",
    "    if(dLocSqrt<0.0):\n",
    "        dLocSqrt = 0.0\n",
    "    else:\n",
    "        dLocSqrt= math.sqrt(dLocSqrt)\n",
    "    \n",
    "    dLocRy = math.atan2(-mtx[2][0], dLocSqrt)\n",
    "    dLocCy = math.cos(dLocRy)\n",
    " \n",
    "    if (dLocCy < 0.001745328365898):\n",
    "        Rx = 0.0\n",
    "        Ry = dLocRy\n",
    "        Rz = math.atan2(-mtx[0][1], mtx[1][1])\n",
    "    else:\n",
    "        Rx = math.atan2(mtx[2][1]/dLocCy, mtx[2][2]/dLocCy)\n",
    "        Ry = dLocRy\n",
    "        Rz = math.atan2(mtx[1][0]/dLocCy, mtx[0][0]/dLocCy)\n",
    "        \n",
    "    X = mtx[0][3]\n",
    "    Y = mtx[1][3]\n",
    "    Z = mtx[2][3]\n",
    "    # output ... radian\n",
    "    Rx = Rx\n",
    "    Ry = Ry\n",
    "    Rz = Rz\n",
    " \n",
    "    return np.array([X, Y, Z, Rx, Ry, Rz])"
   ]
  },
  {
   "cell_type": "code",
   "execution_count": 14,
   "metadata": {},
   "outputs": [],
   "source": [
    "def quat2euler(quat) :\n",
    "    qW = quat[3]\n",
    "    qX = quat[4]\n",
    "    qY = quat[5]\n",
    "    qZ = quat[6]\n",
    "    Tx = quat[0]\n",
    "    Ty = quat[1]\n",
    "    Tz = quat[2]\n",
    "    \n",
    "    sqw = qW * qW\n",
    "    sqx = qX * qX\n",
    "    sqy = qY * qY\n",
    "    sqz = qZ * qZ\n",
    "    \n",
    "    unit = sqx + sqy + sqz + sqw\n",
    "    test = qX * qY + qZ * qW\n",
    "    \n",
    "    if (test > 0.4999 * unit):\n",
    "        Ry = 2.0 * math.atan2(qX, qW)\n",
    "        Rx = 3.141592654 * 0.5\n",
    "        Rz = 0.0\n",
    "        \n",
    "        return np.array([Tx, Ty, Tz, Rz * 180 / 3.141592654, Ry * 180 / 3.141592654, Rx * 180 / 3.141592654])\n",
    "    \n",
    "    elif(test < -0.4999 * unit):\n",
    "        Ry = -2.0 * math.atan2(qX, qW)\n",
    "        Rx = -3.141592654 * 0.5\n",
    "        Rz = 0.0\n",
    "        \n",
    "        return np.array([Tx, Ty, Tz, Rz * 180 / 3.141592654, Ry * 180 / 3.141592654, Rx * 180 / 3.141592654])\n",
    "    \n",
    "    else:\n",
    "        Ry = math.atan2(2.0 * qY * qW - 2.0 * qX * qZ, sqx - sqy - sqz + sqw)\n",
    "        Rx = math.asin(2.0 * test / unit)\n",
    "        Rz = math.atan2(2.0 * qX * qW - 2.0 * qY * qZ, -sqx + sqy - sqz + sqw)\n",
    "        \n",
    "        #return np.array([Tx, Ty, Tz, Rz * 180 / 3.141592654, Ry * 180 / 3.141592654, Rx * 180 / 3.141592654])\n",
    "        return np.array([Tx, Ty, Tz, Rz, Ry, Rx])"
   ]
  },
  {
   "cell_type": "markdown",
   "metadata": {},
   "source": [
    "def quat2mtx(quat):\n",
    "    qw = quat[0]\n",
    "    qx = quat[1]\n",
    "    qy = quat[2]\n",
    "    qz = quat[3]\n",
    "    Tx = quat[4]\n",
    "    Ty = quat[5]\n",
    "    Tz = quat[6]\n",
    "    \n",
    "    mtx = np.array([[(1 - 2 * qy * qy - 2 * qz * qz), (2 * qx * qy - 2 * qw * qz), (2 * qx * qz + 2 * qw * qy), Tx],\n",
    "                    [(2 * qx * qy + 2 * qw * qz), (1 - 2 * qx * qx - 2 * qz * qz), (2 * qy * qz - 2 * qw * qx), Ty],\n",
    "                    [(2 * qx * qz - 2 * qw * qy), (2 * qy * qz + 2 * qw * qx), (1 - 2 * qx * qx - 2 * qy * qy), Tz],\n",
    "                    [0.0,0.0,0.0,1.0]])\n",
    "    \n",
    "    return mtx"
   ]
  },
  {
   "cell_type": "code",
   "execution_count": 15,
   "metadata": {},
   "outputs": [],
   "source": [
    "def quat2mtx(quat):\n",
    "    qw = quat[0]\n",
    "    qx = quat[1]\n",
    "    qy = quat[2]\n",
    "    qz = quat[3]\n",
    "    Tx = quat[4]\n",
    "    Ty = quat[5]\n",
    "    Tz = quat[6]\n",
    "    \n",
    "    mtx = np.array([[(1 - 2 * qy * qy - 2 * qz * qz), (2 * qx * qy - 2 * qw * qz), (2 * qx * qz + 2 * qw * qy), Tx],\n",
    "                    [(2 * qx * qy + 2 * qw * qz), (1 - 2 * qx * qx - 2 * qz * qz), (2 * qy * qz - 2 * qw * qx), Ty],\n",
    "                    [(2 * qx * qz - 2 * qw * qy), (2 * qy * qz + 2 * qw * qx), (1 - 2 * qx * qx - 2 * qy * qy), Tz],\n",
    "                    [0.0,0.0,0.0,1.0]])\n",
    "    \n",
    "    return mtx"
   ]
  },
  {
   "cell_type": "code",
   "execution_count": 16,
   "metadata": {},
   "outputs": [],
   "source": [
    "def mulmulmtx(robot2base, ots2base, ots2marker, marker2bone, bone2imp):\n",
    "    temp0 = np.dot(robot2base, np.linalg.inv(ots2base))\n",
    "    temp1 = np.dot(temp0, ots2marker)\n",
    "    temp2 = np.dot(temp1, marker2bone)\n",
    "    temp3 = np.dot(temp2, bone2imp)\n",
    "    \n",
    "    result = temp3\n",
    "    \n",
    "    return result"
   ]
  },
  {
   "cell_type": "markdown",
   "metadata": {},
   "source": [
    "## test!!"
   ]
  },
  {
   "cell_type": "code",
   "execution_count": 17,
   "metadata": {},
   "outputs": [],
   "source": [
    "q = [176.672668457031,507.314361572266,-2256.70629882813,0.994967699050903,0.0804495215415955,0.0122915301471949,-0.0584471710026264]\n",
    "e = [176.672668457031,507.314361572266,-2256.70629882813,0.159417970756751,0.0338699201783227,-0.114644981277825]"
   ]
  },
  {
   "cell_type": "code",
   "execution_count": 18,
   "metadata": {},
   "outputs": [],
   "source": [
    "q2e = quat2euler(q)"
   ]
  },
  {
   "cell_type": "code",
   "execution_count": 19,
   "metadata": {},
   "outputs": [
    {
     "name": "stdout",
     "output_type": "stream",
     "text": [
      "176.672668457031 507.314361572266 -2256.70629882813 0.16331732373974756 0.034093557043693136 -0.11457893949347789\n"
     ]
    }
   ],
   "source": [
    "# print(q2e[0], q2e[1], q2e[2], q2e[3]* 180 / 3.141592654, q2e[4]* 180 / 3.141592654, q2e[5]* 180 / 3.141592654)\n",
    "print(q2e[0], q2e[1], q2e[2], q2e[3], q2e[4], q2e[5])"
   ]
  },
  {
   "cell_type": "code",
   "execution_count": 20,
   "metadata": {},
   "outputs": [
    {
     "name": "stdout",
     "output_type": "stream",
     "text": [
      "0.0 0.0 0.0 0.003899352982996568 0.0002236368653704343 6.604178434711783e-05\n"
     ]
    }
   ],
   "source": [
    "print(q2e[0]-e[0], q2e[1]-e[1], q2e[2]-e[2], q2e[3]-e[3], q2e[4]-e[4], q2e[5]-e[5])"
   ]
  },
  {
   "cell_type": "code",
   "execution_count": null,
   "metadata": {},
   "outputs": [],
   "source": []
  }
 ],
 "metadata": {
  "kernelspec": {
   "display_name": "Python 3",
   "language": "python",
   "name": "python3"
  },
  "language_info": {
   "codemirror_mode": {
    "name": "ipython",
    "version": 3
   },
   "file_extension": ".py",
   "mimetype": "text/x-python",
   "name": "python",
   "nbconvert_exporter": "python",
   "pygments_lexer": "ipython3",
   "version": "3.6.8"
  }
 },
 "nbformat": 4,
 "nbformat_minor": 2
}
