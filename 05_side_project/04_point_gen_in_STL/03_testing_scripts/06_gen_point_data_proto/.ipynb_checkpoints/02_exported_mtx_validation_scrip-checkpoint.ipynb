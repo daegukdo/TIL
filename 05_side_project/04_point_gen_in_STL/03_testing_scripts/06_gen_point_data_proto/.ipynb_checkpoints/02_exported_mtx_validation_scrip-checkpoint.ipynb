{
 "cells": [
  {
   "cell_type": "code",
   "execution_count": 32,
   "metadata": {},
   "outputs": [],
   "source": [
    "import numpy as np\n",
    "import math\n",
    "\n",
    "\n",
    "\n",
    "ans_mtx = [[-1.00000000e+00,  9.38133875e-17, -7.87187789e-17, 6.25000000e+02],\n",
    "           [ 1.22464680e-16,  7.66044443e-01, -6.42787610e-01, 1.95000000e+02],\n",
    "           [ 0.00000000e+00, -6.42787610e-01, -7.66044443e-01, 2.25000000e+02],\n",
    "           [ 0.00000000e+00,  0.00000000e+00,  0.00000000e+00, 1.00000000e+00]]\n",
    "\n",
    "identity_mtx = [[ 1.00000000e+00,  0.00000000e+00,  0.00000000e+00, 0.00000000e+00],\n",
    "                [ 0.00000000e+00,  1.00000000e+00,  0.00000000e+00, 0.00000000e+00],\n",
    "                [ 0.00000000e+00,  0.00000000e+00,  1.00000000e+00, 0.00000000e+00],\n",
    "                [ 0.00000000e+00,  0.00000000e+00,  0.00000000e+00, 1.00000000e+00]]\n",
    "\n",
    "\n",
    "\n",
    "test_mtx_trns = [[-0.987133145332336,-0.119844101369381,-0.105856440961361,664.762939453125],\n",
    "[-0.00612966762855649,0.689889013767242,-0.723889172077179,32.2285499572754],\n",
    "[0.1597830504179,-0.713926136493683,-0.681746900081635,190.968826293945],\n",
    "[0,0,0,1]]\n",
    "\n",
    "test_mtx_err = [[0.987133145332336,-0.0237627644091845,0.158125087618828,0.617424190044403],\n",
    "[0.00612968578934669,0.993792653083801,0.111079424619675,0.0508073270320892],\n",
    "[-0.159783095121384,-0.108680926263332,0.981151282787323,-1.77542269229889],\n",
    "[0,0,0,1]]\n",
    "\n",
    "test_mtx_id = [[0.999998331069946,0.00172358111012727,-0.000586170644965023,-0.0312805958092213],\n",
    "               [-0.00172355852555484,0.999998509883881,3.90266613976564E-05,0.0254219025373459],\n",
    "               [0.000586237059906125,-3.80162964574993E-05,0.999999821186066,-0.0108767841011286],\n",
    "               [0,0,0,1]]"
   ]
  },
  {
   "cell_type": "code",
   "execution_count": 33,
   "metadata": {},
   "outputs": [],
   "source": [
    "ans_mtx_ = np.array(ans_mtx)\n",
    "identity_mtx = np.array(identity_mtx)"
   ]
  },
  {
   "cell_type": "code",
   "execution_count": 34,
   "metadata": {},
   "outputs": [],
   "source": [
    "test_mtx_trns_ = np.array(test_mtx_trns)\n",
    "test_mtx_err_ = np.array(test_mtx_err)\n",
    "test_mtx_id_ = np.array(test_mtx_id)"
   ]
  },
  {
   "cell_type": "code",
   "execution_count": 35,
   "metadata": {},
   "outputs": [
    {
     "data": {
      "text/plain": [
       "array([[-1.28668547e-02,  1.19844101e-01,  1.05856441e-01,\n",
       "        -3.97629395e+01],\n",
       "       [ 6.12966763e-03,  7.61554292e-02,  8.11015621e-02,\n",
       "         1.62771450e+02],\n",
       "       [-1.59783050e-01,  7.11385265e-02, -8.42975429e-02,\n",
       "         3.40311737e+01],\n",
       "       [ 0.00000000e+00,  0.00000000e+00,  0.00000000e+00,\n",
       "         0.00000000e+00]])"
      ]
     },
     "execution_count": 35,
     "metadata": {},
     "output_type": "execute_result"
    }
   ],
   "source": [
    "ans_mtx_ - test_mtx_trns_"
   ]
  },
  {
   "cell_type": "code",
   "execution_count": 36,
   "metadata": {},
   "outputs": [
    {
     "data": {
      "text/plain": [
       "array([[ 0.01286685,  0.02376276, -0.15812509, -0.61742419],\n",
       "       [-0.00612969,  0.00620735, -0.11107942, -0.05080733],\n",
       "       [ 0.1597831 ,  0.10868093,  0.01884872,  1.77542269],\n",
       "       [ 0.        ,  0.        ,  0.        ,  0.        ]])"
      ]
     },
     "execution_count": 36,
     "metadata": {},
     "output_type": "execute_result"
    }
   ],
   "source": [
    "identity_mtx - test_mtx_err_"
   ]
  },
  {
   "cell_type": "code",
   "execution_count": 37,
   "metadata": {},
   "outputs": [
    {
     "data": {
      "text/plain": [
       "array([[ 1.66893005e-06, -1.72358111e-03,  5.86170645e-04,\n",
       "         3.12805958e-02],\n",
       "       [ 1.72355853e-03,  1.49011612e-06, -3.90266614e-05,\n",
       "        -2.54219025e-02],\n",
       "       [-5.86237060e-04,  3.80162965e-05,  1.78813934e-07,\n",
       "         1.08767841e-02],\n",
       "       [ 0.00000000e+00,  0.00000000e+00,  0.00000000e+00,\n",
       "         0.00000000e+00]])"
      ]
     },
     "execution_count": 37,
     "metadata": {},
     "output_type": "execute_result"
    }
   ],
   "source": [
    "identity_mtx - test_mtx_id_"
   ]
  },
  {
   "cell_type": "code",
   "execution_count": 38,
   "metadata": {},
   "outputs": [],
   "source": [
    "def mtx2euler(mtx) :\n",
    "    dLocSqrt = (mtx[0][0] * mtx[0][0] +  mtx[1][0] * mtx[1][0])\n",
    "    \n",
    "    if(dLocSqrt<0.0):\n",
    "        dLocSqrt = 0.0\n",
    "    else:\n",
    "        dLocSqrt= math.sqrt(dLocSqrt)\n",
    "    \n",
    "    dLocRy = math.atan2(-mtx[2][0], dLocSqrt)\n",
    "    dLocCy = math.cos(dLocRy)\n",
    " \n",
    "    if (dLocCy < 0.001745328365898):\n",
    "        Rx = 0.0\n",
    "        Ry = dLocRy\n",
    "        Rz = math.atan2(-mtx[0][1], mtx[1][1])\n",
    "    else:\n",
    "        Rx = math.atan2(mtx[2][1]/dLocCy, mtx[2][2]/dLocCy)\n",
    "        Ry = dLocRy\n",
    "        Rz = math.atan2(mtx[1][0]/dLocCy, mtx[0][0]/dLocCy)\n",
    "        \n",
    "    X = mtx[0][3]\n",
    "    Y = mtx[1][3]\n",
    "    Z = mtx[2][3]\n",
    "    Rx = Rx * 180 / 3.141592653589793238462643383279\n",
    "    Ry = Ry * 180 / 3.141592653589793238462643383279\n",
    "    Rz = Rz * 180 / 3.141592653589793238462643383279\n",
    " \n",
    "    return np.array([X, Y, Z, Rx, Ry, Rz])"
   ]
  },
  {
   "cell_type": "markdown",
   "metadata": {},
   "source": [
    "coarse iter : 100  \n",
    "coarse RMSE : 0.269731  \n",
    "fine iter : 100  \n",
    "fine RMSE : 0.119575  \n",
    "fine RMSE all pts : 0.260448  "
   ]
  },
  {
   "cell_type": "code",
   "execution_count": 57,
   "metadata": {},
   "outputs": [
    {
     "data": {
      "text/plain": [
       "array([-0.89347312,  1.22856892,  1.10825147, -6.7172669 ,  6.0765122 ,\n",
       "       -6.92218711])"
      ]
     },
     "execution_count": 57,
     "metadata": {},
     "output_type": "execute_result"
    }
   ],
   "source": [
    "mtx2euler(np.absolute(ans_mtx_)) - mt x2euler(np.absolute(np.linalg.inv(test_mtx_trns_)))"
   ]
  },
  {
   "cell_type": "markdown",
   "metadata": {},
   "source": [
    "coarse iter : 100  \n",
    "coarse RMSE : 0.269732  \n",
    "fine iter : 100  \n",
    "fine RMSE : 0.119573  \n",
    "fine RMSE all pts : 0.260449  "
   ]
  },
  {
   "cell_type": "code",
   "execution_count": 58,
   "metadata": {},
   "outputs": [
    {
     "data": {
      "text/plain": [
       "array([-0.89347381, -0.22877481, -1.63868432, -6.45914489,  9.09808592,\n",
       "       -1.37898636])"
      ]
     },
     "execution_count": 58,
     "metadata": {},
     "output_type": "execute_result"
    }
   ],
   "source": [
    "mtx2euler(np.absolute(identity_mtx)) - mtx2euler(np.absolute(np.linalg.inv(test_mtx_err_)))"
   ]
  },
  {
   "cell_type": "markdown",
   "metadata": {},
   "source": [
    "coarse iter : 28  \n",
    "coarse RMSE : 0.133318  \n",
    "fine iter : 81  \n",
    "fine RMSE : 0.006778  \n",
    "fine RMSE all pts : 0.140962  "
   ]
  },
  {
   "cell_type": "code",
   "execution_count": 59,
   "metadata": {},
   "outputs": [
    {
     "data": {
      "text/plain": [
       "array([-0.03133074, -0.02536836, -0.01085745, -0.00223606,  0.03358511,\n",
       "       -0.09875399])"
      ]
     },
     "execution_count": 59,
     "metadata": {},
     "output_type": "execute_result"
    }
   ],
   "source": [
    "mtx2euler(np.absolute(identity_mtx)) - mtx2euler(np.absolute(np.linalg.inv(test_mtx_id_)))"
   ]
  },
  {
   "cell_type": "markdown",
   "metadata": {},
   "source": [
    "###### mtx tracking"
   ]
  },
  {
   "cell_type": "code",
   "execution_count": 42,
   "metadata": {},
   "outputs": [
    {
     "data": {
      "text/plain": [
       "array([ 625.        ,  195.        ,  225.        , -139.99999998,\n",
       "         -0.        ,  180.        ])"
      ]
     },
     "execution_count": 42,
     "metadata": {},
     "output_type": "execute_result"
    }
   ],
   "source": [
    "mtx2euler(ans_mtx_)"
   ]
  },
  {
   "cell_type": "code",
   "execution_count": null,
   "metadata": {},
   "outputs": [],
   "source": []
  }
 ],
 "metadata": {
  "kernelspec": {
   "display_name": "Python 3",
   "language": "python",
   "name": "python3"
  },
  "language_info": {
   "codemirror_mode": {
    "name": "ipython",
    "version": 3
   },
   "file_extension": ".py",
   "mimetype": "text/x-python",
   "name": "python",
   "nbconvert_exporter": "python",
   "pygments_lexer": "ipython3",
   "version": "3.6.8"
  }
 },
 "nbformat": 4,
 "nbformat_minor": 2
}
