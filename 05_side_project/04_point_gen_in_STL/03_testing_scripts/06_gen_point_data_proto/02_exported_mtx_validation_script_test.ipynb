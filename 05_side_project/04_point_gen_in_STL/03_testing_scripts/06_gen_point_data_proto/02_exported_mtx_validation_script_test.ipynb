{
 "cells": [
  {
   "cell_type": "code",
   "execution_count": 1,
   "metadata": {},
   "outputs": [],
   "source": [
    "import numpy as np\n",
    "import math\n",
    "\n",
    "\n",
    "\n",
    "ans_mtx = [[-1.00000000e+00,  9.38133875e-17, -7.87187789e-17, 6.25000000e+02],\n",
    "           [ 1.22464680e-16,  7.66044443e-01, -6.42787610e-01, 1.95000000e+02],\n",
    "           [ 0.00000000e+00, -6.42787610e-01, -7.66044443e-01, 2.25000000e+02],\n",
    "           [ 0.00000000e+00,  0.00000000e+00,  0.00000000e+00, 1.00000000e+00]]\n",
    "\n",
    "identity_mtx = [[ 1.00000000e+00,  0.00000000e+00,  0.00000000e+00, 0.00000000e+00],\n",
    "                [ 0.00000000e+00,  1.00000000e+00,  0.00000000e+00, 0.00000000e+00],\n",
    "                [ 0.00000000e+00,  0.00000000e+00,  1.00000000e+00, 0.00000000e+00],\n",
    "                [ 0.00000000e+00,  0.00000000e+00,  0.00000000e+00, 1.00000000e+00]]\n",
    "\n",
    "\n",
    "\n",
    "test_mtx_trns = [[-0.988585829734802,-0.146967247128487,-0.0331470519304276,655.248474121094],\n",
    "[-0.0840407311916351,0.720544755458832,-0.688296735286713,69.133918762207],\n",
    "[0.125041007995605,-0.677654683589935,-0.724671602249146,215.395294189453],\n",
    "[0,0,0,1]]\n",
    "\n",
    "test_mtx_err = [[0.988585412502289,-0.0912774279713631,0.119863495230675,1.26573240756989],\n",
    "[0.0840407833456993,0.994397759437561,0.0641110613942146,2.24798822402954],\n",
    "[-0.125043883919716,-0.0533058419823647,0.990718185901642,-1.64789760112762],\n",
    "[0,0,0,1]]\n",
    "\n",
    "test_mtx_id = [[0.999998331069946,0.00172358111012727,-0.000586170644965023,-0.0312805958092213],\n",
    "               [-0.00172355852555484,0.999998509883881,3.90266613976564E-05,0.0254219025373459],\n",
    "               [0.000586237059906125,-3.80162964574993E-05,0.999999821186066,-0.0108767841011286],\n",
    "               [0,0,0,1]]"
   ]
  },
  {
   "cell_type": "code",
   "execution_count": 2,
   "metadata": {},
   "outputs": [],
   "source": [
    "ans_mtx_ = np.array(ans_mtx)\n",
    "identity_mtx = np.array(identity_mtx)"
   ]
  },
  {
   "cell_type": "code",
   "execution_count": 3,
   "metadata": {},
   "outputs": [],
   "source": [
    "test_mtx_trns_ = np.array(test_mtx_trns)\n",
    "test_mtx_err_ = np.array(test_mtx_err)\n",
    "test_mtx_id_ = np.array(test_mtx_id)"
   ]
  },
  {
   "cell_type": "code",
   "execution_count": 4,
   "metadata": {},
   "outputs": [
    {
     "data": {
      "text/plain": [
       "array([[-1.14141703e-02,  1.46967247e-01,  3.31470519e-02,\n",
       "        -3.02484741e+01],\n",
       "       [ 8.40407312e-02,  4.54996875e-02,  4.55091253e-02,\n",
       "         1.25866081e+02],\n",
       "       [-1.25041008e-01,  3.48670736e-02, -4.13728408e-02,\n",
       "         9.60470581e+00],\n",
       "       [ 0.00000000e+00,  0.00000000e+00,  0.00000000e+00,\n",
       "         0.00000000e+00]])"
      ]
     },
     "execution_count": 4,
     "metadata": {},
     "output_type": "execute_result"
    }
   ],
   "source": [
    "ans_mtx_ - test_mtx_trns_"
   ]
  },
  {
   "cell_type": "code",
   "execution_count": 5,
   "metadata": {},
   "outputs": [
    {
     "data": {
      "text/plain": [
       "array([[ 0.01141459,  0.09127743, -0.1198635 , -1.26573241],\n",
       "       [-0.08404078,  0.00560224, -0.06411106, -2.24798822],\n",
       "       [ 0.12504388,  0.05330584,  0.00928181,  1.6478976 ],\n",
       "       [ 0.        ,  0.        ,  0.        ,  0.        ]])"
      ]
     },
     "execution_count": 5,
     "metadata": {},
     "output_type": "execute_result"
    }
   ],
   "source": [
    "identity_mtx - test_mtx_err_"
   ]
  },
  {
   "cell_type": "code",
   "execution_count": 6,
   "metadata": {},
   "outputs": [
    {
     "data": {
      "text/plain": [
       "array([[ 1.66893005e-06, -1.72358111e-03,  5.86170645e-04,\n",
       "         3.12805958e-02],\n",
       "       [ 1.72355853e-03,  1.49011612e-06, -3.90266614e-05,\n",
       "        -2.54219025e-02],\n",
       "       [-5.86237060e-04,  3.80162965e-05,  1.78813934e-07,\n",
       "         1.08767841e-02],\n",
       "       [ 0.00000000e+00,  0.00000000e+00,  0.00000000e+00,\n",
       "         0.00000000e+00]])"
      ]
     },
     "execution_count": 6,
     "metadata": {},
     "output_type": "execute_result"
    }
   ],
   "source": [
    "identity_mtx - test_mtx_id_"
   ]
  },
  {
   "cell_type": "code",
   "execution_count": 7,
   "metadata": {},
   "outputs": [],
   "source": [
    "def mtx2euler(mtx) :\n",
    "    dLocSqrt = (mtx[0][0] * mtx[0][0] +  mtx[1][0] * mtx[1][0])\n",
    "    \n",
    "    if(dLocSqrt<0.0):\n",
    "        dLocSqrt = 0.0\n",
    "    else:\n",
    "        dLocSqrt= math.sqrt(dLocSqrt)\n",
    "    \n",
    "    dLocRy = math.atan2(-mtx[2][0], dLocSqrt)\n",
    "    dLocCy = math.cos(dLocRy)\n",
    " \n",
    "    if (dLocCy < 0.001745328365898):\n",
    "        Rx = 0.0\n",
    "        Ry = dLocRy\n",
    "        Rz = math.atan2(-mtx[0][1], mtx[1][1])\n",
    "    else:\n",
    "        Rx = math.atan2(mtx[2][1]/dLocCy, mtx[2][2]/dLocCy)\n",
    "        Ry = dLocRy\n",
    "        Rz = math.atan2(mtx[1][0]/dLocCy, mtx[0][0]/dLocCy)\n",
    "        \n",
    "    X = mtx[0][3]\n",
    "    Y = mtx[1][3]\n",
    "    Z = mtx[2][3]\n",
    "    Rx = Rx * 180 / 3.141592653589793238462643383279\n",
    "    Ry = Ry * 180 / 3.141592653589793238462643383279\n",
    "    Rz = Rz * 180 / 3.141592653589793238462643383279\n",
    " \n",
    "    return np.array([X, Y, Z, Rx, Ry, Rz])"
   ]
  },
  {
   "cell_type": "markdown",
   "metadata": {},
   "source": [
    "coarse iter : 47  \n",
    "coarse RMSE : 0.158407  \n",
    "fine iter : 100  \n",
    "fine RMSE : 0.085638  \n",
    "fine RMSE all pts : 0.157545                 "
   ]
  },
  {
   "cell_type": "code",
   "execution_count": 13,
   "metadata": {},
   "outputs": [
    {
     "data": {
      "text/plain": [
       "array([-1.64615041,  2.55039641, -0.39504067, -3.52532898,  1.89953384,\n",
       "       -8.45589533])"
      ]
     },
     "execution_count": 13,
     "metadata": {},
     "output_type": "execute_result"
    }
   ],
   "source": [
    "mtx2euler(np.absolute(ans_mtx_)) - mtx2euler(np.absolute(np.linalg.inv(test_mtx_trns_)))"
   ]
  },
  {
   "cell_type": "markdown",
   "metadata": {},
   "source": [
    "coarse iter : 47  \n",
    "coarse RMSE : 0.158406  \n",
    "fine iter : 100  \n",
    "fine RMSE : 0.085640  \n",
    "fine RMSE all pts : 0.157544                 "
   ]
  },
  {
   "cell_type": "code",
   "execution_count": 9,
   "metadata": {},
   "outputs": [
    {
     "data": {
      "text/plain": [
       "array([-1.64626688, -2.20770425, -1.33676608, -3.70254516,  6.88422447,\n",
       "       -5.27524001])"
      ]
     },
     "execution_count": 9,
     "metadata": {},
     "output_type": "execute_result"
    }
   ],
   "source": [
    "mtx2euler(np.absolute(identity_mtx)) - mtx2euler(np.absolute(np.linalg.inv(test_mtx_err_)))"
   ]
  },
  {
   "cell_type": "markdown",
   "metadata": {},
   "source": [
    "coarse iter : 28  \n",
    "coarse RMSE : 0.133318  \n",
    "fine iter : 81  \n",
    "fine RMSE : 0.006778  \n",
    "fine RMSE all pts : 0.140962  "
   ]
  },
  {
   "cell_type": "code",
   "execution_count": 62,
   "metadata": {},
   "outputs": [
    {
     "data": {
      "text/plain": [
       "array([ 0.03133074,  0.02536836,  0.01085745,  0.00223606, -0.03358511,\n",
       "        0.09875399])"
      ]
     },
     "execution_count": 62,
     "metadata": {},
     "output_type": "execute_result"
    }
   ],
   "source": [
    "mtx2euler(np.absolute(identity_mtx)) - mtx2euler(np.absolute(np.linalg.inv(test_mtx_id_)))"
   ]
  },
  {
   "cell_type": "markdown",
   "metadata": {},
   "source": [
    "###### mtx tracking"
   ]
  },
  {
   "cell_type": "code",
   "execution_count": 42,
   "metadata": {},
   "outputs": [
    {
     "data": {
      "text/plain": [
       "array([ 625.        ,  195.        ,  225.        , -139.99999998,\n",
       "         -0.        ,  180.        ])"
      ]
     },
     "execution_count": 42,
     "metadata": {},
     "output_type": "execute_result"
    }
   ],
   "source": [
    "mtx2euler(ans_mtx_)"
   ]
  },
  {
   "cell_type": "code",
   "execution_count": null,
   "metadata": {},
   "outputs": [],
   "source": []
  }
 ],
 "metadata": {
  "kernelspec": {
   "display_name": "Python 3",
   "language": "python",
   "name": "python3"
  },
  "language_info": {
   "codemirror_mode": {
    "name": "ipython",
    "version": 3
   },
   "file_extension": ".py",
   "mimetype": "text/x-python",
   "name": "python",
   "nbconvert_exporter": "python",
   "pygments_lexer": "ipython3",
   "version": "3.6.8"
  }
 },
 "nbformat": 4,
 "nbformat_minor": 2
}
