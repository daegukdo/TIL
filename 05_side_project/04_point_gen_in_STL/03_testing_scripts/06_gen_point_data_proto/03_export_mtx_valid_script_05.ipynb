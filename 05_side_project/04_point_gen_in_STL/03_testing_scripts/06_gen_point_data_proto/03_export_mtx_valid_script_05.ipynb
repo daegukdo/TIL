{
 "cells": [
  {
   "cell_type": "code",
   "execution_count": 117,
   "metadata": {},
   "outputs": [],
   "source": [
    "import numpy as np\n",
    "import math\n",
    "from xml.etree.ElementTree import parse\n",
    "import glob\n",
    "import pprint"
   ]
  },
  {
   "cell_type": "code",
   "execution_count": 18,
   "metadata": {},
   "outputs": [],
   "source": [
    "init_plan_data_path = 'C:/Users/eornr/Desktop/source_crx/200331_point_gen/01_point_gen_in_STL/05_gen_point_init_planing_data/raw_data/'\n",
    "\n",
    "file_ext = '.xml'\n",
    "xml_data_name = ['c1L_plan', \n",
    "                 'c1R_plan', \n",
    "                 'c2L_plan', \n",
    "                 'c2R_plan']\n",
    "\n",
    "femur_imp_model_mtx = []\n",
    "tibia_imp_model_mtx = []\n",
    "\n",
    "for fi in range(len(xml_data_name)):\n",
    "    tree = parse(init_plan_data_path + xml_data_name[fi] + file_ext)\n",
    "    main_root = tree.getroot()\n",
    "\n",
    "    femur_imp_model = main_root.getchildren()[2].getchildren()[1].getchildren()[0]\n",
    "    tibia_imp_model = main_root.getchildren()[3].getchildren()[1].getchildren()[0]\n",
    "    \n",
    "    value_split_f = femur_imp_model.find(\"MatrixModel2Local\").text.split(',')\n",
    "    value_split_t = tibia_imp_model.find(\"MatrixModel2Local\").text.split(',')\n",
    "    \n",
    "    femur_imp_model_mtx.append(value_split_f)\n",
    "    tibia_imp_model_mtx.append(value_split_t)"
   ]
  },
  {
   "cell_type": "code",
   "execution_count": 50,
   "metadata": {},
   "outputs": [],
   "source": [
    "def mtx_value_list_2_mtx_array(mtx_value_list):\n",
    "    mtx_array = []\n",
    "    \n",
    "    count = 0\n",
    "    for i in range(4):\n",
    "        tmp = []\n",
    "        for j in range(4):\n",
    "            tmp.append(float(mtx_value_list[j + count]))\n",
    "        count = count + 4\n",
    "        mtx_array.append(tmp)\n",
    "        \n",
    "    return mtx_array\n",
    "\n",
    "def mtx2euler(mtx) :\n",
    "    dLocSqrt = (mtx[0][0] * mtx[0][0] +  mtx[1][0] * mtx[1][0])\n",
    "    \n",
    "    if(dLocSqrt<0.0):\n",
    "        dLocSqrt = 0.0\n",
    "    else:\n",
    "        dLocSqrt= math.sqrt(dLocSqrt)\n",
    "    \n",
    "    dLocRy = math.atan2(-mtx[2][0], dLocSqrt)\n",
    "    dLocCy = math.cos(dLocRy)\n",
    " \n",
    "    if (dLocCy < 0.001745328365898):\n",
    "        Rx = 0.0\n",
    "        Ry = dLocRy\n",
    "        Rz = math.atan2(-mtx[0][1], mtx[1][1])\n",
    "    else:\n",
    "        Rx = math.atan2(mtx[2][1]/dLocCy, mtx[2][2]/dLocCy)\n",
    "        Ry = dLocRy\n",
    "        Rz = math.atan2(mtx[1][0]/dLocCy, mtx[0][0]/dLocCy)\n",
    "        \n",
    "    X = mtx[0][3]\n",
    "    Y = mtx[1][3]\n",
    "    Z = mtx[2][3]\n",
    "    Rx = Rx * 180 / 3.141592653589793238462643383279\n",
    "    Ry = Ry * 180 / 3.141592653589793238462643383279\n",
    "    Rz = Rz * 180 / 3.141592653589793238462643383279\n",
    " \n",
    "    return np.array([X, Y, Z, Rx, Ry, Rz])"
   ]
  },
  {
   "cell_type": "code",
   "execution_count": 22,
   "metadata": {},
   "outputs": [],
   "source": [
    "femur_imp_mtxs = []\n",
    "tibia_imp_mtxs = []\n",
    "\n",
    "for i in range(4):\n",
    "    femur_imp_mtxs.append(np.array(mtx_value_list_2_mtx_array(femur_imp_model_mtx[i])))\n",
    "    tibia_imp_mtxs.append(np.array(mtx_value_list_2_mtx_array(tibia_imp_model_mtx[i])))"
   ]
  },
  {
   "cell_type": "markdown",
   "metadata": {},
   "source": [
    "### read sim. data!!"
   ]
  },
  {
   "cell_type": "code",
   "execution_count": 108,
   "metadata": {},
   "outputs": [],
   "source": [
    "result_data_path = 'C:/Users/eornr/Desktop/source_crx/200331_point_gen/01_point_gen_in_STL/06_gen_point_data_proto/result/'\n",
    "mtx_str = 'mtx'\n",
    "log_str = 'log'"
   ]
  },
  {
   "cell_type": "code",
   "execution_count": 109,
   "metadata": {},
   "outputs": [],
   "source": [
    "result_files = glob.glob(result_data_path + '*')"
   ]
  },
  {
   "cell_type": "code",
   "execution_count": 110,
   "metadata": {},
   "outputs": [],
   "source": [
    "ans_mtx      = [[-1.00000000e+00,  9.38133875e-17, -7.87187789e-17, 6.25000000e+02],\n",
    "                [ 1.22464680e-16,  7.66044443e-01, -6.42787610e-01, 1.95000000e+02],\n",
    "                [ 0.00000000e+00, -6.42787610e-01, -7.66044443e-01, 2.25000000e+02],\n",
    "                [ 0.00000000e+00,  0.00000000e+00,  0.00000000e+00, 1.00000000e+00]]\n",
    "\n",
    "identity_mtx = [[ 1.00000000e+00,  0.00000000e+00,  0.00000000e+00, 0.00000000e+00],\n",
    "                [ 0.00000000e+00,  1.00000000e+00,  0.00000000e+00, 0.00000000e+00],\n",
    "                [ 0.00000000e+00,  0.00000000e+00,  1.00000000e+00, 0.00000000e+00],\n",
    "                [ 0.00000000e+00,  0.00000000e+00,  0.00000000e+00, 1.00000000e+00]]"
   ]
  },
  {
   "cell_type": "code",
   "execution_count": 111,
   "metadata": {},
   "outputs": [
    {
     "data": {
      "text/plain": [
       "array([[ 0.98858541, -0.09127743,  0.1198635 ,  1.26573241],\n",
       "       [ 0.08404078,  0.99439776,  0.06411106,  2.24798822],\n",
       "       [-0.12504388, -0.05330584,  0.99071819, -1.6478976 ],\n",
       "       [ 0.        ,  0.        ,  0.        ,  1.        ]])"
      ]
     },
     "execution_count": 111,
     "metadata": {},
     "output_type": "execute_result"
    }
   ],
   "source": [
    "mtx_of_exp"
   ]
  },
  {
   "cell_type": "markdown",
   "metadata": {},
   "source": [
    "### pose + 400 test"
   ]
  },
  {
   "cell_type": "code",
   "execution_count": 93,
   "metadata": {},
   "outputs": [
    {
     "name": "stdout",
     "output_type": "stream",
     "text": [
      "coarse iter : 47\n",
      "\n",
      "coarse RMSE : 0.158407\n",
      "\n",
      "fine iter : 100\n",
      "\n",
      "fine RMSE : 0.085638\n",
      "\n",
      "fine RMSE all pts : 0.157545\u0000\u0000\u0000\u0000\u0000\u0000\u0000\u0000\u0000\u0000\u0000\u0000\u0000\u0000\u0000\n",
      "\n"
     ]
    }
   ],
   "source": [
    "mtx_of_exp = []\n",
    "\n",
    "for i in range(len(result_files)):\n",
    "    file_path_str = result_files[i]\n",
    "    if(log_str in file_path_str):\n",
    "        with open(file_path_str) as file:\n",
    "            for line in file:\n",
    "                print(line)\n",
    "    elif(mtx_str in file_path_str):\n",
    "        with open(file_path_str) as file:\n",
    "            for line in file:\n",
    "                _line = line.split('\\n')\n",
    "                each_value = _line[0].split(',')\n",
    "                tmp = []\n",
    "                for i in range(len(each_value)):\n",
    "                    tmp.append(float(each_value[i]))\n",
    "                mtx_of_exp.append(tmp)\n",
    "                \n",
    "mtx_of_exp = np.array(mtx_of_exp)"
   ]
  },
  {
   "cell_type": "code",
   "execution_count": 94,
   "metadata": {},
   "outputs": [
    {
     "data": {
      "text/plain": [
       "array([-1.64615041,  2.55039641, -0.39504067, -3.52532898,  1.89953384,\n",
       "       -8.45589533])"
      ]
     },
     "execution_count": 94,
     "metadata": {},
     "output_type": "execute_result"
    }
   ],
   "source": [
    "mtx2euler(np.absolute(ans_mtx)) - mtx2euler(np.absolute(np.linalg.inv(mtx_of_exp)))"
   ]
  },
  {
   "cell_type": "code",
   "execution_count": 95,
   "metadata": {},
   "outputs": [
    {
     "data": {
      "text/plain": [
       "array([-1.10314771,  1.20923659, -0.52090016, -3.52532898,  1.89953384,\n",
       "       -8.45589533])"
      ]
     },
     "execution_count": 95,
     "metadata": {},
     "output_type": "execute_result"
    }
   ],
   "source": [
    "indexer = 0\n",
    "result = (mtx2euler(np.absolute(np.dot(ans_mtx, \n",
    "                                       femur_imp_mtxs[indexer]))) - \n",
    "          mtx2euler(np.absolute(np.dot(np.linalg.inv(mtx_of_exp), \n",
    "                                       femur_imp_mtxs[indexer]))))\n",
    "result"
   ]
  },
  {
   "cell_type": "markdown",
   "metadata": {},
   "source": [
    "###### in implant space..."
   ]
  },
  {
   "cell_type": "code",
   "execution_count": 98,
   "metadata": {},
   "outputs": [
    {
     "data": {
      "text/plain": [
       "array([-1.10314771, -1.26102649,  0.37868468,  3.70234324, -6.88588765,\n",
       "       -5.27283243])"
      ]
     },
     "execution_count": 98,
     "metadata": {},
     "output_type": "execute_result"
    }
   ],
   "source": [
    "# Te = (pose * plan)^-1 * regi. * plan\n",
    "Te = np.dot(np.dot(np.linalg.inv(np.dot(ans_mtx, femur_imp_mtxs[indexer])), np.linalg.inv(mtx_of_exp)), femur_imp_mtxs[indexer])\n",
    "mtx2euler(Te)"
   ]
  },
  {
   "cell_type": "markdown",
   "metadata": {},
   "source": [
    "### 400 test"
   ]
  },
  {
   "cell_type": "code",
   "execution_count": 104,
   "metadata": {},
   "outputs": [
    {
     "name": "stdout",
     "output_type": "stream",
     "text": [
      "coarse iter : 47\n",
      "\n",
      "coarse RMSE : 0.158406\n",
      "\n",
      "fine iter : 100\n",
      "\n",
      "fine RMSE : 0.085640\n",
      "\n",
      "fine RMSE all pts : 0.157544\u0000\u0000\u0000\u0000\u0000\u0000\u0000\u0000\u0000\u0000\u0000\u0000\u0000\u0000\u0000\n",
      "\n"
     ]
    }
   ],
   "source": [
    "mtx_of_exp = []\n",
    "\n",
    "for i in range(len(result_files)):\n",
    "    file_path_str = result_files[i]\n",
    "    if(log_str in file_path_str):\n",
    "        with open(file_path_str) as file:\n",
    "            for line in file:\n",
    "                print(line)\n",
    "    elif(mtx_str in file_path_str):\n",
    "        with open(file_path_str) as file:\n",
    "            for line in file:\n",
    "                _line = line.split('\\n')\n",
    "                each_value = _line[0].split(',')\n",
    "                tmp = []\n",
    "                for i in range(len(each_value)):\n",
    "                    tmp.append(float(each_value[i]))\n",
    "                mtx_of_exp.append(tmp)\n",
    "                \n",
    "mtx_of_exp = np.array(mtx_of_exp)"
   ]
  },
  {
   "cell_type": "code",
   "execution_count": 105,
   "metadata": {},
   "outputs": [
    {
     "data": {
      "text/plain": [
       "array([-1.64626688, -2.20770425, -1.33676608, -3.70254516,  6.88422447,\n",
       "       -5.27524001])"
      ]
     },
     "execution_count": 105,
     "metadata": {},
     "output_type": "execute_result"
    }
   ],
   "source": [
    "mtx2euler(np.absolute(identity_mtx)) - mtx2euler(np.absolute(np.linalg.inv(mtx_of_exp)))"
   ]
  },
  {
   "cell_type": "code",
   "execution_count": 106,
   "metadata": {},
   "outputs": [
    {
     "data": {
      "text/plain": [
       "array([-1.10318917, -1.26118032,  0.37823623, -3.70254516,  6.88422447,\n",
       "       -5.27524001])"
      ]
     },
     "execution_count": 106,
     "metadata": {},
     "output_type": "execute_result"
    }
   ],
   "source": [
    "indexer = 0\n",
    "result = (mtx2euler(np.absolute(np.dot(identity_mtx, \n",
    "                                       femur_imp_mtxs[indexer]))) - \n",
    "          mtx2euler(np.absolute(np.dot(np.linalg.inv(mtx_of_exp), \n",
    "                                       femur_imp_mtxs[indexer]))))\n",
    "result"
   ]
  },
  {
   "cell_type": "markdown",
   "metadata": {},
   "source": [
    "###### in implant space..."
   ]
  },
  {
   "cell_type": "code",
   "execution_count": 107,
   "metadata": {},
   "outputs": [
    {
     "data": {
      "text/plain": [
       "array([-1.10321917, -1.26104968,  0.37867129,  3.70248587, -6.88604105,\n",
       "       -5.27286293])"
      ]
     },
     "execution_count": 107,
     "metadata": {},
     "output_type": "execute_result"
    }
   ],
   "source": [
    "# Te = (pose * plan)^-1 * regi. * plan\n",
    "Te = np.dot(np.dot(np.linalg.inv(np.dot(identity_mtx, femur_imp_mtxs[indexer])), np.linalg.inv(mtx_of_exp)), femur_imp_mtxs[indexer])\n",
    "mtx2euler(Te)"
   ]
  },
  {
   "cell_type": "markdown",
   "metadata": {},
   "source": [
    "### 40 test"
   ]
  },
  {
   "cell_type": "code",
   "execution_count": 112,
   "metadata": {},
   "outputs": [
    {
     "name": "stdout",
     "output_type": "stream",
     "text": [
      "coarse iter : 40\n",
      "\n",
      "coarse RMSE : 0.271314\n",
      "\n",
      "fine iter : 53\n",
      "\n",
      "fine RMSE : 0.085713\n",
      "\n",
      "fine RMSE all pts : 0.278881\u0000\u0000\u0000\u0000\u0000\u0000\u0000\u0000\u0000\u0000\u0000\u0000\u0000\u0000\u0000\u0000\n",
      "\n"
     ]
    }
   ],
   "source": [
    "mtx_of_exp = []\n",
    "\n",
    "for i in range(len(result_files)):\n",
    "    file_path_str = result_files[i]\n",
    "    if(log_str in file_path_str):\n",
    "        with open(file_path_str) as file:\n",
    "            for line in file:\n",
    "                print(line)\n",
    "    elif(mtx_str in file_path_str):\n",
    "        with open(file_path_str) as file:\n",
    "            for line in file:\n",
    "                _line = line.split('\\n')\n",
    "                each_value = _line[0].split(',')\n",
    "                tmp = []\n",
    "                for i in range(len(each_value)):\n",
    "                    tmp.append(float(each_value[i]))\n",
    "                mtx_of_exp.append(tmp)\n",
    "                \n",
    "mtx_of_exp = np.array(mtx_of_exp)"
   ]
  },
  {
   "cell_type": "code",
   "execution_count": 113,
   "metadata": {},
   "outputs": [
    {
     "data": {
      "text/plain": [
       "array([-0.05887913, -0.02890516, -0.13252821, -0.0041252 ,  0.0562453 ,\n",
       "       -0.04231434])"
      ]
     },
     "execution_count": 113,
     "metadata": {},
     "output_type": "execute_result"
    }
   ],
   "source": [
    "mtx2euler(np.absolute(identity_mtx)) - mtx2euler(np.absolute(np.linalg.inv(mtx_of_exp)))"
   ]
  },
  {
   "cell_type": "code",
   "execution_count": 114,
   "metadata": {},
   "outputs": [
    {
     "data": {
      "text/plain": [
       "array([-0.08724545, -0.03003709, -0.13127775,  0.0041252 ,  0.0562453 ,\n",
       "       -0.04231434])"
      ]
     },
     "execution_count": 114,
     "metadata": {},
     "output_type": "execute_result"
    }
   ],
   "source": [
    "indexer = 0\n",
    "result = (mtx2euler(np.absolute(np.dot(identity_mtx, \n",
    "                                       femur_imp_mtxs[indexer]))) - \n",
    "          mtx2euler(np.absolute(np.dot(np.linalg.inv(mtx_of_exp), \n",
    "                                       femur_imp_mtxs[indexer]))))\n",
    "result"
   ]
  },
  {
   "cell_type": "markdown",
   "metadata": {},
   "source": [
    "###### in implant space..."
   ]
  },
  {
   "cell_type": "code",
   "execution_count": 115,
   "metadata": {},
   "outputs": [
    {
     "data": {
      "text/plain": [
       "array([-0.08727545, -0.03008238, -0.13126737, -0.0041252 ,  0.05623069,\n",
       "       -0.04233374])"
      ]
     },
     "execution_count": 115,
     "metadata": {},
     "output_type": "execute_result"
    }
   ],
   "source": [
    "# Te = (pose * plan)^-1 * regi. * plan\n",
    "Te = np.dot(np.dot(np.linalg.inv(np.dot(identity_mtx, femur_imp_mtxs[indexer])), np.linalg.inv(mtx_of_exp)), femur_imp_mtxs[indexer])\n",
    "mtx2euler(Te)"
   ]
  },
  {
   "cell_type": "markdown",
   "metadata": {},
   "source": [
    "### 자가 정합 40"
   ]
  },
  {
   "cell_type": "markdown",
   "metadata": {},
   "source": [
    "coarse iter : 28  \n",
    "coarse RMSE : 0.133318  \n",
    "fine iter : 81  \n",
    "fine RMSE : 0.006778  \n",
    "fine RMSE all pts : 0.140962  "
   ]
  },
  {
   "cell_type": "code",
   "execution_count": 86,
   "metadata": {},
   "outputs": [],
   "source": [
    "test_mtx_id = [[0.999998331069946,0.00172358111012727,-0.000586170644965023,-0.0312805958092213],\n",
    "               [-0.00172355852555484,0.999998509883881,3.90266613976564E-05,0.0254219025373459],\n",
    "               [0.000586237059906125,-3.80162964574993E-05,0.999999821186066,-0.0108767841011286],\n",
    "               [0,0,0,1]]\n",
    "\n",
    "test_mtx_id_ = np.array(test_mtx_id)"
   ]
  },
  {
   "cell_type": "code",
   "execution_count": 87,
   "metadata": {},
   "outputs": [
    {
     "data": {
      "text/plain": [
       "array([-0.03133074, -0.02536836, -0.01085745, -0.00223606,  0.03358511,\n",
       "       -0.09875399])"
      ]
     },
     "execution_count": 87,
     "metadata": {},
     "output_type": "execute_result"
    }
   ],
   "source": [
    "mtx2euler(np.absolute(identity_mtx)) - mtx2euler(np.absolute(np.linalg.inv(test_mtx_id_)))"
   ]
  },
  {
   "cell_type": "code",
   "execution_count": 88,
   "metadata": {},
   "outputs": [
    {
     "data": {
      "text/plain": [
       "array([-0.05173189, -0.02473668,  0.01018653, -0.00223606,  0.03358511,\n",
       "       -0.09875399])"
      ]
     },
     "execution_count": 88,
     "metadata": {},
     "output_type": "execute_result"
    }
   ],
   "source": [
    "indexer = 0\n",
    "result = (mtx2euler(np.absolute(np.dot(identity_mtx, \n",
    "                                       femur_imp_mtxs[indexer]))) - \n",
    "          mtx2euler(np.absolute(np.dot(np.linalg.inv(test_mtx_id_), \n",
    "                                       femur_imp_mtxs[indexer]))))\n",
    "result"
   ]
  },
  {
   "cell_type": "markdown",
   "metadata": {},
   "source": [
    "###### in implant space..."
   ]
  },
  {
   "cell_type": "code",
   "execution_count": 119,
   "metadata": {},
   "outputs": [
    {
     "name": "stdout",
     "output_type": "stream",
     "text": [
      "array([ 0.05173189, -0.02473316,  0.01019506,  0.00223609,  0.03361917,\n",
      "        0.09874239])\n"
     ]
    }
   ],
   "source": [
    "# Te = (pose * plan)^-1 * regi. * plan\n",
    "Te = np.dot(np.dot(np.linalg.inv(np.dot(identity_mtx, femur_imp_mtxs[indexer])), np.linalg.inv(test_mtx_id_)), femur_imp_mtxs[indexer])\n",
    "mtx2euler(Te)"
   ]
  },
  {
   "cell_type": "code",
   "execution_count": null,
   "metadata": {},
   "outputs": [],
   "source": []
  }
 ],
 "metadata": {
  "kernelspec": {
   "display_name": "Python 3",
   "language": "python",
   "name": "python3"
  },
  "language_info": {
   "codemirror_mode": {
    "name": "ipython",
    "version": 3
   },
   "file_extension": ".py",
   "mimetype": "text/x-python",
   "name": "python",
   "nbconvert_exporter": "python",
   "pygments_lexer": "ipython3",
   "version": "3.6.8"
  }
 },
 "nbformat": 4,
 "nbformat_minor": 2
}
