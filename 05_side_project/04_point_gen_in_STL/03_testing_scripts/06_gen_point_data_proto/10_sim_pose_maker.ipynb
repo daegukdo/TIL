{
 "cells": [
  {
   "cell_type": "code",
   "execution_count": 1,
   "metadata": {},
   "outputs": [],
   "source": [
    "import glob\n",
    "import numpy as np\n",
    "position_pose_data_path = \"C:/Users/eornr/Desktop/source_crx/200331_point_gen/01_point_gen_in_STL/04_gen_point_data/\"\n",
    "position_pose_data_ext = \"*.ini\""
   ]
  },
  {
   "cell_type": "code",
   "execution_count": 2,
   "metadata": {},
   "outputs": [],
   "source": [
    "position_pose_data_list = glob.glob(position_pose_data_path + position_pose_data_ext)"
   ]
  },
  {
   "cell_type": "code",
   "execution_count": 5,
   "metadata": {},
   "outputs": [],
   "source": [
    "# left case\n",
    "position_left_data_list = []\n",
    "pose_left_femur_data_list = []\n",
    "pose_left_tibia_data_list = []\n",
    "\n",
    "with open(position_pose_data_list[0]) as file:\n",
    "    for line in file:\n",
    "        if line[0] == 'P':\n",
    "            _line = line.split(\"=\")\n",
    "            __line = _line[1].split(\"\\n\")\n",
    "            ___line = __line[0].split(\",\")\n",
    "            if len(___line) == 3:\n",
    "                # position_data_list.append(np.array(___line, dtype=float))\n",
    "                position_left_data_list.append(___line)\n",
    "        \n",
    "        if line[0] == 'R':\n",
    "            if len(pose_left_femur_data_list) < 8:\n",
    "                _line = line.split(\"=\")\n",
    "                __line = _line[1].split(\"\\n\")\n",
    "                ___line = __line[0].split(\",\")\n",
    "                if len(___line) == 3:\n",
    "                    # pose_femur_data_list.append(np.array(___line, dtype=float))\n",
    "                    pose_left_femur_data_list.append(___line)\n",
    "            else:\n",
    "                _line = line.split(\"=\")\n",
    "                __line = _line[1].split(\"\\n\")\n",
    "                ___line = __line[0].split(\",\")\n",
    "                if len(___line) == 3:\n",
    "                    # pose_tibia_data_list.append(np.array(___line, dtype=float))\n",
    "                    pose_left_tibia_data_list.append(___line)"
   ]
  },
  {
   "cell_type": "code",
   "execution_count": 6,
   "metadata": {},
   "outputs": [],
   "source": [
    "femur_position_pose_data_list = []\n",
    "tibia_position_pose_data_list = []\n",
    "\n",
    "for i in range(len(position_left_data_list)):\n",
    "    for j in range(len(pose_left_femur_data_list)):\n",
    "        tmp = position_left_data_list[i] + pose_left_femur_data_list[j]\n",
    "        femur_position_pose_data_list.append(np.array(tmp, dtype=float))\n",
    "    for j in range(len(pose_left_tibia_data_list)):\n",
    "        tmp = position_left_data_list[i] + pose_left_tibia_data_list[j]\n",
    "        tibia_position_pose_data_list.append(np.array(tmp, dtype=float))"
   ]
  },
  {
   "cell_type": "code",
   "execution_count": 7,
   "metadata": {},
   "outputs": [],
   "source": [
    "export_path = \"C:/Users/eornr/Desktop/source_crx/200331_point_gen/01_point_gen_in_STL/06_gen_point_data_proto/sim_pose/\"\n",
    "file_names = [\"left_femur_sim\", \"left_tibia_sim\"]\n",
    "\n",
    "np.save(export_path + file_names[0], femur_position_pose_data_list)\n",
    "np.save(export_path + file_names[1], tibia_position_pose_data_list)"
   ]
  },
  {
   "cell_type": "code",
   "execution_count": 8,
   "metadata": {},
   "outputs": [],
   "source": [
    "# right case\n",
    "position_right_data_list = []\n",
    "pose_right_femur_data_list = []\n",
    "pose_right_tibia_data_list = []\n",
    "\n",
    "with open(position_pose_data_list[1]) as file:\n",
    "    for line in file:\n",
    "        if line[0] == 'P':\n",
    "            _line = line.split(\"=\")\n",
    "            __line = _line[1].split(\"\\n\")\n",
    "            ___line = __line[0].split(\",\")\n",
    "            if len(___line) == 3:\n",
    "                # position_data_list.append(np.array(___line, dtype=float))\n",
    "                position_right_data_list.append(___line)\n",
    "        \n",
    "        if line[0] == 'R':\n",
    "            if len(pose_right_femur_data_list) < 8:\n",
    "                _line = line.split(\"=\")\n",
    "                __line = _line[1].split(\"\\n\")\n",
    "                ___line = __line[0].split(\",\")\n",
    "                if len(___line) == 3:\n",
    "                    # pose_femur_data_list.append(np.array(___line, dtype=float))\n",
    "                    pose_right_femur_data_list.append(___line)\n",
    "            else:\n",
    "                _line = line.split(\"=\")\n",
    "                __line = _line[1].split(\"\\n\")\n",
    "                ___line = __line[0].split(\",\")\n",
    "                if len(___line) == 3:\n",
    "                    # pose_tibia_data_list.append(np.array(___line, dtype=float))\n",
    "                    pose_right_tibia_data_list.append(___line)"
   ]
  },
  {
   "cell_type": "code",
   "execution_count": 9,
   "metadata": {},
   "outputs": [],
   "source": [
    "femur_position_pose_data_list = []\n",
    "tibia_position_pose_data_list = []\n",
    "\n",
    "for i in range(len(position_right_data_list)):\n",
    "    for j in range(len(pose_right_femur_data_list)):\n",
    "        tmp = position_right_data_list[i] + pose_right_femur_data_list[j]\n",
    "        femur_position_pose_data_list.append(np.array(tmp, dtype=float))\n",
    "    for j in range(len(pose_right_tibia_data_list)):\n",
    "        tmp = position_right_data_list[i] + pose_right_tibia_data_list[j]\n",
    "        tibia_position_pose_data_list.append(np.array(tmp, dtype=float))"
   ]
  },
  {
   "cell_type": "code",
   "execution_count": 10,
   "metadata": {},
   "outputs": [],
   "source": [
    "export_path = \"C:/Users/eornr/Desktop/source_crx/200331_point_gen/01_point_gen_in_STL/06_gen_point_data_proto/sim_pose/\"\n",
    "file_names = [\"right_femur_sim\", \"right_tibia_sim\"]\n",
    "\n",
    "np.save(export_path + file_names[0], femur_position_pose_data_list)\n",
    "np.save(export_path + file_names[1], tibia_position_pose_data_list)"
   ]
  }
 ],
 "metadata": {
  "kernelspec": {
   "display_name": "Python 3",
   "language": "python",
   "name": "python3"
  },
  "language_info": {
   "codemirror_mode": {
    "name": "ipython",
    "version": 3
   },
   "file_extension": ".py",
   "mimetype": "text/x-python",
   "name": "python",
   "nbconvert_exporter": "python",
   "pygments_lexer": "ipython3",
   "version": "3.6.8"
  }
 },
 "nbformat": 4,
 "nbformat_minor": 2
}
