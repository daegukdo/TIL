{
 "cells": [
  {
   "cell_type": "code",
   "execution_count": 1,
   "metadata": {},
   "outputs": [],
   "source": [
    "import numpy as np\n",
    "import math\n",
    "from xml.etree.ElementTree import parse\n",
    "import glob\n",
    "import pprint"
   ]
  },
  {
   "cell_type": "code",
   "execution_count": 2,
   "metadata": {},
   "outputs": [],
   "source": [
    "init_plan_data_path = 'C:/Users/eornr/Desktop/source_crx/200331_point_gen/01_point_gen_in_STL/05_gen_point_init_planing_data/raw_data/'\n",
    "\n",
    "file_ext = '.xml'\n",
    "xml_data_name = ['c1L_plan', \n",
    "                 'c1R_plan', \n",
    "                 'c2L_plan', \n",
    "                 'c2R_plan']\n",
    "\n",
    "femur_imp_model_mtx = []\n",
    "tibia_imp_model_mtx = []\n",
    "\n",
    "for fi in range(len(xml_data_name)):\n",
    "    tree = parse(init_plan_data_path + xml_data_name[fi] + file_ext)\n",
    "    main_root = tree.getroot()\n",
    "\n",
    "    femur_imp_model = main_root.getchildren()[2].getchildren()[1].getchildren()[0]\n",
    "    tibia_imp_model = main_root.getchildren()[3].getchildren()[1].getchildren()[0]\n",
    "    \n",
    "    value_split_f = femur_imp_model.find(\"MatrixModel2Local\").text.split(',')\n",
    "    value_split_t = tibia_imp_model.find(\"MatrixModel2Local\").text.split(',')\n",
    "    \n",
    "    femur_imp_model_mtx.append(value_split_f)\n",
    "    tibia_imp_model_mtx.append(value_split_t)"
   ]
  },
  {
   "cell_type": "code",
   "execution_count": 3,
   "metadata": {},
   "outputs": [],
   "source": [
    "def mtx_value_list_2_mtx_array(mtx_value_list):\n",
    "    mtx_array = []\n",
    "    \n",
    "    count = 0\n",
    "    for i in range(4):\n",
    "        tmp = []\n",
    "        for j in range(4):\n",
    "            tmp.append(float(mtx_value_list[j + count]))\n",
    "        count = count + 4\n",
    "        mtx_array.append(tmp)\n",
    "        \n",
    "    return mtx_array\n",
    "\n",
    "def mtx2euler(mtx) :\n",
    "    dLocSqrt = (mtx[0][0] * mtx[0][0] +  mtx[1][0] * mtx[1][0])\n",
    "    \n",
    "    if(dLocSqrt<0.0):\n",
    "        dLocSqrt = 0.0\n",
    "    else:\n",
    "        dLocSqrt= math.sqrt(dLocSqrt)\n",
    "    \n",
    "    dLocRy = math.atan2(-mtx[2][0], dLocSqrt)\n",
    "    dLocCy = math.cos(dLocRy)\n",
    " \n",
    "    if (dLocCy < 0.001745328365898):\n",
    "        Rx = 0.0\n",
    "        Ry = dLocRy\n",
    "        Rz = math.atan2(-mtx[0][1], mtx[1][1])\n",
    "    else:\n",
    "        Rx = math.atan2(mtx[2][1]/dLocCy, mtx[2][2]/dLocCy)\n",
    "        Ry = dLocRy\n",
    "        Rz = math.atan2(mtx[1][0]/dLocCy, mtx[0][0]/dLocCy)\n",
    "        \n",
    "    X = mtx[0][3]\n",
    "    Y = mtx[1][3]\n",
    "    Z = mtx[2][3]\n",
    "    Rx = Rx * 180 / 3.141592653589793238462643383279\n",
    "    Ry = Ry * 180 / 3.141592653589793238462643383279\n",
    "    Rz = Rz * 180 / 3.141592653589793238462643383279\n",
    " \n",
    "    return np.array([X, Y, Z, Rx, Ry, Rz])"
   ]
  },
  {
   "cell_type": "code",
   "execution_count": 4,
   "metadata": {},
   "outputs": [],
   "source": [
    "femur_imp_mtxs = []\n",
    "tibia_imp_mtxs = []\n",
    "\n",
    "for i in range(4):\n",
    "    femur_imp_mtxs.append(np.array(mtx_value_list_2_mtx_array(femur_imp_model_mtx[i])))\n",
    "    tibia_imp_mtxs.append(np.array(mtx_value_list_2_mtx_array(tibia_imp_model_mtx[i])))"
   ]
  },
  {
   "cell_type": "markdown",
   "metadata": {},
   "source": [
    "### read sim. data!!"
   ]
  },
  {
   "cell_type": "code",
   "execution_count": 12,
   "metadata": {},
   "outputs": [],
   "source": [
    "result_data_path = 'C:/Users/eornr/Desktop/source_crx/200331_point_gen/01_point_gen_in_STL/06_gen_point_data_proto/result/'\n",
    "mtx_str = 'mtx'\n",
    "log_str = 'log'"
   ]
  },
  {
   "cell_type": "code",
   "execution_count": 13,
   "metadata": {},
   "outputs": [],
   "source": [
    "result_files = glob.glob(result_data_path + '*')"
   ]
  },
  {
   "cell_type": "code",
   "execution_count": 14,
   "metadata": {},
   "outputs": [],
   "source": [
    "ans_mtx      = [[-1.00000000e+00,  9.38133875e-17, -7.87187789e-17, 6.25000000e+02],\n",
    "                [ 1.22464680e-16,  7.66044443e-01, -6.42787610e-01, 1.95000000e+02],\n",
    "                [ 0.00000000e+00, -6.42787610e-01, -7.66044443e-01, 2.25000000e+02],\n",
    "                [ 0.00000000e+00,  0.00000000e+00,  0.00000000e+00, 1.00000000e+00]]\n",
    "\n",
    "identity_mtx = [[ 1.00000000e+00,  0.00000000e+00,  0.00000000e+00, 0.00000000e+00],\n",
    "                [ 0.00000000e+00,  1.00000000e+00,  0.00000000e+00, 0.00000000e+00],\n",
    "                [ 0.00000000e+00,  0.00000000e+00,  1.00000000e+00, 0.00000000e+00],\n",
    "                [ 0.00000000e+00,  0.00000000e+00,  0.00000000e+00, 1.00000000e+00]]"
   ]
  },
  {
   "cell_type": "markdown",
   "metadata": {},
   "source": [
    "### pose + 400 test"
   ]
  },
  {
   "cell_type": "code",
   "execution_count": 8,
   "metadata": {},
   "outputs": [
    {
     "name": "stdout",
     "output_type": "stream",
     "text": [
      "coarse iter : 342\n",
      "\n",
      "coarse RMSE : 0.056576\n",
      "\n",
      "fine iter : 7\n",
      "\n",
      "fine RMSE : 0.019404\n",
      "\n",
      "fine RMSE all pts : 0.057446\u0000\u0000\u0000\u0000\u0000\u0000\u0000\u0000\u0000\u0000\u0000\u0000\u0000\u0000\u0000\u0000\n",
      "\n"
     ]
    }
   ],
   "source": [
    "mtx_of_exp = []\n",
    "\n",
    "for i in range(len(result_files)):\n",
    "    file_path_str = result_files[i]\n",
    "    if(log_str in file_path_str):\n",
    "        with open(file_path_str) as file:\n",
    "            for line in file:\n",
    "                print(line)\n",
    "    elif(mtx_str in file_path_str):\n",
    "        with open(file_path_str) as file:\n",
    "            for line in file:\n",
    "                _line = line.split('\\n')\n",
    "                each_value = _line[0].split(',')\n",
    "                tmp = []\n",
    "                for i in range(len(each_value)):\n",
    "                    tmp.append(float(each_value[i]))\n",
    "                mtx_of_exp.append(tmp)\n",
    "                \n",
    "mtx_of_exp = np.array(mtx_of_exp)"
   ]
  },
  {
   "cell_type": "code",
   "execution_count": 9,
   "metadata": {},
   "outputs": [
    {
     "data": {
      "text/plain": [
       "array([ 0.13659469, -0.99322275, -0.66957547,  1.7221684 ,  7.09404309,\n",
       "       -2.54704127])"
      ]
     },
     "execution_count": 9,
     "metadata": {},
     "output_type": "execute_result"
    }
   ],
   "source": [
    "mtx2euler(np.absolute(ans_mtx)) - mtx2euler(np.absolute(np.linalg.inv(mtx_of_exp)))"
   ]
  },
  {
   "cell_type": "code",
   "execution_count": 10,
   "metadata": {},
   "outputs": [
    {
     "data": {
      "text/plain": [
       "array([-2.88980026, -0.42511994, -0.392029  ,  1.7221684 ,  7.09404309,\n",
       "       -2.54704127])"
      ]
     },
     "execution_count": 10,
     "metadata": {},
     "output_type": "execute_result"
    }
   ],
   "source": [
    "indexer = 0\n",
    "result = (mtx2euler(np.absolute(np.dot(ans_mtx, \n",
    "                                       femur_imp_mtxs[indexer]))) - \n",
    "          mtx2euler(np.absolute(np.dot(np.linalg.inv(mtx_of_exp), \n",
    "                                       femur_imp_mtxs[indexer]))))\n",
    "result"
   ]
  },
  {
   "cell_type": "markdown",
   "metadata": {},
   "source": [
    "###### in implant space..."
   ]
  },
  {
   "cell_type": "code",
   "execution_count": 11,
   "metadata": {},
   "outputs": [
    {
     "data": {
      "text/plain": [
       "array([-2.88980026,  0.0734715 , -0.57359881, -1.78039102,  3.79688077,\n",
       "       -6.51348926])"
      ]
     },
     "execution_count": 11,
     "metadata": {},
     "output_type": "execute_result"
    }
   ],
   "source": [
    "# Te = (pose * plan)^-1 * regi. * plan\n",
    "Te = np.dot(np.dot(np.linalg.inv(np.dot(ans_mtx, femur_imp_mtxs[indexer])), np.linalg.inv(mtx_of_exp)), femur_imp_mtxs[indexer])\n",
    "mtx2euler(Te)"
   ]
  },
  {
   "cell_type": "markdown",
   "metadata": {},
   "source": [
    "### 400 test"
   ]
  },
  {
   "cell_type": "code",
   "execution_count": 15,
   "metadata": {},
   "outputs": [
    {
     "name": "stdout",
     "output_type": "stream",
     "text": [
      "coarse iter : 342\n",
      "\n",
      "coarse RMSE : 0.056577\n",
      "\n",
      "fine iter : 7\n",
      "\n",
      "fine RMSE : 0.019405\n",
      "\n",
      "fine RMSE all pts : 0.057446\u0000\u0000\u0000\u0000\u0000\u0000\u0000\u0000\u0000\u0000\u0000\u0000\u0000\u0000\u0000\u0000\n",
      "\n"
     ]
    }
   ],
   "source": [
    "mtx_of_exp = []\n",
    "\n",
    "for i in range(len(result_files)):\n",
    "    file_path_str = result_files[i]\n",
    "    if(log_str in file_path_str):\n",
    "        with open(file_path_str) as file:\n",
    "            for line in file:\n",
    "                print(line)\n",
    "    elif(mtx_str in file_path_str):\n",
    "        with open(file_path_str) as file:\n",
    "            for line in file:\n",
    "                _line = line.split('\\n')\n",
    "                each_value = _line[0].split(',')\n",
    "                tmp = []\n",
    "                for i in range(len(each_value)):\n",
    "                    tmp.append(float(each_value[i]))\n",
    "                mtx_of_exp.append(tmp)\n",
    "                \n",
    "mtx_of_exp = np.array(mtx_of_exp)"
   ]
  },
  {
   "cell_type": "code",
   "execution_count": 16,
   "metadata": {},
   "outputs": [
    {
     "data": {
      "text/plain": [
       "array([-0.13659611, -0.33044001, -1.15136633, -1.78045159,  3.79909886,\n",
       "       -6.51221767])"
      ]
     },
     "execution_count": 16,
     "metadata": {},
     "output_type": "execute_result"
    }
   ],
   "source": [
    "mtx2euler(np.absolute(identity_mtx)) - mtx2euler(np.absolute(np.linalg.inv(mtx_of_exp)))"
   ]
  },
  {
   "cell_type": "code",
   "execution_count": 17,
   "metadata": {},
   "outputs": [
    {
     "data": {
      "text/plain": [
       "array([-2.88977185,  0.0736579 , -0.57359221, -1.7409175 ,  3.79909886,\n",
       "       -6.51221767])"
      ]
     },
     "execution_count": 17,
     "metadata": {},
     "output_type": "execute_result"
    }
   ],
   "source": [
    "indexer = 0\n",
    "result = (mtx2euler(np.absolute(np.dot(identity_mtx, \n",
    "                                       femur_imp_mtxs[indexer]))) - \n",
    "          mtx2euler(np.absolute(np.dot(np.linalg.inv(mtx_of_exp), \n",
    "                                       femur_imp_mtxs[indexer]))))\n",
    "result"
   ]
  },
  {
   "cell_type": "markdown",
   "metadata": {},
   "source": [
    "###### in implant space..."
   ]
  },
  {
   "cell_type": "code",
   "execution_count": 18,
   "metadata": {},
   "outputs": [
    {
     "data": {
      "text/plain": [
       "array([-2.88980185,  0.07346001, -0.57361755, -1.78036725,  3.79685653,\n",
       "       -6.51352104])"
      ]
     },
     "execution_count": 18,
     "metadata": {},
     "output_type": "execute_result"
    }
   ],
   "source": [
    "# Te = (pose * plan)^-1 * regi. * plan\n",
    "Te = np.dot(np.dot(np.linalg.inv(np.dot(identity_mtx, femur_imp_mtxs[indexer])), np.linalg.inv(mtx_of_exp)), femur_imp_mtxs[indexer])\n",
    "mtx2euler(Te)"
   ]
  },
  {
   "cell_type": "markdown",
   "metadata": {},
   "source": [
    "### 40 test"
   ]
  },
  {
   "cell_type": "code",
   "execution_count": 22,
   "metadata": {},
   "outputs": [
    {
     "name": "stdout",
     "output_type": "stream",
     "text": [
      "coarse iter : 82\n",
      "\n",
      "coarse RMSE : 0.399637\n",
      "\n",
      "fine iter : 18\n",
      "\n",
      "fine RMSE : 0.168117\n",
      "\n",
      "fine RMSE all pts : 0.407744\u0000\u0000\u0000\u0000\u0000\u0000\u0000\u0000\u0000\u0000\u0000\u0000\u0000\u0000\u0000\u0000\n",
      "\n"
     ]
    }
   ],
   "source": [
    "mtx_of_exp = []\n",
    "\n",
    "for i in range(len(result_files)):\n",
    "    file_path_str = result_files[i]\n",
    "    if(log_str in file_path_str):\n",
    "        with open(file_path_str) as file:\n",
    "            for line in file:\n",
    "                print(line)\n",
    "    elif(mtx_str in file_path_str):\n",
    "        with open(file_path_str) as file:\n",
    "            for line in file:\n",
    "                _line = line.split('\\n')\n",
    "                each_value = _line[0].split(',')\n",
    "                tmp = []\n",
    "                for i in range(len(each_value)):\n",
    "                    tmp.append(float(each_value[i]))\n",
    "                mtx_of_exp.append(tmp)\n",
    "                \n",
    "mtx_of_exp = np.array(mtx_of_exp)"
   ]
  },
  {
   "cell_type": "code",
   "execution_count": 23,
   "metadata": {},
   "outputs": [
    {
     "data": {
      "text/plain": [
       "array([-0.01273744, -0.03302277, -0.14926517, -0.57652166,  0.46955029,\n",
       "       -0.11822609])"
      ]
     },
     "execution_count": 23,
     "metadata": {},
     "output_type": "execute_result"
    }
   ],
   "source": [
    "mtx2euler(np.absolute(identity_mtx)) - mtx2euler(np.absolute(np.linalg.inv(mtx_of_exp)))"
   ]
  },
  {
   "cell_type": "code",
   "execution_count": 24,
   "metadata": {},
   "outputs": [
    {
     "data": {
      "text/plain": [
       "array([-0.15239651, -0.19226038,  0.32426435, -0.53698758,  0.46955029,\n",
       "       -0.11822609])"
      ]
     },
     "execution_count": 24,
     "metadata": {},
     "output_type": "execute_result"
    }
   ],
   "source": [
    "indexer = 0\n",
    "result = (mtx2euler(np.absolute(np.dot(identity_mtx, \n",
    "                                       femur_imp_mtxs[indexer]))) - \n",
    "          mtx2euler(np.absolute(np.dot(np.linalg.inv(mtx_of_exp), \n",
    "                                       femur_imp_mtxs[indexer]))))\n",
    "result"
   ]
  },
  {
   "cell_type": "markdown",
   "metadata": {},
   "source": [
    "###### in implant space..."
   ]
  },
  {
   "cell_type": "code",
   "execution_count": 25,
   "metadata": {},
   "outputs": [
    {
     "data": {
      "text/plain": [
       "array([-0.15242651, -0.19214848,  0.32433064, -0.57652228,  0.46950945,\n",
       "       -0.11838807])"
      ]
     },
     "execution_count": 25,
     "metadata": {},
     "output_type": "execute_result"
    }
   ],
   "source": [
    "# Te = (pose * plan)^-1 * regi. * plan\n",
    "Te = np.dot(np.dot(np.linalg.inv(np.dot(identity_mtx, femur_imp_mtxs[indexer])), np.linalg.inv(mtx_of_exp)), femur_imp_mtxs[indexer])\n",
    "mtx2euler(Te)"
   ]
  },
  {
   "cell_type": "markdown",
   "metadata": {},
   "source": [
    "### 자가 정합 40"
   ]
  },
  {
   "cell_type": "markdown",
   "metadata": {},
   "source": [
    "coarse iter : 28  \n",
    "coarse RMSE : 0.133318  \n",
    "fine iter : 81  \n",
    "fine RMSE : 0.006778  \n",
    "fine RMSE all pts : 0.140962  "
   ]
  },
  {
   "cell_type": "code",
   "execution_count": 86,
   "metadata": {},
   "outputs": [],
   "source": [
    "test_mtx_id = [[0.999998331069946,0.00172358111012727,-0.000586170644965023,-0.0312805958092213],\n",
    "               [-0.00172355852555484,0.999998509883881,3.90266613976564E-05,0.0254219025373459],\n",
    "               [0.000586237059906125,-3.80162964574993E-05,0.999999821186066,-0.0108767841011286],\n",
    "               [0,0,0,1]]\n",
    "\n",
    "test_mtx_id_ = np.array(test_mtx_id)"
   ]
  },
  {
   "cell_type": "code",
   "execution_count": 87,
   "metadata": {},
   "outputs": [
    {
     "data": {
      "text/plain": [
       "array([-0.03133074, -0.02536836, -0.01085745, -0.00223606,  0.03358511,\n",
       "       -0.09875399])"
      ]
     },
     "execution_count": 87,
     "metadata": {},
     "output_type": "execute_result"
    }
   ],
   "source": [
    "mtx2euler(np.absolute(identity_mtx)) - mtx2euler(np.absolute(np.linalg.inv(test_mtx_id_)))"
   ]
  },
  {
   "cell_type": "code",
   "execution_count": 88,
   "metadata": {},
   "outputs": [
    {
     "data": {
      "text/plain": [
       "array([-0.05173189, -0.02473668,  0.01018653, -0.00223606,  0.03358511,\n",
       "       -0.09875399])"
      ]
     },
     "execution_count": 88,
     "metadata": {},
     "output_type": "execute_result"
    }
   ],
   "source": [
    "indexer = 0\n",
    "result = (mtx2euler(np.absolute(np.dot(identity_mtx, \n",
    "                                       femur_imp_mtxs[indexer]))) - \n",
    "          mtx2euler(np.absolute(np.dot(np.linalg.inv(test_mtx_id_), \n",
    "                                       femur_imp_mtxs[indexer]))))\n",
    "result"
   ]
  },
  {
   "cell_type": "markdown",
   "metadata": {},
   "source": [
    "###### in implant space..."
   ]
  },
  {
   "cell_type": "code",
   "execution_count": 119,
   "metadata": {},
   "outputs": [
    {
     "name": "stdout",
     "output_type": "stream",
     "text": [
      "array([ 0.05173189, -0.02473316,  0.01019506,  0.00223609,  0.03361917,\n",
      "        0.09874239])\n"
     ]
    }
   ],
   "source": [
    "# Te = (pose * plan)^-1 * regi. * plan\n",
    "Te = np.dot(np.dot(np.linalg.inv(np.dot(identity_mtx, femur_imp_mtxs[indexer])), np.linalg.inv(test_mtx_id_)), femur_imp_mtxs[indexer])\n",
    "mtx2euler(Te)"
   ]
  },
  {
   "cell_type": "code",
   "execution_count": null,
   "metadata": {},
   "outputs": [],
   "source": []
  }
 ],
 "metadata": {
  "kernelspec": {
   "display_name": "Python 3",
   "language": "python",
   "name": "python3"
  },
  "language_info": {
   "codemirror_mode": {
    "name": "ipython",
    "version": 3
   },
   "file_extension": ".py",
   "mimetype": "text/x-python",
   "name": "python",
   "nbconvert_exporter": "python",
   "pygments_lexer": "ipython3",
   "version": "3.6.8"
  }
 },
 "nbformat": 4,
 "nbformat_minor": 2
}
