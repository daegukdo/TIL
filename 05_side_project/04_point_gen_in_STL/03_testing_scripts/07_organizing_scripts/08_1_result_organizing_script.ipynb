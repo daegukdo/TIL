{
 "cells": [
  {
   "cell_type": "code",
   "execution_count": 51,
   "metadata": {},
   "outputs": [],
   "source": [
    "import glob\n",
    "import pandas as pd"
   ]
  },
  {
   "cell_type": "code",
   "execution_count": 52,
   "metadata": {},
   "outputs": [],
   "source": [
    "result_files = glob.glob(\"result/\" + '*')"
   ]
  },
  {
   "cell_type": "code",
   "execution_count": 53,
   "metadata": {},
   "outputs": [],
   "source": [
    "data_step_log = []\n",
    "data_Euler = []\n",
    "\n",
    "for i in range(len(result_files)):\n",
    "    with open(result_files[i]) as file:\n",
    "        data_log = []\n",
    "        data_value = []\n",
    "        \n",
    "        data_log.append(result_files[i][14:18])\n",
    "        \n",
    "        for line in file:\n",
    "            tmp_str = \"\"\n",
    "            if \":\" in line:\n",
    "                _line = line.split(\" : \")\n",
    "                if \"\\n\" in _line[1]:\n",
    "                    tmp_str = _line[1].split(\"\\n\")[0]\n",
    "                if \"\\x00\" in _line[1]:\n",
    "                    tmp_str = _line[1].split(\"\\x00\")[0]\n",
    "                data_log.append(tmp_str)\n",
    "            elif \"--\" in line:\n",
    "                pass\n",
    "            elif \"  \\n\" == line:\n",
    "                pass\n",
    "            else:\n",
    "                _line = line.split(\"\\n\")\n",
    "                data_value.append(_line[0])\n",
    "                \n",
    "        data_step_log.append(data_log)\n",
    "        data_Euler.append(data_value)"
   ]
  },
  {
   "cell_type": "code",
   "execution_count": 54,
   "metadata": {},
   "outputs": [],
   "source": [
    "data_frame_colume_head = [\"data name\", \"coarse iter\", \"coarse RMSE\", \"fine iter\", \"fine RMSE\", \"fine RMSE all pts\", \n",
    "                          \"Tx\", \"Ty\", \"Tz\", \"Rx\", \"Ry\", \"Rz\"]\n",
    "\n",
    "data_frame_list = []\n",
    "\n",
    "data_frame_list.append(data_frame_colume_head)\n",
    "\n",
    "for i in range(len(data_step_log)):\n",
    "    data_frame_list.append(data_step_log[i] + data_Euler[i])"
   ]
  },
  {
   "cell_type": "code",
   "execution_count": 55,
   "metadata": {},
   "outputs": [],
   "source": [
    "df = pd.DataFrame(data_frame_list) "
   ]
  },
  {
   "cell_type": "code",
   "execution_count": 56,
   "metadata": {},
   "outputs": [],
   "source": [
    "df.to_excel('result/' + 'output.xlsx', index=False)"
   ]
  },
  {
   "cell_type": "code",
   "execution_count": null,
   "metadata": {},
   "outputs": [],
   "source": []
  }
 ],
 "metadata": {
  "kernelspec": {
   "display_name": "Python 3",
   "language": "python",
   "name": "python3"
  },
  "language_info": {
   "codemirror_mode": {
    "name": "ipython",
    "version": 3
   },
   "file_extension": ".py",
   "mimetype": "text/x-python",
   "name": "python",
   "nbconvert_exporter": "python",
   "pygments_lexer": "ipython3",
   "version": "3.6.8"
  }
 },
 "nbformat": 4,
 "nbformat_minor": 2
}
