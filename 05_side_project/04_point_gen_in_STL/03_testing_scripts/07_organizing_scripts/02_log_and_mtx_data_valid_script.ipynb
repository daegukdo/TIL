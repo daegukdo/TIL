{
 "cells": [
  {
   "cell_type": "code",
   "execution_count": 63,
   "metadata": {},
   "outputs": [],
   "source": [
    "import os\n",
    "import numpy as np\n",
    "import math\n",
    "from xml.etree.ElementTree import parse\n",
    "import glob\n",
    "import pprint"
   ]
  },
  {
   "cell_type": "code",
   "execution_count": 78,
   "metadata": {},
   "outputs": [],
   "source": [
    "init_plan_data_path = 'C:/Users/eornr/Desktop/source_crx/200331_point_gen/01_point_gen_in_STL/05_gen_point_init_planing_data/raw_data/'\n",
    "\n",
    "file_ext = '.xml'\n",
    "xml_data_name = ['c1L_plan', \n",
    "                 'c1R_plan', \n",
    "                 'c2L_plan', \n",
    "                 'c2R_plan']\n",
    "\n",
    "femur_imp_model_mtx = []\n",
    "tibia_imp_model_mtx = []\n",
    "\n",
    "for fi in range(len(xml_data_name)):\n",
    "    tree = parse(init_plan_data_path + xml_data_name[fi] + file_ext)\n",
    "    main_root = tree.getroot()\n",
    "\n",
    "    femur_imp_model = main_root.getchildren()[2].getchildren()[1].getchildren()[0]\n",
    "    tibia_imp_model = main_root.getchildren()[3].getchildren()[1].getchildren()[0]\n",
    "    \n",
    "    value_split_f = femur_imp_model.find(\"MatrixModel2Local\").text.split(',')\n",
    "    value_split_t = tibia_imp_model.find(\"MatrixModel2Local\").text.split(',')\n",
    "    \n",
    "    femur_imp_model_mtx.append(value_split_f)\n",
    "    tibia_imp_model_mtx.append(value_split_t)"
   ]
  },
  {
   "cell_type": "code",
   "execution_count": 79,
   "metadata": {},
   "outputs": [],
   "source": [
    "def mtx_value_list_2_mtx_array(mtx_value_list):\n",
    "    mtx_array = []\n",
    "    \n",
    "    count = 0\n",
    "    for i in range(4):\n",
    "        tmp = []\n",
    "        for j in range(4):\n",
    "            tmp.append(float(mtx_value_list[j + count]))\n",
    "        count = count + 4\n",
    "        mtx_array.append(tmp)\n",
    "        \n",
    "    return mtx_array\n",
    "\n",
    "def mtx2euler(mtx) :\n",
    "    dLocSqrt = (mtx[0][0] * mtx[0][0] +  mtx[1][0] * mtx[1][0])\n",
    "    \n",
    "    if(dLocSqrt<0.0):\n",
    "        dLocSqrt = 0.0\n",
    "    else:\n",
    "        dLocSqrt= math.sqrt(dLocSqrt)\n",
    "    \n",
    "    dLocRy = math.atan2(-mtx[2][0], dLocSqrt)\n",
    "    dLocCy = math.cos(dLocRy)\n",
    " \n",
    "    if (dLocCy < 0.001745328365898):\n",
    "        Rx = 0.0\n",
    "        Ry = dLocRy\n",
    "        Rz = math.atan2(-mtx[0][1], mtx[1][1])\n",
    "    else:\n",
    "        Rx = math.atan2(mtx[2][1]/dLocCy, mtx[2][2]/dLocCy)\n",
    "        Ry = dLocRy\n",
    "        Rz = math.atan2(mtx[1][0]/dLocCy, mtx[0][0]/dLocCy)\n",
    "        \n",
    "    X = mtx[0][3]\n",
    "    Y = mtx[1][3]\n",
    "    Z = mtx[2][3]\n",
    "    Rx = Rx * 180 / 3.141592653589793238462643383279\n",
    "    Ry = Ry * 180 / 3.141592653589793238462643383279\n",
    "    Rz = Rz * 180 / 3.141592653589793238462643383279\n",
    " \n",
    "    return np.array([X, Y, Z, Rx, Ry, Rz])\n",
    "\n",
    "def eulerDegree2mtx(data):\n",
    "    posX = data[0]\n",
    "    posY = data[1]\n",
    "    posZ = data[2]\n",
    "    pitch = data[3] / 180 * 3.141592653589793238462643383279\n",
    "    roll = data[4] / 180 * 3.141592653589793238462643383279\n",
    "    yaw = data[5] / 180 * 3.141592653589793238462643383279\n",
    "    \n",
    "    Rx = np.array([[1, 0, 0, 0],\n",
    "                   [0, math.cos(pitch), -1 * math.sin(pitch), 0],\n",
    "                   [0, math.sin(pitch), math.cos(pitch), 0],\n",
    "                   [0, 0, 0, 1]])\n",
    "    \n",
    "    Ry = np.array([[math.cos(roll), 0, math.sin(roll), 0],\n",
    "                   [0, 1, 0, 0],\n",
    "                   [-1 * math.sin(roll), 0, math.cos(roll), 0],\n",
    "                   [0, 0, 0, 1]])\n",
    "    \n",
    "    Rz = np.array([[math.cos(yaw), -1 * math.sin(yaw), 0, 0],\n",
    "                   [math.sin(yaw), math.cos(yaw), 0, 0],\n",
    "                   [0, 0, 1, 0],\n",
    "                   [0, 0, 0, 1]])\n",
    "    \n",
    "    mtxR = np.dot(Rz, np.dot(Ry, Rx))\n",
    "    \n",
    "    mtxR[0][3] = posX\n",
    "    mtxR[1][3] = posY\n",
    "    mtxR[2][3] = posZ\n",
    "    \n",
    "    return mtxR"
   ]
  },
  {
   "cell_type": "code",
   "execution_count": 80,
   "metadata": {},
   "outputs": [],
   "source": [
    "imp_mtxs = []\n",
    "\n",
    "for i in range(4):\n",
    "    imp_mtxs.append(np.array(mtx_value_list_2_mtx_array(femur_imp_model_mtx[i])))\n",
    "    imp_mtxs.append(np.array(mtx_value_list_2_mtx_array(tibia_imp_model_mtx[i])))"
   ]
  },
  {
   "cell_type": "markdown",
   "metadata": {},
   "source": [
    "### read sim. data!!"
   ]
  },
  {
   "cell_type": "code",
   "execution_count": 81,
   "metadata": {},
   "outputs": [],
   "source": [
    "result_data_path = 'C:/Users/eornr/Documents/registrationdll/RegistrationSimulator/RegistrationSimulator/bin/Debug/result/'\n",
    "mtx_str = 'mtx'\n",
    "log_str = 'log'"
   ]
  },
  {
   "cell_type": "code",
   "execution_count": 82,
   "metadata": {},
   "outputs": [],
   "source": [
    "result_files = glob.glob(result_data_path + '*.txt')"
   ]
  },
  {
   "cell_type": "code",
   "execution_count": 83,
   "metadata": {},
   "outputs": [],
   "source": [
    "result_files.sort(key=os.path.getmtime)"
   ]
  },
  {
   "cell_type": "code",
   "execution_count": 84,
   "metadata": {},
   "outputs": [
    {
     "data": {
      "text/plain": [
       "864"
      ]
     },
     "execution_count": 84,
     "metadata": {},
     "output_type": "execute_result"
    }
   ],
   "source": [
    "len(result_files)"
   ]
  },
  {
   "cell_type": "code",
   "execution_count": 85,
   "metadata": {},
   "outputs": [],
   "source": [
    "# for export file name\n",
    "export_file_name_list = []\n",
    "count = 0\n",
    "\n",
    "# Fc1L, Fc1R, Fc2L, Fc2R, Tc1L, Tc1R, Tc2L, Tc2R, \n",
    "plan_indexer_list = []\n",
    "\n",
    "for file_name in result_files:\n",
    "    if(\"mtx\" in file_name):\n",
    "        if(\"Fc1L\" in file_name):\n",
    "            plan_indexer_list.append(0)\n",
    "            export_file_name_list.append(\"Fc1L\" + \"_\" + str(count))\n",
    "        elif(\"Fc1R\" in file_name):\n",
    "            plan_indexer_list.append(1)\n",
    "            export_file_name_list.append(\"Fc1R\" + \"_\" + str(count))\n",
    "        elif(\"Fc2L\" in file_name):\n",
    "            plan_indexer_list.append(2)\n",
    "            export_file_name_list.append(\"Fc2L\" + \"_\" + str(count))\n",
    "        elif(\"Fc2R\" in file_name):\n",
    "            plan_indexer_list.append(3)\n",
    "            export_file_name_list.append(\"Fc2R\" + \"_\" + str(count))\n",
    "        elif(\"Tc1L\" in file_name):\n",
    "            plan_indexer_list.append(4)\n",
    "            export_file_name_list.append(\"Tc1L\" + \"_\" + str(count))\n",
    "        elif(\"Tc1R\" in file_name):\n",
    "            plan_indexer_list.append(5)\n",
    "            export_file_name_list.append(\"Tc1R\" + \"_\" + str(count))\n",
    "        elif(\"Tc2L\" in file_name):\n",
    "            plan_indexer_list.append(6)\n",
    "            export_file_name_list.append(\"Tc2L\" + \"_\" + str(count))\n",
    "        elif(\"Tc2R\" in file_name):\n",
    "            plan_indexer_list.append(7)\n",
    "            export_file_name_list.append(\"Tc2R\" + \"_\" + str(count))\n",
    "        count = count + 1\n",
    "\n",
    "        \n",
    "# load sim data\n",
    "sim_file_path                              = \"C:/Users/eornr/Desktop/source_crx/200331_point_gen/01_point_gen_in_STL/06_gen_point_data_proto/sim_pose/\"\n",
    "sim_file_names                             = [\"left_femur_sim\", \"left_tibia_sim\", \"right_femur_sim\", \"right_tibia_sim\"]\n",
    "\n",
    "left_femur_position_pose_data_list         = np.load(sim_file_path + sim_file_names[0] + '.npy')\n",
    "left_tibia_position_pose_data_list         = np.load(sim_file_path + sim_file_names[1] + '.npy')\n",
    "right_femur_position_pose_data_list         = np.load(sim_file_path + sim_file_names[2] + '.npy')\n",
    "right_tibia_position_pose_data_list         = np.load(sim_file_path + sim_file_names[3] + '.npy')\n",
    "\n",
    "## gen positioning mtx\n",
    "# FL, TL, FR, TR\n",
    "trns_mtx_list                              = [left_femur_position_pose_data_list,\n",
    "                                              left_tibia_position_pose_data_list,\n",
    "                                              right_femur_position_pose_data_list,\n",
    "                                              right_tibia_position_pose_data_list]\n",
    "\n",
    "transform_data_euler_degree_rot            = []\n",
    "\n",
    "sim_files_count                            = [0, 0, 0, 0]\n",
    "\n",
    "ans_mtx                                    = []\n",
    "\n",
    "for file_name in result_files:\n",
    "    if(\"mtx\" in file_name):\n",
    "        if(\"F\" in file_name and \"L\" in file_name):\n",
    "            sim_files_count[0] = sim_files_count[0] + 1\n",
    "        elif(\"T\" in file_name and \"L\" in file_name):\n",
    "            sim_files_count[1] = sim_files_count[1] + 1\n",
    "        elif(\"F\" in file_name and \"R\" in file_name):\n",
    "            sim_files_count[2] = sim_files_count[2] + 1\n",
    "        elif(\"T\" in file_name and \"R\" in file_name):\n",
    "            sim_files_count[3] = sim_files_count[3] + 1\n",
    "\n",
    "for i in range(len(sim_files_count)):\n",
    "    if (sim_files_count[i] == 216):\n",
    "        transform_data_euler_degree_rot.append(trns_mtx_list[i])\n",
    "        \n",
    "         \n",
    "for i in range(len(transform_data_euler_degree_rot)):\n",
    "    tmp_list = transform_data_euler_degree_rot[i]\n",
    "    for j in range(len(tmp_list)):\n",
    "        ans_mtx.append(eulerDegree2mtx(tmp_list[j]))"
   ]
  },
  {
   "cell_type": "code",
   "execution_count": 86,
   "metadata": {},
   "outputs": [
    {
     "data": {
      "text/plain": [
       "432"
      ]
     },
     "execution_count": 86,
     "metadata": {},
     "output_type": "execute_result"
    }
   ],
   "source": [
    "len(ans_mtx)"
   ]
  },
  {
   "cell_type": "code",
   "execution_count": 87,
   "metadata": {},
   "outputs": [],
   "source": [
    "log_list = []\n",
    "mtx_of_exp_list = []\n",
    "\n",
    "for i in range(len(result_files)):\n",
    "    file_path_str = result_files[i]\n",
    "    if(log_str in file_path_str):\n",
    "        with open(file_path_str) as file:\n",
    "            log = \"\"\n",
    "            for line in file:\n",
    "                log = log + line\n",
    "            log_list.append(log)\n",
    "    elif(mtx_str in file_path_str):\n",
    "        with open(file_path_str) as file:\n",
    "            mtx_of_exp = []\n",
    "            for line in file:\n",
    "                _line = line.split('\\n')\n",
    "                each_value = _line[0].split(',')\n",
    "                tmp = []\n",
    "                for i in range(len(each_value)):\n",
    "                    tmp.append(float(each_value[i]))\n",
    "                mtx_of_exp.append(tmp)\n",
    "            mtx_of_exp_list.append(np.array(mtx_of_exp))"
   ]
  },
  {
   "cell_type": "code",
   "execution_count": 88,
   "metadata": {},
   "outputs": [
    {
     "name": "stdout",
     "output_type": "stream",
     "text": [
      "432\n",
      "432\n"
     ]
    }
   ],
   "source": [
    "print(len(log_list))\n",
    "print(len(mtx_of_exp_list))"
   ]
  },
  {
   "cell_type": "code",
   "execution_count": 89,
   "metadata": {},
   "outputs": [],
   "source": [
    "registration_error_in_imp_space_list = []\n",
    "\n",
    "for i in range(len(mtx_of_exp_list)):\n",
    "    # Te = (pose * plan)^-1 * regi. * plan\n",
    "    Te = np.dot(np.dot(np.linalg.inv(np.dot(ans_mtx[i], imp_mtxs[plan_indexer_list[i]])), \n",
    "                       np.linalg.inv(mtx_of_exp_list[i])), \n",
    "                imp_mtxs[plan_indexer_list[i]])\n",
    "    registration_error_in_imp_space_list.append(mtx2euler(Te))"
   ]
  },
  {
   "cell_type": "code",
   "execution_count": 90,
   "metadata": {},
   "outputs": [],
   "source": [
    "eval_file_names = []\n",
    "\n",
    "for i in range(len(result_files)):\n",
    "    if (i % 2 == 0):\n",
    "        eval_file_names.append(result_files[i])"
   ]
  },
  {
   "cell_type": "code",
   "execution_count": 91,
   "metadata": {},
   "outputs": [],
   "source": [
    "for i in range(len(mtx_of_exp_list)):\n",
    "    with open(\"result/\" + \"result_\" + export_file_name_list[i] + eval_file_names[i][-8:-4] + \".txt\", 'w') as file:\n",
    "        file.writelines(log_list[i])\n",
    "        file.writelines(\"  \")\n",
    "        file.writelines(\"\\n\")\n",
    "        file.writelines(\" ------- \")\n",
    "        file.writelines(\"\\n\")\n",
    "        file.writelines(\"  \")\n",
    "        file.writelines(\"\\n\")\n",
    "        for j in range(len(registration_error_in_imp_space_list[i])):\n",
    "            file.writelines(str(registration_error_in_imp_space_list[i][j]))\n",
    "            file.writelines(\"\\n\")"
   ]
  },
  {
   "cell_type": "code",
   "execution_count": null,
   "metadata": {},
   "outputs": [],
   "source": []
  }
 ],
 "metadata": {
  "kernelspec": {
   "display_name": "Python 3",
   "language": "python",
   "name": "python3"
  },
  "language_info": {
   "codemirror_mode": {
    "name": "ipython",
    "version": 3
   },
   "file_extension": ".py",
   "mimetype": "text/x-python",
   "name": "python",
   "nbconvert_exporter": "python",
   "pygments_lexer": "ipython3",
   "version": "3.6.8"
  }
 },
 "nbformat": 4,
 "nbformat_minor": 2
}
