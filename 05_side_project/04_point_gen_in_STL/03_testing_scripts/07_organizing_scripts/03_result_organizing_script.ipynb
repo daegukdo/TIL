{
 "cells": [
  {
   "cell_type": "code",
   "execution_count": 6,
   "metadata": {},
   "outputs": [],
   "source": [
    "import glob\n",
    "import pandas as pd\n",
    "import numpy as np\n",
    "import os"
   ]
  },
  {
   "cell_type": "code",
   "execution_count": 7,
   "metadata": {},
   "outputs": [],
   "source": [
    "result_files = glob.glob(\"result/\" + '*.txt')"
   ]
  },
  {
   "cell_type": "code",
   "execution_count": 8,
   "metadata": {},
   "outputs": [],
   "source": [
    "result_files.sort(key=os.path.getmtime)"
   ]
  },
  {
   "cell_type": "code",
   "execution_count": 9,
   "metadata": {},
   "outputs": [],
   "source": [
    "# load sim data\n",
    "sim_file_path                              = \"C:/Users/eornr/Desktop/source_crx/200331_point_gen/01_point_gen_in_STL/06_gen_point_data_proto/sim_pose/\"\n",
    "sim_file_names                             = [\"left_femur_sim\", \"left_tibia_sim\", \"right_femur_sim\", \"right_tibia_sim\"]\n",
    "\n",
    "left_femur_position_pose_data_list         = np.load(sim_file_path + sim_file_names[0] + '.npy')\n",
    "left_tibia_position_pose_data_list         = np.load(sim_file_path + sim_file_names[1] + '.npy')\n",
    "right_femur_position_pose_data_list         = np.load(sim_file_path + sim_file_names[2] + '.npy')\n",
    "right_tibia_position_pose_data_list         = np.load(sim_file_path + sim_file_names[3] + '.npy')\n",
    "\n",
    "## gen positioning mtx\n",
    "# FL, TL, FR, TR\n",
    "trns_mtx_list                              = [left_femur_position_pose_data_list,\n",
    "                                              left_tibia_position_pose_data_list,\n",
    "                                              right_femur_position_pose_data_list,\n",
    "                                              right_tibia_position_pose_data_list]\n",
    "\n",
    "transform_data_euler_degree_rot            = []\n",
    "\n",
    "sim_files_count                            = [0, 0, 0, 0]\n",
    "\n",
    "ans_mtx                                    = []\n",
    "\n",
    "for file_name in result_files:\n",
    "    if(\"F\" in file_name and \"L\" in file_name):\n",
    "        sim_files_count[0] = sim_files_count[0] + 1\n",
    "    elif(\"T\" in file_name and \"L\" in file_name):\n",
    "        sim_files_count[1] = sim_files_count[1] + 1\n",
    "    elif(\"F\" in file_name and \"R\" in file_name):\n",
    "        sim_files_count[2] = sim_files_count[2] + 1\n",
    "    elif(\"T\" in file_name and \"R\" in file_name):\n",
    "        sim_files_count[3] = sim_files_count[3] + 1\n",
    "\n",
    "for i in range(len(sim_files_count)):\n",
    "    if (sim_files_count[i] == 216):\n",
    "        transform_data_euler_degree_rot.append(trns_mtx_list[i])\n",
    "        \n",
    "transform_data_euler_degree_rot_all = []\n",
    "\n",
    "for i in range(len(transform_data_euler_degree_rot)):\n",
    "    for j in range(len(transform_data_euler_degree_rot[i])):\n",
    "        transform_data_euler_degree_rot_all.append(transform_data_euler_degree_rot[i][j])"
   ]
  },
  {
   "cell_type": "code",
   "execution_count": 10,
   "metadata": {},
   "outputs": [],
   "source": [
    "data_step_log = []\n",
    "data_Euler = []\n",
    "\n",
    "for i in range(len(result_files)):\n",
    "    with open(result_files[i], 'r') as file:\n",
    "        data_log = []\n",
    "        data_value = []\n",
    "        \n",
    "        data_log.append(result_files[i][14:18] + result_files[i][-8:-4])\n",
    "        \n",
    "        for j in range(len(transform_data_euler_degree_rot_all[i])):\n",
    "            data_log.append(str(transform_data_euler_degree_rot_all[i][j]))\n",
    "        \n",
    "        for line in file:\n",
    "            tmp_str = \"\"\n",
    "            if \":\" in line:\n",
    "                _line = line.split(\" : \")\n",
    "                if \"\\n\" in _line[1]:\n",
    "                    tmp_str = _line[1].split(\"\\n\")[0]\n",
    "                if \"\\x00\" in _line[1]:\n",
    "                    tmp_str = _line[1].split(\"\\x00\")[0]\n",
    "                data_log.append(tmp_str)\n",
    "            elif \"--\" in line:\n",
    "                pass\n",
    "            elif \"  \\n\" == line:\n",
    "                pass\n",
    "            else:\n",
    "                _line = line.split(\"\\n\")\n",
    "                data_value.append(_line[0])\n",
    "                \n",
    "        data_step_log.append(data_log)\n",
    "        data_Euler.append(data_value)"
   ]
  },
  {
   "cell_type": "code",
   "execution_count": 11,
   "metadata": {},
   "outputs": [],
   "source": [
    "data_frame_colume_head = [\"data name\", \n",
    "                          \"sim. pose Tx\", \"sim. pose Ty\", \"sim. pose Tz\", \"sim. pose Rx\", \"sim. pose Rx\", \"sim. pose Rx\",\n",
    "                          \"coarse iter\", \"coarse RMSE\", \"fine iter\", \"fine RMSE\", \"fine RMSE all pts\", \n",
    "                          \"error Tx\", \"error Ty\", \"error Tz\", \"error Rx\", \"error Ry\", \"error Rz\"]\n",
    "\n",
    "data_frame_list = []\n",
    "\n",
    "data_frame_list.append(data_frame_colume_head)\n",
    "\n",
    "for i in range(len(data_step_log)):\n",
    "    data_frame_list.append(data_step_log[i] + data_Euler[i])"
   ]
  },
  {
   "cell_type": "code",
   "execution_count": 12,
   "metadata": {},
   "outputs": [],
   "source": [
    "df = pd.DataFrame(data_frame_list) "
   ]
  },
  {
   "cell_type": "code",
   "execution_count": 13,
   "metadata": {},
   "outputs": [],
   "source": [
    "df.to_excel('result/' + 'output.xlsx', index=False)"
   ]
  },
  {
   "cell_type": "code",
   "execution_count": null,
   "metadata": {},
   "outputs": [],
   "source": []
  }
 ],
 "metadata": {
  "kernelspec": {
   "display_name": "Python 3",
   "language": "python",
   "name": "python3"
  },
  "language_info": {
   "codemirror_mode": {
    "name": "ipython",
    "version": 3
   },
   "file_extension": ".py",
   "mimetype": "text/x-python",
   "name": "python",
   "nbconvert_exporter": "python",
   "pygments_lexer": "ipython3",
   "version": "3.6.8"
  }
 },
 "nbformat": 4,
 "nbformat_minor": 2
}
