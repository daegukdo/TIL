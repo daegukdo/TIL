{
 "cells": [
  {
   "cell_type": "code",
   "execution_count": 33,
   "metadata": {},
   "outputs": [],
   "source": [
    "import math\n",
    "import numpy as np\n",
    "import csv\n",
    "\n",
    "def calculate_distance(point1, point2):\n",
    "    \n",
    "    result = round(math.sqrt(math.pow(point1[0] - point2[0], 2) + \n",
    "                            math.pow(point1[1] - point2[1], 2) + \n",
    "                            math.pow(point1[2] - point2[2], 2)), 8)\n",
    "    \n",
    "    return result"
   ]
  },
  {
   "cell_type": "code",
   "execution_count": 34,
   "metadata": {},
   "outputs": [],
   "source": [
    "num_of_files = 8\n",
    "\n",
    "STL_info_data_path = 'C:/Users/eornr/Desktop/source_crx/200331_point_gen/01_point_gen_in_STL/01_STL_data_to_npy/data'\n",
    "STL_info_data_prefix = ['/Fc1L', '/Tc1L', '/Fc1R', '/Tc1R',\n",
    "                        '/Fc2L', '/Tc2L', '/Fc2R', '/Tc2R']\n",
    "\n",
    "point40_data_path = 'C:/Users/eornr/Desktop/source_crx/200331_point_gen/01_point_gen_in_STL/02_raw_40_point/data'\n",
    "point40_name_prefix = ['/c1LF', '/c1LT', '/c1RF', '/c1RT', \n",
    "                       '/c2LF', '/c2LT', '/c2RF', '/c2RT']"
   ]
  },
  {
   "cell_type": "code",
   "execution_count": 37,
   "metadata": {},
   "outputs": [
    {
     "name": "stdout",
     "output_type": "stream",
     "text": [
      "/Fc1L\n",
      "fin : 0\n",
      "/Tc1L\n",
      "fin : 1\n",
      "/Fc1R\n",
      "fin : 2\n",
      "/Tc1R\n",
      "fin : 3\n",
      "/Fc2L\n",
      "fin : 4\n",
      "/Tc2L\n",
      "fin : 5\n",
      "/Fc2R\n",
      "fin : 6\n",
      "/Tc2R\n",
      "fin : 7\n"
     ]
    }
   ],
   "source": [
    "for i in range(num_of_files):\n",
    "    print(STL_info_data_prefix[i])\n",
    "    # each point of STL = each_point_data\n",
    "    each_point_data = np.load(data_path + STL_info_data_prefix[i] + '_femur_each_point_data.npy')\n",
    "    \n",
    "    # selected point 40 = raw\n",
    "    with open(point40_data_path + point40_name_prefix[i] + '_picking_list_labelname_index.txt') as file:\n",
    "        reader = csv.reader(file) \n",
    "        raw = list(reader) \n",
    "    raw = np.array(raw, dtype='float')\n",
    "    \n",
    "    points_40_on_STL = []\n",
    "    \n",
    "    # find 40 point on STL info\n",
    "    for j in range(len(raw)):\n",
    "        tmp_40point = raw[j]\n",
    "        for k in range(len(each_point_data)):\n",
    "            tmp_STL_info_point = each_point_data[k]\n",
    "            tmp = calculate_distance(tmp_STL_info_point, tmp_40point)\n",
    "            if tmp < 0.0000001:\n",
    "                points_40_on_STL.append(tmp_STL_info_point)\n",
    "                \n",
    "    points_40_on_STL = np.array(points_40_on_STL)\n",
    "    \n",
    "    np.save(point40_data_path + STL_info_data_prefix[i] + \"points_40_selected\", points_40_on_STL)\n",
    "    print('fin : ' + str(i))"
   ]
  },
  {
   "cell_type": "code",
   "execution_count": 40,
   "metadata": {},
   "outputs": [],
   "source": [
    "# 파일 확인\n",
    "each_point_data_selected = np.load(point40_data_path + STL_info_data_prefix[1] + \"points_40_selected.npy\")"
   ]
  },
  {
   "cell_type": "code",
   "execution_count": 41,
   "metadata": {},
   "outputs": [
    {
     "data": {
      "text/plain": [
       "array([[-25.34776306,  15.56556702,   9.01904297],\n",
       "       [-36.8425293 ,   3.14842224,   8.70983887],\n",
       "       [-36.04740143, -11.68070984,  10.20245361],\n",
       "       [-21.17511749, -16.83642578,  14.06884766],\n",
       "       [-16.60454559,  -0.23138428,  14.0090332 ],\n",
       "       [ -4.00366211,  -6.97955322,  20.01782227],\n",
       "       [ -4.53121185, -14.13026428,  20.26531982],\n",
       "       [ -5.5957489 , -21.00062561,  18.40075684],\n",
       "       [  9.87322998, -14.29547119,  18.22595215],\n",
       "       [  4.30220795,  -8.71078491,  17.84320068],\n",
       "       [ 10.24438477,  18.6736908 ,  16.10699463],\n",
       "       [  8.61651611,   7.81858826,  19.7833252 ],\n",
       "       [ 22.68125153,  -7.1889801 ,  18.01031494],\n",
       "       [ 29.78604889,   9.03489685,  17.65240479],\n",
       "       [ 28.00452423,  20.33987427,  16.41143799],\n",
       "       [-27.96209335, -14.21980286, -10.82180786],\n",
       "       [-20.24467468, -27.38643646,   2.33398438],\n",
       "       [ -7.84296417, -29.68067932,  10.79205322],\n",
       "       [-20.77292633, -14.00889587, -18.28192139],\n",
       "       [-11.68961334, -29.90037537,  -1.69906616],\n",
       "       [  3.58386993, -29.0007019 ,   9.82147217],\n",
       "       [  5.13030243, -26.33506775, -30.80166626],\n",
       "       [  3.18135834, -27.01753235, -21.63189697],\n",
       "       [  5.34909058, -30.54469299, -12.73919678],\n",
       "       [ 11.7410965 , -31.45420837,  -6.5736084 ],\n",
       "       [ 21.05814362, -26.98175812,  -9.12258911],\n",
       "       [ 29.04961395, -20.71792603, -12.85321045],\n",
       "       [ 27.9697876 , -24.61364746, -39.23483276],\n",
       "       [ 21.37442017, -31.24615479, -24.35296631],\n",
       "       [ 17.27150726, -31.14129639, -16.14474487],\n",
       "       [-21.76281738, -25.85668945,   8.17004395],\n",
       "       [ -0.19448853, -30.08010864,   8.95947266],\n",
       "       [ 17.22422791, -21.34516144,  11.88043213],\n",
       "       [ 33.1075058 ,  -9.91194153,  13.71337891],\n",
       "       [ -3.48555756, -31.0040741 ,   4.1338501 ],\n",
       "       [ 15.37778473, -25.30924225,   5.41925049],\n",
       "       [ 29.17959595, -16.90447998,   7.47076416],\n",
       "       [  1.50202179, -31.33706665,  -6.83242798],\n",
       "       [ 11.48278809, -29.05448914,   0.43792725],\n",
       "       [ 28.92326355, -19.12631989,  -2.97213745]])"
      ]
     },
     "execution_count": 41,
     "metadata": {},
     "output_type": "execute_result"
    }
   ],
   "source": [
    "each_point_data_selected"
   ]
  },
  {
   "cell_type": "code",
   "execution_count": null,
   "metadata": {},
   "outputs": [],
   "source": []
  }
 ],
 "metadata": {
  "kernelspec": {
   "display_name": "Python 3",
   "language": "python",
   "name": "python3"
  },
  "language_info": {
   "codemirror_mode": {
    "name": "ipython",
    "version": 3
   },
   "file_extension": ".py",
   "mimetype": "text/x-python",
   "name": "python",
   "nbconvert_exporter": "python",
   "pygments_lexer": "ipython3",
   "version": "3.6.8"
  }
 },
 "nbformat": 4,
 "nbformat_minor": 2
}
