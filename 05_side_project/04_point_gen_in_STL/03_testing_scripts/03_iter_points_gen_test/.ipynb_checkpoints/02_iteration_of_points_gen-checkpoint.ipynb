{
 "cells": [
  {
   "cell_type": "markdown",
   "metadata": {},
   "source": [
    "### 반복해서 simulation point를 만드는 script 구현\n",
    "\n",
    " - 입력 : STL points, vertex, plane, normal vector,40 point (.npy), number of iter. (int)\n",
    " - 출력 : txt * number of iter."
   ]
  },
  {
   "cell_type": "code",
   "execution_count": 1,
   "metadata": {},
   "outputs": [],
   "source": [
    "import math\n",
    "import numpy as np\n",
    "import csv\n",
    "import random\n",
    "from sklearn.neighbors import KDTree"
   ]
  },
  {
   "cell_type": "code",
   "execution_count": 2,
   "metadata": {},
   "outputs": [],
   "source": [
    "def select_random_vertex_index(point40_on_STL, vertex_data):\n",
    "    \"\"\"\n",
    "    input data structure\n",
    "    points = [[x0, y0, z0], ... [xn, yn, zn]]\n",
    "    vertex_data = [[[px00, py00, pz00], [px01, py01, pz01], [px02, py02, pz02]],\n",
    "                    ...,\n",
    "                   [[pxm0, pym0, pzm0], [pxm1, pym1, pzm1], [pxm2, pym2, pzm2]]]\n",
    "                   \n",
    "    output data structure\n",
    "    selected_index = [i0, i1, ... in]\n",
    "    \"\"\"\n",
    "    \n",
    "    vertex_group = []\n",
    "\n",
    "    for i in range(len(point40_on_STL)):\n",
    "        temp = []\n",
    "        for j in range(len(vertex_data)):\n",
    "            if point40_on_STL[i] in vertex_data[j]:\n",
    "                temp.append(j)\n",
    "        vertex_group.append(temp)\n",
    "\n",
    "    vertex_selected_index = []\n",
    "\n",
    "    for i in range(len(vertex_group)):\n",
    "        randomIndex = random.choice(vertex_group[i])\n",
    "        vertex_selected_index.append(randomIndex)\n",
    "        \n",
    "    return vertex_selected_index, vertex_group\n",
    "\n",
    "def random_vector(length = 1):\n",
    "    \"\"\"\n",
    "    make vector that have length in sphere\n",
    "    \n",
    "    input data structure\n",
    "    vector length = int\n",
    "    \n",
    "    output data structure\n",
    "    vector = [vx, vy, vz]\n",
    "    \"\"\"\n",
    "    \n",
    "    rand_i, rand_j = np.random.rand(2)            # Two independent random numbers from a uniform distribution in the range (0, 1)\n",
    "    theta          = 2 * np.pi * rand_i           # Spherical coordinate theta\n",
    "    phi            = np.arccos(2 * rand_j - 1)    # Spherical coordinate phi, corrected for distribution bias\n",
    "    x              = np.cos(theta) * np.sin(phi)  # Cartesian coordinate x\n",
    "    y              = np.sin(theta) * np.sin(phi)  # Cartesian coordinate y\n",
    "    z              = np.cos(phi)                  # Cartesian coordinate z\n",
    "    vector         = [x*math.sqrt(length), y*math.sqrt(length), z*math.sqrt(length)]\n",
    "\n",
    "    return vector\n",
    "\n",
    "def add_mm_error_to_point(point, error = 20):\n",
    "    \"\"\"\n",
    "    input data structure\n",
    "    point = [x, y, z] # x, y, z unit = mm\n",
    "    \n",
    "    output data structure\n",
    "    point_added_error = [x', y', z']\n",
    "    \"\"\"\n",
    "    \n",
    "    point_added_error      = point.copy()\n",
    "    \n",
    "    xyz_error              = random_vector(error)\n",
    "\n",
    "    point_added_error[0]   += xyz_error[0]\n",
    "    point_added_error[1]   += xyz_error[1]\n",
    "    point_added_error[2]   += xyz_error[2]\n",
    "    \n",
    "    return point_added_error\n",
    "\n",
    "def find_projection_point_in_plane_3D(point, plane, norm_vect):\n",
    "    \"\"\"\n",
    "    input data structure\n",
    "    point = [x, y, z]\n",
    "    plane = [a, b, c, d] # plane eq. = ax + by + cz + d = 0\n",
    "    norm_vect = [i, j, k]\n",
    "    \n",
    "    output data structure\n",
    "    True -> projected_point = [x', y', z']\n",
    "    False -> value of diff. with plane = float(d)\n",
    "    \"\"\"\n",
    "    \n",
    "    plane_ABC_sqrt       = math.sqrt(plane[0]*plane[0] + plane[1]*plane[1] + plane[2]*plane[2])\n",
    "    dist                 = (plane[3] + plane[0] * point[0] + plane[1] * point[1] + plane[2] * point[2]) / plane_ABC_sqrt\n",
    "    # print(dist)\n",
    "    projected_point      = point - dist * norm_vect\n",
    "    \n",
    "    on_the_plane_value   = is_including_point(plane, projected_point)\n",
    "    \n",
    "    if on_the_plane_value:\n",
    "        pass\n",
    "    else:\n",
    "        print(projected_point)\n",
    "        # print(on_the_plane_value)\n",
    "     \n",
    "    return projected_point \n",
    "\n",
    "def is_including_point(plane, point):\n",
    "    \"\"\"\n",
    "    input data structure\n",
    "    point = [x, y, z]\n",
    "    plane = [a, b, c, d] # plane eq. = ax + by + cz + d = 0\n",
    "    \n",
    "    output data structure\n",
    "    is point included in plane = bool\n",
    "    \"\"\"\n",
    "    \n",
    "    a                 = plane[0]\n",
    "    b                 = plane[1]\n",
    "    c                 = plane[2]\n",
    "    d                 = plane[3]\n",
    "    x                 = point[0]\n",
    "    y                 = point[1]\n",
    "    z                 = point[2]\n",
    "    \n",
    "    included_value    = a*x + b*y + c*z + d\n",
    "    # print(included_value)\n",
    "    \n",
    "    if included_value < 0.00001:\n",
    "        return True\n",
    "    else:\n",
    "        return False\n",
    "    \n",
    "def cal_points40_with_error_on_plane(point40_on_STL, plane_selected, vector_selected):\n",
    "    \"\"\"\n",
    "    input data structure\n",
    "    points = [[xr0, yr0, zr0], ... [xrn, yrn, zrn]]\n",
    "    plane_data = [[a0, b0, c0, d0], [a1, b1, c1, d1], ... [am, bm, cm, dm]]\n",
    "    vector_data = [[vx0, vy0, vz0], ... [vxn, vyn, vzn]]\n",
    "    \n",
    "    output data structure (closet points in trg_points from ref_points)\n",
    "    points_on_plane = [[xpr0, ypr0, zpr0], ... [xprn, yprn, zprn]]\n",
    "    \"\"\"\n",
    "    \n",
    "    points40_with_error_on_plane    = []\n",
    "\n",
    "    data_point_40_slt               = point40_on_STL.copy()\n",
    "\n",
    "    for i in range(len(data_point_40_slt)):        \n",
    "        _point_added_error          = add_mm_error_to_point(data_point_40_slt[i])\n",
    "        _point_on_plane             = find_projection_point_in_plane_3D(_point_added_error, \n",
    "                                                                        plane_selected[i],\n",
    "                                                                        vector_selected[i])\n",
    "        \n",
    "        if np.isnan(np.sum(_point_on_plane)):\n",
    "            points40_with_error_on_plane.append(data_point_40_slt[i])\n",
    "        else:\n",
    "            points40_with_error_on_plane.append(_point_on_plane)\n",
    "            \n",
    "    return points40_with_error_on_plane\n",
    "\n",
    "def get_dist_btw_2_3Dpoints(point1, point2):\n",
    "    \"\"\"\n",
    "    input data structure\n",
    "    point1 = [x1, y1, z1]\n",
    "    point2 = [x2, y2, z2]\n",
    "    \n",
    "    output data structure\n",
    "    distance\n",
    "    \"\"\"\n",
    "    \n",
    "    sum        = 0\n",
    "    for i in range(3):\n",
    "        sum    = sum + (point1[i] - point2[i])**2\n",
    "    return math.sqrt(sum)\n",
    "\n",
    "def get_closet_points(ref_points, trg_points):\n",
    "    \"\"\"\n",
    "    input data structure\n",
    "    ref_points = [[xr0, yr0, zr0], ... [xrn, yrn, zrn]]\n",
    "    trg_points = [[xt0, yt0, zt0], ... [xtm, ytm, ztm]]\n",
    "    \n",
    "    output data structure (closet points in trg_points from ref_points)\n",
    "    closet_points = [[xc0, yc0, zc0], ... [xcn, ycn, zcn]]\n",
    "    \"\"\"\n",
    "    \n",
    "    tree                         = KDTree(trg_points)\n",
    "    nearest_dist, nearest_ind    = tree.query(ref_points, k=2)\n",
    "    \n",
    "    nearest_index                = nearest_ind[:,1]\n",
    "    closet_points                = []\n",
    "    \n",
    "    for i in range(len(nearest_index)):\n",
    "        closet_points.append(trg_points[nearest_index[i]])\n",
    "        \n",
    "    return closet_points\n",
    "    \n",
    "def get_data_with_index(index_data, some_data):\n",
    "    \"\"\"\n",
    "    input data structure\n",
    "    index_data = [i0, i1, ... in]\n",
    "    some_data = plane_data or vertex_data or vector_data\n",
    "    plane_data = [[a0, b0, c0, d0], [a1, b1, c1, d1], ... [am, bm, cm, dm]]\n",
    "    vertex_data = [[[px00, py00, pz00], [px01, py01, pz01], [px02, py02, pz02]],\n",
    "                    ...,\n",
    "                   [[pxm0, pym0, pzm0], [pxm1, pym1, pzm1], [pxm2, pym2, pzm2]]]\n",
    "    vector_data = [[vx0, vy0, vz0], ... [vxm, vym, vzm]]\n",
    "    \n",
    "    output data structure\n",
    "    some_data_indexed = plane_data or vertex_data or vector_data\n",
    "    plane_data = [[a0, b0, c0, d0], [a1, b1, c1, d1], ... [an, bn, cn, dn]]\n",
    "    vertex_data = [[[px00, py00, pz00], [px01, py01, pz01], [px02, py02, pz02]],\n",
    "                    ...,\n",
    "                   [[pxn0, pyn0, pzn0], [pxn1, pyn1, pzn1], [pxn2, pyn2, pzn2]]]\n",
    "    vector_data = [[vx0, vy0, vz0], ... [vxn, vyn, vzn]]\n",
    "    \"\"\"\n",
    "    \n",
    "    some_data_indexed = []\n",
    "    \n",
    "    for i in range(len(index_data)):\n",
    "        some_data_indexed.append(some_data[index_data[i]])\n",
    "        \n",
    "    return some_data_indexed\n",
    "    \n",
    "def add_error_to_point_following_to_vector_dirct(point, error_length, vector):\n",
    "    \"\"\"\n",
    "    input data structure\n",
    "    point = [x, y, z]\n",
    "    error_length = float (int)\n",
    "    vector = [unit x vct, unit y vct, unit z vct]\n",
    "    \n",
    "    output data structure\n",
    "    point_added_error_to_vector_direction = [xe, ye, ze]\n",
    "    \"\"\"\n",
    "    \n",
    "    point_with_error   = []\n",
    "    unit_error         = []\n",
    "    \n",
    "    for i in range(len(point)):\n",
    "        unit_error.append(error_length * vector[i])\n",
    "    \n",
    "    for i in range(len(point)):\n",
    "        point_with_error.append(point[i] + unit_error[i])\n",
    "    \n",
    "    return point_with_error"
   ]
  },
  {
   "cell_type": "code",
   "execution_count": 3,
   "metadata": {},
   "outputs": [],
   "source": [
    "num_of_iter = 10\n",
    "\n",
    "num_of_files = 8\n",
    "\n",
    "STL_info_data_path = 'C:/Users/eornr/Desktop/source_crx/200331_point_gen/01_point_gen_in_STL/01_STL_data_to_npy/data'\n",
    "STL_info_data_prefix = ['/Fc1L', '/Tc1L', '/Fc1R', '/Tc1R',\n",
    "                        '/Fc2L', '/Tc2L', '/Fc2R', '/Tc2R']\n",
    "\n",
    "point40_data_path = 'C:/Users/eornr/Desktop/source_crx/200331_point_gen/01_point_gen_in_STL/02_raw_40_point/data'\n",
    "\n",
    "point40_processed_data_path = 'C:/Users/eornr/Desktop/source_crx/200331_point_gen/01_point_gen_in_STL/03_iter_points_gen/data'"
   ]
  },
  {
   "cell_type": "code",
   "execution_count": 6,
   "metadata": {},
   "outputs": [
    {
     "name": "stdout",
     "output_type": "stream",
     "text": [
      "C:/Users/eornr/Desktop/source_crx/200331_point_gen/01_point_gen_in_STL/03_iter_points_gen/data/Fc2L_0_point40_processed.txt\n"
     ]
    }
   ],
   "source": [
    "test_nof = 4\n",
    "\n",
    "# check file name\n",
    "file_name = point40_processed_data_path + STL_info_data_prefix[test_nof] + '_' + str(0) + '_point400_processed.txt'\n",
    "print(file_name)\n",
    "\n",
    "# load raw data\n",
    "point40_on_STL = np.load(point40_data_path + STL_info_data_prefix[test_nof] + 'points_40_selected.npy')\n",
    "each_point_data = np.load(STL_info_data_path + STL_info_data_prefix[test_nof] + '_femur_each_point_data.npy')\n",
    "vertex_data = np.load(STL_info_data_path + STL_info_data_prefix[test_nof] + '_femur_vertex_data.npy')\n",
    "plane_data = np.load(STL_info_data_path + STL_info_data_prefix[test_nof] + '_femur_plane_data.npy')\n",
    "vector_data = np.load(STL_info_data_path + STL_info_data_prefix[test_nof] + '_femur_vector_data.npy')"
   ]
  },
  {
   "cell_type": "code",
   "execution_count": 8,
   "metadata": {},
   "outputs": [],
   "source": [
    "# gen point\n",
    "select_vertex_index_raw, _ = select_random_vertex_index(point40_on_STL, vertex_data)"
   ]
  },
  {
   "cell_type": "code",
   "execution_count": 9,
   "metadata": {},
   "outputs": [],
   "source": [
    "points40_with_error_on_plane = cal_points40_with_error_on_plane(point40_on_STL, \n",
    "                                                                get_data_with_index(select_vertex_index_raw, plane_data), \n",
    "                                                                get_data_with_index(select_vertex_index_raw, vector_data)) "
   ]
  },
  {
   "cell_type": "code",
   "execution_count": 10,
   "metadata": {},
   "outputs": [],
   "source": [
    "nearest_points40_with_error_on_plane = get_closet_points(points40_with_error_on_plane, each_point_data)"
   ]
  },
  {
   "cell_type": "code",
   "execution_count": 14,
   "metadata": {},
   "outputs": [],
   "source": [
    "select_vertex_index_nearest, _ = select_random_vertex_index(nearest_points40_with_error_on_plane, vertex_data)"
   ]
  },
  {
   "cell_type": "code",
   "execution_count": 15,
   "metadata": {},
   "outputs": [],
   "source": [
    "nearest_points40_vector = get_data_with_index(select_vertex_index_nearest, vector_data)"
   ]
  },
  {
   "cell_type": "code",
   "execution_count": 16,
   "metadata": {},
   "outputs": [],
   "source": [
    "points40_with_uncertainty_error = []\n",
    "\n",
    "for i in range(len(nearest_points40_with_error_on_plane)):\n",
    "    error_value = (random.randint(-6, 6) + random.random()) * 0.1\n",
    "    tmp_point = add_error_to_point_following_to_vector_dirct(nearest_points40_with_error_on_plane[i],\n",
    "                                                             error_value,\n",
    "                                                             nearest_points40_vector[i])\n",
    "\n",
    "    points40_with_uncertainty_error.append(tmp_point)"
   ]
  },
  {
   "cell_type": "code",
   "execution_count": 17,
   "metadata": {},
   "outputs": [],
   "source": [
    "points400_with_uncertainty_error = []\n",
    "\n",
    "for i in range(len(points40_with_uncertainty_error)):\n",
    "    point = points40_with_uncertainty_error[i]\n",
    "    for j in range(10):\n",
    "        points400_with_uncertainty_error.append(add_mm_error_to_point(point, 0.5))"
   ]
  },
  {
   "cell_type": "code",
   "execution_count": 18,
   "metadata": {},
   "outputs": [
    {
     "data": {
      "text/plain": [
       "400"
      ]
     },
     "execution_count": 18,
     "metadata": {},
     "output_type": "execute_result"
    }
   ],
   "source": [
    "len(points400_with_uncertainty_error)"
   ]
  },
  {
   "cell_type": "code",
   "execution_count": 19,
   "metadata": {},
   "outputs": [],
   "source": [
    "with open(file_name, 'w') as file:\n",
    "    for i in range(len(points400_with_uncertainty_error)):\n",
    "        tmp_point = points400_with_uncertainty_error[i]\n",
    "        tmp_data_str = \"\"\n",
    "        for j in range(len(tmp_point)):\n",
    "            tmp_data_str += str(tmp_point[j])\n",
    "            if j < 2:\n",
    "                tmp_data_str += ', '\n",
    "            else:\n",
    "                tmp_data_str += '\\n'\n",
    "        file.write(tmp_data_str)"
   ]
  },
  {
   "cell_type": "markdown",
   "metadata": {},
   "source": [
    "###### iter!"
   ]
  },
  {
   "cell_type": "code",
   "execution_count": 3,
   "metadata": {},
   "outputs": [],
   "source": [
    "num_of_iter = 10\n",
    "\n",
    "num_of_files = 8\n",
    "\n",
    "STL_info_data_path = 'C:/Users/eornr/Desktop/source_crx/200331_point_gen/01_point_gen_in_STL/01_STL_data_to_npy/data'\n",
    "STL_info_data_prefix = ['/Fc1L', '/Tc1L', '/Fc1R', '/Tc1R',\n",
    "                        '/Fc2L', '/Tc2L', '/Fc2R', '/Tc2R']\n",
    "\n",
    "point40_data_path = 'C:/Users/eornr/Desktop/source_crx/200331_point_gen/01_point_gen_in_STL/02_raw_40_point/data'\n",
    "\n",
    "point40_processed_data_path = 'C:/Users/eornr/Desktop/source_crx/200331_point_gen/01_point_gen_in_STL/03_iter_points_gen/data'"
   ]
  },
  {
   "cell_type": "code",
   "execution_count": 4,
   "metadata": {},
   "outputs": [
    {
     "name": "stdout",
     "output_type": "stream",
     "text": [
      "C:/Users/eornr/Desktop/source_crx/200331_point_gen/01_point_gen_in_STL/03_iter_points_gen/data/Fc1L_0_point400_processed.txt\n",
      "C:/Users/eornr/Desktop/source_crx/200331_point_gen/01_point_gen_in_STL/03_iter_points_gen/data/Tc1L_0_point400_processed.txt\n",
      "C:/Users/eornr/Desktop/source_crx/200331_point_gen/01_point_gen_in_STL/03_iter_points_gen/data/Fc1R_0_point400_processed.txt\n",
      "C:/Users/eornr/Desktop/source_crx/200331_point_gen/01_point_gen_in_STL/03_iter_points_gen/data/Tc1R_0_point400_processed.txt\n",
      "C:/Users/eornr/Desktop/source_crx/200331_point_gen/01_point_gen_in_STL/03_iter_points_gen/data/Fc2L_0_point400_processed.txt\n"
     ]
    },
    {
     "name": "stderr",
     "output_type": "stream",
     "text": [
      "c:\\users\\eornr\\appdata\\local\\programs\\python\\python36\\lib\\site-packages\\ipykernel_launcher.py:82: RuntimeWarning: invalid value encountered in double_scalars\n"
     ]
    },
    {
     "name": "stdout",
     "output_type": "stream",
     "text": [
      "nan\n",
      "[nan nan nan]\n",
      "nan\n",
      "[nan nan nan]\n",
      "nan\n",
      "[nan nan nan]\n",
      "C:/Users/eornr/Desktop/source_crx/200331_point_gen/01_point_gen_in_STL/03_iter_points_gen/data/Tc2L_0_point400_processed.txt\n",
      "C:/Users/eornr/Desktop/source_crx/200331_point_gen/01_point_gen_in_STL/03_iter_points_gen/data/Fc2R_0_point400_processed.txt\n",
      "C:/Users/eornr/Desktop/source_crx/200331_point_gen/01_point_gen_in_STL/03_iter_points_gen/data/Tc2R_0_point400_processed.txt\n",
      "C:/Users/eornr/Desktop/source_crx/200331_point_gen/01_point_gen_in_STL/03_iter_points_gen/data/Fc1L_1_point400_processed.txt\n",
      "C:/Users/eornr/Desktop/source_crx/200331_point_gen/01_point_gen_in_STL/03_iter_points_gen/data/Tc1L_1_point400_processed.txt\n",
      "C:/Users/eornr/Desktop/source_crx/200331_point_gen/01_point_gen_in_STL/03_iter_points_gen/data/Fc1R_1_point400_processed.txt\n",
      "C:/Users/eornr/Desktop/source_crx/200331_point_gen/01_point_gen_in_STL/03_iter_points_gen/data/Tc1R_1_point400_processed.txt\n",
      "C:/Users/eornr/Desktop/source_crx/200331_point_gen/01_point_gen_in_STL/03_iter_points_gen/data/Fc2L_1_point400_processed.txt\n"
     ]
    },
    {
     "name": "stderr",
     "output_type": "stream",
     "text": [
      "c:\\users\\eornr\\appdata\\local\\programs\\python\\python36\\lib\\site-packages\\ipykernel_launcher.py:82: RuntimeWarning: invalid value encountered in double_scalars\n"
     ]
    },
    {
     "name": "stdout",
     "output_type": "stream",
     "text": [
      "nan\n",
      "[nan nan nan]\n",
      "nan\n",
      "[nan nan nan]\n",
      "nan\n",
      "[nan nan nan]\n",
      "C:/Users/eornr/Desktop/source_crx/200331_point_gen/01_point_gen_in_STL/03_iter_points_gen/data/Tc2L_1_point400_processed.txt\n",
      "C:/Users/eornr/Desktop/source_crx/200331_point_gen/01_point_gen_in_STL/03_iter_points_gen/data/Fc2R_1_point400_processed.txt\n",
      "C:/Users/eornr/Desktop/source_crx/200331_point_gen/01_point_gen_in_STL/03_iter_points_gen/data/Tc2R_1_point400_processed.txt\n",
      "C:/Users/eornr/Desktop/source_crx/200331_point_gen/01_point_gen_in_STL/03_iter_points_gen/data/Fc1L_2_point400_processed.txt\n",
      "C:/Users/eornr/Desktop/source_crx/200331_point_gen/01_point_gen_in_STL/03_iter_points_gen/data/Tc1L_2_point400_processed.txt\n",
      "C:/Users/eornr/Desktop/source_crx/200331_point_gen/01_point_gen_in_STL/03_iter_points_gen/data/Fc1R_2_point400_processed.txt\n",
      "C:/Users/eornr/Desktop/source_crx/200331_point_gen/01_point_gen_in_STL/03_iter_points_gen/data/Tc1R_2_point400_processed.txt\n",
      "C:/Users/eornr/Desktop/source_crx/200331_point_gen/01_point_gen_in_STL/03_iter_points_gen/data/Fc2L_2_point400_processed.txt\n"
     ]
    },
    {
     "name": "stderr",
     "output_type": "stream",
     "text": [
      "c:\\users\\eornr\\appdata\\local\\programs\\python\\python36\\lib\\site-packages\\ipykernel_launcher.py:82: RuntimeWarning: invalid value encountered in double_scalars\n"
     ]
    },
    {
     "name": "stdout",
     "output_type": "stream",
     "text": [
      "nan\n",
      "[nan nan nan]\n",
      "nan\n",
      "[nan nan nan]\n",
      "nan\n",
      "[nan nan nan]\n",
      "C:/Users/eornr/Desktop/source_crx/200331_point_gen/01_point_gen_in_STL/03_iter_points_gen/data/Tc2L_2_point400_processed.txt\n",
      "C:/Users/eornr/Desktop/source_crx/200331_point_gen/01_point_gen_in_STL/03_iter_points_gen/data/Fc2R_2_point400_processed.txt\n",
      "C:/Users/eornr/Desktop/source_crx/200331_point_gen/01_point_gen_in_STL/03_iter_points_gen/data/Tc2R_2_point400_processed.txt\n",
      "C:/Users/eornr/Desktop/source_crx/200331_point_gen/01_point_gen_in_STL/03_iter_points_gen/data/Fc1L_3_point400_processed.txt\n",
      "C:/Users/eornr/Desktop/source_crx/200331_point_gen/01_point_gen_in_STL/03_iter_points_gen/data/Tc1L_3_point400_processed.txt\n",
      "C:/Users/eornr/Desktop/source_crx/200331_point_gen/01_point_gen_in_STL/03_iter_points_gen/data/Fc1R_3_point400_processed.txt\n",
      "C:/Users/eornr/Desktop/source_crx/200331_point_gen/01_point_gen_in_STL/03_iter_points_gen/data/Tc1R_3_point400_processed.txt\n",
      "C:/Users/eornr/Desktop/source_crx/200331_point_gen/01_point_gen_in_STL/03_iter_points_gen/data/Fc2L_3_point400_processed.txt\n"
     ]
    },
    {
     "name": "stderr",
     "output_type": "stream",
     "text": [
      "c:\\users\\eornr\\appdata\\local\\programs\\python\\python36\\lib\\site-packages\\ipykernel_launcher.py:82: RuntimeWarning: invalid value encountered in double_scalars\n"
     ]
    },
    {
     "name": "stdout",
     "output_type": "stream",
     "text": [
      "nan\n",
      "[nan nan nan]\n",
      "nan\n",
      "[nan nan nan]\n",
      "nan\n",
      "[nan nan nan]\n",
      "C:/Users/eornr/Desktop/source_crx/200331_point_gen/01_point_gen_in_STL/03_iter_points_gen/data/Tc2L_3_point400_processed.txt\n",
      "C:/Users/eornr/Desktop/source_crx/200331_point_gen/01_point_gen_in_STL/03_iter_points_gen/data/Fc2R_3_point400_processed.txt\n",
      "C:/Users/eornr/Desktop/source_crx/200331_point_gen/01_point_gen_in_STL/03_iter_points_gen/data/Tc2R_3_point400_processed.txt\n",
      "C:/Users/eornr/Desktop/source_crx/200331_point_gen/01_point_gen_in_STL/03_iter_points_gen/data/Fc1L_4_point400_processed.txt\n",
      "C:/Users/eornr/Desktop/source_crx/200331_point_gen/01_point_gen_in_STL/03_iter_points_gen/data/Tc1L_4_point400_processed.txt\n",
      "C:/Users/eornr/Desktop/source_crx/200331_point_gen/01_point_gen_in_STL/03_iter_points_gen/data/Fc1R_4_point400_processed.txt\n",
      "C:/Users/eornr/Desktop/source_crx/200331_point_gen/01_point_gen_in_STL/03_iter_points_gen/data/Tc1R_4_point400_processed.txt\n",
      "C:/Users/eornr/Desktop/source_crx/200331_point_gen/01_point_gen_in_STL/03_iter_points_gen/data/Fc2L_4_point400_processed.txt\n"
     ]
    },
    {
     "name": "stderr",
     "output_type": "stream",
     "text": [
      "c:\\users\\eornr\\appdata\\local\\programs\\python\\python36\\lib\\site-packages\\ipykernel_launcher.py:82: RuntimeWarning: invalid value encountered in double_scalars\n"
     ]
    },
    {
     "name": "stdout",
     "output_type": "stream",
     "text": [
      "nan\n",
      "[nan nan nan]\n",
      "nan\n",
      "[nan nan nan]\n",
      "nan\n",
      "[nan nan nan]\n",
      "C:/Users/eornr/Desktop/source_crx/200331_point_gen/01_point_gen_in_STL/03_iter_points_gen/data/Tc2L_4_point400_processed.txt\n",
      "C:/Users/eornr/Desktop/source_crx/200331_point_gen/01_point_gen_in_STL/03_iter_points_gen/data/Fc2R_4_point400_processed.txt\n",
      "C:/Users/eornr/Desktop/source_crx/200331_point_gen/01_point_gen_in_STL/03_iter_points_gen/data/Tc2R_4_point400_processed.txt\n",
      "C:/Users/eornr/Desktop/source_crx/200331_point_gen/01_point_gen_in_STL/03_iter_points_gen/data/Fc1L_5_point400_processed.txt\n",
      "C:/Users/eornr/Desktop/source_crx/200331_point_gen/01_point_gen_in_STL/03_iter_points_gen/data/Tc1L_5_point400_processed.txt\n",
      "C:/Users/eornr/Desktop/source_crx/200331_point_gen/01_point_gen_in_STL/03_iter_points_gen/data/Fc1R_5_point400_processed.txt\n",
      "C:/Users/eornr/Desktop/source_crx/200331_point_gen/01_point_gen_in_STL/03_iter_points_gen/data/Tc1R_5_point400_processed.txt\n",
      "C:/Users/eornr/Desktop/source_crx/200331_point_gen/01_point_gen_in_STL/03_iter_points_gen/data/Fc2L_5_point400_processed.txt\n"
     ]
    },
    {
     "name": "stderr",
     "output_type": "stream",
     "text": [
      "c:\\users\\eornr\\appdata\\local\\programs\\python\\python36\\lib\\site-packages\\ipykernel_launcher.py:82: RuntimeWarning: invalid value encountered in double_scalars\n"
     ]
    },
    {
     "name": "stdout",
     "output_type": "stream",
     "text": [
      "nan\n",
      "[nan nan nan]\n",
      "nan\n",
      "[nan nan nan]\n",
      "nan\n",
      "[nan nan nan]\n",
      "C:/Users/eornr/Desktop/source_crx/200331_point_gen/01_point_gen_in_STL/03_iter_points_gen/data/Tc2L_5_point400_processed.txt\n",
      "C:/Users/eornr/Desktop/source_crx/200331_point_gen/01_point_gen_in_STL/03_iter_points_gen/data/Fc2R_5_point400_processed.txt\n",
      "C:/Users/eornr/Desktop/source_crx/200331_point_gen/01_point_gen_in_STL/03_iter_points_gen/data/Tc2R_5_point400_processed.txt\n",
      "C:/Users/eornr/Desktop/source_crx/200331_point_gen/01_point_gen_in_STL/03_iter_points_gen/data/Fc1L_6_point400_processed.txt\n",
      "C:/Users/eornr/Desktop/source_crx/200331_point_gen/01_point_gen_in_STL/03_iter_points_gen/data/Tc1L_6_point400_processed.txt\n",
      "C:/Users/eornr/Desktop/source_crx/200331_point_gen/01_point_gen_in_STL/03_iter_points_gen/data/Fc1R_6_point400_processed.txt\n",
      "C:/Users/eornr/Desktop/source_crx/200331_point_gen/01_point_gen_in_STL/03_iter_points_gen/data/Tc1R_6_point400_processed.txt\n",
      "C:/Users/eornr/Desktop/source_crx/200331_point_gen/01_point_gen_in_STL/03_iter_points_gen/data/Fc2L_6_point400_processed.txt\n"
     ]
    },
    {
     "name": "stderr",
     "output_type": "stream",
     "text": [
      "c:\\users\\eornr\\appdata\\local\\programs\\python\\python36\\lib\\site-packages\\ipykernel_launcher.py:82: RuntimeWarning: invalid value encountered in double_scalars\n"
     ]
    },
    {
     "name": "stdout",
     "output_type": "stream",
     "text": [
      "nan\n",
      "[nan nan nan]\n",
      "nan\n",
      "[nan nan nan]\n",
      "nan\n",
      "[nan nan nan]\n",
      "C:/Users/eornr/Desktop/source_crx/200331_point_gen/01_point_gen_in_STL/03_iter_points_gen/data/Tc2L_6_point400_processed.txt\n",
      "C:/Users/eornr/Desktop/source_crx/200331_point_gen/01_point_gen_in_STL/03_iter_points_gen/data/Fc2R_6_point400_processed.txt\n",
      "C:/Users/eornr/Desktop/source_crx/200331_point_gen/01_point_gen_in_STL/03_iter_points_gen/data/Tc2R_6_point400_processed.txt\n",
      "C:/Users/eornr/Desktop/source_crx/200331_point_gen/01_point_gen_in_STL/03_iter_points_gen/data/Fc1L_7_point400_processed.txt\n",
      "C:/Users/eornr/Desktop/source_crx/200331_point_gen/01_point_gen_in_STL/03_iter_points_gen/data/Tc1L_7_point400_processed.txt\n",
      "C:/Users/eornr/Desktop/source_crx/200331_point_gen/01_point_gen_in_STL/03_iter_points_gen/data/Fc1R_7_point400_processed.txt\n",
      "C:/Users/eornr/Desktop/source_crx/200331_point_gen/01_point_gen_in_STL/03_iter_points_gen/data/Tc1R_7_point400_processed.txt\n",
      "C:/Users/eornr/Desktop/source_crx/200331_point_gen/01_point_gen_in_STL/03_iter_points_gen/data/Fc2L_7_point400_processed.txt\n"
     ]
    },
    {
     "name": "stderr",
     "output_type": "stream",
     "text": [
      "c:\\users\\eornr\\appdata\\local\\programs\\python\\python36\\lib\\site-packages\\ipykernel_launcher.py:82: RuntimeWarning: invalid value encountered in double_scalars\n"
     ]
    },
    {
     "name": "stdout",
     "output_type": "stream",
     "text": [
      "nan\n",
      "[nan nan nan]\n",
      "nan\n",
      "[nan nan nan]\n",
      "nan\n",
      "[nan nan nan]\n",
      "C:/Users/eornr/Desktop/source_crx/200331_point_gen/01_point_gen_in_STL/03_iter_points_gen/data/Tc2L_7_point400_processed.txt\n",
      "C:/Users/eornr/Desktop/source_crx/200331_point_gen/01_point_gen_in_STL/03_iter_points_gen/data/Fc2R_7_point400_processed.txt\n",
      "C:/Users/eornr/Desktop/source_crx/200331_point_gen/01_point_gen_in_STL/03_iter_points_gen/data/Tc2R_7_point400_processed.txt\n",
      "C:/Users/eornr/Desktop/source_crx/200331_point_gen/01_point_gen_in_STL/03_iter_points_gen/data/Fc1L_8_point400_processed.txt\n",
      "C:/Users/eornr/Desktop/source_crx/200331_point_gen/01_point_gen_in_STL/03_iter_points_gen/data/Tc1L_8_point400_processed.txt\n",
      "C:/Users/eornr/Desktop/source_crx/200331_point_gen/01_point_gen_in_STL/03_iter_points_gen/data/Fc1R_8_point400_processed.txt\n",
      "C:/Users/eornr/Desktop/source_crx/200331_point_gen/01_point_gen_in_STL/03_iter_points_gen/data/Tc1R_8_point400_processed.txt\n",
      "C:/Users/eornr/Desktop/source_crx/200331_point_gen/01_point_gen_in_STL/03_iter_points_gen/data/Fc2L_8_point400_processed.txt\n"
     ]
    },
    {
     "name": "stderr",
     "output_type": "stream",
     "text": [
      "c:\\users\\eornr\\appdata\\local\\programs\\python\\python36\\lib\\site-packages\\ipykernel_launcher.py:82: RuntimeWarning: invalid value encountered in double_scalars\n"
     ]
    },
    {
     "name": "stdout",
     "output_type": "stream",
     "text": [
      "nan\n",
      "[nan nan nan]\n",
      "nan\n",
      "[nan nan nan]\n",
      "nan\n",
      "[nan nan nan]\n",
      "C:/Users/eornr/Desktop/source_crx/200331_point_gen/01_point_gen_in_STL/03_iter_points_gen/data/Tc2L_8_point400_processed.txt\n",
      "C:/Users/eornr/Desktop/source_crx/200331_point_gen/01_point_gen_in_STL/03_iter_points_gen/data/Fc2R_8_point400_processed.txt\n",
      "C:/Users/eornr/Desktop/source_crx/200331_point_gen/01_point_gen_in_STL/03_iter_points_gen/data/Tc2R_8_point400_processed.txt\n",
      "C:/Users/eornr/Desktop/source_crx/200331_point_gen/01_point_gen_in_STL/03_iter_points_gen/data/Fc1L_9_point400_processed.txt\n",
      "C:/Users/eornr/Desktop/source_crx/200331_point_gen/01_point_gen_in_STL/03_iter_points_gen/data/Tc1L_9_point400_processed.txt\n",
      "C:/Users/eornr/Desktop/source_crx/200331_point_gen/01_point_gen_in_STL/03_iter_points_gen/data/Fc1R_9_point400_processed.txt\n",
      "C:/Users/eornr/Desktop/source_crx/200331_point_gen/01_point_gen_in_STL/03_iter_points_gen/data/Tc1R_9_point400_processed.txt\n",
      "C:/Users/eornr/Desktop/source_crx/200331_point_gen/01_point_gen_in_STL/03_iter_points_gen/data/Fc2L_9_point400_processed.txt\n"
     ]
    },
    {
     "name": "stderr",
     "output_type": "stream",
     "text": [
      "c:\\users\\eornr\\appdata\\local\\programs\\python\\python36\\lib\\site-packages\\ipykernel_launcher.py:82: RuntimeWarning: invalid value encountered in double_scalars\n"
     ]
    },
    {
     "name": "stdout",
     "output_type": "stream",
     "text": [
      "nan\n",
      "[nan nan nan]\n",
      "nan\n",
      "[nan nan nan]\n",
      "nan\n",
      "[nan nan nan]\n",
      "C:/Users/eornr/Desktop/source_crx/200331_point_gen/01_point_gen_in_STL/03_iter_points_gen/data/Tc2L_9_point400_processed.txt\n",
      "C:/Users/eornr/Desktop/source_crx/200331_point_gen/01_point_gen_in_STL/03_iter_points_gen/data/Fc2R_9_point400_processed.txt\n",
      "C:/Users/eornr/Desktop/source_crx/200331_point_gen/01_point_gen_in_STL/03_iter_points_gen/data/Tc2R_9_point400_processed.txt\n"
     ]
    }
   ],
   "source": [
    "for iter_ in range(num_of_iter):\n",
    "    for nof in range(num_of_files):\n",
    "        # check file name\n",
    "        file_name = point40_processed_data_path + STL_info_data_prefix[nof] + '_' + str(iter_) + '_point400_processed.txt'\n",
    "        print(file_name)\n",
    "        \n",
    "        # load raw data\n",
    "        point40_on_STL = np.load(point40_data_path + STL_info_data_prefix[nof] + 'points_40_selected.npy')\n",
    "        each_point_data = np.load(STL_info_data_path + STL_info_data_prefix[nof] + '_femur_each_point_data.npy')\n",
    "        vertex_data = np.load(STL_info_data_path + STL_info_data_prefix[nof] + '_femur_vertex_data.npy')\n",
    "        plane_data = np.load(STL_info_data_path + STL_info_data_prefix[nof] + '_femur_plane_data.npy')\n",
    "        vector_data = np.load(STL_info_data_path + STL_info_data_prefix[nof] + '_femur_vector_data.npy')\n",
    "        \n",
    "        # gen point\n",
    "        select_vertex_index_raw = select_random_vertex_index(point40_on_STL, vertex_data)\n",
    "        points40_with_error_on_plane = cal_points40_with_error_on_plane(point40_on_STL, \n",
    "                                                                        get_data_with_index(select_vertex_index_raw, plane_data), \n",
    "                                                                        get_data_with_index(select_vertex_index_raw, vector_data)) \n",
    "        \n",
    "        nearest_points40_with_error_on_plane = get_closet_points(points40_with_error_on_plane, each_point_data)\n",
    "        select_vertex_index_nearest = select_random_vertex_index(nearest_points40_with_error_on_plane, vertex_data)\n",
    "        nearest_points40_vector = get_data_with_index(select_vertex_index_nearest, vector_data)\n",
    "        \n",
    "        points40_with_uncertainty_error = []\n",
    "\n",
    "        for i in range(len(nearest_points40_with_error_on_plane)):\n",
    "            error_value = (random.randint(-6, 6) + random.random()) * 0.1\n",
    "            tmp_point = add_error_to_point_following_to_vector_dirct(nearest_points40_with_error_on_plane[i],\n",
    "                                                                     error_value,\n",
    "                                                                     nearest_points40_vector[i])\n",
    "\n",
    "            points40_with_uncertainty_error.append(tmp_point)\n",
    "            \n",
    "        points400_with_uncertainty_error = []\n",
    "\n",
    "        for i in range(len(points40_with_uncertainty_error)):\n",
    "            point = points40_with_uncertainty_error[i]\n",
    "            for j in range(10):\n",
    "                points400_with_uncertainty_error.append(add_mm_error_to_point(point, 0.5))\n",
    "            \n",
    "        #save data        \n",
    "        with open(file_name, 'w') as file:\n",
    "            for i in range(len(points400_with_uncertainty_error)):\n",
    "                tmp_point = points400_with_uncertainty_error[i]\n",
    "                tmp_data_str = \"\"\n",
    "                for j in range(len(tmp_point)):\n",
    "                    tmp_data_str += str(tmp_point[j])\n",
    "                    if j < 2:\n",
    "                        tmp_data_str += ', '\n",
    "                    else:\n",
    "                        tmp_data_str += '\\n'\n",
    "                file.write(tmp_data_str)\n",
    "                \n",
    "print(\"fin!\")"
   ]
  },
  {
   "cell_type": "code",
   "execution_count": null,
   "metadata": {},
   "outputs": [],
   "source": []
  },
  {
   "cell_type": "code",
   "execution_count": null,
   "metadata": {},
   "outputs": [],
   "source": []
  },
  {
   "cell_type": "code",
   "execution_count": null,
   "metadata": {},
   "outputs": [],
   "source": []
  },
  {
   "cell_type": "code",
   "execution_count": null,
   "metadata": {},
   "outputs": [],
   "source": []
  }
 ],
 "metadata": {
  "kernelspec": {
   "display_name": "Python 3",
   "language": "python",
   "name": "python3"
  },
  "language_info": {
   "codemirror_mode": {
    "name": "ipython",
    "version": 3
   },
   "file_extension": ".py",
   "mimetype": "text/x-python",
   "name": "python",
   "nbconvert_exporter": "python",
   "pygments_lexer": "ipython3",
   "version": "3.6.8"
  }
 },
 "nbformat": 4,
 "nbformat_minor": 2
}
