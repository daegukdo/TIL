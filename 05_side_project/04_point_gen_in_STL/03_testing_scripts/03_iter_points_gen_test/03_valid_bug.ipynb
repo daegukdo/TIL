{
 "cells": [
  {
   "cell_type": "code",
   "execution_count": 1,
   "metadata": {},
   "outputs": [],
   "source": [
    "import math\n",
    "import numpy as np\n",
    "import csv\n",
    "import random\n",
    "from sklearn.neighbors import KDTree"
   ]
  },
  {
   "cell_type": "code",
   "execution_count": 119,
   "metadata": {},
   "outputs": [],
   "source": [
    "def select_random_vertex_index(point40_on_STL, vertex_data):\n",
    "    \"\"\"\n",
    "    input data structure\n",
    "    points = [[x0, y0, z0], ... [xn, yn, zn]]\n",
    "    vertex_data = [[[px00, py00, pz00], [px01, py01, pz01], [px02, py02, pz02]],\n",
    "                    ...,\n",
    "                   [[pxm0, pym0, pzm0], [pxm1, pym1, pzm1], [pxm2, pym2, pzm2]]]\n",
    "                   \n",
    "    output data structure\n",
    "    selected_index = [i0, i1, ... in]\n",
    "    \"\"\"\n",
    "    \n",
    "    vertex_group = []\n",
    "\n",
    "    for i in range(len(point40_on_STL)):\n",
    "        temp = []\n",
    "        for j in range(len(vertex_data)):\n",
    "            if point40_on_STL[i] in vertex_data[j]:\n",
    "                temp.append(j)\n",
    "        vertex_group.append(temp)\n",
    "\n",
    "    vertex_selected_index = []\n",
    "\n",
    "    for i in range(len(vertex_group)):\n",
    "        randomIndex = random.choice(vertex_group[i])\n",
    "        vertex_selected_index.append(randomIndex)\n",
    "        \n",
    "    return vertex_selected_index, vertex_group\n",
    "\n",
    "def random_vector(length = 1):\n",
    "    \"\"\"\n",
    "    make vector that have length in sphere\n",
    "    \n",
    "    input data structure\n",
    "    vector length = int\n",
    "    \n",
    "    output data structure\n",
    "    vector = [vx, vy, vz]\n",
    "    \"\"\"\n",
    "    \n",
    "    rand_i, rand_j = np.random.rand(2)            # Two independent random numbers from a uniform distribution in the range (0, 1)\n",
    "    theta          = 2 * np.pi * rand_i           # Spherical coordinate theta\n",
    "    phi            = np.arccos(2 * rand_j - 1)    # Spherical coordinate phi, corrected for distribution bias\n",
    "    x              = np.cos(theta) * np.sin(phi)  # Cartesian coordinate x\n",
    "    y              = np.sin(theta) * np.sin(phi)  # Cartesian coordinate y\n",
    "    z              = np.cos(phi)                  # Cartesian coordinate z\n",
    "    vector         = [x*math.sqrt(length), y*math.sqrt(length), z*math.sqrt(length)]\n",
    "\n",
    "    return vector\n",
    "\n",
    "def add_mm_error_to_point(point, error = 20):\n",
    "    \"\"\"\n",
    "    input data structure\n",
    "    point = [x, y, z] # x, y, z unit = mm\n",
    "    \n",
    "    output data structure\n",
    "    point_added_error = [x', y', z']\n",
    "    \"\"\"\n",
    "    \n",
    "    point_added_error      = point.copy()\n",
    "    \n",
    "    xyz_error              = random_vector(error)\n",
    "\n",
    "    point_added_error[0]   += xyz_error[0]\n",
    "    point_added_error[1]   += xyz_error[1]\n",
    "    point_added_error[2]   += xyz_error[2]\n",
    "    \n",
    "    return point_added_error\n",
    "\n",
    "def find_projection_point_in_plane_3D(point, plane, norm_vect):\n",
    "    \"\"\"\n",
    "    input data structure\n",
    "    point = [x, y, z]\n",
    "    plane = [a, b, c, d] # plane eq. = ax + by + cz + d = 0\n",
    "    norm_vect = [i, j, k]\n",
    "    \n",
    "    output data structure\n",
    "    True -> projected_point = [x', y', z']\n",
    "    False -> value of diff. with plane = float(d)\n",
    "    \"\"\"\n",
    "    \n",
    "    plane_ABC_sqrt       = math.sqrt(plane[0]*plane[0] + plane[1]*plane[1] + plane[2]*plane[2])\n",
    "    dist                 = (plane[3] + plane[0] * point[0] + plane[1] * point[1] + plane[2] * point[2]) / plane_ABC_sqrt\n",
    "    # print(dist)\n",
    "    projected_point      = point - dist * norm_vect\n",
    "    \n",
    "    on_the_plane_value   = is_including_point(plane, projected_point)\n",
    "    \n",
    "    if on_the_plane_value:\n",
    "        pass\n",
    "    else:\n",
    "        print(projected_point)\n",
    "        # print(on_the_plane_value)\n",
    "     \n",
    "    return projected_point \n",
    "\n",
    "def is_including_point(plane, point):\n",
    "    \"\"\"\n",
    "    input data structure\n",
    "    point = [x, y, z]\n",
    "    plane = [a, b, c, d] # plane eq. = ax + by + cz + d = 0\n",
    "    \n",
    "    output data structure\n",
    "    is point included in plane = bool\n",
    "    \"\"\"\n",
    "    \n",
    "    a                 = plane[0]\n",
    "    b                 = plane[1]\n",
    "    c                 = plane[2]\n",
    "    d                 = plane[3]\n",
    "    x                 = point[0]\n",
    "    y                 = point[1]\n",
    "    z                 = point[2]\n",
    "    \n",
    "    included_value    = a*x + b*y + c*z + d\n",
    "    # print(included_value)\n",
    "    \n",
    "    if included_value < 0.00001:\n",
    "        return True\n",
    "    else:\n",
    "        return False\n",
    "    \n",
    "def cal_points40_with_error_on_plane(point40_on_STL, plane_selected, vector_selected):\n",
    "    \"\"\"\n",
    "    input data structure\n",
    "    points = [[xr0, yr0, zr0], ... [xrn, yrn, zrn]]\n",
    "    plane_data = [[a0, b0, c0, d0], [a1, b1, c1, d1], ... [am, bm, cm, dm]]\n",
    "    vector_data = [[vx0, vy0, vz0], ... [vxn, vyn, vzn]]\n",
    "    \n",
    "    output data structure (closet points in trg_points from ref_points)\n",
    "    points_on_plane = [[xpr0, ypr0, zpr0], ... [xprn, yprn, zprn]]\n",
    "    \"\"\"\n",
    "    \n",
    "    points40_with_error_on_plane    = []\n",
    "\n",
    "    data_point_40_slt               = point40_on_STL.copy()\n",
    "\n",
    "    for i in range(len(data_point_40_slt)):        \n",
    "        _point_added_error          = add_mm_error_to_point(data_point_40_slt[i])\n",
    "        _point_on_plane             = find_projection_point_in_plane_3D(_point_added_error, \n",
    "                                                                        plane_selected[i],\n",
    "                                                                        vector_selected[i])\n",
    "        \n",
    "        if np.isnan(np.sum(_point_on_plane)):\n",
    "            points40_with_error_on_plane.append(data_point_40_slt[i])\n",
    "        else:\n",
    "            points40_with_error_on_plane.append(_point_on_plane)\n",
    "            \n",
    "    return points40_with_error_on_plane\n",
    "\n",
    "def get_dist_btw_2_3Dpoints(point1, point2):\n",
    "    \"\"\"\n",
    "    input data structure\n",
    "    point1 = [x1, y1, z1]\n",
    "    point2 = [x2, y2, z2]\n",
    "    \n",
    "    output data structure\n",
    "    distance\n",
    "    \"\"\"\n",
    "    \n",
    "    sum        = 0\n",
    "    for i in range(3):\n",
    "        sum    = sum + (point1[i] - point2[i])**2\n",
    "    return math.sqrt(sum)\n",
    "\n",
    "def get_closet_points(ref_points, trg_points):\n",
    "    \"\"\"\n",
    "    input data structure\n",
    "    ref_points = [[xr0, yr0, zr0], ... [xrn, yrn, zrn]]\n",
    "    trg_points = [[xt0, yt0, zt0], ... [xtm, ytm, ztm]]\n",
    "    \n",
    "    output data structure (closet points in trg_points from ref_points)\n",
    "    closet_points = [[xc0, yc0, zc0], ... [xcn, ycn, zcn]]\n",
    "    \"\"\"\n",
    "    \n",
    "    tree                         = KDTree(trg_points)\n",
    "    nearest_dist, nearest_ind    = tree.query(ref_points, k=2)\n",
    "    \n",
    "    nearest_index                = nearest_ind[:,1]\n",
    "    closet_points                = []\n",
    "    \n",
    "    for i in range(len(nearest_index)):\n",
    "        closet_points.append(trg_points[nearest_index[i]])\n",
    "        \n",
    "    return closet_points\n",
    "    \n",
    "def get_data_with_index(index_data, some_data):\n",
    "    \"\"\"\n",
    "    input data structure\n",
    "    index_data = [i0, i1, ... in]\n",
    "    some_data = plane_data or vertex_data or vector_data\n",
    "    plane_data = [[a0, b0, c0, d0], [a1, b1, c1, d1], ... [am, bm, cm, dm]]\n",
    "    vertex_data = [[[px00, py00, pz00], [px01, py01, pz01], [px02, py02, pz02]],\n",
    "                    ...,\n",
    "                   [[pxm0, pym0, pzm0], [pxm1, pym1, pzm1], [pxm2, pym2, pzm2]]]\n",
    "    vector_data = [[vx0, vy0, vz0], ... [vxm, vym, vzm]]\n",
    "    \n",
    "    output data structure\n",
    "    some_data_indexed = plane_data or vertex_data or vector_data\n",
    "    plane_data = [[a0, b0, c0, d0], [a1, b1, c1, d1], ... [an, bn, cn, dn]]\n",
    "    vertex_data = [[[px00, py00, pz00], [px01, py01, pz01], [px02, py02, pz02]],\n",
    "                    ...,\n",
    "                   [[pxn0, pyn0, pzn0], [pxn1, pyn1, pzn1], [pxn2, pyn2, pzn2]]]\n",
    "    vector_data = [[vx0, vy0, vz0], ... [vxn, vyn, vzn]]\n",
    "    \"\"\"\n",
    "    \n",
    "    some_data_indexed = []\n",
    "    \n",
    "    for i in range(len(index_data)):\n",
    "        some_data_indexed.append(some_data[index_data[i]])\n",
    "        \n",
    "    return some_data_indexed\n",
    "    \n",
    "def add_error_to_point_following_to_vector_dirct(point, error_length, vector):\n",
    "    \"\"\"\n",
    "    input data structure\n",
    "    point = [x, y, z]\n",
    "    error_length = float (int)\n",
    "    vector = [unit x vct, unit y vct, unit z vct]\n",
    "    \n",
    "    output data structure\n",
    "    point_added_error_to_vector_direction = [xe, ye, ze]\n",
    "    \"\"\"\n",
    "    \n",
    "    point_with_error   = []\n",
    "    unit_error         = []\n",
    "    \n",
    "    for i in range(len(point)):\n",
    "        unit_error.append(error_length * vector[i])\n",
    "    \n",
    "    for i in range(len(point)):\n",
    "        point_with_error.append(point[i] + unit_error[i])\n",
    "    \n",
    "    return point_with_error"
   ]
  },
  {
   "cell_type": "code",
   "execution_count": 69,
   "metadata": {},
   "outputs": [],
   "source": [
    "num_of_iter = 10\n",
    "\n",
    "num_of_files = 8\n",
    "\n",
    "STL_info_data_path = 'C:/Users/eornr/Desktop/source_crx/200331_point_gen/01_point_gen_in_STL/01_STL_data_to_npy/data'\n",
    "STL_info_data_prefix = ['/Fc1L', '/Tc1L', '/Fc1R', '/Tc1R',\n",
    "                        '/Fc2L', '/Tc2L', '/Fc2R', '/Tc2R']\n",
    "\n",
    "point40_data_path = 'C:/Users/eornr/Desktop/source_crx/200331_point_gen/01_point_gen_in_STL/02_raw_40_point/data'\n",
    "\n",
    "point40_processed_data_path = 'C:/Users/eornr/Desktop/source_crx/200331_point_gen/01_point_gen_in_STL/03_iter_points_gen/data'"
   ]
  },
  {
   "cell_type": "code",
   "execution_count": 70,
   "metadata": {},
   "outputs": [
    {
     "name": "stdout",
     "output_type": "stream",
     "text": [
      "C:/Users/eornr/Desktop/source_crx/200331_point_gen/01_point_gen_in_STL/03_iter_points_gen/data/Fc1L_0_point400_processed_.txt\n"
     ]
    }
   ],
   "source": [
    "test_nof = 0\n",
    "\n",
    "# check file name\n",
    "file_name = point40_processed_data_path + STL_info_data_prefix[test_nof] + '_' + str(0) + '_point400_processed_.txt'\n",
    "print(file_name)\n",
    "\n",
    "# load raw data\n",
    "point40_on_STL = np.load(point40_data_path + STL_info_data_prefix[test_nof] + 'points_40_selected.npy')\n",
    "each_point_data = np.load(STL_info_data_path + STL_info_data_prefix[test_nof] + '_femur_each_point_data.npy')\n",
    "vertex_data = np.load(STL_info_data_path + STL_info_data_prefix[test_nof] + '_femur_vertex_data.npy')\n",
    "plane_data = np.load(STL_info_data_path + STL_info_data_prefix[test_nof] + '_femur_plane_data.npy')\n",
    "vector_data = np.load(STL_info_data_path + STL_info_data_prefix[test_nof] + '_femur_vector_data.npy')"
   ]
  },
  {
   "cell_type": "code",
   "execution_count": 71,
   "metadata": {},
   "outputs": [],
   "source": [
    "# gen point\n",
    "select_vertex_index_raw, select_vertex_group = select_random_vertex_index(point40_on_STL, vertex_data)"
   ]
  },
  {
   "cell_type": "code",
   "execution_count": 86,
   "metadata": {},
   "outputs": [],
   "source": [
    "def is_included_point(plane, point):\n",
    "    a                 = plane[0]\n",
    "    b                 = plane[1]\n",
    "    c                 = plane[2]\n",
    "    d                 = plane[3]\n",
    "    x                 = point[0]\n",
    "    y                 = point[1]\n",
    "    z                 = point[2]\n",
    "    \n",
    "    included_value    = a*x + b*y + c*z + d\n",
    "    print(included_value)\n",
    "    \n",
    "    if included_value < 0.00001:\n",
    "        return True\n",
    "    else:\n",
    "        return False"
   ]
  },
  {
   "cell_type": "code",
   "execution_count": 98,
   "metadata": {},
   "outputs": [
    {
     "data": {
      "text/plain": [
       "[[13339, 13340, 13389, 13547, 13635, 13639, 13730, 17485],\n",
       " [735,\n",
       "  773,\n",
       "  785,\n",
       "  836,\n",
       "  838,\n",
       "  846,\n",
       "  889,\n",
       "  995,\n",
       "  1047,\n",
       "  1099,\n",
       "  1152,\n",
       "  1168,\n",
       "  1298,\n",
       "  1352,\n",
       "  1358,\n",
       "  1361],\n",
       " [7567, 7590, 10159, 10161],\n",
       " [26059, 26175, 26248, 26251, 29811, 29832, 29943, 29953],\n",
       " [64534, 67265, 67294, 67317, 67326, 67368, 69862, 69892, 69916, 69918, 69919],\n",
       " [53265, 53293, 53295, 53298, 56201],\n",
       " [37683, 37738, 37739, 40471, 40472, 40512, 40513],\n",
       " [9081, 12451, 12453, 12599, 12677],\n",
       " [25597, 25732, 25734, 29196, 29198],\n",
       " [28963, 28976, 28977],\n",
       " [11829, 11903, 11904, 16367, 16388],\n",
       " [34947, 34985, 34986, 38430, 38431, 38448],\n",
       " [19794, 19962, 23494, 23495, 23522, 23552, 23580, 23604, 23627],\n",
       " [6585, 6607, 6622, 8354, 8464, 8466],\n",
       " [13243, 13249, 13356, 13359, 13410],\n",
       " [126863,\n",
       "  126902,\n",
       "  126903,\n",
       "  129027,\n",
       "  129054,\n",
       "  131199,\n",
       "  131274,\n",
       "  131276,\n",
       "  131478,\n",
       "  131480,\n",
       "  131664,\n",
       "  131666],\n",
       " [89081, 89098, 89099, 91619],\n",
       " [122452, 122455, 122473, 124501, 124530, 126645, 126675, 128867, 128868],\n",
       " [76121, 76136, 76137, 78704, 78732, 81272, 83851, 83901, 86492, 88911, 91461],\n",
       " [102867, 102882, 105206, 105220, 105223],\n",
       " [124630, 126764, 128921, 128923, 128935, 128946],\n",
       " [100785, 100804, 100805, 102958, 102975, 102990, 102991],\n",
       " [145695, 145696, 147940, 147974, 150151],\n",
       " [91208, 91209, 93663, 93682],\n",
       " [109492, 109495, 113838, 113841, 113842],\n",
       " [69226, 69238, 69239, 71910, 71921, 77159, 77197],\n",
       " [33806, 33807, 37534, 37558, 40355, 40401, 43375],\n",
       " [26803, 26804, 26834, 26835, 26837],\n",
       " [35298, 35299, 38549, 38588, 38589, 41454, 41455, 41475, 41496],\n",
       " [51396, 54154, 54174, 54175],\n",
       " [196094, 196095, 196096, 196583, 197102, 197532, 197547],\n",
       " [174029, 174030, 174032, 174094, 174096, 176749],\n",
       " [121549, 123633, 123647, 125732, 127998, 130040, 132239, 132249],\n",
       " [196560, 196568, 196571, 197071, 197521],\n",
       " [156082, 156083, 158539, 158541],\n",
       " [123587, 123588, 123590, 125651, 125688, 125691],\n",
       " [191009, 191012, 191013, 191430, 192185, 192649, 193065, 193066],\n",
       " [199566, 199567, 199568, 200752, 200755, 200756],\n",
       " [171158, 171159, 171161, 173970, 174023],\n",
       " [136195, 136196, 136197, 136236, 136238, 138322, 138324, 138346]]"
      ]
     },
     "execution_count": 98,
     "metadata": {},
     "output_type": "execute_result"
    }
   ],
   "source": [
    "select_vertex_group"
   ]
  },
  {
   "cell_type": "code",
   "execution_count": 105,
   "metadata": {},
   "outputs": [
    {
     "data": {
      "text/plain": [
       "array([0., 0., 0.])"
      ]
     },
     "execution_count": 105,
     "metadata": {},
     "output_type": "execute_result"
    }
   ],
   "source": [
    "vector_data[54175]"
   ]
  },
  {
   "cell_type": "code",
   "execution_count": 120,
   "metadata": {},
   "outputs": [
    {
     "name": "stdout",
     "output_type": "stream",
     "text": [
      "[nan nan nan]\n",
      "False\n"
     ]
    },
    {
     "name": "stderr",
     "output_type": "stream",
     "text": [
      "c:\\users\\eornr\\appdata\\local\\programs\\python\\python36\\lib\\site-packages\\ipykernel_launcher.py:83: RuntimeWarning: invalid value encountered in double_scalars\n"
     ]
    }
   ],
   "source": [
    "points40_with_error_on_plane = cal_points40_with_error_on_plane(point40_on_STL, \n",
    "                                                                get_data_with_index(select_vertex_index_raw, plane_data), \n",
    "                                                                get_data_with_index(select_vertex_index_raw, vector_data)) "
   ]
  },
  {
   "cell_type": "code",
   "execution_count": 106,
   "metadata": {},
   "outputs": [
    {
     "data": {
      "text/plain": [
       "40"
      ]
     },
     "execution_count": 106,
     "metadata": {},
     "output_type": "execute_result"
    }
   ],
   "source": [
    "len(points40_with_error_on_plane)"
   ]
  },
  {
   "cell_type": "code",
   "execution_count": 26,
   "metadata": {},
   "outputs": [
    {
     "data": {
      "text/plain": [
       "200920"
      ]
     },
     "execution_count": 26,
     "metadata": {},
     "output_type": "execute_result"
    }
   ],
   "source": [
    "len(plane_data)"
   ]
  },
  {
   "cell_type": "code",
   "execution_count": 27,
   "metadata": {},
   "outputs": [
    {
     "data": {
      "text/plain": [
       "200920"
      ]
     },
     "execution_count": 27,
     "metadata": {},
     "output_type": "execute_result"
    }
   ],
   "source": [
    "len(vector_data)"
   ]
  },
  {
   "cell_type": "code",
   "execution_count": 28,
   "metadata": {},
   "outputs": [
    {
     "data": {
      "text/plain": [
       "[array([ 2.27747835e-02,  4.83475905e-03,  2.32462107e-01, -9.68703636e+01]),\n",
       " array([ 1.08659683e-02,  2.37587066e-02,  2.00964535e-01, -8.37215503e+01]),\n",
       " array([-8.86114175e-03, -2.17787437e-02,  1.76957422e-01, -7.37681843e+01]),\n",
       " array([-1.00186376e-02, -3.70914647e-02,  2.41635362e-01, -1.00741140e+02]),\n",
       " array([ 2.20696413e-01,  1.75887430e-01,  1.15393474e+00, -4.81488655e+02]),\n",
       " array([ -0.08825849,  -0.24124593,  -0.55488568, -15.9675929 ]),\n",
       " array([ -0.09429373,  -0.20400113,  -0.4618455 , -13.81070475]),\n",
       " array([ 9.49259142e-02,  5.75679485e-02,  6.33335087e-01, -2.64098865e+02]),\n",
       " array([-0.03536645, -0.12588705, -0.24300773, -6.8584457 ]),\n",
       " array([ 1.87501536e-01, -5.17831836e-03,  9.52392782e-01, -3.97122786e+02]),\n",
       " array([-0.03148446, -0.02735313, -0.09277412, -3.11446592]),\n",
       " array([ 6.23894348e-02,  1.31921880e-02,  8.41224520e-01, -3.50520390e+02]),\n",
       " array([ 2.60058139e-03,  3.42548676e-02,  3.09263982e-01, -1.28859438e+02]),\n",
       " array([-1.20998359e-02,  3.29177175e-02,  2.06088992e-01, -8.58632589e+01]),\n",
       " array([ 6.13152611e-02, -2.16778368e-04,  1.57884750e+00, -6.57730877e+02]),\n",
       " array([ -0.06640349,  -0.14506267,  -0.51537756, -14.68397623]),\n",
       " array([ 1.25409232e-03,  2.87543898e-02,  4.93951308e-01, -2.05774567e+02]),\n",
       " array([  0.07155017,  -0.30213796,  -0.81092309, -18.38760885]),\n",
       " array([-1.04966718e-02,  2.61538345e-02,  1.66105706e-01, -6.92033935e+01]),\n",
       " array([-6.51617439e-02,  1.14313070e-01,  6.11990406e-01, -2.54967254e+02]),\n",
       " array([-3.79706490e-02, -3.12200489e-01, -1.79276822e+00, -4.67716077e+01]),\n",
       " array([ 5.17236942e-01,  7.12157618e-02,  3.40178913e+00, -1.41810349e+03]),\n",
       " array([-1.55561020e-02,  3.11447065e-02,  3.08344625e-01, -1.28446538e+02]),\n",
       " array([-2.76927971e-02,  4.06134501e-02,  3.78354250e-01, -1.57604816e+02]),\n",
       " array([-2.37737504e-02,  4.19247840e-02,  2.38306398e-01, -9.92806041e+01]),\n",
       " array([-5.83987489e-02,  9.26761888e-02,  5.01683046e-01, -2.09006789e+02]),\n",
       " array([-6.23516674e-02,  9.67733124e-02,  5.65332545e-01, -2.35513726e+02]),\n",
       " array([-3.88592060e-02,  5.70218824e-02,  5.31107678e-01, -2.21234819e+02]),\n",
       " array([-6.25852022e-02,  9.21270773e-02,  5.31010208e-01, -2.21218833e+02]),\n",
       " array([ -0.04253927,  -0.17431272,  -0.38611335, -10.63093733]),\n",
       " array([ -0.187533  ,  -0.14647008,  -1.3435588 , -39.1859792 ]),\n",
       " array([ 6.25229264e-02,  1.75444875e-02,  8.72127779e-02, -3.64798793e+01]),\n",
       " array([-0.04846055, -0.06066078, -0.16911675, -5.40217157]),\n",
       " array([-0.0149628 , -0.02380762, -0.08131897, -2.41583778]),\n",
       " array([ 1.07566991e-01,  1.56165603e-01,  2.13895473e+00, -8.91158103e+02]),\n",
       " array([ 0.00215864, -0.0169154 , -0.02600777, -0.58823967]),\n",
       " array([ -0.04957423,  -0.02492004,  -0.36295899, -10.7028933 ]),\n",
       " array([-7.09889957e-03,  4.94703399e-02,  9.91871280e-02, -4.13351675e+01]),\n",
       " array([-0.01851659, -0.01024579, -0.15274194, -4.44580218]),\n",
       " array([ 0.01946206, -0.08165697, -0.16721352, -3.59996994])]"
      ]
     },
     "execution_count": 28,
     "metadata": {},
     "output_type": "execute_result"
    }
   ],
   "source": [
    "get_data_with_index(select_vertex_index_raw, plane_data)"
   ]
  },
  {
   "cell_type": "code",
   "execution_count": 29,
   "metadata": {},
   "outputs": [
    {
     "data": {
      "text/plain": [
       "[array([0.09748431, 0.02069452, 0.99502188]),\n",
       " array([0.0536179 , 0.11723686, 0.99165553]),\n",
       " array([-0.04963873, -0.12200113,  0.99128789]),\n",
       " array([-0.04094742, -0.15159743,  0.98759371]),\n",
       " array([0.18578032, 0.14806052, 0.97137219]),\n",
       " array([-0.14433981, -0.39453873, -0.90747184]),\n",
       " array([-0.18358532, -0.39718032, -0.89919084]),\n",
       " array([0.14763163, 0.08953141, 0.98498178]),\n",
       " array([-0.12816027, -0.4561871 , -0.88060683]),\n",
       " array([ 0.19316347, -0.00533469,  0.981152  ]),\n",
       " array([-0.3095277 , -0.26891205, -0.91207391]),\n",
       " array([0.07395284, 0.01563726, 0.99713904]),\n",
       " array([0.00835753, 0.11008546, 0.99388695]),\n",
       " array([-0.05787961,  0.15746202,  0.98582739]),\n",
       " array([ 3.88062038e-02, -1.37198222e-04,  9.99246716e-01]),\n",
       " array([-0.12308204, -0.26888058, -0.95527691]),\n",
       " array([0.0025346 , 0.05811444, 0.99830675]),\n",
       " array([ 0.08239941, -0.34795153, -0.93388438]),\n",
       " array([-0.06230241,  0.15523462,  0.98591107]),\n",
       " array([-0.10409626,  0.18261577,  0.97765815]),\n",
       " array([-0.02086133, -0.17152505, -0.98495889]),\n",
       " array([0.15028863, 0.02069249, 0.98842561]),\n",
       " array([-0.05013185,  0.10036846,  0.99368656]),\n",
       " array([-0.07258275,  0.10644775,  0.99166554]),\n",
       " array([-0.09778154,  0.17243682,  0.98015523]),\n",
       " array([-0.11372624,  0.18047842,  0.97698206]),\n",
       " array([-0.10807405,  0.16773702,  0.97988999]),\n",
       " array([-0.07255651,  0.10646921,  0.99166512]),\n",
       " array([-0.11535075,  0.16979934,  0.97870451]),\n",
       " array([-0.09991195, -0.40940815, -0.90686417]),\n",
       " array([-0.13744038, -0.10734592, -0.98467612]),\n",
       " array([0.57501018, 0.16135296, 0.80207765]),\n",
       " array([-0.26041776, -0.32597953, -0.90880132]),\n",
       " array([-0.17389832, -0.27669328, -0.94509274]),\n",
       " array([0.05009304, 0.07272501, 0.99609321]),\n",
       " array([ 0.06941036, -0.54390782, -0.83626932]),\n",
       " array([-0.13501507, -0.06786956, -0.98851639]),\n",
       " array([-0.06391568,  0.44541138,  0.89304173]),\n",
       " array([-0.12008091, -0.0664444 , -0.99053812]),\n",
       " array([ 0.1040187 , -0.43643126, -0.89370453])]"
      ]
     },
     "execution_count": 29,
     "metadata": {},
     "output_type": "execute_result"
    }
   ],
   "source": [
    "get_data_with_index(select_vertex_index_raw, vector_data)"
   ]
  },
  {
   "cell_type": "code",
   "execution_count": null,
   "metadata": {},
   "outputs": [],
   "source": []
  },
  {
   "cell_type": "code",
   "execution_count": null,
   "metadata": {},
   "outputs": [],
   "source": []
  },
  {
   "cell_type": "code",
   "execution_count": null,
   "metadata": {},
   "outputs": [],
   "source": [
    "select_vertex_index_nearest = select_random_vertex_index(nearest_points40_with_error_on_plane, vertex_data)"
   ]
  },
  {
   "cell_type": "code",
   "execution_count": null,
   "metadata": {},
   "outputs": [],
   "source": [
    "nearest_points40_vector = get_data_with_index(select_vertex_index_nearest, vector_data)"
   ]
  },
  {
   "cell_type": "code",
   "execution_count": null,
   "metadata": {},
   "outputs": [],
   "source": [
    "points40_with_uncertainty_error = []\n",
    "\n",
    "for i in range(len(nearest_points40_with_error_on_plane)):\n",
    "    error_value = (random.randint(-6, 6) + random.random()) * 0.1\n",
    "    tmp_point = add_error_to_point_following_to_vector_dirct(nearest_points40_with_error_on_plane[i],\n",
    "                                                             error_value,\n",
    "                                                             nearest_points40_vector[i])\n",
    "\n",
    "    points40_with_uncertainty_error.append(tmp_point)"
   ]
  },
  {
   "cell_type": "code",
   "execution_count": null,
   "metadata": {},
   "outputs": [],
   "source": [
    "points400_with_uncertainty_error = []\n",
    "\n",
    "for i in range(len(points40_with_uncertainty_error)):\n",
    "    point = points40_with_uncertainty_error[i]\n",
    "    for j in range(10):\n",
    "        points400_with_uncertainty_error.append(add_mm_error_to_point(point, 0.5))"
   ]
  },
  {
   "cell_type": "code",
   "execution_count": null,
   "metadata": {},
   "outputs": [],
   "source": [
    "len(points400_with_uncertainty_error)"
   ]
  },
  {
   "cell_type": "code",
   "execution_count": 115,
   "metadata": {},
   "outputs": [],
   "source": [
    "with open(file_name, 'w') as file:\n",
    "    for i in range(len(points40_with_error_on_plane)):\n",
    "        tmp_point = points40_with_error_on_plane[i]\n",
    "        tmp_data_str = \"\"\n",
    "        for j in range(len(tmp_point)):\n",
    "            tmp_data_str += str(tmp_point[j])\n",
    "            if j < 2:\n",
    "                tmp_data_str += ', '\n",
    "            else:\n",
    "                tmp_data_str += '\\n'\n",
    "        file.write(tmp_data_str)"
   ]
  },
  {
   "cell_type": "code",
   "execution_count": null,
   "metadata": {},
   "outputs": [],
   "source": []
  }
 ],
 "metadata": {
  "kernelspec": {
   "display_name": "Python 3",
   "language": "python",
   "name": "python3"
  },
  "language_info": {
   "codemirror_mode": {
    "name": "ipython",
    "version": 3
   },
   "file_extension": ".py",
   "mimetype": "text/x-python",
   "name": "python",
   "nbconvert_exporter": "python",
   "pygments_lexer": "ipython3",
   "version": "3.6.8"
  }
 },
 "nbformat": 4,
 "nbformat_minor": 2
}
