{
 "cells": [
  {
   "cell_type": "markdown",
   "metadata": {},
   "source": [
    "### 반복해서 simulation point를 만드는 script 구현\n",
    "\n",
    " - 입력 : STL points, vertex, plane, normal vector,40 point (.npy), number of iter. (int)\n",
    " - 출력 : txt * number of iter."
   ]
  },
  {
   "cell_type": "code",
   "execution_count": 8,
   "metadata": {},
   "outputs": [],
   "source": [
    "import math\n",
    "import numpy as np\n",
    "import csv\n",
    "import random\n",
    "from sklearn.neighbors import KDTree"
   ]
  },
  {
   "cell_type": "code",
   "execution_count": 66,
   "metadata": {},
   "outputs": [],
   "source": [
    "def select_random_vertex_index(point40_on_STL, vertex_data):\n",
    "    vertex_group = []\n",
    "\n",
    "    for i in range(len(point40_on_STL)):\n",
    "        temp = []\n",
    "        for j in range(len(vertex_data)):\n",
    "            if point40_on_STL[i] in vertex_data[j]:\n",
    "                temp.append(j)\n",
    "        vertex_group.append(temp)\n",
    "\n",
    "    vertex_selected_index = []\n",
    "\n",
    "    for i in range(len(vertex_group)):\n",
    "        randomIndex = random.choice(vertex_group[i])\n",
    "        vertex_selected_index.append(randomIndex)\n",
    "        \n",
    "    return vertex_selected_index\n",
    "\n",
    "def random_vector(length = 1):\n",
    "    \"\"\"\n",
    "    make vector that have length in sphere\n",
    "    \"\"\"\n",
    "    rand_i, rand_j = np.random.rand(2)            # Two independent random numbers from a uniform distribution in the range (0, 1)\n",
    "    theta          = 2 * np.pi * rand_i           # Spherical coordinate theta\n",
    "    phi            = np.arccos(2 * rand_j - 1)    # Spherical coordinate phi, corrected for distribution bias\n",
    "    x              = np.cos(theta) * np.sin(phi)  # Cartesian coordinate x\n",
    "    y              = np.sin(theta) * np.sin(phi)  # Cartesian coordinate y\n",
    "    z              = np.cos(phi)                  # Cartesian coordinate z\n",
    "    vector         = [x*math.sqrt(length), y*math.sqrt(length), z*math.sqrt(length)]\n",
    "    return vector\n",
    "\n",
    "def add_mm_error_to_point(point, error = 20):\n",
    "    \"\"\"\n",
    "    input data structure\n",
    "    point = [x, y, z] # x, y, z unit = mm\n",
    "    \n",
    "    output data structure\n",
    "    point_added_error = [x', y', z']\n",
    "    \"\"\"\n",
    "    \n",
    "    point_added_error = point.copy()\n",
    "    \n",
    "    xyz_error = random_vector(error)\n",
    "\n",
    "    point_added_error[0] += xyz_error[0]\n",
    "    point_added_error[1] += xyz_error[1]\n",
    "    point_added_error[2] += xyz_error[2]\n",
    "    \n",
    "    return point_added_error\n",
    "\n",
    "def find_projection_point_in_plane_3D(point, plane, norm_vect):\n",
    "    \"\"\"\n",
    "    input data structure\n",
    "    point = [x, y, z]\n",
    "    plane = [a, b, c, d] # plane eq. = ax + by + cz + d = 0\n",
    "    norm_vect = [i, j, k]\n",
    "    \n",
    "    output data structure\n",
    "    True -> projected_point = [x', y', z']\n",
    "    False -> value of diff. with plane = float(d)\n",
    "    \"\"\"\n",
    "    \n",
    "    plane_ABC_sqrt = math.sqrt(plane[0]*plane[0] + plane[1]*plane[1] + plane[2]*plane[2])\n",
    "    dist = (plane[3] + plane[0] * point[0] + plane[1] * point[1] + plane[2] * point[2]) / plane_ABC_sqrt\n",
    "    projected_point = point - dist * norm_vect\n",
    "    \n",
    "    on_the_plane_value = plane[3] + plane[0] * projected_point[0] + plane[1] * projected_point[1] + plane[2] * projected_point[2]\n",
    "    \n",
    "    if 0.00001 > on_the_plane_value:\n",
    "        return projected_point\n",
    "    else:\n",
    "        return on_the_plane_value\n",
    "    \n",
    "def cal_points40_with_error_on_plane(point40_on_STL, vertex_selected):\n",
    "    points40_with_error_on_plane = []\n",
    "\n",
    "    data_point_40_slt = point40_on_STL.copy()\n",
    "\n",
    "    for i in range(len(data_point_40_slt)):\n",
    "        _point_added_error = add_mm_error_to_point(data_point_40_slt[i])\n",
    "        _point_on_plane = find_projection_point_in_plane_3D(_point_added_error, \n",
    "                                                            plane_data[vertex_selected[i]],\n",
    "                                                            vector_data[vertex_selected[i]])\n",
    "        if(type(_point_on_plane) == type(np.array([0]))):\n",
    "            points40_with_error_on_plane.append(_point_on_plane)\n",
    "        else:\n",
    "            print(_point_on_plane)\n",
    "            \n",
    "    return points40_with_error_on_plane\n",
    "\n",
    "def get_closet_points(ref_points, trg_points):\n",
    "    \"\"\"\n",
    "    input data structure\n",
    "    ref_points = [[xr0, yr0, zr0], ... [xrn, yrn, zrn]]\n",
    "    trg_points = [[xt0, yt0, zt0], ... [xtm, ytm, ztm]]\n",
    "    \n",
    "    output data structure (closet points in trg_points from ref_points)\n",
    "    closet_points = [[xc0, yc0, zc0], ... [xcn, ycn, zcn]]\n",
    "    \"\"\"\n",
    "    tree = KDTree(trg_points)\n",
    "    nearest_dist, nearest_ind = tree.query(ref_points, k=2)\n",
    "    \n",
    "    nearest_index = nearest_ind[:,1]\n",
    "    closet_points = []\n",
    "    \n",
    "    for i in range(len(nearest_index)):\n",
    "        closet_points.append(trg_points[nearest_index[i]])\n",
    "        \n",
    "    return closet_points\n",
    "    \n",
    "def find_vertex_and_vector_with_point(points, vertex_data, vector_data):\n",
    "    \"\"\"\n",
    "    input data structure\n",
    "    points = [[x0, y0, z0], ... [xn, yn, zn]]\n",
    "    vertex_data = [[[px00, py00, pz00], [px01, py01, pz01], [px02, py02, pz02]],\n",
    "                    ...,\n",
    "                   [[pxm0, pym0, pzm0], [pxm1, pym1, pzm1], [pxm2, pym2, pzm2]]]\n",
    "    vector_data = [[vx0, vy0, vz0], ... [vxm, vym, vzm]]\n",
    "    \n",
    "    output data structure\n",
    "    vertex_data = [[[px00, py00, pz00], [px01, py01, pz01], [px02, py02, pz02]],\n",
    "                    ...,\n",
    "                   [[pxn0, pyn0, pzn0], [pxn1, pyn1, pzn1], [pxn2, pyn2, pzn2]]]\n",
    "    vector_data = [[vx0, vy0, vz0], ... [vxn, vyn, vzn]]\n",
    "    \"\"\"\n",
    "    if len(vertex_data) != len(vector_data):\n",
    "        return False\n",
    "    \n",
    "    group_idx = []\n",
    "    \n",
    "    vertex_group = []\n",
    "    vector_group = []\n",
    "    \n",
    "    for i in range(len(points)):\n",
    "        temp = []\n",
    "        for j in range(len(vertex_data)):\n",
    "            if points[i] in vertex_data[j]:\n",
    "                temp.append(j)\n",
    "        group_idx.append(temp)\n",
    "    \n",
    "    for i in range(len(group_idx)):\n",
    "        vertex_group.append(vertex_data[group_idx[i]])\n",
    "        vector_group.append(vector_data[group_idx[i]])\n",
    "        \n",
    "    return vertex_group, vector_group\n",
    "    \n",
    "def add_error_to_point_following_to_vector_dirct(point, error_length, vector):\n",
    "    \"\"\"\n",
    "    input data structure\n",
    "    point = [x, y, z]\n",
    "    error_length = float (int)\n",
    "    vector = [unit x vct, unit y vct, unit z vct]\n",
    "    \n",
    "    output data structure\n",
    "    point_added_error_to_vector_direction = [xe, ye, ze]\n",
    "    \"\"\"\n",
    "    point_with_error = []\n",
    "    unit_error = []\n",
    "    \n",
    "    for i in range(len(point)):\n",
    "        unit_error.append(error_length * vector[i])\n",
    "    \n",
    "    for i in range(len(point)):\n",
    "        point_with_error.append(point[i] + unit_error[i])\n",
    "    \n",
    "    return point_with_error"
   ]
  },
  {
   "cell_type": "code",
   "execution_count": 22,
   "metadata": {},
   "outputs": [],
   "source": [
    "num_of_iter = 10\n",
    "\n",
    "num_of_files = 8\n",
    "\n",
    "STL_info_data_path = 'C:/Users/eornr/Desktop/source_crx/200331_point_gen/01_point_gen_in_STL/01_STL_data_to_npy/data'\n",
    "STL_info_data_prefix = ['/Fc1L', '/Tc1L', '/Fc1R', '/Tc1R',\n",
    "                        '/Fc2L', '/Tc2L', '/Fc2R', '/Tc2R']\n",
    "\n",
    "point40_data_path = 'C:/Users/eornr/Desktop/source_crx/200331_point_gen/01_point_gen_in_STL/02_raw_40_point/data'\n",
    "\n",
    "point40_processed_data_path = 'C:/Users/eornr/Desktop/source_crx/200331_point_gen/01_point_gen_in_STL/03_iter_points_gen/data'"
   ]
  },
  {
   "cell_type": "code",
   "execution_count": 84,
   "metadata": {},
   "outputs": [
    {
     "name": "stdout",
     "output_type": "stream",
     "text": [
      "C:/Users/eornr/Desktop/source_crx/200331_point_gen/01_point_gen_in_STL/03_iter_points_gen/data/Tc1L_0_point40_processed.txt\n"
     ]
    }
   ],
   "source": [
    "# check file name\n",
    "file_name = point40_processed_data_path + STL_info_data_prefix[1] + '_' + str(0) + '_point40_processed.txt'\n",
    "print(file_name)\n",
    "\n",
    "# load raw data\n",
    "point40_on_STL = np.load(point40_data_path + STL_info_data_prefix[1] + 'points_40_selected.npy')\n",
    "each_point_data = np.load(STL_info_data_path + STL_info_data_prefix[1] + '_femur_each_point_data.npy')\n",
    "vertex_data = np.load(STL_info_data_path + STL_info_data_prefix[1] + '_femur_vertex_data.npy')\n",
    "plane_data = np.load(STL_info_data_path + STL_info_data_prefix[1] + '_femur_plane_data.npy')\n",
    "vector_data = np.load(STL_info_data_path + STL_info_data_prefix[1] + '_femur_vector_data.npy')"
   ]
  },
  {
   "cell_type": "code",
   "execution_count": 85,
   "metadata": {},
   "outputs": [],
   "source": [
    "# gen point\n",
    "select_vertex_index = select_random_vertex_index(point40_on_STL, vertex_data)"
   ]
  },
  {
   "cell_type": "code",
   "execution_count": 86,
   "metadata": {},
   "outputs": [],
   "source": [
    "points40_with_error_on_plane = cal_points40_with_error_on_plane(point40_on_STL, select_vertex_index) "
   ]
  },
  {
   "cell_type": "code",
   "execution_count": 87,
   "metadata": {},
   "outputs": [],
   "source": [
    "nearest_points40_with_error_on_plane = get_closet_points(points40_with_error_on_plane, each_point_data)\n",
    "_, nearest_points40_vector = find_vertex_and_vector_with_point(nearest_points40_with_error_on_plane, \n",
    "                                                               vertex_data, \n",
    "                                                               vector_data)\n",
    "\n",
    "nearest_points40_vector_selected = []\n",
    "\n",
    "for i in range(len(nearest_points40_vector)):\n",
    "    randomIndex = random.choice(nearest_points40_vector[i])\n",
    "    nearest_points40_vector_selected.append(randomIndex)"
   ]
  },
  {
   "cell_type": "code",
   "execution_count": 88,
   "metadata": {},
   "outputs": [],
   "source": [
    "points40_with_uncertainty_error = []\n",
    "\n",
    "for i in range(len(nearest_points40_with_error_on_plane)):\n",
    "    error_value = (random.randint(-6, 6) + random.random()) * 0.1\n",
    "    tmp_point = add_error_to_point_following_to_vector_dirct(nearest_points40_with_error_on_plane[i],\n",
    "                                                             error_value,\n",
    "                                                             nearest_points40_vector_selected[i])\n",
    "\n",
    "    points40_with_uncertainty_error.append(tmp_point)"
   ]
  },
  {
   "cell_type": "code",
   "execution_count": 89,
   "metadata": {},
   "outputs": [
    {
     "data": {
      "text/plain": [
       "[[-21.25312374756936, 14.09837796043731, 10.987515333397416],\n",
       " [-39.820928590870516, -0.3888019917636515, 9.315367086917771],\n",
       " [-31.15892581082236, -14.616562599668377, 11.34586812090848],\n",
       " [-20.226279442246156, -14.868820131665125, 13.748324116738784],\n",
       " [-17.461789104214965, -4.220383741521144, 13.281260347488963],\n",
       " [-0.01602448239599636, -9.630890153378198, 19.780872339663155],\n",
       " [-1.4849650226838342, -11.38651129610193, 19.80246078234971],\n",
       " [-8.892287936813043, -19.000537097155256, 18.124579209648193],\n",
       " [11.289034170807298, -18.30458677124422, 17.502019068176313],\n",
       " [4.185781838187349, -3.97946123144109, 17.801318629300717],\n",
       " [5.971380379476239, 18.45612780708347, 16.388137084357666],\n",
       " [12.232812635800759, 5.789586556962835, 18.165775889399946],\n",
       " [25.98665998645765, -2.84109243870738, 17.772870844163187],\n",
       " [30.69072590031646, 9.496456790154497, 17.46451779380978],\n",
       " [25.104978463347088, 22.114913018027316, 15.64135253417792],\n",
       " [-30.981375507725478, -11.354007585268054, -11.692674844154729],\n",
       " [-10.758173394157113, -30.76208057559338, 1.3475278431559314],\n",
       " [-9.869127295863498, -29.750724975594004, 8.290276713666444],\n",
       " [-18.592635828784648, -17.141824911727863, -16.669707446001333],\n",
       " [-12.481518226819533, -29.957074384120013, 1.4305026205272706],\n",
       " [7.467384123017688, -27.98117795556326, 10.366722611724553],\n",
       " [8.938943279590225, -27.59977532009974, -31.220369620636244],\n",
       " [5.067522770149899, -27.157275749342592, -25.642831087651828],\n",
       " [9.110315728467551, -32.2414595492739, -13.966168284944672],\n",
       " [12.053813748225878, -30.729236368220878, -6.467504176787865],\n",
       " [19.82068054829954, -28.734925182488944, -10.874949133058259],\n",
       " [26.30393891824206, -22.58013427270011, -11.677197127621033],\n",
       " [28.120732225824856, -24.919835618969838, -38.651937779968534],\n",
       " [17.777277193590997, -32.01363939850585, -21.079165729343543],\n",
       " [17.340425260550063, -31.37733499626268, -12.752560852416615],\n",
       " [-24.304245409721805, -25.689168963462382, 4.371118404505374],\n",
       " [-1.9795913441507893, -29.874223654828022, 12.212438762761865],\n",
       " [19.01126276338, -21.81929971276491, 8.624364458521377],\n",
       " [32.878114347387424, -12.049620805803016, 12.388864949502516],\n",
       " [-0.08683500561709571, -30.87582164316381, 1.0575742661238532],\n",
       " [19.44644498901936, -24.386479717987118, 3.2624842739442856],\n",
       " [27.91783567647984, -18.063908088364418, 6.540132452927892],\n",
       " [2.057399627169693, -30.10215782322579, -9.922058491301216],\n",
       " [9.732774830174154, -30.325996358011604, -3.495855238611575],\n",
       " [25.833671639691737, -19.710677476840257, -1.155676765842951]]"
      ]
     },
     "execution_count": 89,
     "metadata": {},
     "output_type": "execute_result"
    }
   ],
   "source": [
    "points40_with_uncertainty_error"
   ]
  },
  {
   "cell_type": "code",
   "execution_count": 90,
   "metadata": {},
   "outputs": [
    {
     "data": {
      "text/plain": [
       "40"
      ]
     },
     "execution_count": 90,
     "metadata": {},
     "output_type": "execute_result"
    }
   ],
   "source": [
    "len(points40_with_uncertainty_error)"
   ]
  },
  {
   "cell_type": "code",
   "execution_count": null,
   "metadata": {},
   "outputs": [],
   "source": []
  },
  {
   "cell_type": "code",
   "execution_count": null,
   "metadata": {},
   "outputs": [],
   "source": []
  },
  {
   "cell_type": "code",
   "execution_count": null,
   "metadata": {},
   "outputs": [],
   "source": []
  },
  {
   "cell_type": "code",
   "execution_count": null,
   "metadata": {},
   "outputs": [],
   "source": []
  },
  {
   "cell_type": "code",
   "execution_count": null,
   "metadata": {},
   "outputs": [],
   "source": []
  },
  {
   "cell_type": "code",
   "execution_count": null,
   "metadata": {},
   "outputs": [],
   "source": []
  },
  {
   "cell_type": "code",
   "execution_count": 16,
   "metadata": {},
   "outputs": [
    {
     "name": "stdout",
     "output_type": "stream",
     "text": [
      "C:/Users/eornr/Desktop/source_crx/200331_point_gen/01_point_gen_in_STL/03_iter_points_gen/data/Fc1L_0_point40_processed.txt\n"
     ]
    },
    {
     "ename": "TypeError",
     "evalue": "only size-1 arrays can be converted to Python scalars",
     "output_type": "error",
     "traceback": [
      "\u001b[1;31m---------------------------------------------------------------------------\u001b[0m",
      "\u001b[1;31mTypeError\u001b[0m                                 Traceback (most recent call last)",
      "\u001b[1;32m<ipython-input-16-ec1dce10e74c>\u001b[0m in \u001b[0;36m<module>\u001b[1;34m\u001b[0m\n\u001b[0;32m     16\u001b[0m                                                                                        \u001b[0mvertex_data\u001b[0m\u001b[1;33m,\u001b[0m\u001b[1;33m\u001b[0m\u001b[1;33m\u001b[0m\u001b[0m\n\u001b[0;32m     17\u001b[0m                                                                                        vector_data)\n\u001b[1;32m---> 18\u001b[1;33m         \u001b[0mpoints40_with_error_on_plane\u001b[0m \u001b[1;33m=\u001b[0m \u001b[0mcal_points40_with_error_on_plane\u001b[0m\u001b[1;33m(\u001b[0m\u001b[0mpoint40_on_STL\u001b[0m\u001b[1;33m,\u001b[0m \u001b[0mvertex_data_selected\u001b[0m\u001b[1;33m,\u001b[0m \u001b[0mvector_data_selected\u001b[0m\u001b[1;33m)\u001b[0m\u001b[1;33m\u001b[0m\u001b[1;33m\u001b[0m\u001b[0m\n\u001b[0m\u001b[0;32m     19\u001b[0m         \u001b[0mnearest_points40_with_error_on_plane\u001b[0m \u001b[1;33m=\u001b[0m \u001b[0mget_closet_points\u001b[0m\u001b[1;33m(\u001b[0m\u001b[0mpoints40_with_error_on_plane\u001b[0m\u001b[1;33m,\u001b[0m \u001b[0meach_point_data\u001b[0m\u001b[1;33m)\u001b[0m\u001b[1;33m\u001b[0m\u001b[1;33m\u001b[0m\u001b[0m\n\u001b[0;32m     20\u001b[0m         nearest_points40_vector = find_vertex_and_vector_with_point(nearest_points40_with_error_on_plane, \n",
      "\u001b[1;32m<ipython-input-13-c091313496dc>\u001b[0m in \u001b[0;36mcal_points40_with_error_on_plane\u001b[1;34m(point40_on_STL, vertex_selected, vector_selected)\u001b[0m\n\u001b[0;32m     81\u001b[0m         _point_on_plane = find_projection_point_in_plane_3D(_point_added_error, \n\u001b[0;32m     82\u001b[0m                                                              \u001b[0mvertex_selected\u001b[0m\u001b[1;33m[\u001b[0m\u001b[0mi\u001b[0m\u001b[1;33m]\u001b[0m\u001b[1;33m,\u001b[0m\u001b[1;33m\u001b[0m\u001b[1;33m\u001b[0m\u001b[0m\n\u001b[1;32m---> 83\u001b[1;33m                                                              vector_selected[i])\n\u001b[0m\u001b[0;32m     84\u001b[0m         \u001b[1;32mif\u001b[0m\u001b[1;33m(\u001b[0m\u001b[0mtype\u001b[0m\u001b[1;33m(\u001b[0m\u001b[0m_point_on_plane\u001b[0m\u001b[1;33m)\u001b[0m \u001b[1;33m==\u001b[0m \u001b[0mtype\u001b[0m\u001b[1;33m(\u001b[0m\u001b[0mnp\u001b[0m\u001b[1;33m.\u001b[0m\u001b[0marray\u001b[0m\u001b[1;33m(\u001b[0m\u001b[1;33m[\u001b[0m\u001b[1;36m0\u001b[0m\u001b[1;33m]\u001b[0m\u001b[1;33m)\u001b[0m\u001b[1;33m)\u001b[0m\u001b[1;33m)\u001b[0m\u001b[1;33m:\u001b[0m\u001b[1;33m\u001b[0m\u001b[1;33m\u001b[0m\u001b[0m\n\u001b[0;32m     85\u001b[0m             \u001b[0mpoints40_with_error_on_plane\u001b[0m\u001b[1;33m.\u001b[0m\u001b[0mappend\u001b[0m\u001b[1;33m(\u001b[0m\u001b[0m_point_on_plane\u001b[0m\u001b[1;33m)\u001b[0m\u001b[1;33m\u001b[0m\u001b[1;33m\u001b[0m\u001b[0m\n",
      "\u001b[1;32m<ipython-input-13-c091313496dc>\u001b[0m in \u001b[0;36mfind_projection_point_in_plane_3D\u001b[1;34m(point, plane, norm_vect)\u001b[0m\n\u001b[0;32m     61\u001b[0m     \"\"\"\n\u001b[0;32m     62\u001b[0m \u001b[1;33m\u001b[0m\u001b[0m\n\u001b[1;32m---> 63\u001b[1;33m     \u001b[0mplane_ABC_sqrt\u001b[0m \u001b[1;33m=\u001b[0m \u001b[0mmath\u001b[0m\u001b[1;33m.\u001b[0m\u001b[0msqrt\u001b[0m\u001b[1;33m(\u001b[0m\u001b[0mplane\u001b[0m\u001b[1;33m[\u001b[0m\u001b[1;36m0\u001b[0m\u001b[1;33m]\u001b[0m\u001b[1;33m*\u001b[0m\u001b[0mplane\u001b[0m\u001b[1;33m[\u001b[0m\u001b[1;36m0\u001b[0m\u001b[1;33m]\u001b[0m \u001b[1;33m+\u001b[0m \u001b[0mplane\u001b[0m\u001b[1;33m[\u001b[0m\u001b[1;36m1\u001b[0m\u001b[1;33m]\u001b[0m\u001b[1;33m*\u001b[0m\u001b[0mplane\u001b[0m\u001b[1;33m[\u001b[0m\u001b[1;36m1\u001b[0m\u001b[1;33m]\u001b[0m \u001b[1;33m+\u001b[0m \u001b[0mplane\u001b[0m\u001b[1;33m[\u001b[0m\u001b[1;36m2\u001b[0m\u001b[1;33m]\u001b[0m\u001b[1;33m*\u001b[0m\u001b[0mplane\u001b[0m\u001b[1;33m[\u001b[0m\u001b[1;36m2\u001b[0m\u001b[1;33m]\u001b[0m\u001b[1;33m)\u001b[0m\u001b[1;33m\u001b[0m\u001b[1;33m\u001b[0m\u001b[0m\n\u001b[0m\u001b[0;32m     64\u001b[0m     \u001b[0mdist\u001b[0m \u001b[1;33m=\u001b[0m \u001b[1;33m(\u001b[0m\u001b[0mplane\u001b[0m\u001b[1;33m[\u001b[0m\u001b[1;36m3\u001b[0m\u001b[1;33m]\u001b[0m \u001b[1;33m+\u001b[0m \u001b[0mplane\u001b[0m\u001b[1;33m[\u001b[0m\u001b[1;36m0\u001b[0m\u001b[1;33m]\u001b[0m \u001b[1;33m*\u001b[0m \u001b[0mpoint\u001b[0m\u001b[1;33m[\u001b[0m\u001b[1;36m0\u001b[0m\u001b[1;33m]\u001b[0m \u001b[1;33m+\u001b[0m \u001b[0mplane\u001b[0m\u001b[1;33m[\u001b[0m\u001b[1;36m1\u001b[0m\u001b[1;33m]\u001b[0m \u001b[1;33m*\u001b[0m \u001b[0mpoint\u001b[0m\u001b[1;33m[\u001b[0m\u001b[1;36m1\u001b[0m\u001b[1;33m]\u001b[0m \u001b[1;33m+\u001b[0m \u001b[0mplane\u001b[0m\u001b[1;33m[\u001b[0m\u001b[1;36m2\u001b[0m\u001b[1;33m]\u001b[0m \u001b[1;33m*\u001b[0m \u001b[0mpoint\u001b[0m\u001b[1;33m[\u001b[0m\u001b[1;36m2\u001b[0m\u001b[1;33m]\u001b[0m\u001b[1;33m)\u001b[0m \u001b[1;33m/\u001b[0m \u001b[0mplane_ABC_sqrt\u001b[0m\u001b[1;33m\u001b[0m\u001b[1;33m\u001b[0m\u001b[0m\n\u001b[0;32m     65\u001b[0m     \u001b[0mprojected_point\u001b[0m \u001b[1;33m=\u001b[0m \u001b[0mpoint\u001b[0m \u001b[1;33m-\u001b[0m \u001b[0mdist\u001b[0m \u001b[1;33m*\u001b[0m \u001b[0mnorm_vect\u001b[0m\u001b[1;33m\u001b[0m\u001b[1;33m\u001b[0m\u001b[0m\n",
      "\u001b[1;31mTypeError\u001b[0m: only size-1 arrays can be converted to Python scalars"
     ]
    }
   ],
   "source": [
    "for iter_ in range(num_of_iter):\n",
    "    for nof in range(num_of_files):\n",
    "        # check file name\n",
    "        file_name = point40_processed_data_path + STL_info_data_prefix[nof] + '_' + str(iter_) + '_point40_processed.txt'\n",
    "        print(file_name)\n",
    "        \n",
    "        # load raw data\n",
    "        point40_on_STL = np.load(point40_data_path + STL_info_data_prefix[nof] + 'points_40_selected.npy')\n",
    "        each_point_data = np.load(STL_info_data_path + STL_info_data_prefix[nof] + '_femur_each_point_data.npy')\n",
    "        vertex_data = np.load(STL_info_data_path + STL_info_data_prefix[nof] + '_femur_vertex_data.npy')\n",
    "        plane_data = np.load(STL_info_data_path + STL_info_data_prefix[nof] + '_femur_plane_data.npy')\n",
    "        vector_data = np.load(STL_info_data_path + STL_info_data_prefix[nof] + '_femur_vector_data.npy')\n",
    "        \n",
    "        # gen point\n",
    "        vertex_data_selected, vector_data_selected = find_vertex_and_vector_with_point(point40_on_STL, \n",
    "                                                                                       vertex_data, \n",
    "                                                                                       vector_data)\n",
    "        points40_with_error_on_plane = cal_points40_with_error_on_plane(point40_on_STL, vertex_data_selected, vector_data_selected) \n",
    "        nearest_points40_with_error_on_plane = get_closet_points(points40_with_error_on_plane, each_point_data)\n",
    "        nearest_points40_vector = find_vertex_and_vector_with_point(nearest_points40_with_error_on_plane, \n",
    "                                                                    vertex_data, \n",
    "                                                                    vector_data)[1]\n",
    "        \n",
    "        points40_with_uncertainty_error = []\n",
    "\n",
    "        for i in range(len(nearest_points40_with_error_on_plane)):\n",
    "            error_value = (random.randint(-6, 6) + random.random()) * 0.1\n",
    "            tmp_point = add_error_to_point_following_to_vector_dirct(nearest_points40_with_error_on_plane[i],\n",
    "                                                                     error_value,\n",
    "                                                                     nearest_points40_vector[i])\n",
    "            points40_with_uncertainty_error.append(tmp_point)\n",
    "            \n",
    "        #save data        \n",
    "        with open(file_name, 'w') as file:\n",
    "            for i in range(len(points40_with_uncertainty_error)):\n",
    "                tmp_point = points40_with_uncertainty_error[i]\n",
    "                tmp_data_str = \"\"\n",
    "                for j in range(len(tmp_point)):\n",
    "                    tmp_data_str += str(tmp_point[j])\n",
    "                    if j < 2:\n",
    "                        tmp_data_str += ', '\n",
    "                    else:\n",
    "                        tmp_data_str += '\\n'\n",
    "                file.write(tmp_data_str)"
   ]
  },
  {
   "cell_type": "code",
   "execution_count": null,
   "metadata": {},
   "outputs": [],
   "source": []
  }
 ],
 "metadata": {
  "kernelspec": {
   "display_name": "Python 3",
   "language": "python",
   "name": "python3"
  },
  "language_info": {
   "codemirror_mode": {
    "name": "ipython",
    "version": 3
   },
   "file_extension": ".py",
   "mimetype": "text/x-python",
   "name": "python",
   "nbconvert_exporter": "python",
   "pygments_lexer": "ipython3",
   "version": "3.6.8"
  }
 },
 "nbformat": 4,
 "nbformat_minor": 2
}
