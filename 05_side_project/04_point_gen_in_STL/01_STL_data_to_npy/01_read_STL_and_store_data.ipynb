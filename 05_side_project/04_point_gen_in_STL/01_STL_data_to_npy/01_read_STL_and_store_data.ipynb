{
 "cells": [
  {
   "cell_type": "markdown",
   "metadata": {},
   "source": [
    "### STL 파일을 읽고 변수에 저장해두기\n",
    "\n",
    " - 중복 없이 point들만 저장\n",
    " \n",
    " - vector값과 3개의 point 그리고 vertex를 포함하는 plane을 함께 저장"
   ]
  },
  {
   "cell_type": "markdown",
   "metadata": {},
   "source": [
    "###### 읽고자 하는 파일 이름 세팅 및 변수 세팅"
   ]
  },
  {
   "cell_type": "code",
   "execution_count": 1,
   "metadata": {},
   "outputs": [],
   "source": [
    "# set STL file path\n",
    "# C:/Users/eornr/Desktop/source_crx/200325_registration_valid_test_cadaver_data\n",
    "dir_path = \"C:/Users/eornr/Desktop/source_crx/200325_registration_valid_test_cadaver_data/\"\n",
    "file_name = \"Femur_bone_c1L.stl\"\n",
    "file_path = dir_path + file_name"
   ]
  },
  {
   "cell_type": "code",
   "execution_count": 2,
   "metadata": {},
   "outputs": [],
   "source": [
    "# store each point \n",
    "each_point_data = []\n",
    "\n",
    "# store plane with each info.\n",
    "vertex_data = []\n",
    "plane_data = []\n",
    "vector_data = []\n",
    "### menu_dict = dict(zip(drink_list, price_list))"
   ]
  },
  {
   "cell_type": "markdown",
   "metadata": {},
   "source": [
    "###### 사용할 함수들 정의"
   ]
  },
  {
   "cell_type": "code",
   "execution_count": 3,
   "metadata": {},
   "outputs": [],
   "source": [
    "def get_equation_plane_from_3points(points3list):  \n",
    "    x1 = points3list[0][0]\n",
    "    y1 = points3list[0][1]\n",
    "    z1 = points3list[0][2]\n",
    "    x2 = points3list[1][0]\n",
    "    y2 = points3list[1][1]\n",
    "    z2 = points3list[1][2]\n",
    "    x3 = points3list[2][0]\n",
    "    y3 = points3list[2][1]\n",
    "    z3 = points3list[2][2]\n",
    "    \n",
    "    a1 = x2 - x1 \n",
    "    b1 = y2 - y1 \n",
    "    c1 = z2 - z1 \n",
    "    a2 = x3 - x1 \n",
    "    b2 = y3 - y1 \n",
    "    c2 = z3 - z1 \n",
    "    \n",
    "    a = b1 * c2 - b2 * c1 \n",
    "    b = a2 * c1 - a1 * c2 \n",
    "    c = a1 * b2 - b1 * a2 \n",
    "    d = (- a * x1 - b * y1 - c * z1) \n",
    "    \n",
    "    return [a, b, c, d]"
   ]
  },
  {
   "cell_type": "markdown",
   "metadata": {},
   "source": [
    "###### STL 파일을 읽어드리고 각 해당 변수에 저장\n",
    "\n",
    " - 긴 시간이 소요\n",
    " \n",
    " - 일부 데이터만 추출하여 테스트를 진행할 필요가 있음"
   ]
  },
  {
   "cell_type": "code",
   "execution_count": 4,
   "metadata": {},
   "outputs": [
    {
     "name": "stdout",
     "output_type": "stream",
     "text": [
      "number of facets : 200920\n",
      "   \n"
     ]
    }
   ],
   "source": [
    "import struct\n",
    "\n",
    "# read STL file using open() with 'rb' keyword (rb : read binary)\n",
    "with open(file_path, \"rb\") as parse :\n",
    "    \n",
    "    # first 80 bytes : header\n",
    "    head = parse.read(80)\n",
    "    \n",
    "    # 4 bytes : number of facets in file\n",
    "    num_of_triangles_raw = parse.read(4)\n",
    "    # 4 bytes to unsigned long int\n",
    "    num_of_triangles=struct.unpack(\"<L\", num_of_triangles_raw)\n",
    "    print(\"number of facets : \" + str(num_of_triangles[0]))\n",
    "    print(\"   \")\n",
    "    \n",
    "    for i in range(int(num_of_triangles[0])):\n",
    "        # print(\"facet number : \" + str(i))\n",
    "        \n",
    "        ### normal vector\n",
    "        # 1) 4 * 3 = normal (i, j, k)\n",
    "        _data_tmp = []\n",
    "        for ii in range(3):\n",
    "            linedata = parse.read(4)\n",
    "            # 4 bytes to float\n",
    "            linedata = struct.unpack(\"<f\", linedata)\n",
    "            _data_tmp.append(float(linedata[0]))\n",
    "        vector_data.append(_data_tmp)\n",
    "            \n",
    "        ### vertex points\n",
    "        _data_vtx_tmp = []\n",
    "        # 2) 4 * 3 = vertex 1 (x, y, z)\n",
    "        _data_tmp = []\n",
    "        for ii in range(3):\n",
    "            linedata = parse.read(4)\n",
    "            # 4 bytes to float\n",
    "            linedata = struct.unpack(\"<f\", linedata)\n",
    "            _data_tmp.append(float(linedata[0]))\n",
    "        _data_vtx_tmp.append(_data_tmp) \n",
    "        if _data_tmp in each_point_data:\n",
    "            pass\n",
    "        else:\n",
    "            each_point_data.append(_data_tmp)\n",
    "        \n",
    "        # 3) 4 * 3 = vertex 2 (x, y, z)\n",
    "        _data_tmp = []\n",
    "        for ii in range(3):\n",
    "            linedata = parse.read(4)\n",
    "            # 4 bytes to float\n",
    "            linedata = struct.unpack(\"<f\", linedata)\n",
    "            _data_tmp.append(float(linedata[0]))\n",
    "        _data_vtx_tmp.append(_data_tmp) \n",
    "        if _data_tmp in each_point_data:\n",
    "            pass\n",
    "        else:\n",
    "            each_point_data.append(_data_tmp)\n",
    "            \n",
    "        # 4) 4 * 3 = vertex 3 (x, y, z)\n",
    "        _data_tmp = []\n",
    "        for ii in range(3):\n",
    "            linedata = parse.read(4)\n",
    "            # 4 bytes to float\n",
    "            linedata = struct.unpack(\"<f\", linedata)\n",
    "            _data_tmp.append(float(linedata[0]))\n",
    "        _data_vtx_tmp.append(_data_tmp) \n",
    "        if _data_tmp in each_point_data:\n",
    "            pass\n",
    "        else:\n",
    "            each_point_data.append(_data_tmp)\n",
    "        \n",
    "        vertex_data.append(_data_vtx_tmp)\n",
    "        plane_data.append(get_equation_plane_from_3points(_data_vtx_tmp))\n",
    "            \n",
    "        # attribute\n",
    "        for iii in range(1):\n",
    "            linedata=parse.read(2)\n",
    "            # 2 bytes to unsigned int\n",
    "            linedata=struct.unpack(\"<H\", linedata)\n",
    "        # print(\"   \")"
   ]
  },
  {
   "cell_type": "markdown",
   "metadata": {},
   "source": [
    "###### obj file 값으로 같음을 확인 ... 검증!\n",
    "\n",
    " - STL file을 ASCII type의 OBJ로 저장하여 head 부분의 값이 아래의 항목과 일치함을 확인\n",
    " \n",
    " - 이러한 방법으로 parsing 작업에는 문제가 없음을 확인 ... 검증!"
   ]
  },
  {
   "cell_type": "code",
   "execution_count": 5,
   "metadata": {},
   "outputs": [
    {
     "name": "stdout",
     "output_type": "stream",
     "text": [
      "100461\n",
      "200920\n",
      "200920\n",
      "200920\n"
     ]
    }
   ],
   "source": [
    "print(len(each_point_data))\n",
    "\n",
    "print(len(vertex_data))\n",
    "print(len(plane_data))\n",
    "print(len(vector_data))"
   ]
  },
  {
   "cell_type": "markdown",
   "metadata": {},
   "source": [
    "###### npy로 저장해두기\n",
    "\n",
    " - STL file을 parsing하는데 시간이 많이 소요 ... 약 20분\n",
    " \n",
    " - 읽어드린 데이터를 npy로 저장하여 이를 읽어 효율적으로 관리"
   ]
  },
  {
   "cell_type": "code",
   "execution_count": 6,
   "metadata": {},
   "outputs": [],
   "source": [
    "# make_prefix\n",
    "prefix = ''\n",
    "\n",
    "if 'Femur' in file_path:\n",
    "    prefix += 'F'\n",
    "elif 'Tibia' in file_path:\n",
    "    prefix += 'T'\n",
    "    \n",
    "prefix += file_path[-7:-4]"
   ]
  },
  {
   "cell_type": "code",
   "execution_count": 7,
   "metadata": {},
   "outputs": [],
   "source": [
    "export_dir_path = 'data/'"
   ]
  },
  {
   "cell_type": "code",
   "execution_count": 8,
   "metadata": {},
   "outputs": [],
   "source": [
    "import numpy as np\n",
    "\n",
    "np.save(export_dir_path + prefix +'_femur_each_point_data', np.array(each_point_data))\n",
    "np.save(export_dir_path + prefix +'_femur_vertex_data', np.array(vertex_data))\n",
    "np.save(export_dir_path + prefix +'_femur_plane_data', np.array(plane_data))\n",
    "np.save(export_dir_path + prefix +'_femur_vector_data', np.array(vector_data))"
   ]
  },
  {
   "cell_type": "code",
   "execution_count": null,
   "metadata": {},
   "outputs": [],
   "source": []
  }
 ],
 "metadata": {
  "kernelspec": {
   "display_name": "Python 3",
   "language": "python",
   "name": "python3"
  },
  "language_info": {
   "codemirror_mode": {
    "name": "ipython",
    "version": 3
   },
   "file_extension": ".py",
   "mimetype": "text/x-python",
   "name": "python",
   "nbconvert_exporter": "python",
   "pygments_lexer": "ipython3",
   "version": "3.6.8"
  }
 },
 "nbformat": 4,
 "nbformat_minor": 2
}
