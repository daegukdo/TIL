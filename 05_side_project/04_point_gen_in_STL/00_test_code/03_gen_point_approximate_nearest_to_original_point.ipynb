{
 "cells": [
  {
   "cell_type": "markdown",
   "metadata": {},
   "source": [
    "### 같은 평면상에 있는 error가 추가된 points\n",
    "\n",
    " - 이전 단계에서 수행한 points를 다시 load\n",
    " \n",
    " - 또한 기존의 STL data로 만들어진 point로부터 최근접 point를 찾기 위해서 다시 load "
   ]
  },
  {
   "cell_type": "code",
   "execution_count": 17,
   "metadata": {},
   "outputs": [],
   "source": [
    "import numpy as np\n",
    "\n",
    "# 다시 읽어드리기\n",
    "\n",
    "each_point_data = np.load('data/femur_each_point_data.npy')\n",
    "points40_with_error_on_plane = np.load('data/points40_with_error_on_plane.npy')"
   ]
  },
  {
   "cell_type": "markdown",
   "metadata": {},
   "source": [
    "###### 최근접 점 찾기\n",
    "\n",
    " - STL points data로부터 최근접 point를 찾기\n",
    " \n",
    " - kd tree 방법을 사용\n",
    " \n",
    " - ref\n",
    " \n",
    " > https://stackoverflow.com/questions/48126771/nearest-neighbour-search-kdtree"
   ]
  },
  {
   "cell_type": "code",
   "execution_count": 18,
   "metadata": {},
   "outputs": [],
   "source": [
    "import math\n",
    "from sklearn.neighbors import KDTree"
   ]
  },
  {
   "cell_type": "code",
   "execution_count": 19,
   "metadata": {},
   "outputs": [
    {
     "name": "stdout",
     "output_type": "stream",
     "text": [
      "[2.71071472 2.93015618 2.66547745 1.09707971 1.83525775 0.81447184\n",
      " 2.88230861 1.08016363 1.30728635 0.58131063 1.33546675 2.359163\n",
      " 1.29720958 4.69117388 1.56041168 1.00159714 0.77455454 1.26429537\n",
      " 0.97432329 1.64319471 3.09558545 0.78734078 1.30839626 0.91009284\n",
      " 0.90700055 0.66877921 2.37557565 1.78203921 2.33935502 1.24234993\n",
      " 0.43008194 1.71094157 0.70563205 2.29714374 2.56194244 0.39556087\n",
      " 0.81782344 1.3649553  0.86587371 0.87310908]\n",
      "[ 2812 21974 31866 16671 46593 21706  8932  6232  8627 16174 24663 16936\n",
      " 12020  4618 10087 28886 55534 33746 42368 37740 54240 24983 51204 22384\n",
      " 54137 26700 34479 32144 28480 55328 93821 57735 51747 92591 77346 76072\n",
      " 92157 93569 74890 47731]\n"
     ]
    }
   ],
   "source": [
    "# 근접한 점을 찾기위한 데이터 그룹 A로 tree 생성\n",
    "tree = KDTree(each_point_data)\n",
    "\n",
    "# 근접한 점을 찾기위한 대상 데이터 그룹 B를 tree.query에 입력 값으로 사용\n",
    "nearest_dist, nearest_ind = tree.query(points40_with_error_on_plane, k=2)  # k=2 nearest neighbors where k1 = identity\n",
    "\n",
    "# 대상 B로부터 가장 가까운 A 내의 점과의 거리 \n",
    "print(nearest_dist[:, 1])\n",
    "\n",
    "# 대상 B로부터 가장 가까운 A 그룹 내의 점의 인덱스 \n",
    "print(nearest_ind[:, 1])"
   ]
  },
  {
   "cell_type": "code",
   "execution_count": 20,
   "metadata": {},
   "outputs": [],
   "source": [
    "nearest_index = nearest_ind[:, 1]\n",
    "\n",
    "nearest_points40_with_error_on_plane = []\n",
    "\n",
    "for i in range(len(nearest_index)):\n",
    "    nearest_points40_with_error_on_plane.append(each_point_data[nearest_index[i]])"
   ]
  },
  {
   "cell_type": "markdown",
   "metadata": {},
   "source": [
    " - 위에서 계산된 최근접 점이 정말 맞는지 distance를 계산하여 확인"
   ]
  },
  {
   "cell_type": "code",
   "execution_count": 21,
   "metadata": {},
   "outputs": [
    {
     "name": "stdout",
     "output_type": "stream",
     "text": [
      "true!\n",
      "2.7107147196201784\n",
      "2.7107147196201784\n"
     ]
    }
   ],
   "source": [
    "nearest_distance = nearest_dist[:, 1]\n",
    "\n",
    "test_point = points40_with_error_on_plane[0] - each_point_data[nearest_index[0]]\n",
    "\n",
    "test_dist = math.sqrt(pow(test_point[0], 2) + pow(test_point[1], 2) + pow(test_point[2], 2))\n",
    "\n",
    "if(nearest_distance[0] == test_dist):\n",
    "    print('true!')\n",
    "\n",
    "print(nearest_distance[0])\n",
    "print(test_dist)"
   ]
  },
  {
   "cell_type": "code",
   "execution_count": 22,
   "metadata": {},
   "outputs": [],
   "source": [
    "# module\n",
    "def get_closet_points(ref_points, trg_points, with_trg_index=False):\n",
    "    \"\"\"\n",
    "    input data structure\n",
    "    ref_points = [[xr0, yr0, zr0], ... [xrn, yrn, zrn]]\n",
    "    trg_points = [[xt0, yt0, zt0], ... [xtm, ytm, ztm]]\n",
    "    \n",
    "    output data structure (closet points in trg_points from ref_points)\n",
    "    closet_points = [[xc0, yc0, zc0], ... [xcn, ycn, zcn]]\n",
    "    \"\"\"\n",
    "    tree = KDTree(trg_points)\n",
    "    nearest_dist, nearest_ind = tree.query(ref_points, k=2)\n",
    "    \n",
    "    nearest_index = nearest_ind[:,1]\n",
    "    closet_points = []\n",
    "    \n",
    "    for i in range(len(nearest_index)):\n",
    "        closet_points.append(trg_points[nearest_index[i]])\n",
    "        \n",
    "    if (with_trg_index):\n",
    "        return closet_points"
   ]
  },
  {
   "cell_type": "code",
   "execution_count": 23,
   "metadata": {},
   "outputs": [
    {
     "name": "stdout",
     "output_type": "stream",
     "text": [
      "true!\n"
     ]
    }
   ],
   "source": [
    "# test! with func.\n",
    "closet_points = get_closet_points(points40_with_error_on_plane, each_point_data)\n",
    "test_point = points40_with_error_on_plane[0] - closet_points[0]\n",
    "test_dist = math.sqrt(pow(test_point[0], 2) + pow(test_point[1], 2) + pow(test_point[2], 2))\n",
    "if(nearest_distance[0] == test_dist):\n",
    "    print('true!')"
   ]
  },
  {
   "cell_type": "markdown",
   "metadata": {},
   "source": [
    "###### npy로 저장해두기"
   ]
  },
  {
   "cell_type": "code",
   "execution_count": 24,
   "metadata": {},
   "outputs": [],
   "source": [
    "import numpy as np\n",
    "\n",
    "np.save('data/nearest_points40_with_error_on_plane', np.array(nearest_points40_with_error_on_plane))"
   ]
  },
  {
   "cell_type": "code",
   "execution_count": null,
   "metadata": {},
   "outputs": [],
   "source": []
  }
 ],
 "metadata": {
  "kernelspec": {
   "display_name": "Python 3",
   "language": "python",
   "name": "python3"
  },
  "language_info": {
   "codemirror_mode": {
    "name": "ipython",
    "version": 3
   },
   "file_extension": ".py",
   "mimetype": "text/x-python",
   "name": "python",
   "nbconvert_exporter": "python",
   "pygments_lexer": "ipython3",
   "version": "3.6.8"
  }
 },
 "nbformat": 4,
 "nbformat_minor": 2
}
