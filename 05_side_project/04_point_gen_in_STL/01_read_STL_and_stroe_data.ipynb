{
 "cells": [
  {
   "cell_type": "markdown",
   "metadata": {},
   "source": [
    "### STL 파일을 읽고 변수에 저장해두기\n",
    "\n",
    " - 중복 없이 point들만 저장\n",
    " \n",
    " - vector값과 3개의 point 그리고 vertex를 포함하는 plane을 함께 저장"
   ]
  },
  {
   "cell_type": "markdown",
   "metadata": {},
   "source": [
    "###### 읽고자 하는 파일 이름 세팅 및 변수 세팅"
   ]
  },
  {
   "cell_type": "code",
   "execution_count": 19,
   "metadata": {},
   "outputs": [],
   "source": [
    "# set STL file path\n",
    "file_path = \"data/Femur.stl\""
   ]
  },
  {
   "cell_type": "code",
   "execution_count": 20,
   "metadata": {},
   "outputs": [],
   "source": [
    "# store each point \n",
    "each_point_data = []\n",
    "\n",
    "# store plane with each info.\n",
    "vertex_data = []\n",
    "plane_data = []\n",
    "vector_data = []\n",
    "### menu_dict = dict(zip(drink_list, price_list))"
   ]
  },
  {
   "cell_type": "markdown",
   "metadata": {},
   "source": [
    "###### 사용할 함수들 정의"
   ]
  },
  {
   "cell_type": "code",
   "execution_count": 21,
   "metadata": {},
   "outputs": [],
   "source": [
    "def get_equation_plane_from_3points(points3list):  \n",
    "    x1 = points3list[0][0]\n",
    "    y1 = points3list[0][1]\n",
    "    z1 = points3list[0][2]\n",
    "    x2 = points3list[1][0]\n",
    "    y2 = points3list[1][1]\n",
    "    z2 = points3list[1][2]\n",
    "    x3 = points3list[2][0]\n",
    "    y3 = points3list[2][1]\n",
    "    z3 = points3list[2][2]\n",
    "    \n",
    "    a1 = x2 - x1 \n",
    "    b1 = y2 - y1 \n",
    "    c1 = z2 - z1 \n",
    "    a2 = x3 - x1 \n",
    "    b2 = y3 - y1 \n",
    "    c2 = z3 - z1 \n",
    "    \n",
    "    a = b1 * c2 - b2 * c1 \n",
    "    b = a2 * c1 - a1 * c2 \n",
    "    c = a1 * b2 - b1 * a2 \n",
    "    d = (- a * x1 - b * y1 - c * z1) \n",
    "    \n",
    "    return [a, b, c, d]"
   ]
  },
  {
   "cell_type": "markdown",
   "metadata": {},
   "source": [
    "###### STL 파일을 읽어드리고 각 해당 변수에 저장"
   ]
  },
  {
   "cell_type": "code",
   "execution_count": null,
   "metadata": {},
   "outputs": [
    {
     "name": "stdout",
     "output_type": "stream",
     "text": [
      "number of facets : 189724\n",
      "   \n"
     ]
    }
   ],
   "source": [
    "import struct\n",
    "\n",
    "# read STL file using open() with 'rb' keyword (rb : read binary)\n",
    "with open(file_path, \"rb\") as parse :\n",
    "    \n",
    "    # first 80 bytes : header\n",
    "    head = parse.read(80)\n",
    "    \n",
    "    # 4 bytes : number of facets in file\n",
    "    num_of_triangles_raw = parse.read(4)\n",
    "    # 4 bytes to unsigned long int\n",
    "    num_of_triangles=struct.unpack(\"<L\", num_of_triangles_raw)\n",
    "    print(\"number of facets : \" + str(num_of_triangles[0]))\n",
    "    print(\"   \")\n",
    "    \n",
    "    for i in range(int(num_of_triangles[0])):\n",
    "        # print(\"facet number : \" + str(i))\n",
    "        \n",
    "        ### normal vector\n",
    "        # 1) 4 * 3 = normal (i, j, k)\n",
    "        _data_tmp = []\n",
    "        for ii in range(3):\n",
    "            linedata = parse.read(4)\n",
    "            # 4 bytes to float\n",
    "            linedata = struct.unpack(\"<f\", linedata)\n",
    "            _data_tmp.append(float(linedata[0]))\n",
    "        vector_data.append(_data_tmp)\n",
    "            \n",
    "        ### vertex points\n",
    "        _data_vtx_tmp = []\n",
    "        # 2) 4 * 3 = vertex 1 (x, y, z)\n",
    "        _data_tmp = []\n",
    "        for ii in range(3):\n",
    "            linedata = parse.read(4)\n",
    "            # 4 bytes to float\n",
    "            linedata = struct.unpack(\"<f\", linedata)\n",
    "            _data_tmp.append(float(linedata[0]))\n",
    "        _data_vtx_tmp.append(_data_tmp) \n",
    "        if _data_tmp in each_point_data:\n",
    "            pass\n",
    "        else:\n",
    "            each_point_data.append(_data_tmp)\n",
    "        \n",
    "        # 3) 4 * 3 = vertex 2 (x, y, z)\n",
    "        _data_tmp = []\n",
    "        for ii in range(3):\n",
    "            linedata = parse.read(4)\n",
    "            # 4 bytes to float\n",
    "            linedata = struct.unpack(\"<f\", linedata)\n",
    "            _data_tmp.append(float(linedata[0]))\n",
    "        _data_vtx_tmp.append(_data_tmp) \n",
    "        if _data_tmp in each_point_data:\n",
    "            pass\n",
    "        else:\n",
    "            each_point_data.append(_data_tmp)\n",
    "            \n",
    "        # 4) 4 * 3 = vertex 3 (x, y, z)\n",
    "        _data_tmp = []\n",
    "        for ii in range(3):\n",
    "            linedata = parse.read(4)\n",
    "            # 4 bytes to float\n",
    "            linedata = struct.unpack(\"<f\", linedata)\n",
    "            _data_tmp.append(float(linedata[0]))\n",
    "        _data_vtx_tmp.append(_data_tmp) \n",
    "        if _data_tmp in each_point_data:\n",
    "            pass\n",
    "        else:\n",
    "            each_point_data.append(_data_tmp)\n",
    "        \n",
    "        vertex_data.append(_data_vtx_tmp)\n",
    "        plane_data.append(get_equation_plane_from_3points(_data_vtx_tmp))\n",
    "            \n",
    "        # attribute\n",
    "        for iii in range(1):\n",
    "            linedata=parse.read(2)\n",
    "            # 2 bytes to unsigned int\n",
    "            linedata=struct.unpack(\"<H\", linedata)\n",
    "        # print(\"   \")"
   ]
  },
  {
   "cell_type": "code",
   "execution_count": 12,
   "metadata": {},
   "outputs": [
    {
     "data": {
      "text/plain": [
       "27"
      ]
     },
     "execution_count": 12,
     "metadata": {},
     "output_type": "execute_result"
    }
   ],
   "source": [
    "# store each point \n",
    "each_point_data = []\n",
    "\n",
    "# store plane with each info.\n",
    "vertex_data = []\n",
    "plane_data = []\n",
    "vector_data = []\n",
    "### menu_dict = dict(zip(drink_list, price_list))"
   ]
  },
  {
   "cell_type": "code",
   "execution_count": 18,
   "metadata": {},
   "outputs": [
    {
     "data": {
      "text/plain": [
       "[[16.979248046875, -9.071151733398438, -28.0352783203125],\n",
       " [16.798049926757812, -9.260017395019531, -27.7943115234375],\n",
       " [16.72624969482422, -8.960868835449219, -27.80584716796875],\n",
       " [17.22234344482422, -9.003158569335938, -28.09521484375],\n",
       " [17.133193969726562, -9.227264404296875, -27.911865234375],\n",
       " [17.583511352539062, -9.004287719726562, -27.95367431640625],\n",
       " [-3.8703384399414062, 4.556022644042969, 416.15362548828125],\n",
       " [-4.2962799072265625, 4.5128936767578125, 416.11822509765625],\n",
       " [-4.30242919921875, 4.437744140625, 416.1693115234375]]"
      ]
     },
     "execution_count": 18,
     "metadata": {},
     "output_type": "execute_result"
    }
   ],
   "source": [
    "each_point_data"
   ]
  },
  {
   "cell_type": "code",
   "execution_count": null,
   "metadata": {},
   "outputs": [],
   "source": []
  }
 ],
 "metadata": {
  "kernelspec": {
   "display_name": "Python 3",
   "language": "python",
   "name": "python3"
  },
  "language_info": {
   "codemirror_mode": {
    "name": "ipython",
    "version": 3
   },
   "file_extension": ".py",
   "mimetype": "text/x-python",
   "name": "python",
   "nbconvert_exporter": "python",
   "pygments_lexer": "ipython3",
   "version": "3.6.8"
  }
 },
 "nbformat": 4,
 "nbformat_minor": 2
}
