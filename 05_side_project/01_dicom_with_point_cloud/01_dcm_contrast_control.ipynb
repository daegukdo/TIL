{
 "cells": [
  {
   "cell_type": "code",
   "execution_count": 1,
   "metadata": {},
   "outputs": [],
   "source": [
    "import numpy as np\n",
    "import pydicom\n",
    "import matplotlib.pyplot as plt\n",
    "import glob\n",
    "import os\n",
    "import PIL\n",
    "from skimage import exposure"
   ]
  },
  {
   "cell_type": "code",
   "execution_count": 2,
   "metadata": {},
   "outputs": [],
   "source": [
    "# dcmlists = glob.glob(os.path.join(\"dcmdata\", \"01_leftBone\", \"*\"))\n",
    "# C:\\Users\\user\\Desktop\\ddk_test\\190918_dicom\\CTdata_191101_\\DATA01\\201803153\\Series000\n",
    "\n",
    "dcmlists = glob.glob(os.path.join(\"200206_sawbone3_test_cvt\", \"*.dcm\"))"
   ]
  },
  {
   "cell_type": "code",
   "execution_count": 3,
   "metadata": {},
   "outputs": [],
   "source": [
    "# os.path.splitext(file_name)[0] + \".dcm\""
   ]
  },
  {
   "cell_type": "code",
   "execution_count": 5,
   "metadata": {},
   "outputs": [
    {
     "name": "stdout",
     "output_type": "stream",
     "text": [
      "200207_cvt\\data1.dcm --> fin.\n",
      "200207_cvt\\data10.dcm --> fin.\n",
      "200207_cvt\\data2.dcm --> fin.\n",
      "200207_cvt\\data3.dcm --> fin.\n",
      "200207_cvt\\data4.dcm --> fin.\n",
      "200207_cvt\\data5.dcm --> fin.\n",
      "200207_cvt\\data6.dcm --> fin.\n",
      "200207_cvt\\data7.dcm --> fin.\n",
      "200207_cvt\\data8.dcm --> fin.\n",
      "200207_cvt\\data9.dcm --> fin.\n"
     ]
    }
   ],
   "source": [
    "for i in range(len(dcmlists)):\n",
    "    file_path = dcmlists[i]\n",
    "    file_name = os.path.basename(file_path)\n",
    "    \n",
    "    dc = pydicom.dcmread(file_path)\n",
    "    \n",
    "    for n,val in enumerate(dc.pixel_array.flat):\n",
    "        if (val>2250 and val<2650):\n",
    "            dc.pixel_array.flat[n]=dc.pixel_array.flat[n]+2048\n",
    "        \n",
    "    dc.PixelData = dc.pixel_array.tobytes()\n",
    "    \n",
    "    result_file_name = os.path.join(\"200207_cvt\", file_name)\n",
    "    \n",
    "    dc.save_as(result_file_name)\n",
    "    \n",
    "    print(result_file_name + \" --> fin.\")"
   ]
  },
  {
   "cell_type": "code",
   "execution_count": null,
   "metadata": {},
   "outputs": [],
   "source": []
  }
 ],
 "metadata": {
  "kernelspec": {
   "display_name": "Python 3",
   "language": "python",
   "name": "python3"
  },
  "language_info": {
   "codemirror_mode": {
    "name": "ipython",
    "version": 3
   },
   "file_extension": ".py",
   "mimetype": "text/x-python",
   "name": "python",
   "nbconvert_exporter": "python",
   "pygments_lexer": "ipython3",
   "version": "3.6.8"
  }
 },
 "nbformat": 4,
 "nbformat_minor": 2
}
