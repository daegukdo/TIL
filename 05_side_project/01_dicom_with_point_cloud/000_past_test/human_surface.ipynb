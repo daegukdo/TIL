{
 "cells": [
  {
   "cell_type": "code",
   "execution_count": 2,
   "metadata": {},
   "outputs": [
    {
     "name": "stderr",
     "output_type": "stream",
     "text": [
      "c:\\users\\user\\appdata\\local\\programs\\python\\python37\\lib\\site-packages\\dicom\\__init__.py:53: UserWarning: \n",
      "This code is using an older version of pydicom, which is no longer \n",
      "maintained as of Jan 2017.  You can access the new pydicom features and API \n",
      "by installing `pydicom` from PyPI.\n",
      "See 'Transitioning to pydicom 1.x' section at pydicom.readthedocs.org \n",
      "for more information.\n",
      "\n",
      "  warnings.warn(msg)\n"
     ]
    }
   ],
   "source": [
    "import numpy as np\n",
    "import cv2 \n",
    "import matplotlib.pyplot as plt\n",
    "import pydicom as dicom\n",
    "import os\n",
    "from scipy import ndimage as ndi \n",
    "from skimage import morphology\n",
    "from skimage.morphology import skeletonize\n",
    "from skimage.feature import canny\n",
    "from skimage.future import graph\n",
    "from skimage.segmentation import clear_border\n",
    "from scipy import stats\n",
    "from skimage import filters"
   ]
  },
  {
   "cell_type": "code",
   "execution_count": 3,
   "metadata": {},
   "outputs": [],
   "source": [
    "data_path = 'C:/Users/user/Desktop/Python/Python_processing/TCGA-SARC/2-AXIAL CAP-13097'\n",
    "output_path = 'C:/Users/user/Desktop/Python/nii/pointcloud'"
   ]
  },
  {
   "cell_type": "code",
   "execution_count": 4,
   "metadata": {},
   "outputs": [
    {
     "name": "stderr",
     "output_type": "stream",
     "text": [
      "c:\\users\\user\\appdata\\local\\programs\\python\\python37\\lib\\site-packages\\skimage\\morphology\\misc.py:127: UserWarning: Only one label was provided to `remove_small_objects`. Did you mean to use a boolean array?\n",
      "  warn(\"Only one label was provided to `remove_small_objects`. \"\n"
     ]
    }
   ],
   "source": [
    "def load_scan(path):\n",
    "    slices = [dicom.read_file(path + '/' + s) for s in os.listdir(path)]\n",
    "    slices.sort(key = lambda x: int(x.InstanceNumber))\n",
    "    try:\n",
    "        slice_thickness = np.abs(slices[0].ImagePositionPatient[2] - slices[1].ImagePositionPatient[2])\n",
    "    except:\n",
    "        slice_thickness = np.abs(slices[0].SliceLocation - slices[1].SliceLocation)\n",
    "        \n",
    "    for s in slices:\n",
    "        s.SliceThickness = slice_thickness\n",
    "        \n",
    "    return slices"
   ]
  },
  {
   "cell_type": "code",
   "execution_count": 5,
   "metadata": {},
   "outputs": [],
   "source": [
    "def get_pixels_hu(scans):\n",
    "    image = np.stack([s.pixel_array for s in scans])\n",
    "    # Convert to int16 (from sometimes int16), \n",
    "    # should be possible as values should always be low enough (<32k)\n",
    "    image = image.astype(np.int16)\n",
    "\n",
    "    # Set outside-of-scan pixels to 0\n",
    "    # The intercept is usually -1024, so air is approximately 0\n",
    "    image[image == -2000] = 0\n",
    "    \n",
    "    # Convert to Hounsfield units (HU)\n",
    "    intercept = scans[0].RescaleIntercept\n",
    "    slope = scans[0].RescaleSlope\n",
    "    \n",
    "    if slope != 1:\n",
    "        image = slope * image.astype(np.float64)\n",
    "        image = image.astype(np.int16)\n",
    "        \n",
    "    image += np.int16(intercept)\n",
    "    \n",
    "    return np.array(image, dtype=np.int16)"
   ]
  },
  {
   "cell_type": "code",
   "execution_count": 16,
   "metadata": {
    "scrolled": false
   },
   "outputs": [],
   "source": [
    "#Save 3D CT image\n",
    "patient = load_scan(data_path)\n",
    "imgs = get_pixels_hu(patient)\n",
    "np.save(output_path + \"/3D_CT_image.npy\", imgs)"
   ]
  },
  {
   "cell_type": "code",
   "execution_count": 17,
   "metadata": {},
   "outputs": [],
   "source": [
    "#Load 3D CT image\n",
    "CT_array = np.load(output_path+'/3D_CT_image.npy')"
   ]
  },
  {
   "cell_type": "code",
   "execution_count": 18,
   "metadata": {},
   "outputs": [
    {
     "data": {
      "text/plain": [
       "(512, 512, 794)"
      ]
     },
     "execution_count": 18,
     "metadata": {},
     "output_type": "execute_result"
    }
   ],
   "source": [
    "def sample_stack(stack, rows=10, cols=10, start_with=1, show_every=1):\n",
    "    fig,ax = plt.subplots(rows,cols,figsize=[12,12])\n",
    "    for i in range(rows*cols):\n",
    "        ind = start_with + i*show_every\n",
    "        ax[int(i/rows),int(i % rows)].set_title('slice %d' % ind)\n",
    "        ax[int(i/rows),int(i % rows)].imshow(stack[ind],cmap='gray')\n",
    "        ax[int(i/rows),int(i % rows)].axis('off')\n",
    "    plt.show()"
   ]
  },
  {
   "cell_type": "code",
   "execution_count": 22,
   "metadata": {},
   "outputs": [
    {
     "name": "stdout",
     "output_type": "stream",
     "text": [
      "(1064039, 3)\n",
      "(2140146, 3)\n"
     ]
    }
   ],
   "source": [
    "def threshold(image, threshmin=None, threshmax=None, newval=0):\n",
    "    n_image = np.ma.array(image.copy())\n",
    "    mask = np.zeros(n_image.shape, dtype=bool)\n",
    "    if threshmin is not None:\n",
    "        mask |= (n_image < threshmin).filled(False)\n",
    "\n",
    "    if threshmax is not None:\n",
    "        mask |= (n_image > threshmax).filled(False)\n",
    "\n",
    "    n_image[mask] = newval\n",
    "    return n_image"
   ]
  },
  {
   "cell_type": "code",
   "execution_count": 23,
   "metadata": {},
   "outputs": [
    {
     "data": {
      "text/plain": [
       "array([[-0.94543844, -0.2693067 , -0.18335776],\n",
       "       [-0.4319342 , -0.25916055, -0.8638684 ],\n",
       "       [-0.17195933, -0.93254864, -0.31746337],\n",
       "       ...,\n",
       "       [ 0.92002803, -0.323905  ,  0.22053108],\n",
       "       [ 0.88382983,  0.41708818, -0.21185432],\n",
       "       [ 0.91111964,  0.27139732,  0.31016842]], dtype=float32)"
      ]
     },
     "execution_count": 23,
     "metadata": {},
     "output_type": "execute_result"
    }
   ],
   "source": [
    "def Threshold(image, threshmin=None, threshmax=None, newval=0):\n",
    "    n_image = image.copy()\n",
    "    mask = np.zeros(n_image.shape, dtype=bool)\n",
    "    if threshmin is not None:\n",
    "        mask |= (n_image < threshmin).filled(False)\n",
    "\n",
    "    if threshmax is not None:\n",
    "        mask |= (n_image > threshmax).filled(False)\n",
    "\n",
    "    n_image[mask] = newval\n",
    "    return n_image"
   ]
  },
  {
   "cell_type": "code",
   "execution_count": 404,
   "metadata": {},
   "outputs": [],
   "source": [
    "def generate_markers(image):\n",
    "    \n",
    "    #image Binary\n",
    "    r_binary = image > -700\n",
    "    binary = image < -700\n",
    "    spine_b = image > 300\n",
    "    \n",
    "    ret,thresh1 = cv2.threshold(image,-700,1,cv2.THRESH_BINARY)\n",
    "    kernel = np.ones((5,5),np.uint8)\n",
    "    erosion = cv2.erode(thresh1, kernel,iterations = 1)\n",
    "    opening = cv2.morphologyEx(erosion, cv2.MORPH_OPEN, kernel)\n",
    "    closing = cv2.morphologyEx(opening, cv2.MORPH_CLOSE, kernel)\n",
    "    \n",
    "    #remove\n",
    "    #remove = ndi.label(r_binary)\n",
    "    #opening = morphology.binary_opening(r_binary)\n",
    "    #cleared = morphology.binary_closing(opening)\n",
    "    \n",
    "    #Boundary Image\n",
    "    #clear = clear_border(binary)\n",
    "    #remove = morphology.remove_small_objects(binary, 100)\n",
    "    #delet = filters.threshold_li(r_binary)\n",
    "    \n",
    "    \n",
    "    #erosion = morphology.binary_erosion(delet)\n",
    "\n",
    "    return r_binary, binary, spine_b, closing"
   ]
  },
  {
   "cell_type": "code",
   "execution_count": 406,
   "metadata": {},
   "outputs": [],
   "source": [
    "r_binary, binary, spine_b, closing = generate_markers(CT_array)"
   ]
  },
  {
   "cell_type": "code",
   "execution_count": 408,
   "metadata": {},
   "outputs": [],
   "source": [
    "sample_stack(r_binary)"
   ]
  },
  {
   "cell_type": "code",
   "execution_count": 410,
   "metadata": {},
   "outputs": [],
   "source": [
    "sample_stack(binary)"
   ]
  },
  {
   "cell_type": "code",
   "execution_count": 412,
   "metadata": {},
   "outputs": [],
   "source": [
    "sample_stack(closing)"
   ]
  },
  {
   "cell_type": "code",
   "execution_count": 414,
   "metadata": {},
   "outputs": [],
   "source": [
    "from skimage import measure"
   ]
  },
  {
   "cell_type": "code",
   "execution_count": 416,
   "metadata": {},
   "outputs": [],
   "source": [
    "def make_mesh(image, threshold=-300, step_size=1):\n",
    "\n",
    "    print (\"Transposing surface\")\n",
    "    p = image.transpose(2,1,0)\n",
    "    \n",
    "    print (\"Calculating surface\")\n",
    "    verts, faces, norm, val = measure.marching_cubes_lewiner(p, threshold, step_size=step_size, allow_degenerate=True) \n",
    "    return verts, faces"
   ]
  },
  {
   "cell_type": "code",
   "execution_count": 418,
   "metadata": {},
   "outputs": [],
   "source": [
    "def resample(image, scan, new_spacing=[1,1,1]):\n",
    "    # Determine current pixel spacing\n",
    "    spacing = np.array([scan[0].SliceThickness, scan[0].PixelSpacing[0], scan[0].PixelSpacing[1]])\n",
    "\n",
    "    resize_factor = spacing / new_spacing\n",
    "    new_real_shape = image.shape * resize_factor\n",
    "    new_shape = np.round(new_real_shape)\n",
    "    real_resize_factor = new_shape / image.shape\n",
    "    new_spacing = spacing / real_resize_factor\n",
    "    \n",
    "    image = scipy.ndimage.interpolation.zoom(image, real_resize_factor)\n",
    "    \n",
    "    return image, new_spacing"
   ]
  },
  {
   "cell_type": "code",
   "execution_count": 420,
   "metadata": {},
   "outputs": [],
   "source": [
    "#print (\"Shape before resampling\\t\", r_binary.shape)\n",
    "#CT_array, spacing = resample(r_binary, patient, [1,1,1])\n",
    "#print (\"Shape after resampling\\t\", CT_array.shape)"
   ]
  },
  {
   "cell_type": "code",
   "execution_count": 422,
   "metadata": {},
   "outputs": [],
   "source": [
    "#v,f = make_mesh(CT_array,0,2)"
   ]
  },
  {
   "cell_type": "code",
   "execution_count": null,
   "metadata": {},
   "outputs": [],
   "source": [
    "#x = v[:,2]\n",
    "#x = 505 - x\n",
    "#v[:,2] = x"
   ]
  },
  {
   "cell_type": "code",
   "execution_count": null,
   "metadata": {},
   "outputs": [],
   "source": [
    "from open3d import *\n",
    "import copy"
   ]
  },
  {
   "cell_type": "code",
   "execution_count": 423,
   "metadata": {},
   "outputs": [],
   "source": [
    "#skeleton_data = PointCloud()\n",
    "#skeleton_data.points = Vector3dVector(v)"
   ]
  },
  {
   "cell_type": "code",
   "execution_count": 424,
   "metadata": {},
   "outputs": [],
   "source": [
    "#write_point_cloud(output_path + \"/surface_thresh_from_CT.ply\", skeleton_data)\n",
    "#skeleton_data = read_point_cloud(output_path + \"/surface_thresh_from_CT.ply\")\n",
    "#draw_geometries([skeleton_data])"
   ]
  },
  {
   "cell_type": "code",
   "execution_count": 425,
   "metadata": {},
   "outputs": [],
   "source": [
    "#skeleton_data.paint_uniform_color([0.85, 0.65, 0.12])\n",
    "#draw_geometries([skeleton_data])"
   ]
  },
  {
   "cell_type": "code",
   "execution_count": 426,
   "metadata": {},
   "outputs": [],
   "source": [
    "print (\"Shape before resampling\\t\", closing.shape)\n",
    "CT_array, spacing = resample(closing, patient, [1,1,1])\n",
    "print (\"Shape after resampling\\t\", CT_array.shape)"
   ]
  },
  {
   "cell_type": "code",
   "execution_count": null,
   "metadata": {},
   "outputs": [],
   "source": [
    "v,f = make_mesh(CT_array,0,2)"
   ]
  },
  {
   "cell_type": "code",
   "execution_count": null,
   "metadata": {},
   "outputs": [],
   "source": [
    "x = v[:,2]\n",
    "x = 505 - x\n",
    "v[:,2] = x"
   ]
  },
  {
   "cell_type": "code",
   "execution_count": null,
   "metadata": {},
   "outputs": [],
   "source": [
    "skeleton_data = PointCloud()\n",
    "skeleton_data.points = Vector3dVector(v)"
   ]
  },
  {
   "cell_type": "code",
   "execution_count": null,
   "metadata": {},
   "outputs": [],
   "source": [
    "write_point_cloud(output_path + \"/surface_erosion_from_CT.ply\", skeleton_data)\n",
    "skeleton_data = read_point_cloud(output_path + \"/surface_erosion_from_CT.ply\")\n",
    "draw_geometries([skeleton_data])"
   ]
  },
  {
   "cell_type": "code",
   "execution_count": null,
   "metadata": {},
   "outputs": [],
   "source": [
    "skeleton_data.paint_uniform_color([0.85, 0.65, 0.12])\n",
    "draw_geometries([skeleton_data])"
   ]
  },
  {
   "cell_type": "code",
   "execution_count": null,
   "metadata": {},
   "outputs": [],
   "source": [
    "#현재 등 침상 부분까지제거하고 바운더리 얻는 부분에서 에러가 발생해서 수정중입니다.."
   ]
  }
 ],
 "metadata": {
  "kernelspec": {
   "display_name": "Python 3",
   "language": "python",
   "name": "python3"
  },
  "language_info": {
   "codemirror_mode": {
    "name": "ipython",
    "version": 3
   },
   "file_extension": ".py",
   "mimetype": "text/x-python",
   "name": "python",
   "nbconvert_exporter": "python",
   "pygments_lexer": "ipython3",
   "version": "3.6.8"
  },
  "varInspector": {
   "cols": {
    "lenName": 16,
    "lenType": 16,
    "lenVar": 40
   },
   "kernels_config": {
    "python": {
     "delete_cmd_postfix": "",
     "delete_cmd_prefix": "del ",
     "library": "var_list.py",
     "varRefreshCmd": "print(var_dic_list())"
    },
    "r": {
     "delete_cmd_postfix": ") ",
     "delete_cmd_prefix": "rm(",
     "library": "var_list.r",
     "varRefreshCmd": "cat(var_dic_list()) "
    }
   },
   "types_to_exclude": [
    "module",
    "function",
    "builtin_function_or_method",
    "instance",
    "_Feature"
   ],
   "window_display": false
  }
 },
 "nbformat": 4,
 "nbformat_minor": 2
}
