{
 "cells": [
  {
   "cell_type": "markdown",
   "metadata": {},
   "source": [
    "### load dicom data"
   ]
  },
  {
   "cell_type": "code",
   "execution_count": null,
   "metadata": {},
   "outputs": [],
   "source": [
    "from glob import glob\n",
    "\n",
    "data_path = 'C:/Users/dDk13/Desktop/ddk_test/PointCloudTest/data/manekin_data'\n",
    "output_path = working_path = '01_export_data/'\n",
    "g = glob(data_path + '/*.dcm')\n",
    "\n",
    "# Print out the first 5 file names to verify we're in the right folder.\n",
    "print(\"Total of %d DICOM images.\\nFirst 5 filenames:\" % len(g))\n",
    "print('\\n'.join(g[:5]))"
   ]
  },
  {
   "cell_type": "markdown",
   "metadata": {},
   "source": [
    "### save data (format : .npy)"
   ]
  },
  {
   "cell_type": "code",
   "execution_count": null,
   "metadata": {},
   "outputs": [],
   "source": [
    "import numpy as np\n",
    "\n",
    "id=0\n",
    "np.save(output_path + \"fullimages_%d.npy\" % (id), imgs)"
   ]
  },
  {
   "cell_type": "markdown",
   "metadata": {},
   "source": [
    "### load .npy data from dicom"
   ]
  },
  {
   "cell_type": "code",
   "execution_count": null,
   "metadata": {},
   "outputs": [],
   "source": [
    "imgs_dicom_to_process = np.load(output_path+'fullimages_{}.npy'.format(id))"
   ]
  },
  {
   "cell_type": "code",
   "execution_count": null,
   "metadata": {},
   "outputs": [],
   "source": [
    "num_of_dicom_data = len(imgs_dicom_to_process)"
   ]
  },
  {
   "cell_type": "markdown",
   "metadata": {},
   "source": [
    "### make CT boundary mask : with canny"
   ]
  },
  {
   "cell_type": "code",
   "execution_count": null,
   "metadata": {},
   "outputs": [],
   "source": [
    "from skimage import feature\n",
    "\n",
    "CT_boundary_data = \n",
    "\n",
    "for i in range(num_of_dicom_data):\n",
    "    if(i % 10 == 0):\n",
    "        img_tmp = imgs_dicom_to_process[i]\n",
    "        edges_tmp = feature.canny(\n",
    "            image=img_tmp,\n",
    "            sigma=3,\n",
    "            low_threshold=-1000,\n",
    "            high_threshold=1000,\n",
    "        )\n",
    "\n",
    "img_v1 = imgs_to_process[128]\n",
    "img_v2 = imgs_to_process[188]\n",
    "img_v3 = imgs_to_process[248]\n",
    "\n",
    "edges_v1 = feature.canny(\n",
    "    image=img_v1,\n",
    "    sigma=3,\n",
    "    low_threshold=-1000,\n",
    "    high_threshold=1000,\n",
    ")\n",
    "\n",
    "edges_v2 = feature.canny(\n",
    "    image=img_v2,\n",
    "    sigma=3,\n",
    "    low_threshold=-1000,\n",
    "    high_threshold=1000,\n",
    ")\n",
    "\n",
    "edges_v3 = feature.canny(\n",
    "    image=img_v3,\n",
    "    sigma=3,\n",
    "    low_threshold=-1000,\n",
    "    high_threshold=1000,\n",
    ")\n",
    "\n",
    "CT_boundary_data = edges_v1 & edges_v2 & edges_v3\n",
    "\n",
    "fig,ax = plt.subplots(1,1,figsize=[12,12])\n",
    "ax.imshow(CT_boundary_data)\n",
    "plt.show()"
   ]
  }
 ],
 "metadata": {
  "kernelspec": {
   "display_name": "Python 3",
   "language": "python",
   "name": "python3"
  },
  "language_info": {
   "codemirror_mode": {
    "name": "ipython",
    "version": 3
   },
   "file_extension": ".py",
   "mimetype": "text/x-python",
   "name": "python",
   "nbconvert_exporter": "python",
   "pygments_lexer": "ipython3",
   "version": "3.6.8"
  }
 },
 "nbformat": 4,
 "nbformat_minor": 2
}
