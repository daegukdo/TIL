{
 "cells": [
  {
   "cell_type": "markdown",
   "metadata": {},
   "source": [
    "### 참조 자료  \n",
    "\n",
    " - https://dacon.io/competitions/official/235590/codeshare/949  \n",
    " - https://www.kaggle.com/kimjihoo/coronavirusdataset  \n",
    " - https://dacon.io/competitions/official/235590/codeshare/1001  \n",
    " - https://dacon.io/competitions/official/235590/codeshare/979  \n",
    "   \n",
    " \n",
    " - https://dacon.io/competitions/official/235590/codeshare/880  "
   ]
  },
  {
   "cell_type": "markdown",
   "metadata": {},
   "source": [
    "#### State of the art: 코로나19에 대해 현재까지 우리가 알고있는 것\n",
    "\n",
    " 코로나 바이러스가 퍼지기 시작하면서 글로벌 펜대믹으로 대유행하고 있는 지금까지 다음의 두 가지 요인은 코로나19 의 사망 위험을 결정짓는 주요 요인으로 알려져왔습니다.  \n",
    "\n",
    " > - 연령(Age): 고령층은 코로나 19로 인한 사망 위험이 높음  \n",
    " > - 기저질환(Illness/Morbidity): 기저질환이 있는 사람들은 코로나19로 인한 사망 위험이 높음  \n",
    "\n",
    " 데이터 분석을 수행하고 그 결과가 이미 알려진 사실들을 확인하는데 그친다면 그저 무의미한 반복에 지나지 않을 것입니다. 비주얼라이징코리아는 이번 분석으로 알려지지 않은 인사이트를 발굴하고 코로나19에 대한 새로운 지식을 형성하는데 기여하고자 하였습니다. 비주얼라이징코리아에서 분석의 초점을 맞춘 위험 요인은 행동적 요인입니다. 확진자들의 행동 특성들이 코로나19로 인한 사망 위험에 영향을 미쳤는지에 대해서는 현재까지 밝혀진 바가 없습니다. 또한 행동적인 특성은 연령, 기저질환, 성별과 같은 생물학적/인구학적 요인들과는 달리 사람이 통제할 수 있는 범위가 보다 넓습니다. 따라서 이번 분석은 사람이 통제할 수 있는, 그럼으로써 생명을 구하는 가능성을 높일 수 있는 행동 요인을 파악하는데 그 목적이 있습니다."
   ]
  },
  {
   "cell_type": "markdown",
   "metadata": {},
   "source": [
    "#### 결론 핵심 요약  \n",
    "\n",
    "데이터를 단순히 보여주는 EDA를 넘어 머신러닝 기법을 활용해 데이터를 분석함으로써 획기적이면서 중요한 결론 두 가지에 도달하였습니다. 아래의 결론은 \"코로나 확산 방지와 예방을 위한 인사이트/시각화 발굴\"이라는 경진대회 취지에 상응하는 것은 물론, 한국 코로나19 관련 지식을 형성하는데에도 기여하는 것이기도 합니다.  \n",
    "\n",
    "##### 1) 확진자 행동 특성의 네 가지 유형   \n",
    "\n",
    "코로나19 확진자들은 이들이 보인 행동 특성/행동 요인들에 따라 네 가지의 서로 다른 유형으로 구분됩니다. 네 가지의 유형을 다음과 같이 이름지어 보았습니다 (분석 결과를 보시고 좋은 아이디어가 있으시면 댓글 부탁드립니다!)  \n",
    "\n",
    " > - 1) **Hypermobile and hypersocial unknowns**\n",
    ": 매우 높은 수준의 유동성과 사회성을 지닌 유형으로 감염 경로를 파악할 수 없으며 코로나19 확진을 늦게 받은 경향을 보인 유형  \n",
    "\n",
    " > - 2) **Moderate groupies**  \n",
    ": 유동성이 보통 수준이면서 다소 높은 수준의 사회적 교류 활동을 보이며 집단으로 감염된 유형. 증상 발현 후 코로나19 확진을 받기까지 평균 수준의 시간이 걸림  \n",
    "\n",
    " > - 3) **Social minimalists**  \n",
    ": 유동성과 사회성의 수준이 보통보다 낮은 유형. 바이러스 감염자와의 직접 접촉으로 감염되었으며 확진 받기까지 평균 수준의 시간이 걸림  \n",
    "\n",
    " > - 4) **Overseas non-essentialists**  \n",
    ": 가장 낮은 유동성과 사회성을 보인 유형. 해외에서 유입되었고 증상 발현 이후 확진받기까지 가장 짧은 시간이 걸린 유형  \n",
    "\n",
    "위에서 서술한 확진자 행동 유형별 특징들을 직관적으로 파악할 수 있도록 시각화하여 표현하면 다음과 같습니다. 아래 시각화에서 도면이 차지하는 면이 클수록 해당 유형이 행동 특성들에서 가장 극단적인 정도를 보였음을 의미하고, 반대로 도면이 작으면 해당 유형의 행동 특성의 정도도 적었음을 의미합니다. 실제로 가장 넓은 도면을 차지하는 유형은 **Hypermobile and hypersocial unknowns**로, 이 유형의 확진자들은 유동성, 부수적 이동, 접촉 정도, 확진받는데까지 걸린 시간 등의 행동 특성에서 모두 높은 수준을 보입니다. 더불어 사망자가 나타난 유일한 유형이기도 합니다.\n",
    "\n",
    "##### 2) 사망 위험과 관련된 주요 요인: 확진받기까지 걸린 시간  \n",
    "\n",
    "확진자들의 행동 유형을 분석한 결과를 보면, 가장 높은 유동성과 사회성으로 특징지어지는 유형은 코로나19 확진을 받기까지도 가장 오랜 시간이 걸렸습니다. 유동성과 사회성이 높은 확진자들은 왜 확진받기까지 오랜 시간이 걸렸을까요? 이런 가정을 해 볼 수 있습니다. 많은 장소를 방문하고 많은 사람을 만난 사람들은 지난번 방문했던 장소가 바이러스에 노출이 되었었는지, 만났던 사람들로부터 바이러스에 감염이 되었는지 판단하기 어려웠을 것이고 바이러스 노출이 확실하지 않다보니 진단 검사를 받으러가기 꺼려졌을 것입니다. 하지만 진단을 늦게 받으면 그만큼 전문적인 치료와 관리도 늦어지게 됩니다. 이 유형에서만 사망자가 나타나는 것도 이때문이겠지요. 아래 분석 결과에서도 소개할 것처럼 사망자와 회복자 사이에 확진받기까지 걸린 시간에는 큰 차이가 존재합니다. 이는 곧 확진을 빠르게 받음으로써 사망 위험을 줄이고 생명을 살릴 가능성도 높일 수 있다는 것을 의미합니다."
   ]
  },
  {
   "cell_type": "markdown",
   "metadata": {},
   "source": [
    "### 1. Feature engineering\n",
    "\n",
    "먼저, 코로나19로 인한 사망 위험을 높이는데 기여한 확진자들의 행동 특성 이 무엇이었는지 분석해보겠습니다. 이때 '행동과 관련된 특성/요인'이란, 확진자들의 통제 하에 있는 특성/요인들로 확진자들의 선택에 따라 값이 달라지는 특성을 의미합니다. 확진자들이 어떤 행동을 보였느냐를 기반으로 비슷한 행동 패턴을 보인 확진자들을 파악하기 위해 Cluster 모델을 활용해 확진자들을 행동 유형에 따라 구분지었습니다. 모델에 활용한 행동 요인과 관련된 특성들은 모두 네 가지 입니다  \n",
    "\n",
    " - 1) 감염 경로 유형  \n",
    " - 2) 유동성  \n",
    " - 3) 접촉 정도  \n",
    " - 4) 확진받기까지 걸린 시간  "
   ]
  },
  {
   "cell_type": "markdown",
   "metadata": {},
   "source": [
    "#### 1.0. Data prep"
   ]
  },
  {
   "cell_type": "code",
   "execution_count": 2,
   "metadata": {},
   "outputs": [],
   "source": [
    "from IPython.display import HTML\n",
    "import pandas as pd\n",
    "import numpy as np\n",
    "import seaborn as sns\n",
    "import matplotlib.pyplot as plt\n",
    "import matplotlib.dates as mdates\n",
    "import matplotlib.animation as animation\n",
    "\n",
    "import plotly.express as px\n",
    "import plotly.io as pio\n",
    "pio.renderers.default = \"notebook_connected\"\n",
    "\n",
    "from sklearn.preprocessing import LabelEncoder, OneHotEncoder, StandardScaler \n",
    "from sklearn.cluster import KMeans\n",
    "from sklearn.decomposition import PCA\n",
    "\n",
    "pd.set_option('display.float_format', lambda x: '%.2f' % x)\n",
    "import warnings  \n",
    "warnings.filterwarnings('ignore')"
   ]
  },
  {
   "cell_type": "code",
   "execution_count": 4,
   "metadata": {},
   "outputs": [
    {
     "data": {
      "text/html": [
       "<div>\n",
       "<style scoped>\n",
       "    .dataframe tbody tr th:only-of-type {\n",
       "        vertical-align: middle;\n",
       "    }\n",
       "\n",
       "    .dataframe tbody tr th {\n",
       "        vertical-align: top;\n",
       "    }\n",
       "\n",
       "    .dataframe thead th {\n",
       "        text-align: right;\n",
       "    }\n",
       "</style>\n",
       "<table border=\"1\" class=\"dataframe\">\n",
       "  <thead>\n",
       "    <tr style=\"text-align: right;\">\n",
       "      <th></th>\n",
       "      <th>patient_id</th>\n",
       "      <th>global_num</th>\n",
       "      <th>sex</th>\n",
       "      <th>birth_year</th>\n",
       "      <th>age</th>\n",
       "      <th>country</th>\n",
       "      <th>province</th>\n",
       "      <th>city</th>\n",
       "      <th>disease</th>\n",
       "      <th>infection_case</th>\n",
       "      <th>infection_order</th>\n",
       "      <th>infected_by</th>\n",
       "      <th>contact_number</th>\n",
       "      <th>symptom_onset_date</th>\n",
       "      <th>confirmed_date</th>\n",
       "      <th>released_date</th>\n",
       "      <th>deceased_date</th>\n",
       "      <th>state</th>\n",
       "    </tr>\n",
       "  </thead>\n",
       "  <tbody>\n",
       "    <tr>\n",
       "      <th>0</th>\n",
       "      <td>1000000001</td>\n",
       "      <td>2.00</td>\n",
       "      <td>male</td>\n",
       "      <td>1964</td>\n",
       "      <td>50s</td>\n",
       "      <td>Korea</td>\n",
       "      <td>Seoul</td>\n",
       "      <td>Gangseo-gu</td>\n",
       "      <td>NaN</td>\n",
       "      <td>overseas inflow</td>\n",
       "      <td>1.00</td>\n",
       "      <td>NaN</td>\n",
       "      <td>75</td>\n",
       "      <td>2020-01-22</td>\n",
       "      <td>2020-01-23</td>\n",
       "      <td>2020-02-05</td>\n",
       "      <td>NaN</td>\n",
       "      <td>released</td>\n",
       "    </tr>\n",
       "    <tr>\n",
       "      <th>1</th>\n",
       "      <td>1000000002</td>\n",
       "      <td>5.00</td>\n",
       "      <td>male</td>\n",
       "      <td>1987</td>\n",
       "      <td>30s</td>\n",
       "      <td>Korea</td>\n",
       "      <td>Seoul</td>\n",
       "      <td>Jungnang-gu</td>\n",
       "      <td>NaN</td>\n",
       "      <td>overseas inflow</td>\n",
       "      <td>1.00</td>\n",
       "      <td>NaN</td>\n",
       "      <td>31</td>\n",
       "      <td>NaN</td>\n",
       "      <td>2020-01-30</td>\n",
       "      <td>2020-03-02</td>\n",
       "      <td>NaN</td>\n",
       "      <td>released</td>\n",
       "    </tr>\n",
       "    <tr>\n",
       "      <th>2</th>\n",
       "      <td>1000000003</td>\n",
       "      <td>6.00</td>\n",
       "      <td>male</td>\n",
       "      <td>1964</td>\n",
       "      <td>50s</td>\n",
       "      <td>Korea</td>\n",
       "      <td>Seoul</td>\n",
       "      <td>Jongno-gu</td>\n",
       "      <td>NaN</td>\n",
       "      <td>contact with patient</td>\n",
       "      <td>2.00</td>\n",
       "      <td>2002000001</td>\n",
       "      <td>17</td>\n",
       "      <td>NaN</td>\n",
       "      <td>2020-01-30</td>\n",
       "      <td>2020-02-19</td>\n",
       "      <td>NaN</td>\n",
       "      <td>released</td>\n",
       "    </tr>\n",
       "  </tbody>\n",
       "</table>\n",
       "</div>"
      ],
      "text/plain": [
       "   patient_id  global_num   sex birth_year  age country province         city  \\\n",
       "0  1000000001        2.00  male       1964  50s   Korea    Seoul   Gangseo-gu   \n",
       "1  1000000002        5.00  male       1987  30s   Korea    Seoul  Jungnang-gu   \n",
       "2  1000000003        6.00  male       1964  50s   Korea    Seoul    Jongno-gu   \n",
       "\n",
       "  disease        infection_case  infection_order infected_by contact_number  \\\n",
       "0     NaN       overseas inflow             1.00         NaN             75   \n",
       "1     NaN       overseas inflow             1.00         NaN             31   \n",
       "2     NaN  contact with patient             2.00  2002000001             17   \n",
       "\n",
       "  symptom_onset_date confirmed_date released_date deceased_date     state  \n",
       "0         2020-01-22     2020-01-23    2020-02-05           NaN  released  \n",
       "1                NaN     2020-01-30    2020-03-02           NaN  released  \n",
       "2                NaN     2020-01-30    2020-02-19           NaN  released  "
      ]
     },
     "execution_count": 4,
     "metadata": {},
     "output_type": "execute_result"
    }
   ],
   "source": [
    "patient = pd.read_csv('data/PatientInfo.csv')\n",
    "patient.head(3)"
   ]
  },
  {
   "cell_type": "code",
   "execution_count": 5,
   "metadata": {},
   "outputs": [
    {
     "name": "stdout",
     "output_type": "stream",
     "text": [
      "(4004, 18) 4004\n"
     ]
    }
   ],
   "source": [
    "print(patient.shape, len(patient.patient_id.unique())) "
   ]
  },
  {
   "cell_type": "markdown",
   "metadata": {},
   "source": [
    "PatientInfo 데이터 내에 총 3388명의 확진자가 있습니다. rows와 patient_id의 독립적인 개수가 같은 것으로 보아 중복 id는 없는 것으로 보입니다. 그럼 모델링에 활용할 변수들을 준비하는 과정을 시작하겠습니다.  "
   ]
  },
  {
   "cell_type": "code",
   "execution_count": 6,
   "metadata": {},
   "outputs": [],
   "source": [
    "data = patient.copy()"
   ]
  },
  {
   "cell_type": "markdown",
   "metadata": {},
   "source": [
    "#### 1.1. 감염 경로 유형 (Infection route)  \n",
    "\n",
    "감염 경로 유형의 특성은 코로나 바이러스에 어떤 경로로 감염되었는지를 보여주는 특성입니다. 감염 경로 유형은 집단 모임에 참석했거나 해외에서 입국하는 등 사람의 행동에 따라 값이 달라지므로 행동적인 특성으로 볼 수 있습니다. PatientInfo의 infection_case가 이 정보를 담고 있으나 아래 셀을 보시면, infection_case의 독립된 값이 모두 24개인 것을 볼 수 있습니다."
   ]
  },
  {
   "cell_type": "code",
   "execution_count": 7,
   "metadata": {},
   "outputs": [
    {
     "name": "stdout",
     "output_type": "stream",
     "text": [
      "the number of unique values in infection_case: 30\n"
     ]
    },
    {
     "data": {
      "text/plain": [
       "array(['overseas inflow', 'contact with patient', 'Seongdong-gu APT',\n",
       "       'etc', \"Eunpyeong St. Mary's Hospital\", 'Shincheonji Church',\n",
       "       'Dongan Church', 'Guro-gu Call Center', nan, 'Itaewon Clubs',\n",
       "       'Samsung Medical Center', 'Coupang Logistics Center',\n",
       "       'Guri Collective Infection', 'KB Life Insurance',\n",
       "       'Yeongdeungpo Learning Institute', 'Onchun Church',\n",
       "       'Cheongdo Daenam Hospital', 'Suyeong-gu Kindergarten',\n",
       "       'Ministry of Oceans and Fisheries', 'gym facility in Cheonan',\n",
       "       'gym facility in Sejong', 'River of Grace Community Church',\n",
       "       'Gyeongsan Seorin Nursing Home',\n",
       "       'Gyeongsan Cham Joeun Community Center',\n",
       "       'Gyeongsan Jeil Silver Town', 'Bonghwa Pureun Nursing Home',\n",
       "       'Pilgrimage to Israel', 'Milal Shelter', 'Geochang Church',\n",
       "       'Changnyeong Coin Karaoke'], dtype=object)"
      ]
     },
     "execution_count": 7,
     "metadata": {},
     "output_type": "execute_result"
    }
   ],
   "source": [
    "print('the number of unique values in infection_case:',len(data['infection_case'].unique())) \n",
    "data['infection_case'].unique()"
   ]
  },
  {
   "cell_type": "markdown",
   "metadata": {},
   "source": [
    "일반적으로 모델링에서 24개의 값을 가진 변수를 그대로 활용한다면 의미있는 결과를 내기는 어려울 것입니다. 물론 24개의 값이 모두 특별한 의미를 가지고 있다면 상황은 달라집니다. 하지만 infection_case 의 24개의 값들이 실제로 얼마나 존재하는지 높은 순으로 정렬한 다음의 차트를 보면, 첫 세개의 값(환자와의 직접 접촉-'contact with patient', 해외유입-'overseas inflow', 알수없음-'etc')을 제외한 나머지 각각은 큰 비중을 차지하지 않는 것을 볼 수 있습니다.  "
   ]
  },
  {
   "cell_type": "code",
   "execution_count": 8,
   "metadata": {},
   "outputs": [
    {
     "data": {
      "image/png": "[encoded data removed]",
      "text/plain": [
       "<Figure size 864x432 with 1 Axes>"
      ]
     },
     "metadata": {
      "needs_background": "light"
     },
     "output_type": "display_data"
    }
   ],
   "source": [
    "g = data.groupby(['infection_case'])['patient_id'].count()\n",
    "g = g.reset_index()\n",
    "g.rename(columns = {'patient_id': 'count'}, inplace = True)\n",
    "\n",
    "g = g.sort_values('count', ascending = False)\n",
    "\n",
    "plt.figure(figsize = (12,6))\n",
    "plt.title('number of patients in infection_case values')\n",
    "sns.barplot(y = 'infection_case', x= 'count', data = g)\n",
    "display()"
   ]
  },
  {
   "cell_type": "markdown",
   "metadata": {},
   "source": [
    "'어디'에서 감염되었느냐를 보는 것이 분석의 목적이었다면, 모든 값의 사용을 고려하는 것이 맞을 것입니다. 하지만 이번 분석의 목적은 감염의 '어떤' 경로가 사망에 이르는 위험성을 가지고 있었느냐를 밝히는 것입니다. 그렇다면 '어디'라는 구체적 장소를 그대로 사용하는 것보다 이 변수를 활용해 '어떤' 방식으로 감염되게 되었는지를 만들어내 모델에 활용하는 것이 필요합니다. 첫 번째 세개의 값, '감염자와의 직접 접촉(contact with patient)', '해외유입(overseas inflow)', '알수없음(etc)'은 그 자체의 의미를 살려두고, 나머지는 집단 감염에 따른 세부적 사례를 나타내는 것으로 한데 묶어 '집단 감염(group)'의 값을 부여합니다.  \n",
    "\n",
    "하지만 이때 '집단 감염'을 정의하는데에는 주의를 필요로 합니다. 위의 차트를 보면 \"River of Grace Community Church\"는 교회에서 감염된 것으로 보아 '집단 감염'일 가능성이 있지만, 실제로 해당 값을 갖는 확진자는 단 한명에 불과합니다. 데이터 내에 한 명만이 존재하는 사례를 \"집단 감염\"이라고 보기는 어려울 것입니다. 마찬가지로 소수의 인원이 속한 값은 값 자체로는 집단으로 보일지 몰라도 실제로는 집단 감염이라고 보기 어렵습니다. 따라서 해당 값을 가진 확진자들의 수가 최소 5명 이상일 때에만 '집단 감염(group)' 값을 부여하고, 나머지는 활용하지 않습니다.  \n",
    "\n",
    "먼저 5명 미만의 infection_case를 추출해 확인합니다.  "
   ]
  },
  {
   "cell_type": "code",
   "execution_count": 9,
   "metadata": {},
   "outputs": [
    {
     "data": {
      "text/html": [
       "<div>\n",
       "<style scoped>\n",
       "    .dataframe tbody tr th:only-of-type {\n",
       "        vertical-align: middle;\n",
       "    }\n",
       "\n",
       "    .dataframe tbody tr th {\n",
       "        vertical-align: top;\n",
       "    }\n",
       "\n",
       "    .dataframe thead th {\n",
       "        text-align: right;\n",
       "    }\n",
       "</style>\n",
       "<table border=\"1\" class=\"dataframe\">\n",
       "  <thead>\n",
       "    <tr style=\"text-align: right;\">\n",
       "      <th></th>\n",
       "      <th>patient_id</th>\n",
       "    </tr>\n",
       "    <tr>\n",
       "      <th>infection_case</th>\n",
       "      <th></th>\n",
       "    </tr>\n",
       "  </thead>\n",
       "  <tbody>\n",
       "    <tr>\n",
       "      <th>Changnyeong Coin Karaoke</th>\n",
       "      <td>4</td>\n",
       "    </tr>\n",
       "    <tr>\n",
       "      <th>Pilgrimage to Israel</th>\n",
       "      <td>2</td>\n",
       "    </tr>\n",
       "    <tr>\n",
       "      <th>River of Grace Community Church</th>\n",
       "      <td>1</td>\n",
       "    </tr>\n",
       "    <tr>\n",
       "      <th>Suyeong-gu Kindergarten</th>\n",
       "      <td>3</td>\n",
       "    </tr>\n",
       "    <tr>\n",
       "      <th>Yeongdeungpo Learning Institute</th>\n",
       "      <td>2</td>\n",
       "    </tr>\n",
       "    <tr>\n",
       "      <th>gym facility in Sejong</th>\n",
       "      <td>4</td>\n",
       "    </tr>\n",
       "  </tbody>\n",
       "</table>\n",
       "</div>"
      ],
      "text/plain": [
       "                                 patient_id\n",
       "infection_case                             \n",
       "Changnyeong Coin Karaoke                  4\n",
       "Pilgrimage to Israel                      2\n",
       "River of Grace Community Church           1\n",
       "Suyeong-gu Kindergarten                   3\n",
       "Yeongdeungpo Learning Institute           2\n",
       "gym facility in Sejong                    4"
      ]
     },
     "execution_count": 9,
     "metadata": {},
     "output_type": "execute_result"
    }
   ],
   "source": [
    "g = data.groupby(['infection_case'])['patient_id'].count()\n",
    "g = pd.DataFrame(g)\n",
    "\n",
    "infection_case_less_than_5 = g[g['patient_id'] < 5].index.tolist()\n",
    "g[g.index.isin(infection_case_less_than_5)]"
   ]
  },
  {
   "cell_type": "markdown",
   "metadata": {},
   "source": [
    "위의 리스트에 속하는 확진자들을 걸러냅니다. 총 14명의 확진자가 제거됩니다.  "
   ]
  },
  {
   "cell_type": "code",
   "execution_count": 10,
   "metadata": {},
   "outputs": [
    {
     "name": "stdout",
     "output_type": "stream",
     "text": [
      "original data shape: (4004, 18)\n",
      "data shape after slicing:  (3988, 18)\n"
     ]
    }
   ],
   "source": [
    "print('original data shape:', data.shape)\n",
    "data = data[~(data['infection_case'].isin(infection_case_less_than_5))]\n",
    "print('data shape after slicing: ', data.shape)"
   ]
  },
  {
   "cell_type": "markdown",
   "metadata": {},
   "source": [
    "다음으로 위의 infection_case의 독립적 값에 존재하던 nan를 어떻게 처리할지를 결정합니다. 가장 간단한 방법은 nan값을 가진 확진자는 모두 제거하는 것일 겁니다. 하지만 아래 infection_csae의 nan의 수는 768개(약 23%)로 꽤 많은 비중을 차지하는 것을 볼 수 있습니다.  "
   ]
  },
  {
   "cell_type": "code",
   "execution_count": 11,
   "metadata": {},
   "outputs": [
    {
     "data": {
      "text/plain": [
       "(793, 18)"
      ]
     },
     "execution_count": 11,
     "metadata": {},
     "output_type": "execute_result"
    }
   ],
   "source": [
    "data[data['infection_case'].isna()].shape"
   ]
  },
  {
   "cell_type": "markdown",
   "metadata": {},
   "source": [
    "무엇보다 infection_case가 nan이라는 것은 그야말로 해당 확진자의 감염 경로를 \"알 수 없다\"는 의미이고, 해당 값은 infection_case의 값 중 하나인 etc가 의미하는 바와 같습니다. 따라서 nan은 etc와 같은 카테고리 - \"알 수 없음(unknown)\"으로 정의합니다.  "
   ]
  },
  {
   "cell_type": "code",
   "execution_count": 12,
   "metadata": {},
   "outputs": [
    {
     "name": "stdout",
     "output_type": "stream",
     "text": [
      "(3988, 19)\n"
     ]
    },
    {
     "data": {
      "text/html": [
       "<div>\n",
       "<style scoped>\n",
       "    .dataframe tbody tr th:only-of-type {\n",
       "        vertical-align: middle;\n",
       "    }\n",
       "\n",
       "    .dataframe tbody tr th {\n",
       "        vertical-align: top;\n",
       "    }\n",
       "\n",
       "    .dataframe thead th {\n",
       "        text-align: right;\n",
       "    }\n",
       "</style>\n",
       "<table border=\"1\" class=\"dataframe\">\n",
       "  <thead>\n",
       "    <tr style=\"text-align: right;\">\n",
       "      <th></th>\n",
       "      <th>patient_id</th>\n",
       "      <th>global_num</th>\n",
       "      <th>sex</th>\n",
       "      <th>birth_year</th>\n",
       "      <th>age</th>\n",
       "      <th>country</th>\n",
       "      <th>province</th>\n",
       "      <th>city</th>\n",
       "      <th>disease</th>\n",
       "      <th>infection_case</th>\n",
       "      <th>infection_order</th>\n",
       "      <th>infected_by</th>\n",
       "      <th>contact_number</th>\n",
       "      <th>symptom_onset_date</th>\n",
       "      <th>confirmed_date</th>\n",
       "      <th>released_date</th>\n",
       "      <th>deceased_date</th>\n",
       "      <th>state</th>\n",
       "      <th>infection</th>\n",
       "    </tr>\n",
       "  </thead>\n",
       "  <tbody>\n",
       "    <tr>\n",
       "      <th>0</th>\n",
       "      <td>1000000001</td>\n",
       "      <td>2.00</td>\n",
       "      <td>male</td>\n",
       "      <td>1964</td>\n",
       "      <td>50s</td>\n",
       "      <td>Korea</td>\n",
       "      <td>Seoul</td>\n",
       "      <td>Gangseo-gu</td>\n",
       "      <td>NaN</td>\n",
       "      <td>overseas inflow</td>\n",
       "      <td>1.00</td>\n",
       "      <td>NaN</td>\n",
       "      <td>75</td>\n",
       "      <td>2020-01-22</td>\n",
       "      <td>2020-01-23</td>\n",
       "      <td>2020-02-05</td>\n",
       "      <td>NaN</td>\n",
       "      <td>released</td>\n",
       "      <td>overseas</td>\n",
       "    </tr>\n",
       "    <tr>\n",
       "      <th>1</th>\n",
       "      <td>1000000002</td>\n",
       "      <td>5.00</td>\n",
       "      <td>male</td>\n",
       "      <td>1987</td>\n",
       "      <td>30s</td>\n",
       "      <td>Korea</td>\n",
       "      <td>Seoul</td>\n",
       "      <td>Jungnang-gu</td>\n",
       "      <td>NaN</td>\n",
       "      <td>overseas inflow</td>\n",
       "      <td>1.00</td>\n",
       "      <td>NaN</td>\n",
       "      <td>31</td>\n",
       "      <td>NaN</td>\n",
       "      <td>2020-01-30</td>\n",
       "      <td>2020-03-02</td>\n",
       "      <td>NaN</td>\n",
       "      <td>released</td>\n",
       "      <td>overseas</td>\n",
       "    </tr>\n",
       "    <tr>\n",
       "      <th>2</th>\n",
       "      <td>1000000003</td>\n",
       "      <td>6.00</td>\n",
       "      <td>male</td>\n",
       "      <td>1964</td>\n",
       "      <td>50s</td>\n",
       "      <td>Korea</td>\n",
       "      <td>Seoul</td>\n",
       "      <td>Jongno-gu</td>\n",
       "      <td>NaN</td>\n",
       "      <td>contact with patient</td>\n",
       "      <td>2.00</td>\n",
       "      <td>2002000001</td>\n",
       "      <td>17</td>\n",
       "      <td>NaN</td>\n",
       "      <td>2020-01-30</td>\n",
       "      <td>2020-02-19</td>\n",
       "      <td>NaN</td>\n",
       "      <td>released</td>\n",
       "      <td>individual</td>\n",
       "    </tr>\n",
       "    <tr>\n",
       "      <th>3</th>\n",
       "      <td>1000000004</td>\n",
       "      <td>7.00</td>\n",
       "      <td>male</td>\n",
       "      <td>1991</td>\n",
       "      <td>20s</td>\n",
       "      <td>Korea</td>\n",
       "      <td>Seoul</td>\n",
       "      <td>Mapo-gu</td>\n",
       "      <td>NaN</td>\n",
       "      <td>overseas inflow</td>\n",
       "      <td>1.00</td>\n",
       "      <td>NaN</td>\n",
       "      <td>9</td>\n",
       "      <td>2020-01-26</td>\n",
       "      <td>2020-01-30</td>\n",
       "      <td>2020-02-15</td>\n",
       "      <td>NaN</td>\n",
       "      <td>released</td>\n",
       "      <td>overseas</td>\n",
       "    </tr>\n",
       "    <tr>\n",
       "      <th>4</th>\n",
       "      <td>1000000005</td>\n",
       "      <td>9.00</td>\n",
       "      <td>female</td>\n",
       "      <td>1992</td>\n",
       "      <td>20s</td>\n",
       "      <td>Korea</td>\n",
       "      <td>Seoul</td>\n",
       "      <td>Seongbuk-gu</td>\n",
       "      <td>NaN</td>\n",
       "      <td>contact with patient</td>\n",
       "      <td>2.00</td>\n",
       "      <td>1000000002</td>\n",
       "      <td>2</td>\n",
       "      <td>NaN</td>\n",
       "      <td>2020-01-31</td>\n",
       "      <td>2020-02-24</td>\n",
       "      <td>NaN</td>\n",
       "      <td>released</td>\n",
       "      <td>individual</td>\n",
       "    </tr>\n",
       "  </tbody>\n",
       "</table>\n",
       "</div>"
      ],
      "text/plain": [
       "   patient_id  global_num     sex birth_year  age country province  \\\n",
       "0  1000000001        2.00    male       1964  50s   Korea    Seoul   \n",
       "1  1000000002        5.00    male       1987  30s   Korea    Seoul   \n",
       "2  1000000003        6.00    male       1964  50s   Korea    Seoul   \n",
       "3  1000000004        7.00    male       1991  20s   Korea    Seoul   \n",
       "4  1000000005        9.00  female       1992  20s   Korea    Seoul   \n",
       "\n",
       "          city disease        infection_case  infection_order infected_by  \\\n",
       "0   Gangseo-gu     NaN       overseas inflow             1.00         NaN   \n",
       "1  Jungnang-gu     NaN       overseas inflow             1.00         NaN   \n",
       "2    Jongno-gu     NaN  contact with patient             2.00  2002000001   \n",
       "3      Mapo-gu     NaN       overseas inflow             1.00         NaN   \n",
       "4  Seongbuk-gu     NaN  contact with patient             2.00  1000000002   \n",
       "\n",
       "  contact_number symptom_onset_date confirmed_date released_date  \\\n",
       "0             75         2020-01-22     2020-01-23    2020-02-05   \n",
       "1             31                NaN     2020-01-30    2020-03-02   \n",
       "2             17                NaN     2020-01-30    2020-02-19   \n",
       "3              9         2020-01-26     2020-01-30    2020-02-15   \n",
       "4              2                NaN     2020-01-31    2020-02-24   \n",
       "\n",
       "  deceased_date     state   infection  \n",
       "0           NaN  released    overseas  \n",
       "1           NaN  released    overseas  \n",
       "2           NaN  released  individual  \n",
       "3           NaN  released    overseas  \n",
       "4           NaN  released  individual  "
      ]
     },
     "execution_count": 12,
     "metadata": {},
     "output_type": "execute_result"
    }
   ],
   "source": [
    "def categorisation(x):\n",
    "    \n",
    "    '''\n",
    "    categorises infection types\n",
    "    '''\n",
    "    \n",
    "    if x == 'overseas inflow':\n",
    "        y = 'overseas'\n",
    "    elif x == 'contact with patient': \n",
    "        y = 'individual'\n",
    "    elif (x == 'etc') | (pd.isna(x)):\n",
    "        y = 'unknown'\n",
    "    else: \n",
    "        y = 'group' \n",
    "    \n",
    "    return y \n",
    "\n",
    "data['infection'] = data['infection_case'].apply(lambda x: categorisation(x))\n",
    "print(data.shape)\n",
    "data.head()"
   ]
  },
  {
   "cell_type": "markdown",
   "metadata": {},
   "source": [
    "위에서 그린 분포 차트를 새로 가공한 변수를 대상으로 다시 그려보면, 네 가지의 값이 모두 의미있는 분포를 보이는 것을 확인할 수 있으며 결과적으로도 의미있는 결과를 도출할 것이라고 예상할 수 있습니다.  "
   ]
  },
  {
   "cell_type": "code",
   "execution_count": 13,
   "metadata": {},
   "outputs": [
    {
     "data": {
      "image/png": "[encoded data removed]",
      "text/plain": [
       "<Figure size 864x432 with 1 Axes>"
      ]
     },
     "metadata": {
      "needs_background": "light"
     },
     "output_type": "display_data"
    }
   ],
   "source": [
    "g = data.groupby(['infection'])['patient_id'].count()\n",
    "g = g.reset_index()\n",
    "g.rename(columns = {'patient_id': 'count'}, inplace = True)\n",
    "\n",
    "g = g.sort_values('count', ascending = False)\n",
    "\n",
    "plt.figure(figsize = (12,6))\n",
    "sns.barplot(y = 'infection', x= 'count', data = g)\n",
    "plt.title('number of patients in infection values')\n",
    "display()"
   ]
  },
  {
   "cell_type": "markdown",
   "metadata": {},
   "source": [
    "이상, PatientInfo의 infection_case를 재가공하여 '집단감염(group)', '개인감염(individual)', '해외유입(overseas)', '밝혀지지않음(unknown)'으로 구성된 \"감염 경로 유형\"의 특성이 생성되었습니다."
   ]
  },
  {
   "cell_type": "markdown",
   "metadata": {},
   "source": [
    "#### 1.2. 유동성 (Mobility level)  \n",
    "\n",
    "유동성은 확진자들이 얼마만큼의 이동을 보였는지를 나타내는 특성입니다. 예를들어 친구를 만나러 카페에 간 사람과 가지 않고 집에 있던 사람은 유동성에서 다른 값을 갖게 될 것입니다. 따라서 유동성은 확진자들의 행동 유형을 구분지을 수 있는 행동적 특성의 하나로써 모델에 활용합니다. 유동성의 특성은 확진자들이 다녀갔던 장소에 대한 정보를 나타내는 PatientRoute의 type에 기반하여 생성됩니다.  "
   ]
  },
  {
   "cell_type": "code",
   "execution_count": 15,
   "metadata": {},
   "outputs": [
    {
     "data": {
      "text/html": [
       "<div>\n",
       "<style scoped>\n",
       "    .dataframe tbody tr th:only-of-type {\n",
       "        vertical-align: middle;\n",
       "    }\n",
       "\n",
       "    .dataframe tbody tr th {\n",
       "        vertical-align: top;\n",
       "    }\n",
       "\n",
       "    .dataframe thead th {\n",
       "        text-align: right;\n",
       "    }\n",
       "</style>\n",
       "<table border=\"1\" class=\"dataframe\">\n",
       "  <thead>\n",
       "    <tr style=\"text-align: right;\">\n",
       "      <th></th>\n",
       "      <th>patient_id</th>\n",
       "      <th>global_num</th>\n",
       "      <th>date</th>\n",
       "      <th>province</th>\n",
       "      <th>city</th>\n",
       "      <th>type</th>\n",
       "      <th>latitude</th>\n",
       "      <th>longitude</th>\n",
       "    </tr>\n",
       "  </thead>\n",
       "  <tbody>\n",
       "    <tr>\n",
       "      <th>0</th>\n",
       "      <td>1000000001</td>\n",
       "      <td>2.00</td>\n",
       "      <td>2020-01-22</td>\n",
       "      <td>Gyeonggi-do</td>\n",
       "      <td>Gimpo-si</td>\n",
       "      <td>airport</td>\n",
       "      <td>37.62</td>\n",
       "      <td>126.72</td>\n",
       "    </tr>\n",
       "    <tr>\n",
       "      <th>1</th>\n",
       "      <td>1000000001</td>\n",
       "      <td>2.00</td>\n",
       "      <td>2020-01-24</td>\n",
       "      <td>Seoul</td>\n",
       "      <td>Jung-gu</td>\n",
       "      <td>hospital</td>\n",
       "      <td>37.57</td>\n",
       "      <td>127.01</td>\n",
       "    </tr>\n",
       "    <tr>\n",
       "      <th>2</th>\n",
       "      <td>1000000002</td>\n",
       "      <td>5.00</td>\n",
       "      <td>2020-01-25</td>\n",
       "      <td>Seoul</td>\n",
       "      <td>Seongbuk-gu</td>\n",
       "      <td>etc</td>\n",
       "      <td>37.59</td>\n",
       "      <td>127.02</td>\n",
       "    </tr>\n",
       "    <tr>\n",
       "      <th>3</th>\n",
       "      <td>1000000002</td>\n",
       "      <td>5.00</td>\n",
       "      <td>2020-01-26</td>\n",
       "      <td>Seoul</td>\n",
       "      <td>Seongbuk-gu</td>\n",
       "      <td>store</td>\n",
       "      <td>37.59</td>\n",
       "      <td>127.02</td>\n",
       "    </tr>\n",
       "    <tr>\n",
       "      <th>4</th>\n",
       "      <td>1000000002</td>\n",
       "      <td>5.00</td>\n",
       "      <td>2020-01-26</td>\n",
       "      <td>Seoul</td>\n",
       "      <td>Seongdong-gu</td>\n",
       "      <td>public_transportation</td>\n",
       "      <td>37.56</td>\n",
       "      <td>127.03</td>\n",
       "    </tr>\n",
       "  </tbody>\n",
       "</table>\n",
       "</div>"
      ],
      "text/plain": [
       "   patient_id  global_num        date     province          city  \\\n",
       "0  1000000001        2.00  2020-01-22  Gyeonggi-do      Gimpo-si   \n",
       "1  1000000001        2.00  2020-01-24        Seoul       Jung-gu   \n",
       "2  1000000002        5.00  2020-01-25        Seoul   Seongbuk-gu   \n",
       "3  1000000002        5.00  2020-01-26        Seoul   Seongbuk-gu   \n",
       "4  1000000002        5.00  2020-01-26        Seoul  Seongdong-gu   \n",
       "\n",
       "                    type  latitude  longitude  \n",
       "0                airport     37.62     126.72  \n",
       "1               hospital     37.57     127.01  \n",
       "2                    etc     37.59     127.02  \n",
       "3                  store     37.59     127.02  \n",
       "4  public_transportation     37.56     127.03  "
      ]
     },
     "execution_count": 15,
     "metadata": {},
     "output_type": "execute_result"
    }
   ],
   "source": [
    "### Bring in PatientRoute data\n",
    "route = pd.read_csv('data/PatientRoute.csv')\n",
    "route.head()"
   ]
  },
  {
   "cell_type": "code",
   "execution_count": 16,
   "metadata": {},
   "outputs": [
    {
     "name": "stdout",
     "output_type": "stream",
     "text": [
      "the number of unique values in type: 25\n"
     ]
    },
    {
     "data": {
      "text/plain": [
       "array(['airport', 'hospital', 'etc', 'store', 'public_transportation',\n",
       "       'restaurant', 'church', 'beauty_salon', 'pharmacy', 'pc_cafe',\n",
       "       'bank', 'academy', 'cafe', 'bakery', 'bar', 'gym', 'school',\n",
       "       'real_estate_agency', 'karaoke', 'post_office', 'gas_station',\n",
       "       'park', 'lodging', 'university', 'administrative_area_level_1'],\n",
       "      dtype=object)"
      ]
     },
     "execution_count": 16,
     "metadata": {},
     "output_type": "execute_result"
    }
   ],
   "source": [
    "print('the number of unique values in type:', len(route['type'].unique()))\n",
    "route['type'].unique()"
   ]
  },
  {
   "cell_type": "code",
   "execution_count": 17,
   "metadata": {},
   "outputs": [
    {
     "data": {
      "text/plain": [
       "(0, 8)"
      ]
     },
     "execution_count": 17,
     "metadata": {},
     "output_type": "execute_result"
    }
   ],
   "source": [
    "route[route['type'].isna()].shape"
   ]
  },
  {
   "cell_type": "markdown",
   "metadata": {},
   "source": [
    "먼저 데이터에는 총 24가지의 독립적인 장소들이 존재하고 있고, 해당 변수에는 결측치가 없는 것을 확인하였습니다. 이 장소들을 기반으로 각 확진자들의 '유동성'에 대한 특성을 추출합니다. 먼저 방문한 장소들을 기반으로 해당 이동이 필수적(essential)이었는지 부수적(non-essential)이었는지를 구분하고, 각 확진자 별로 필수적/부수적 이동을 얼마나 하였는지 그 횟수를 구합니다.  \n",
    "\n",
    "필수적/부수적 이동을 구별하고자 먼저 24가지의 장소들을 세부 카테고리로 구분하였습니다.  "
   ]
  },
  {
   "cell_type": "code",
   "execution_count": 18,
   "metadata": {},
   "outputs": [],
   "source": [
    "## categories\n",
    "leisure = ['library', 'theater', 'cafe', 'bakery', 'beauty_salon',\n",
    "          'pc_cafe', 'billiards','restaurant', 'bar', 'karaoke']\n",
    "travel = ['airport', 'lodging']\n",
    "essential_edu = ['primary_school', 'school', 'university']\n",
    "non_essential_edu = ['academy']\n",
    "exercise = ['gym', 'mountain', 'park']\n",
    "essential_admin = ['administrative_area_level_1', 'governmnet_office', 'post_office']\n",
    "non_essential_admin = ['police_office', 'bank', 'real_estate_agency']\n",
    "necessity = ['store', 'public_transportation', 'gas_station']\n",
    "medical = ['hospital', 'pharmacy']\n",
    "church = ['church']\n",
    "etc = ['etc']"
   ]
  },
  {
   "cell_type": "markdown",
   "metadata": {},
   "source": [
    "위 카테고리 중에서 '필수 교육(essential_edu)/필수 행정(essential_admin)/생활 필수(necessity)/의료(medical)' 카테고리를 필수적 이동(essential)으로 구분하고, 나머지는 부수적 이동(non-essential)으로 정의합니다.  "
   ]
  },
  {
   "cell_type": "code",
   "execution_count": 21,
   "metadata": {},
   "outputs": [
    {
     "data": {
      "text/html": [
       "<div>\n",
       "<style scoped>\n",
       "    .dataframe tbody tr th:only-of-type {\n",
       "        vertical-align: middle;\n",
       "    }\n",
       "\n",
       "    .dataframe tbody tr th {\n",
       "        vertical-align: top;\n",
       "    }\n",
       "\n",
       "    .dataframe thead th {\n",
       "        text-align: right;\n",
       "    }\n",
       "</style>\n",
       "<table border=\"1\" class=\"dataframe\">\n",
       "  <thead>\n",
       "    <tr style=\"text-align: right;\">\n",
       "      <th></th>\n",
       "      <th>patient_id</th>\n",
       "      <th>type</th>\n",
       "      <th>route_group_essential</th>\n",
       "    </tr>\n",
       "  </thead>\n",
       "  <tbody>\n",
       "    <tr>\n",
       "      <th>0</th>\n",
       "      <td>1000000001</td>\n",
       "      <td>airport</td>\n",
       "      <td>non-essential</td>\n",
       "    </tr>\n",
       "    <tr>\n",
       "      <th>1</th>\n",
       "      <td>1000000001</td>\n",
       "      <td>hospital</td>\n",
       "      <td>essential</td>\n",
       "    </tr>\n",
       "    <tr>\n",
       "      <th>2</th>\n",
       "      <td>1000000002</td>\n",
       "      <td>etc</td>\n",
       "      <td>non-essential</td>\n",
       "    </tr>\n",
       "    <tr>\n",
       "      <th>3</th>\n",
       "      <td>1000000002</td>\n",
       "      <td>store</td>\n",
       "      <td>essential</td>\n",
       "    </tr>\n",
       "    <tr>\n",
       "      <th>4</th>\n",
       "      <td>1000000002</td>\n",
       "      <td>public_transportation</td>\n",
       "      <td>essential</td>\n",
       "    </tr>\n",
       "  </tbody>\n",
       "</table>\n",
       "</div>"
      ],
      "text/plain": [
       "   patient_id                   type route_group_essential\n",
       "0  1000000001                airport         non-essential\n",
       "1  1000000001               hospital             essential\n",
       "2  1000000002                    etc         non-essential\n",
       "3  1000000002                  store             essential\n",
       "4  1000000002  public_transportation             essential"
      ]
     },
     "execution_count": 21,
     "metadata": {},
     "output_type": "execute_result"
    }
   ],
   "source": [
    "essential = essential_edu + essential_admin + necessity + medical \n",
    "\n",
    "def type_group_essen(x): \n",
    "     \n",
    "    group = None\n",
    "    if x in essential: \n",
    "        group = 'essential'\n",
    "    else:\n",
    "        group = 'non-essential' \n",
    "    return group \n",
    "\n",
    "route['route_group_essential'] = route['type'].apply(lambda x: type_group_essen(x)) \n",
    "route = route[['patient_id', 'type', 'route_group_essential']]\n",
    "route.head()"
   ]
  },
  {
   "cell_type": "markdown",
   "metadata": {},
   "source": [
    "이를 기반으로 확진자별 필수/부수적 이동의 합계를 구합니다.  "
   ]
  },
  {
   "cell_type": "code",
   "execution_count": 20,
   "metadata": {},
   "outputs": [
    {
     "data": {
      "text/html": [
       "<div>\n",
       "<style scoped>\n",
       "    .dataframe tbody tr th:only-of-type {\n",
       "        vertical-align: middle;\n",
       "    }\n",
       "\n",
       "    .dataframe tbody tr th {\n",
       "        vertical-align: top;\n",
       "    }\n",
       "\n",
       "    .dataframe thead th {\n",
       "        text-align: right;\n",
       "    }\n",
       "</style>\n",
       "<table border=\"1\" class=\"dataframe\">\n",
       "  <thead>\n",
       "    <tr style=\"text-align: right;\">\n",
       "      <th>route_group_essential</th>\n",
       "      <th>essential</th>\n",
       "      <th>non-essential</th>\n",
       "    </tr>\n",
       "    <tr>\n",
       "      <th>patient_id</th>\n",
       "      <th></th>\n",
       "      <th></th>\n",
       "    </tr>\n",
       "  </thead>\n",
       "  <tbody>\n",
       "    <tr>\n",
       "      <th>1000000001</th>\n",
       "      <td>1.00</td>\n",
       "      <td>1.00</td>\n",
       "    </tr>\n",
       "    <tr>\n",
       "      <th>1000000002</th>\n",
       "      <td>9.00</td>\n",
       "      <td>4.00</td>\n",
       "    </tr>\n",
       "    <tr>\n",
       "      <th>1000000003</th>\n",
       "      <td>nan</td>\n",
       "      <td>2.00</td>\n",
       "    </tr>\n",
       "    <tr>\n",
       "      <th>1000000004</th>\n",
       "      <td>1.00</td>\n",
       "      <td>nan</td>\n",
       "    </tr>\n",
       "    <tr>\n",
       "      <th>1000000005</th>\n",
       "      <td>1.00</td>\n",
       "      <td>nan</td>\n",
       "    </tr>\n",
       "    <tr>\n",
       "      <th>...</th>\n",
       "      <td>...</td>\n",
       "      <td>...</td>\n",
       "    </tr>\n",
       "    <tr>\n",
       "      <th>6100000086</th>\n",
       "      <td>2.00</td>\n",
       "      <td>2.00</td>\n",
       "    </tr>\n",
       "    <tr>\n",
       "      <th>6100000087</th>\n",
       "      <td>6.00</td>\n",
       "      <td>2.00</td>\n",
       "    </tr>\n",
       "    <tr>\n",
       "      <th>6100000088</th>\n",
       "      <td>5.00</td>\n",
       "      <td>19.00</td>\n",
       "    </tr>\n",
       "    <tr>\n",
       "      <th>6100000089</th>\n",
       "      <td>1.00</td>\n",
       "      <td>1.00</td>\n",
       "    </tr>\n",
       "    <tr>\n",
       "      <th>6100000090</th>\n",
       "      <td>3.00</td>\n",
       "      <td>4.00</td>\n",
       "    </tr>\n",
       "  </tbody>\n",
       "</table>\n",
       "<p>1472 rows × 2 columns</p>\n",
       "</div>"
      ],
      "text/plain": [
       "route_group_essential  essential  non-essential\n",
       "patient_id                                     \n",
       "1000000001                  1.00           1.00\n",
       "1000000002                  9.00           4.00\n",
       "1000000003                   nan           2.00\n",
       "1000000004                  1.00            nan\n",
       "1000000005                  1.00            nan\n",
       "...                          ...            ...\n",
       "6100000086                  2.00           2.00\n",
       "6100000087                  6.00           2.00\n",
       "6100000088                  5.00          19.00\n",
       "6100000089                  1.00           1.00\n",
       "6100000090                  3.00           4.00\n",
       "\n",
       "[1472 rows x 2 columns]"
      ]
     },
     "execution_count": 20,
     "metadata": {},
     "output_type": "execute_result"
    }
   ],
   "source": [
    "route['route_value'] = 1\n",
    "g = pd.DataFrame(route.groupby(['patient_id', 'route_group_essential'])['route_value'].count().unstack())\n",
    "g"
   ]
  },
  {
   "cell_type": "markdown",
   "metadata": {},
   "source": [
    "간간이 nan의 값이 보이는 것을 볼 수 있습니다. raw data에서 type은 결측치가 없었고 위의 테이블은 이를 기반으로 essential/non-essential의 횟수를 구한 것으로, 위 테이블의 nan은 해당 확진자가 해당 이동(essential 또는 non-essential)을 하지 않았음을 의미합니다. 따라서 이 경우, nan의 값은 '이동을 하지 않았음'을 의미하는 0으로 채워줍니다.  "
   ]
  },
  {
   "cell_type": "code",
   "execution_count": 22,
   "metadata": {},
   "outputs": [
    {
     "data": {
      "text/html": [
       "<div>\n",
       "<style scoped>\n",
       "    .dataframe tbody tr th:only-of-type {\n",
       "        vertical-align: middle;\n",
       "    }\n",
       "\n",
       "    .dataframe tbody tr th {\n",
       "        vertical-align: top;\n",
       "    }\n",
       "\n",
       "    .dataframe thead th {\n",
       "        text-align: right;\n",
       "    }\n",
       "</style>\n",
       "<table border=\"1\" class=\"dataframe\">\n",
       "  <thead>\n",
       "    <tr style=\"text-align: right;\">\n",
       "      <th>route_group_essential</th>\n",
       "      <th>patient_id</th>\n",
       "      <th>essential</th>\n",
       "      <th>non-essential</th>\n",
       "    </tr>\n",
       "  </thead>\n",
       "  <tbody>\n",
       "    <tr>\n",
       "      <th>0</th>\n",
       "      <td>1000000001</td>\n",
       "      <td>1.00</td>\n",
       "      <td>1.00</td>\n",
       "    </tr>\n",
       "    <tr>\n",
       "      <th>1</th>\n",
       "      <td>1000000002</td>\n",
       "      <td>9.00</td>\n",
       "      <td>4.00</td>\n",
       "    </tr>\n",
       "    <tr>\n",
       "      <th>2</th>\n",
       "      <td>1000000003</td>\n",
       "      <td>0.00</td>\n",
       "      <td>2.00</td>\n",
       "    </tr>\n",
       "    <tr>\n",
       "      <th>3</th>\n",
       "      <td>1000000004</td>\n",
       "      <td>1.00</td>\n",
       "      <td>0.00</td>\n",
       "    </tr>\n",
       "    <tr>\n",
       "      <th>4</th>\n",
       "      <td>1000000005</td>\n",
       "      <td>1.00</td>\n",
       "      <td>0.00</td>\n",
       "    </tr>\n",
       "  </tbody>\n",
       "</table>\n",
       "</div>"
      ],
      "text/plain": [
       "route_group_essential  patient_id  essential  non-essential\n",
       "0                      1000000001       1.00           1.00\n",
       "1                      1000000002       9.00           4.00\n",
       "2                      1000000003       0.00           2.00\n",
       "3                      1000000004       1.00           0.00\n",
       "4                      1000000005       1.00           0.00"
      ]
     },
     "execution_count": 22,
     "metadata": {},
     "output_type": "execute_result"
    }
   ],
   "source": [
    "g.fillna(0, inplace = True)\n",
    "g.reset_index(inplace = True)\n",
    "g = g[['patient_id', 'essential', 'non-essential']]\n",
    "g.head()"
   ]
  },
  {
   "cell_type": "code",
   "execution_count": 23,
   "metadata": {},
   "outputs": [
    {
     "data": {
      "text/html": [
       "<div>\n",
       "<style scoped>\n",
       "    .dataframe tbody tr th:only-of-type {\n",
       "        vertical-align: middle;\n",
       "    }\n",
       "\n",
       "    .dataframe tbody tr th {\n",
       "        vertical-align: top;\n",
       "    }\n",
       "\n",
       "    .dataframe thead th {\n",
       "        text-align: right;\n",
       "    }\n",
       "</style>\n",
       "<table border=\"1\" class=\"dataframe\">\n",
       "  <thead>\n",
       "    <tr style=\"text-align: right;\">\n",
       "      <th></th>\n",
       "      <th>patient_id</th>\n",
       "      <th>global_num</th>\n",
       "      <th>sex</th>\n",
       "      <th>birth_year</th>\n",
       "      <th>age</th>\n",
       "      <th>country</th>\n",
       "      <th>province</th>\n",
       "      <th>city</th>\n",
       "      <th>disease</th>\n",
       "      <th>infection_case</th>\n",
       "      <th>...</th>\n",
       "      <th>infected_by</th>\n",
       "      <th>contact_number</th>\n",
       "      <th>symptom_onset_date</th>\n",
       "      <th>confirmed_date</th>\n",
       "      <th>released_date</th>\n",
       "      <th>deceased_date</th>\n",
       "      <th>state</th>\n",
       "      <th>infection</th>\n",
       "      <th>essential</th>\n",
       "      <th>non-essential</th>\n",
       "    </tr>\n",
       "  </thead>\n",
       "  <tbody>\n",
       "    <tr>\n",
       "      <th>0</th>\n",
       "      <td>1000000001</td>\n",
       "      <td>2.00</td>\n",
       "      <td>male</td>\n",
       "      <td>1964</td>\n",
       "      <td>50s</td>\n",
       "      <td>Korea</td>\n",
       "      <td>Seoul</td>\n",
       "      <td>Gangseo-gu</td>\n",
       "      <td>NaN</td>\n",
       "      <td>overseas inflow</td>\n",
       "      <td>...</td>\n",
       "      <td>NaN</td>\n",
       "      <td>75</td>\n",
       "      <td>2020-01-22</td>\n",
       "      <td>2020-01-23</td>\n",
       "      <td>2020-02-05</td>\n",
       "      <td>NaN</td>\n",
       "      <td>released</td>\n",
       "      <td>overseas</td>\n",
       "      <td>1.00</td>\n",
       "      <td>1.00</td>\n",
       "    </tr>\n",
       "    <tr>\n",
       "      <th>1</th>\n",
       "      <td>1000000002</td>\n",
       "      <td>5.00</td>\n",
       "      <td>male</td>\n",
       "      <td>1987</td>\n",
       "      <td>30s</td>\n",
       "      <td>Korea</td>\n",
       "      <td>Seoul</td>\n",
       "      <td>Jungnang-gu</td>\n",
       "      <td>NaN</td>\n",
       "      <td>overseas inflow</td>\n",
       "      <td>...</td>\n",
       "      <td>NaN</td>\n",
       "      <td>31</td>\n",
       "      <td>NaN</td>\n",
       "      <td>2020-01-30</td>\n",
       "      <td>2020-03-02</td>\n",
       "      <td>NaN</td>\n",
       "      <td>released</td>\n",
       "      <td>overseas</td>\n",
       "      <td>9.00</td>\n",
       "      <td>4.00</td>\n",
       "    </tr>\n",
       "    <tr>\n",
       "      <th>2</th>\n",
       "      <td>1000000003</td>\n",
       "      <td>6.00</td>\n",
       "      <td>male</td>\n",
       "      <td>1964</td>\n",
       "      <td>50s</td>\n",
       "      <td>Korea</td>\n",
       "      <td>Seoul</td>\n",
       "      <td>Jongno-gu</td>\n",
       "      <td>NaN</td>\n",
       "      <td>contact with patient</td>\n",
       "      <td>...</td>\n",
       "      <td>2002000001</td>\n",
       "      <td>17</td>\n",
       "      <td>NaN</td>\n",
       "      <td>2020-01-30</td>\n",
       "      <td>2020-02-19</td>\n",
       "      <td>NaN</td>\n",
       "      <td>released</td>\n",
       "      <td>individual</td>\n",
       "      <td>0.00</td>\n",
       "      <td>2.00</td>\n",
       "    </tr>\n",
       "    <tr>\n",
       "      <th>3</th>\n",
       "      <td>1000000004</td>\n",
       "      <td>7.00</td>\n",
       "      <td>male</td>\n",
       "      <td>1991</td>\n",
       "      <td>20s</td>\n",
       "      <td>Korea</td>\n",
       "      <td>Seoul</td>\n",
       "      <td>Mapo-gu</td>\n",
       "      <td>NaN</td>\n",
       "      <td>overseas inflow</td>\n",
       "      <td>...</td>\n",
       "      <td>NaN</td>\n",
       "      <td>9</td>\n",
       "      <td>2020-01-26</td>\n",
       "      <td>2020-01-30</td>\n",
       "      <td>2020-02-15</td>\n",
       "      <td>NaN</td>\n",
       "      <td>released</td>\n",
       "      <td>overseas</td>\n",
       "      <td>1.00</td>\n",
       "      <td>0.00</td>\n",
       "    </tr>\n",
       "    <tr>\n",
       "      <th>4</th>\n",
       "      <td>1000000005</td>\n",
       "      <td>9.00</td>\n",
       "      <td>female</td>\n",
       "      <td>1992</td>\n",
       "      <td>20s</td>\n",
       "      <td>Korea</td>\n",
       "      <td>Seoul</td>\n",
       "      <td>Seongbuk-gu</td>\n",
       "      <td>NaN</td>\n",
       "      <td>contact with patient</td>\n",
       "      <td>...</td>\n",
       "      <td>1000000002</td>\n",
       "      <td>2</td>\n",
       "      <td>NaN</td>\n",
       "      <td>2020-01-31</td>\n",
       "      <td>2020-02-24</td>\n",
       "      <td>NaN</td>\n",
       "      <td>released</td>\n",
       "      <td>individual</td>\n",
       "      <td>1.00</td>\n",
       "      <td>0.00</td>\n",
       "    </tr>\n",
       "  </tbody>\n",
       "</table>\n",
       "<p>5 rows × 21 columns</p>\n",
       "</div>"
      ],
      "text/plain": [
       "   patient_id  global_num     sex birth_year  age country province  \\\n",
       "0  1000000001        2.00    male       1964  50s   Korea    Seoul   \n",
       "1  1000000002        5.00    male       1987  30s   Korea    Seoul   \n",
       "2  1000000003        6.00    male       1964  50s   Korea    Seoul   \n",
       "3  1000000004        7.00    male       1991  20s   Korea    Seoul   \n",
       "4  1000000005        9.00  female       1992  20s   Korea    Seoul   \n",
       "\n",
       "          city disease        infection_case  ...  infected_by contact_number  \\\n",
       "0   Gangseo-gu     NaN       overseas inflow  ...          NaN             75   \n",
       "1  Jungnang-gu     NaN       overseas inflow  ...          NaN             31   \n",
       "2    Jongno-gu     NaN  contact with patient  ...   2002000001             17   \n",
       "3      Mapo-gu     NaN       overseas inflow  ...          NaN              9   \n",
       "4  Seongbuk-gu     NaN  contact with patient  ...   1000000002              2   \n",
       "\n",
       "  symptom_onset_date confirmed_date released_date deceased_date     state  \\\n",
       "0         2020-01-22     2020-01-23    2020-02-05           NaN  released   \n",
       "1                NaN     2020-01-30    2020-03-02           NaN  released   \n",
       "2                NaN     2020-01-30    2020-02-19           NaN  released   \n",
       "3         2020-01-26     2020-01-30    2020-02-15           NaN  released   \n",
       "4                NaN     2020-01-31    2020-02-24           NaN  released   \n",
       "\n",
       "    infection essential  non-essential  \n",
       "0    overseas      1.00           1.00  \n",
       "1    overseas      9.00           4.00  \n",
       "2  individual      0.00           2.00  \n",
       "3    overseas      1.00           0.00  \n",
       "4  individual      1.00           0.00  \n",
       "\n",
       "[5 rows x 21 columns]"
      ]
     },
     "execution_count": 23,
     "metadata": {},
     "output_type": "execute_result"
    }
   ],
   "source": [
    "data = data.merge(g, left_on = 'patient_id', right_on = 'patient_id', how = 'left')\n",
    "data.head()"
   ]
  },
  {
   "cell_type": "code",
   "execution_count": 24,
   "metadata": {},
   "outputs": [
    {
     "name": "stdout",
     "output_type": "stream",
     "text": [
      "(3988, 21)\n"
     ]
    },
    {
     "data": {
      "text/plain": [
       "(2526, 21)"
      ]
     },
     "execution_count": 24,
     "metadata": {},
     "output_type": "execute_result"
    }
   ],
   "source": [
    "print(data.shape)\n",
    "data[(data['essential'].isna()) | (data['non-essential'].isna())].shape"
   ]
  },
  {
   "cell_type": "markdown",
   "metadata": {},
   "source": [
    "안타깝게도 현재 데이터가 보유한 3374 명의 확진자들이 모두 essential/non-essential 특성을 갖고있지는 않습니다.essential/non-essential의 특성을 갖지 않은 케이스는 모두 2170명(약 64%)로 굉장히 많은 부분을 차지하고 있습니다. 이들이 해당 이동을 하지 않았기 때문에 route의 데이터가 없었을 것이라 가정하고, \"이동하지 않았음\"을 의미하는 0의 값을 줄 수도 있습니다. 하지만 이들이 실제로 이동을 하지 않았기 때문에 route 데이터에 존재하지 않았는지는 확신할 수 없습니다. 64%에 해당하는 많은 사람들이 어떤 이동도 하지 않았다는 것고 단정하기는 어렵습니다. 되려 이동은 하였으나 기록되지 않았을 가능성이 더 높습니다. 이들의 값을 추정할 수 있는 데이터나 다른 근거가 더이상 없기 때문에 essential/non-essential 특성을 갖지 않는 확진자들은 모델에 활용할 수 없습니다. 따라서 이들은 모두 제거합니다.  "
   ]
  },
  {
   "cell_type": "code",
   "execution_count": 25,
   "metadata": {},
   "outputs": [
    {
     "name": "stdout",
     "output_type": "stream",
     "text": [
      "original data shape: (3988, 21)\n",
      "data shape after removing missing values in essentail/non-essential: (1462, 21)\n"
     ]
    }
   ],
   "source": [
    "print('original data shape:', data.shape)\n",
    "data = data[(data['essential'].notna()) & (data['non-essential'].notna())] \n",
    "print('data shape after removing missing values in essentail/non-essential:', data.shape)"
   ]
  },
  {
   "cell_type": "markdown",
   "metadata": {},
   "source": [
    "essential/non-essential 유동성을 나타내는 특성이 완성되었고, 해당 특성을 가진 1204 명의 확진자가 표본에 남게 되었습니다.  "
   ]
  },
  {
   "cell_type": "markdown",
   "metadata": {},
   "source": [
    "#### 1.3. 접촉 정도 (Number of contacts) ... issue!  \n",
    "\n",
    "위의 유동성과 더불어 확진자들의 행동 유형을 파악할 수 있는 요인 중 하나로 '접촉 정도'를 들 수 있습니다. 유동성은 확진자들이 얼마나 이동을 하였는지를 대표하는 특성이고, 같은 정도의 유동성을 보이는 사람들도 접촉 정도에서는 다른 값을 가지게 됩니다. 예를들어 식당이라는 같은 장소로 같은 횟수의 이동을 한 사람들 중, 혼자 식사를 하러 간 사람과 친구를 만나러 간 사람은 접촉 정도에서 다른 값을 갖게 될 것입니다. 이에따라 확진자들의 행동 유형을 구분짓는 특성 중 하나로 접촉 정도를 활용하며, 접촉 정도는 확진자들의 사회성 정도를 의미합니다. 접촉 정도의 특성은 PatientId의 'contact_number'를 활용합니다.  \n",
    "\n",
    "먼저 contact_number의 분포를 보겠습니다.  "
   ]
  },
  {
   "cell_type": "code",
   "execution_count": 28,
   "metadata": {},
   "outputs": [
    {
     "data": {
      "text/plain": [
       "0        75\n",
       "1        31\n",
       "2        17\n",
       "3         9\n",
       "4         2\n",
       "       ... \n",
       "3937    NaN\n",
       "3938    NaN\n",
       "3939    NaN\n",
       "3940    NaN\n",
       "3941    NaN\n",
       "Name: contact_number, Length: 1462, dtype: object"
      ]
     },
     "execution_count": 28,
     "metadata": {},
     "output_type": "execute_result"
    }
   ],
   "source": [
    "data['contact_number']"
   ]
  },
  {
   "cell_type": "code",
   "execution_count": 27,
   "metadata": {},
   "outputs": [
    {
     "data": {
      "text/plain": [
       "count     365\n",
       "unique     68\n",
       "top         0\n",
       "freq       44\n",
       "Name: contact_number, dtype: object"
      ]
     },
     "execution_count": 27,
     "metadata": {},
     "output_type": "execute_result"
    }
   ],
   "source": [
    "data['contact_number'].describe()"
   ]
  },
  {
   "cell_type": "markdown",
   "metadata": {},
   "source": [
    "코로나 바이러스 확산 초창기 확진자 수를 기하급수적으로 늘리는데 기여한 '31번 확진자'인 것을 볼 수 있습니다.  \n",
    "\n",
    "극단적 값을 갖는 확진자들을 outlier로 봐야하는지에 조심스러운 해석이 필요합니다. 특히나 이번 분석의 주요 특성 중 하나인 '감염 경로'에 '집단감염'이 있고, 극단적인 접촉 정도를 가진 확진자들은 집단감염의 사례였을 가능성이 있습니다. 또는 극단적 값을 가진 사례가 '개인감염'이었다면, 이는 집단감염과 구분지을 수 있는 척도가 됩니다. 따라서 contact_number의 값을 모두 활용하기로 합니다.  \n",
    "\n",
    "다만 그 값을 갖지 않는 사람들은 위의 '유동성'과 마찬가지로 \"접촉이 없었다\"고 확신할 근거가 없습니다. 따라서 접촉 횟수의 값이 없는 사람들은 모두 제거합니다.  "
   ]
  },
  {
   "cell_type": "code",
   "execution_count": 29,
   "metadata": {},
   "outputs": [
    {
     "name": "stdout",
     "output_type": "stream",
     "text": [
      "original data shape: (1462, 21)\n",
      "data shape after removing missing values in contact_number: (365, 21)\n"
     ]
    }
   ],
   "source": [
    "print('original data shape:', data.shape)\n",
    "data = data[data['contact_number'].notna()]\n",
    "print('data shape after removing missing values in contact_number:', data.shape)"
   ]
  },
  {
   "cell_type": "markdown",
   "metadata": {},
   "source": [
    "현재까지 데이터에 남은 확진자는 총 332명입니다.  "
   ]
  },
  {
   "cell_type": "markdown",
   "metadata": {},
   "source": [
    "#### 1.4. 확진받기까지 걸린 시간 (Diagnosis time)  \n",
    "\n",
    "확진받기까지 걸린 시간이란 증상이 처음 발현되고 얼마나 빨리 코로나19 확진을 받았는지를 의미합니다. 확진을 받기까지 걸린 시간은 사람의 선택/행동에 따라 값이 달라질 수 있는 특성이기 때문에 행동 특성이라고 볼 수 있습니다. 예를들어 진단 검사를 얼마나 신속하게 받으러 갔는지, 코로나 진단 검사 의료진이 코로나 바이러스의 가능성을 얼마나 빨리 발견해 얼마나 신속하게 검사를 받게 했는지에 따라 그 값이 달라질 수 있습니다. 확진받기까지 걸린 시간은 ‘증상이 처음 시작된 날(symptom_onset_date)’과 ‘확진 날짜(confirmed_date)’ 사이의 차이로 정의됩니다.  \n",
    "\n",
    "먼저 활용할 변수의 결측치를 확인합니다.  "
   ]
  },
  {
   "cell_type": "code",
   "execution_count": 31,
   "metadata": {},
   "outputs": [
    {
     "name": "stdout",
     "output_type": "stream",
     "text": [
      "data shape: (365, 21)\n",
      "missing values in symptom_onset_date: (231, 21)\n",
      "missing values in confirmed_date: (0, 21)\n"
     ]
    }
   ],
   "source": [
    "print('data shape:', data.shape)\n",
    "print('missing values in symptom_onset_date:', data[data['symptom_onset_date'].isna()].shape)\n",
    "print('missing values in confirmed_date:', data[data['confirmed_date'].isna()].shape)"
   ]
  },
  {
   "cell_type": "markdown",
   "metadata": {},
   "source": [
    "총 332명의 확진자 중, 증상이 발현한 날짜(symptom_onset_date)에 208개의 결측치가 존재합니다. 코로나19는 다른 바이러스와 달리 바이러스를 보유하고 있더라도 증상을 보이지 않을 수 있는 것으로 유명합니다. 따라서 symptom_onset_date가 결측치인 경우, 증상이 나타나지 않았기 때문에 결측치로 기록되었을 가능성이 있습니다. 이 경우 확진받기까지 걸린 시간은 0으로 상정하고 증상이 나타난 직후 확진을 받았다고 가정할 수도 있습니다. 하지만 결측치 중에 증상이 나타났으나 기록이 없는 경우도 배제할 수는 없습니다. 안타깝게도 여기에서 더 나아갈 데이터와 근거가 부족합니다. 이에따라 증상이 발현한 날짜의 정보가 없는 확진자들은 모두 제거합니다."
   ]
  },
  {
   "cell_type": "code",
   "execution_count": 32,
   "metadata": {},
   "outputs": [
    {
     "name": "stdout",
     "output_type": "stream",
     "text": [
      "original data shape:  (365, 21)\n",
      "data excluding missing values in symptom_onset_date:  (134, 21)\n"
     ]
    }
   ],
   "source": [
    "### Cleaning symptom onset date\n",
    "data[data['symptom_onset_date'] == ' ']\n",
    "data['symptom_onset_date'] = np.where((data['symptom_onset_date'] == ' '), None, data['symptom_onset_date'])\n",
    "\n",
    "### Remove missing values in symptom_onset_date\n",
    "print('original data shape: ', data.shape)\n",
    "data = data[data['symptom_onset_date'].notna()]\n",
    "print('data excluding missing values in symptom_onset_date: ', data.shape)"
   ]
  },
  {
   "cell_type": "markdown",
   "metadata": {},
   "source": [
    "결측치 208개가 모두 제거되어 데이터에는 124명의 확진자가 남았습니다. 이들을 대상으로 확진받기까지의 시간을 구할 수 있도록 두 변수를 date format으로 변환하여줍니다."
   ]
  },
  {
   "cell_type": "code",
   "execution_count": 33,
   "metadata": {},
   "outputs": [
    {
     "data": {
      "text/html": [
       "<div>\n",
       "<style scoped>\n",
       "    .dataframe tbody tr th:only-of-type {\n",
       "        vertical-align: middle;\n",
       "    }\n",
       "\n",
       "    .dataframe tbody tr th {\n",
       "        vertical-align: top;\n",
       "    }\n",
       "\n",
       "    .dataframe thead th {\n",
       "        text-align: right;\n",
       "    }\n",
       "</style>\n",
       "<table border=\"1\" class=\"dataframe\">\n",
       "  <thead>\n",
       "    <tr style=\"text-align: right;\">\n",
       "      <th></th>\n",
       "      <th>patient_id</th>\n",
       "      <th>global_num</th>\n",
       "      <th>sex</th>\n",
       "      <th>birth_year</th>\n",
       "      <th>age</th>\n",
       "      <th>country</th>\n",
       "      <th>province</th>\n",
       "      <th>city</th>\n",
       "      <th>disease</th>\n",
       "      <th>infection_case</th>\n",
       "      <th>...</th>\n",
       "      <th>infected_by</th>\n",
       "      <th>contact_number</th>\n",
       "      <th>symptom_onset_date</th>\n",
       "      <th>confirmed_date</th>\n",
       "      <th>released_date</th>\n",
       "      <th>deceased_date</th>\n",
       "      <th>state</th>\n",
       "      <th>infection</th>\n",
       "      <th>essential</th>\n",
       "      <th>non-essential</th>\n",
       "    </tr>\n",
       "  </thead>\n",
       "  <tbody>\n",
       "    <tr>\n",
       "      <th>0</th>\n",
       "      <td>1000000001</td>\n",
       "      <td>2.00</td>\n",
       "      <td>male</td>\n",
       "      <td>1964</td>\n",
       "      <td>50s</td>\n",
       "      <td>Korea</td>\n",
       "      <td>Seoul</td>\n",
       "      <td>Gangseo-gu</td>\n",
       "      <td>NaN</td>\n",
       "      <td>overseas inflow</td>\n",
       "      <td>...</td>\n",
       "      <td>NaN</td>\n",
       "      <td>75</td>\n",
       "      <td>2020-01-22</td>\n",
       "      <td>2020-01-23</td>\n",
       "      <td>2020-02-05</td>\n",
       "      <td>NaN</td>\n",
       "      <td>released</td>\n",
       "      <td>overseas</td>\n",
       "      <td>1.00</td>\n",
       "      <td>1.00</td>\n",
       "    </tr>\n",
       "    <tr>\n",
       "      <th>3</th>\n",
       "      <td>1000000004</td>\n",
       "      <td>7.00</td>\n",
       "      <td>male</td>\n",
       "      <td>1991</td>\n",
       "      <td>20s</td>\n",
       "      <td>Korea</td>\n",
       "      <td>Seoul</td>\n",
       "      <td>Mapo-gu</td>\n",
       "      <td>NaN</td>\n",
       "      <td>overseas inflow</td>\n",
       "      <td>...</td>\n",
       "      <td>NaN</td>\n",
       "      <td>9</td>\n",
       "      <td>2020-01-26</td>\n",
       "      <td>2020-01-30</td>\n",
       "      <td>2020-02-15</td>\n",
       "      <td>NaN</td>\n",
       "      <td>released</td>\n",
       "      <td>overseas</td>\n",
       "      <td>1.00</td>\n",
       "      <td>0.00</td>\n",
       "    </tr>\n",
       "    <tr>\n",
       "      <th>13</th>\n",
       "      <td>1000000014</td>\n",
       "      <td>30.00</td>\n",
       "      <td>female</td>\n",
       "      <td>1952</td>\n",
       "      <td>60s</td>\n",
       "      <td>Korea</td>\n",
       "      <td>Seoul</td>\n",
       "      <td>Jongno-gu</td>\n",
       "      <td>NaN</td>\n",
       "      <td>contact with patient</td>\n",
       "      <td>...</td>\n",
       "      <td>1000000013</td>\n",
       "      <td>27</td>\n",
       "      <td>2020-02-06</td>\n",
       "      <td>2020-02-16</td>\n",
       "      <td>2020-03-12</td>\n",
       "      <td>NaN</td>\n",
       "      <td>released</td>\n",
       "      <td>individual</td>\n",
       "      <td>10.00</td>\n",
       "      <td>3.00</td>\n",
       "    </tr>\n",
       "  </tbody>\n",
       "</table>\n",
       "<p>3 rows × 21 columns</p>\n",
       "</div>"
      ],
      "text/plain": [
       "    patient_id  global_num     sex birth_year  age country province  \\\n",
       "0   1000000001        2.00    male       1964  50s   Korea    Seoul   \n",
       "3   1000000004        7.00    male       1991  20s   Korea    Seoul   \n",
       "13  1000000014       30.00  female       1952  60s   Korea    Seoul   \n",
       "\n",
       "          city disease        infection_case  ...  infected_by contact_number  \\\n",
       "0   Gangseo-gu     NaN       overseas inflow  ...          NaN             75   \n",
       "3      Mapo-gu     NaN       overseas inflow  ...          NaN              9   \n",
       "13   Jongno-gu     NaN  contact with patient  ...   1000000013             27   \n",
       "\n",
       "   symptom_onset_date confirmed_date released_date deceased_date     state  \\\n",
       "0          2020-01-22     2020-01-23    2020-02-05           NaN  released   \n",
       "3          2020-01-26     2020-01-30    2020-02-15           NaN  released   \n",
       "13         2020-02-06     2020-02-16    2020-03-12           NaN  released   \n",
       "\n",
       "     infection essential  non-essential  \n",
       "0     overseas      1.00           1.00  \n",
       "3     overseas      1.00           0.00  \n",
       "13  individual     10.00           3.00  \n",
       "\n",
       "[3 rows x 21 columns]"
      ]
     },
     "execution_count": 33,
     "metadata": {},
     "output_type": "execute_result"
    }
   ],
   "source": [
    "### Define time that lapsed between the onset of COVID-19 symptoms and the official COVID-19 diagnosis\n",
    "\n",
    "## Convert str into date func.\n",
    "def convert_date(x):\n",
    "    x = pd.datetime.strptime(x, '%Y-%m-%d').date()\n",
    "    return x\n",
    "\n",
    "## convert symptom_onset_date/confirmed_date into date format\n",
    "data['symptom_onset_date'] = data['symptom_onset_date'].apply(lambda x : convert_date(x))\n",
    "data['confirmed_date'] = data['confirmed_date'].apply(lambda x: convert_date(x))\n",
    "\n",
    "data.head(3)"
   ]
  },
  {
   "cell_type": "markdown",
   "metadata": {},
   "source": [
    "date format으로 변환된 symptom_onset_date와 confirmed_date 사이의 날짜 차이를 구해줍니다. 일단 날짜 차이(e.g. 10 days)를 구하고 나면, date format은 그 자체로는 모델에 활용할 수 없기 때문에 모델에서 활용할 수 있도록 integer로 다시 변환하여 마지막 변환된 값을 'days'라는 이름으로 저장합니다.  "
   ]
  },
  {
   "cell_type": "code",
   "execution_count": 34,
   "metadata": {},
   "outputs": [
    {
     "data": {
      "text/html": [
       "<div>\n",
       "<style scoped>\n",
       "    .dataframe tbody tr th:only-of-type {\n",
       "        vertical-align: middle;\n",
       "    }\n",
       "\n",
       "    .dataframe tbody tr th {\n",
       "        vertical-align: top;\n",
       "    }\n",
       "\n",
       "    .dataframe thead th {\n",
       "        text-align: right;\n",
       "    }\n",
       "</style>\n",
       "<table border=\"1\" class=\"dataframe\">\n",
       "  <thead>\n",
       "    <tr style=\"text-align: right;\">\n",
       "      <th></th>\n",
       "      <th>patient_id</th>\n",
       "      <th>global_num</th>\n",
       "      <th>sex</th>\n",
       "      <th>birth_year</th>\n",
       "      <th>age</th>\n",
       "      <th>country</th>\n",
       "      <th>province</th>\n",
       "      <th>city</th>\n",
       "      <th>disease</th>\n",
       "      <th>infection_case</th>\n",
       "      <th>...</th>\n",
       "      <th>confirmed_date</th>\n",
       "      <th>released_date</th>\n",
       "      <th>deceased_date</th>\n",
       "      <th>state</th>\n",
       "      <th>infection</th>\n",
       "      <th>essential</th>\n",
       "      <th>non-essential</th>\n",
       "      <th>days_notice</th>\n",
       "      <th>hours_notice</th>\n",
       "      <th>days</th>\n",
       "    </tr>\n",
       "  </thead>\n",
       "  <tbody>\n",
       "    <tr>\n",
       "      <th>0</th>\n",
       "      <td>1000000001</td>\n",
       "      <td>2.00</td>\n",
       "      <td>male</td>\n",
       "      <td>1964</td>\n",
       "      <td>50s</td>\n",
       "      <td>Korea</td>\n",
       "      <td>Seoul</td>\n",
       "      <td>Gangseo-gu</td>\n",
       "      <td>NaN</td>\n",
       "      <td>overseas inflow</td>\n",
       "      <td>...</td>\n",
       "      <td>2020-01-23</td>\n",
       "      <td>2020-02-05</td>\n",
       "      <td>NaN</td>\n",
       "      <td>released</td>\n",
       "      <td>overseas</td>\n",
       "      <td>1.00</td>\n",
       "      <td>1.00</td>\n",
       "      <td>1 days</td>\n",
       "      <td>24.00</td>\n",
       "      <td>1</td>\n",
       "    </tr>\n",
       "    <tr>\n",
       "      <th>3</th>\n",
       "      <td>1000000004</td>\n",
       "      <td>7.00</td>\n",
       "      <td>male</td>\n",
       "      <td>1991</td>\n",
       "      <td>20s</td>\n",
       "      <td>Korea</td>\n",
       "      <td>Seoul</td>\n",
       "      <td>Mapo-gu</td>\n",
       "      <td>NaN</td>\n",
       "      <td>overseas inflow</td>\n",
       "      <td>...</td>\n",
       "      <td>2020-01-30</td>\n",
       "      <td>2020-02-15</td>\n",
       "      <td>NaN</td>\n",
       "      <td>released</td>\n",
       "      <td>overseas</td>\n",
       "      <td>1.00</td>\n",
       "      <td>0.00</td>\n",
       "      <td>4 days</td>\n",
       "      <td>96.00</td>\n",
       "      <td>4</td>\n",
       "    </tr>\n",
       "    <tr>\n",
       "      <th>13</th>\n",
       "      <td>1000000014</td>\n",
       "      <td>30.00</td>\n",
       "      <td>female</td>\n",
       "      <td>1952</td>\n",
       "      <td>60s</td>\n",
       "      <td>Korea</td>\n",
       "      <td>Seoul</td>\n",
       "      <td>Jongno-gu</td>\n",
       "      <td>NaN</td>\n",
       "      <td>contact with patient</td>\n",
       "      <td>...</td>\n",
       "      <td>2020-02-16</td>\n",
       "      <td>2020-03-12</td>\n",
       "      <td>NaN</td>\n",
       "      <td>released</td>\n",
       "      <td>individual</td>\n",
       "      <td>10.00</td>\n",
       "      <td>3.00</td>\n",
       "      <td>10 days</td>\n",
       "      <td>240.00</td>\n",
       "      <td>10</td>\n",
       "    </tr>\n",
       "  </tbody>\n",
       "</table>\n",
       "<p>3 rows × 24 columns</p>\n",
       "</div>"
      ],
      "text/plain": [
       "    patient_id  global_num     sex birth_year  age country province  \\\n",
       "0   1000000001        2.00    male       1964  50s   Korea    Seoul   \n",
       "3   1000000004        7.00    male       1991  20s   Korea    Seoul   \n",
       "13  1000000014       30.00  female       1952  60s   Korea    Seoul   \n",
       "\n",
       "          city disease        infection_case  ...  confirmed_date  \\\n",
       "0   Gangseo-gu     NaN       overseas inflow  ...      2020-01-23   \n",
       "3      Mapo-gu     NaN       overseas inflow  ...      2020-01-30   \n",
       "13   Jongno-gu     NaN  contact with patient  ...      2020-02-16   \n",
       "\n",
       "   released_date deceased_date     state   infection essential non-essential  \\\n",
       "0     2020-02-05           NaN  released    overseas      1.00          1.00   \n",
       "3     2020-02-15           NaN  released    overseas      1.00          0.00   \n",
       "13    2020-03-12           NaN  released  individual     10.00          3.00   \n",
       "\n",
       "   days_notice hours_notice  days  \n",
       "0       1 days        24.00     1  \n",
       "3       4 days        96.00     4  \n",
       "13     10 days       240.00    10  \n",
       "\n",
       "[3 rows x 24 columns]"
      ]
     },
     "execution_count": 34,
     "metadata": {},
     "output_type": "execute_result"
    }
   ],
   "source": [
    "## find time lapsed between symptom_onset_date and confirmed_date\n",
    "data['days_notice'] = data['confirmed_date'] - data['symptom_onset_date'] \n",
    "data['hours_notice'] = data['days_notice'].apply(lambda x: round(x.total_seconds()/3600, 2))\n",
    "data['days'] = data['hours_notice'].apply(lambda x: int(x/24))\n",
    "data.head(3)"
   ]
  },
  {
   "cell_type": "markdown",
   "metadata": {},
   "source": [
    "이상으로 모델에 활용할 네 가지의 행동 특성 1) 감염 경로 유형, 2) 유동성, 3) 접촉 정도, 4) 확진받기까지 걸린 시간의 제작을 모두 완료하였습니다.  "
   ]
  },
  {
   "cell_type": "markdown",
   "metadata": {},
   "source": [
    "### 2. Building cluster model  \n",
    "\n",
    "#### 2.1. Feature transformation  \n",
    "\n",
    "우선 전체 데이터셋에서 위에서 제작한 행동 특성들을 추출해 모델에 활용합니다.  "
   ]
  },
  {
   "cell_type": "code",
   "execution_count": 35,
   "metadata": {},
   "outputs": [
    {
     "name": "stdout",
     "output_type": "stream",
     "text": [
      "(134, 6)\n"
     ]
    },
    {
     "data": {
      "text/html": [
       "<div>\n",
       "<style scoped>\n",
       "    .dataframe tbody tr th:only-of-type {\n",
       "        vertical-align: middle;\n",
       "    }\n",
       "\n",
       "    .dataframe tbody tr th {\n",
       "        vertical-align: top;\n",
       "    }\n",
       "\n",
       "    .dataframe thead th {\n",
       "        text-align: right;\n",
       "    }\n",
       "</style>\n",
       "<table border=\"1\" class=\"dataframe\">\n",
       "  <thead>\n",
       "    <tr style=\"text-align: right;\">\n",
       "      <th></th>\n",
       "      <th>patient_id</th>\n",
       "      <th>days</th>\n",
       "      <th>contact_number</th>\n",
       "      <th>essential</th>\n",
       "      <th>non-essential</th>\n",
       "      <th>infection</th>\n",
       "    </tr>\n",
       "  </thead>\n",
       "  <tbody>\n",
       "    <tr>\n",
       "      <th>0</th>\n",
       "      <td>1000000001</td>\n",
       "      <td>1</td>\n",
       "      <td>75</td>\n",
       "      <td>1.00</td>\n",
       "      <td>1.00</td>\n",
       "      <td>overseas</td>\n",
       "    </tr>\n",
       "    <tr>\n",
       "      <th>1</th>\n",
       "      <td>1000000004</td>\n",
       "      <td>4</td>\n",
       "      <td>9</td>\n",
       "      <td>1.00</td>\n",
       "      <td>0.00</td>\n",
       "      <td>overseas</td>\n",
       "    </tr>\n",
       "    <tr>\n",
       "      <th>2</th>\n",
       "      <td>1000000014</td>\n",
       "      <td>10</td>\n",
       "      <td>27</td>\n",
       "      <td>10.00</td>\n",
       "      <td>3.00</td>\n",
       "      <td>individual</td>\n",
       "    </tr>\n",
       "    <tr>\n",
       "      <th>3</th>\n",
       "      <td>1000000015</td>\n",
       "      <td>8</td>\n",
       "      <td>8</td>\n",
       "      <td>6.00</td>\n",
       "      <td>3.00</td>\n",
       "      <td>group</td>\n",
       "    </tr>\n",
       "    <tr>\n",
       "      <th>4</th>\n",
       "      <td>1000000302</td>\n",
       "      <td>1</td>\n",
       "      <td>8</td>\n",
       "      <td>1.00</td>\n",
       "      <td>0.00</td>\n",
       "      <td>overseas</td>\n",
       "    </tr>\n",
       "  </tbody>\n",
       "</table>\n",
       "</div>"
      ],
      "text/plain": [
       "   patient_id  days contact_number  essential  non-essential   infection\n",
       "0  1000000001     1             75       1.00           1.00    overseas\n",
       "1  1000000004     4              9       1.00           0.00    overseas\n",
       "2  1000000014    10             27      10.00           3.00  individual\n",
       "3  1000000015     8              8       6.00           3.00       group\n",
       "4  1000000302     1              8       1.00           0.00    overseas"
      ]
     },
     "execution_count": 35,
     "metadata": {},
     "output_type": "execute_result"
    }
   ],
   "source": [
    "data_ = data[['patient_id', \n",
    "              'days', \n",
    "              'contact_number', \n",
    "              'essential', 'non-essential', \n",
    "              'infection']]\n",
    "data_.reset_index(drop = True, inplace = True)\n",
    "print(data_.shape)\n",
    "data_.head()"
   ]
  },
  {
   "cell_type": "markdown",
   "metadata": {},
   "source": [
    "#### 2.1.1. transformation of categorical variable\n",
    "\n",
    "유동성 특성(essential/non-essential)과 확진받기까지 걸린 시간(days), 접촉 정도(contact_number)는 numeric 변수이지만 감염 경로 유형은 categorical 변수인 것을 볼 수 있습니다. 이를 OneHotEncoder를 활용하여 numeric 변수로 변환하고 모델에 활용합니다.  "
   ]
  },
  {
   "cell_type": "code",
   "execution_count": 36,
   "metadata": {},
   "outputs": [
    {
     "name": "stdout",
     "output_type": "stream",
     "text": [
      "(134, 10)\n"
     ]
    },
    {
     "data": {
      "text/html": [
       "<div>\n",
       "<style scoped>\n",
       "    .dataframe tbody tr th:only-of-type {\n",
       "        vertical-align: middle;\n",
       "    }\n",
       "\n",
       "    .dataframe tbody tr th {\n",
       "        vertical-align: top;\n",
       "    }\n",
       "\n",
       "    .dataframe thead th {\n",
       "        text-align: right;\n",
       "    }\n",
       "</style>\n",
       "<table border=\"1\" class=\"dataframe\">\n",
       "  <thead>\n",
       "    <tr style=\"text-align: right;\">\n",
       "      <th></th>\n",
       "      <th>patient_id</th>\n",
       "      <th>days</th>\n",
       "      <th>contact_number</th>\n",
       "      <th>essential</th>\n",
       "      <th>non-essential</th>\n",
       "      <th>infection</th>\n",
       "      <th>infection_group</th>\n",
       "      <th>infection_individual</th>\n",
       "      <th>infection_overseas</th>\n",
       "      <th>infection_unknown</th>\n",
       "    </tr>\n",
       "  </thead>\n",
       "  <tbody>\n",
       "    <tr>\n",
       "      <th>0</th>\n",
       "      <td>1000000001</td>\n",
       "      <td>1</td>\n",
       "      <td>75</td>\n",
       "      <td>1.00</td>\n",
       "      <td>1.00</td>\n",
       "      <td>overseas</td>\n",
       "      <td>0</td>\n",
       "      <td>0</td>\n",
       "      <td>1</td>\n",
       "      <td>0</td>\n",
       "    </tr>\n",
       "    <tr>\n",
       "      <th>1</th>\n",
       "      <td>1000000004</td>\n",
       "      <td>4</td>\n",
       "      <td>9</td>\n",
       "      <td>1.00</td>\n",
       "      <td>0.00</td>\n",
       "      <td>overseas</td>\n",
       "      <td>0</td>\n",
       "      <td>0</td>\n",
       "      <td>1</td>\n",
       "      <td>0</td>\n",
       "    </tr>\n",
       "    <tr>\n",
       "      <th>2</th>\n",
       "      <td>1000000014</td>\n",
       "      <td>10</td>\n",
       "      <td>27</td>\n",
       "      <td>10.00</td>\n",
       "      <td>3.00</td>\n",
       "      <td>individual</td>\n",
       "      <td>0</td>\n",
       "      <td>1</td>\n",
       "      <td>0</td>\n",
       "      <td>0</td>\n",
       "    </tr>\n",
       "    <tr>\n",
       "      <th>3</th>\n",
       "      <td>1000000015</td>\n",
       "      <td>8</td>\n",
       "      <td>8</td>\n",
       "      <td>6.00</td>\n",
       "      <td>3.00</td>\n",
       "      <td>group</td>\n",
       "      <td>1</td>\n",
       "      <td>0</td>\n",
       "      <td>0</td>\n",
       "      <td>0</td>\n",
       "    </tr>\n",
       "    <tr>\n",
       "      <th>4</th>\n",
       "      <td>1000000302</td>\n",
       "      <td>1</td>\n",
       "      <td>8</td>\n",
       "      <td>1.00</td>\n",
       "      <td>0.00</td>\n",
       "      <td>overseas</td>\n",
       "      <td>0</td>\n",
       "      <td>0</td>\n",
       "      <td>1</td>\n",
       "      <td>0</td>\n",
       "    </tr>\n",
       "  </tbody>\n",
       "</table>\n",
       "</div>"
      ],
      "text/plain": [
       "   patient_id  days contact_number  essential  non-essential   infection  \\\n",
       "0  1000000001     1             75       1.00           1.00    overseas   \n",
       "1  1000000004     4              9       1.00           0.00    overseas   \n",
       "2  1000000014    10             27      10.00           3.00  individual   \n",
       "3  1000000015     8              8       6.00           3.00       group   \n",
       "4  1000000302     1              8       1.00           0.00    overseas   \n",
       "\n",
       "   infection_group  infection_individual  infection_overseas  \\\n",
       "0                0                     0                   1   \n",
       "1                0                     0                   1   \n",
       "2                0                     1                   0   \n",
       "3                1                     0                   0   \n",
       "4                0                     0                   1   \n",
       "\n",
       "   infection_unknown  \n",
       "0                  0  \n",
       "1                  0  \n",
       "2                  0  \n",
       "3                  0  \n",
       "4                  0  "
      ]
     },
     "execution_count": 36,
     "metadata": {},
     "output_type": "execute_result"
    }
   ],
   "source": [
    "encoder = OneHotEncoder(categories = 'auto', sparse=False)\n",
    "encoder.fit(np.array(data_['infection']).reshape(-1, 1))\n",
    "inf_dummies = encoder.transform(np.array(data_['infection']).reshape(-1, 1))\n",
    "dummies = pd.DataFrame(inf_dummies.astype(int), columns = ['infection_' + x for x in encoder.categories_[0]])\n",
    "\n",
    "data_ = data_.join(dummies)\n",
    "print(data_.shape)\n",
    "data_.head()"
   ]
  },
  {
   "cell_type": "markdown",
   "metadata": {},
   "source": [
    "#### 2.1.2. scaling  \n",
    "\n",
    "이제 데이터셋에는 모두 numeric 변수들만이 존재합니다. 이들 값의 범위(scale)가 모두 다르므로 scaler를 활용하여 scaling을 해줍니다. 여기서 활용할 scaler는 StandardScaler이며, 모델에 활용할 수 있도록 array format으로 변경하여줍니다.  "
   ]
  },
  {
   "cell_type": "code",
   "execution_count": 37,
   "metadata": {},
   "outputs": [
    {
     "name": "stdout",
     "output_type": "stream",
     "text": [
      "(134, 8)\n"
     ]
    },
    {
     "data": {
      "text/html": [
       "<div>\n",
       "<style scoped>\n",
       "    .dataframe tbody tr th:only-of-type {\n",
       "        vertical-align: middle;\n",
       "    }\n",
       "\n",
       "    .dataframe tbody tr th {\n",
       "        vertical-align: top;\n",
       "    }\n",
       "\n",
       "    .dataframe thead th {\n",
       "        text-align: right;\n",
       "    }\n",
       "</style>\n",
       "<table border=\"1\" class=\"dataframe\">\n",
       "  <thead>\n",
       "    <tr style=\"text-align: right;\">\n",
       "      <th></th>\n",
       "      <th>days</th>\n",
       "      <th>essential</th>\n",
       "      <th>non-essential</th>\n",
       "      <th>contact_number</th>\n",
       "      <th>infection_group</th>\n",
       "      <th>infection_individual</th>\n",
       "      <th>infection_overseas</th>\n",
       "      <th>infection_unknown</th>\n",
       "    </tr>\n",
       "  </thead>\n",
       "  <tbody>\n",
       "    <tr>\n",
       "      <th>0</th>\n",
       "      <td>1</td>\n",
       "      <td>1.00</td>\n",
       "      <td>1.00</td>\n",
       "      <td>75</td>\n",
       "      <td>0</td>\n",
       "      <td>0</td>\n",
       "      <td>1</td>\n",
       "      <td>0</td>\n",
       "    </tr>\n",
       "    <tr>\n",
       "      <th>1</th>\n",
       "      <td>4</td>\n",
       "      <td>1.00</td>\n",
       "      <td>0.00</td>\n",
       "      <td>9</td>\n",
       "      <td>0</td>\n",
       "      <td>0</td>\n",
       "      <td>1</td>\n",
       "      <td>0</td>\n",
       "    </tr>\n",
       "    <tr>\n",
       "      <th>2</th>\n",
       "      <td>10</td>\n",
       "      <td>10.00</td>\n",
       "      <td>3.00</td>\n",
       "      <td>27</td>\n",
       "      <td>0</td>\n",
       "      <td>1</td>\n",
       "      <td>0</td>\n",
       "      <td>0</td>\n",
       "    </tr>\n",
       "    <tr>\n",
       "      <th>3</th>\n",
       "      <td>8</td>\n",
       "      <td>6.00</td>\n",
       "      <td>3.00</td>\n",
       "      <td>8</td>\n",
       "      <td>1</td>\n",
       "      <td>0</td>\n",
       "      <td>0</td>\n",
       "      <td>0</td>\n",
       "    </tr>\n",
       "    <tr>\n",
       "      <th>4</th>\n",
       "      <td>1</td>\n",
       "      <td>1.00</td>\n",
       "      <td>0.00</td>\n",
       "      <td>8</td>\n",
       "      <td>0</td>\n",
       "      <td>0</td>\n",
       "      <td>1</td>\n",
       "      <td>0</td>\n",
       "    </tr>\n",
       "  </tbody>\n",
       "</table>\n",
       "</div>"
      ],
      "text/plain": [
       "   days  essential  non-essential contact_number  infection_group  \\\n",
       "0     1       1.00           1.00             75                0   \n",
       "1     4       1.00           0.00              9                0   \n",
       "2    10      10.00           3.00             27                0   \n",
       "3     8       6.00           3.00              8                1   \n",
       "4     1       1.00           0.00              8                0   \n",
       "\n",
       "   infection_individual  infection_overseas  infection_unknown  \n",
       "0                     0                   1                  0  \n",
       "1                     0                   1                  0  \n",
       "2                     1                   0                  0  \n",
       "3                     0                   0                  0  \n",
       "4                     0                   1                  0  "
      ]
     },
     "execution_count": 37,
     "metadata": {},
     "output_type": "execute_result"
    }
   ],
   "source": [
    "inputs = ['days', \n",
    "          'essential', 'non-essential', 'contact_number',\n",
    "          'infection_group', 'infection_individual', 'infection_overseas', 'infection_unknown']\n",
    "\n",
    "X = data_[inputs]\n",
    "print(X.shape)\n",
    "X.head()"
   ]
  },
  {
   "cell_type": "code",
   "execution_count": 38,
   "metadata": {},
   "outputs": [
    {
     "ename": "ValueError",
     "evalue": "could not convert string to float: '-'",
     "output_type": "error",
     "traceback": [
      "\u001b[1;31m---------------------------------------------------------------------------\u001b[0m",
      "\u001b[1;31mValueError\u001b[0m                                Traceback (most recent call last)",
      "\u001b[1;32m<ipython-input-38-7198be5cf757>\u001b[0m in \u001b[0;36m<module>\u001b[1;34m\u001b[0m\n\u001b[0;32m      1\u001b[0m \u001b[0mX\u001b[0m \u001b[1;33m=\u001b[0m \u001b[0mX\u001b[0m\u001b[1;33m.\u001b[0m\u001b[0mvalues\u001b[0m\u001b[1;33m\u001b[0m\u001b[1;33m\u001b[0m\u001b[0m\n\u001b[0;32m      2\u001b[0m \u001b[0mscaler\u001b[0m \u001b[1;33m=\u001b[0m \u001b[0mStandardScaler\u001b[0m\u001b[1;33m(\u001b[0m\u001b[1;33m)\u001b[0m\u001b[1;33m\u001b[0m\u001b[1;33m\u001b[0m\u001b[0m\n\u001b[1;32m----> 3\u001b[1;33m \u001b[0mX\u001b[0m \u001b[1;33m=\u001b[0m \u001b[0mscaler\u001b[0m\u001b[1;33m.\u001b[0m\u001b[0mfit_transform\u001b[0m\u001b[1;33m(\u001b[0m\u001b[0mX\u001b[0m\u001b[1;33m)\u001b[0m\u001b[1;33m\u001b[0m\u001b[1;33m\u001b[0m\u001b[0m\n\u001b[0m",
      "\u001b[1;32mc:\\users\\eornr\\appdata\\local\\programs\\python\\python36\\lib\\site-packages\\sklearn\\base.py\u001b[0m in \u001b[0;36mfit_transform\u001b[1;34m(self, X, y, **fit_params)\u001b[0m\n\u001b[0;32m    569\u001b[0m         \u001b[1;32mif\u001b[0m \u001b[0my\u001b[0m \u001b[1;32mis\u001b[0m \u001b[1;32mNone\u001b[0m\u001b[1;33m:\u001b[0m\u001b[1;33m\u001b[0m\u001b[1;33m\u001b[0m\u001b[0m\n\u001b[0;32m    570\u001b[0m             \u001b[1;31m# fit method of arity 1 (unsupervised transformation)\u001b[0m\u001b[1;33m\u001b[0m\u001b[1;33m\u001b[0m\u001b[1;33m\u001b[0m\u001b[0m\n\u001b[1;32m--> 571\u001b[1;33m             \u001b[1;32mreturn\u001b[0m \u001b[0mself\u001b[0m\u001b[1;33m.\u001b[0m\u001b[0mfit\u001b[0m\u001b[1;33m(\u001b[0m\u001b[0mX\u001b[0m\u001b[1;33m,\u001b[0m \u001b[1;33m**\u001b[0m\u001b[0mfit_params\u001b[0m\u001b[1;33m)\u001b[0m\u001b[1;33m.\u001b[0m\u001b[0mtransform\u001b[0m\u001b[1;33m(\u001b[0m\u001b[0mX\u001b[0m\u001b[1;33m)\u001b[0m\u001b[1;33m\u001b[0m\u001b[1;33m\u001b[0m\u001b[0m\n\u001b[0m\u001b[0;32m    572\u001b[0m         \u001b[1;32melse\u001b[0m\u001b[1;33m:\u001b[0m\u001b[1;33m\u001b[0m\u001b[1;33m\u001b[0m\u001b[0m\n\u001b[0;32m    573\u001b[0m             \u001b[1;31m# fit method of arity 2 (supervised transformation)\u001b[0m\u001b[1;33m\u001b[0m\u001b[1;33m\u001b[0m\u001b[1;33m\u001b[0m\u001b[0m\n",
      "\u001b[1;32mc:\\users\\eornr\\appdata\\local\\programs\\python\\python36\\lib\\site-packages\\sklearn\\preprocessing\\_data.py\u001b[0m in \u001b[0;36mfit\u001b[1;34m(self, X, y)\u001b[0m\n\u001b[0;32m    667\u001b[0m         \u001b[1;31m# Reset internal state before fitting\u001b[0m\u001b[1;33m\u001b[0m\u001b[1;33m\u001b[0m\u001b[1;33m\u001b[0m\u001b[0m\n\u001b[0;32m    668\u001b[0m         \u001b[0mself\u001b[0m\u001b[1;33m.\u001b[0m\u001b[0m_reset\u001b[0m\u001b[1;33m(\u001b[0m\u001b[1;33m)\u001b[0m\u001b[1;33m\u001b[0m\u001b[1;33m\u001b[0m\u001b[0m\n\u001b[1;32m--> 669\u001b[1;33m         \u001b[1;32mreturn\u001b[0m \u001b[0mself\u001b[0m\u001b[1;33m.\u001b[0m\u001b[0mpartial_fit\u001b[0m\u001b[1;33m(\u001b[0m\u001b[0mX\u001b[0m\u001b[1;33m,\u001b[0m \u001b[0my\u001b[0m\u001b[1;33m)\u001b[0m\u001b[1;33m\u001b[0m\u001b[1;33m\u001b[0m\u001b[0m\n\u001b[0m\u001b[0;32m    670\u001b[0m \u001b[1;33m\u001b[0m\u001b[0m\n\u001b[0;32m    671\u001b[0m     \u001b[1;32mdef\u001b[0m \u001b[0mpartial_fit\u001b[0m\u001b[1;33m(\u001b[0m\u001b[0mself\u001b[0m\u001b[1;33m,\u001b[0m \u001b[0mX\u001b[0m\u001b[1;33m,\u001b[0m \u001b[0my\u001b[0m\u001b[1;33m=\u001b[0m\u001b[1;32mNone\u001b[0m\u001b[1;33m)\u001b[0m\u001b[1;33m:\u001b[0m\u001b[1;33m\u001b[0m\u001b[1;33m\u001b[0m\u001b[0m\n",
      "\u001b[1;32mc:\\users\\eornr\\appdata\\local\\programs\\python\\python36\\lib\\site-packages\\sklearn\\preprocessing\\_data.py\u001b[0m in \u001b[0;36mpartial_fit\u001b[1;34m(self, X, y)\u001b[0m\n\u001b[0;32m    698\u001b[0m         X = check_array(X, accept_sparse=('csr', 'csc'),\n\u001b[0;32m    699\u001b[0m                         \u001b[0mestimator\u001b[0m\u001b[1;33m=\u001b[0m\u001b[0mself\u001b[0m\u001b[1;33m,\u001b[0m \u001b[0mdtype\u001b[0m\u001b[1;33m=\u001b[0m\u001b[0mFLOAT_DTYPES\u001b[0m\u001b[1;33m,\u001b[0m\u001b[1;33m\u001b[0m\u001b[1;33m\u001b[0m\u001b[0m\n\u001b[1;32m--> 700\u001b[1;33m                         force_all_finite='allow-nan')\n\u001b[0m\u001b[0;32m    701\u001b[0m \u001b[1;33m\u001b[0m\u001b[0m\n\u001b[0;32m    702\u001b[0m         \u001b[1;31m# Even in the case of `with_mean=False`, we update the mean anyway\u001b[0m\u001b[1;33m\u001b[0m\u001b[1;33m\u001b[0m\u001b[1;33m\u001b[0m\u001b[0m\n",
      "\u001b[1;32mc:\\users\\eornr\\appdata\\local\\programs\\python\\python36\\lib\\site-packages\\sklearn\\utils\\validation.py\u001b[0m in \u001b[0;36mcheck_array\u001b[1;34m(array, accept_sparse, accept_large_sparse, dtype, order, copy, force_all_finite, ensure_2d, allow_nd, ensure_min_samples, ensure_min_features, warn_on_dtype, estimator)\u001b[0m\n\u001b[0;32m    513\u001b[0m                     \u001b[0marray\u001b[0m \u001b[1;33m=\u001b[0m \u001b[0marray\u001b[0m\u001b[1;33m.\u001b[0m\u001b[0mastype\u001b[0m\u001b[1;33m(\u001b[0m\u001b[0mdtype\u001b[0m\u001b[1;33m,\u001b[0m \u001b[0mcasting\u001b[0m\u001b[1;33m=\u001b[0m\u001b[1;34m\"unsafe\"\u001b[0m\u001b[1;33m,\u001b[0m \u001b[0mcopy\u001b[0m\u001b[1;33m=\u001b[0m\u001b[1;32mFalse\u001b[0m\u001b[1;33m)\u001b[0m\u001b[1;33m\u001b[0m\u001b[1;33m\u001b[0m\u001b[0m\n\u001b[0;32m    514\u001b[0m                 \u001b[1;32melse\u001b[0m\u001b[1;33m:\u001b[0m\u001b[1;33m\u001b[0m\u001b[1;33m\u001b[0m\u001b[0m\n\u001b[1;32m--> 515\u001b[1;33m                     \u001b[0marray\u001b[0m \u001b[1;33m=\u001b[0m \u001b[0mnp\u001b[0m\u001b[1;33m.\u001b[0m\u001b[0masarray\u001b[0m\u001b[1;33m(\u001b[0m\u001b[0marray\u001b[0m\u001b[1;33m,\u001b[0m \u001b[0morder\u001b[0m\u001b[1;33m=\u001b[0m\u001b[0morder\u001b[0m\u001b[1;33m,\u001b[0m \u001b[0mdtype\u001b[0m\u001b[1;33m=\u001b[0m\u001b[0mdtype\u001b[0m\u001b[1;33m)\u001b[0m\u001b[1;33m\u001b[0m\u001b[1;33m\u001b[0m\u001b[0m\n\u001b[0m\u001b[0;32m    516\u001b[0m             \u001b[1;32mexcept\u001b[0m \u001b[0mComplexWarning\u001b[0m\u001b[1;33m:\u001b[0m\u001b[1;33m\u001b[0m\u001b[1;33m\u001b[0m\u001b[0m\n\u001b[0;32m    517\u001b[0m                 raise ValueError(\"Complex data not supported\\n\"\n",
      "\u001b[1;32mc:\\users\\eornr\\appdata\\local\\programs\\python\\python36\\lib\\site-packages\\numpy\\core\\_asarray.py\u001b[0m in \u001b[0;36masarray\u001b[1;34m(a, dtype, order)\u001b[0m\n\u001b[0;32m     83\u001b[0m \u001b[1;33m\u001b[0m\u001b[0m\n\u001b[0;32m     84\u001b[0m     \"\"\"\n\u001b[1;32m---> 85\u001b[1;33m     \u001b[1;32mreturn\u001b[0m \u001b[0marray\u001b[0m\u001b[1;33m(\u001b[0m\u001b[0ma\u001b[0m\u001b[1;33m,\u001b[0m \u001b[0mdtype\u001b[0m\u001b[1;33m,\u001b[0m \u001b[0mcopy\u001b[0m\u001b[1;33m=\u001b[0m\u001b[1;32mFalse\u001b[0m\u001b[1;33m,\u001b[0m \u001b[0morder\u001b[0m\u001b[1;33m=\u001b[0m\u001b[0morder\u001b[0m\u001b[1;33m)\u001b[0m\u001b[1;33m\u001b[0m\u001b[1;33m\u001b[0m\u001b[0m\n\u001b[0m\u001b[0;32m     86\u001b[0m \u001b[1;33m\u001b[0m\u001b[0m\n\u001b[0;32m     87\u001b[0m \u001b[1;33m\u001b[0m\u001b[0m\n",
      "\u001b[1;31mValueError\u001b[0m: could not convert string to float: '-'"
     ]
    }
   ],
   "source": [
    "X = X.values\n",
    "scaler = StandardScaler()\n",
    "X = scaler.fit_transform(X)"
   ]
  },
  {
   "cell_type": "code",
   "execution_count": null,
   "metadata": {},
   "outputs": [],
   "source": []
  }
 ],
 "metadata": {
  "kernelspec": {
   "display_name": "Python 3",
   "language": "python",
   "name": "python3"
  },
  "language_info": {
   "codemirror_mode": {
    "name": "ipython",
    "version": 3
   },
   "file_extension": ".py",
   "mimetype": "text/x-python",
   "name": "python",
   "nbconvert_exporter": "python",
   "pygments_lexer": "ipython3",
   "version": "3.6.8"
  }
 },
 "nbformat": 4,
 "nbformat_minor": 2
}
