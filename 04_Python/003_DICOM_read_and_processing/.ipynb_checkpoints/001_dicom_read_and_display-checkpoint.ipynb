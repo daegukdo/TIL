{
 "cells": [
  {
   "cell_type": "markdown",
   "metadata": {},
   "source": [
    "## 1. read dicom\n",
    "\n",
    " - pydicom을 사용하여 dicom 파일 (의료영상표준)을 읽고 속성들에 대하여 확인\n",
    "\n",
    " - 참고 자료\n",
    " \n",
    " > https://github.com/paultpearson/DSB16/blob/master/data/tutorial_02_plotting_and_histogram_equalization.py"
   ]
  },
  {
   "cell_type": "code",
   "execution_count": 1,
   "metadata": {},
   "outputs": [],
   "source": [
    "# import module\n",
    "import pydicom\n",
    "import numpy as np\n",
    "import os"
   ]
  },
  {
   "cell_type": "markdown",
   "metadata": {},
   "source": [
    " - dcm은 dicom의 확장자\n",
    " \n",
    " - os module을 사용하여 쉽게 path string 값을 구성\n",
    " \n",
    " - un-compressed sawbone와 compressed sawbone 데이터를 읽자"
   ]
  },
  {
   "cell_type": "code",
   "execution_count": 2,
   "metadata": {},
   "outputs": [],
   "source": [
    "# read sawbone.dcm\n",
    "filepath_1 = os.path.join(\"dcm_data\", \"sawbone.dcm\")\n",
    "\n",
    "# read sawbone.dcm\n",
    "filepath_2 = os.path.join(\"dcm_data\", \"sawbone_compressed.dcm\")"
   ]
  },
  {
   "cell_type": "markdown",
   "metadata": {},
   "source": [
    " - pydicom module을 사용하여 dcm 파일 읽기\n",
    " \n",
    " - 참고자료\n",
    " \n",
    " > https://pydicom.github.io/pydicom/stable/base_element.html#dataset"
   ]
  },
  {
   "cell_type": "code",
   "execution_count": 3,
   "metadata": {},
   "outputs": [],
   "source": [
    "dc_1 = pydicom.dcmread(filepath_1)\n",
    "dc_2 = pydicom.dcmread(filepath_2)"
   ]
  },
  {
   "cell_type": "markdown",
   "metadata": {},
   "source": [
    " - dataset을 입력하면 dicom의 header 나열을 볼 수 있음\n",
    " \n",
    " - 여기서 Bits Stored 값을 보면 각 데이터가 다른 bits를 가지는데 이로 compressed 여부를 추측할 수 있음\n",
    " \n",
    " - 실제로는 transfer syntax를 보는 것이 더 정확\n",
    " \n",
    " - transfer syntax에 관련 참고 자료\n",
    " \n",
    " > https://www.dicomlibrary.com/dicom/transfer-syntax/"
   ]
  },
  {
   "cell_type": "code",
   "execution_count": 4,
   "metadata": {},
   "outputs": [
    {
     "data": {
      "text/plain": [
       "(0008, 0000) Group Length                        UL: 846\n",
       "(0008, 0008) Image Type                          CS: ['ORIGINAL', 'PRIMARY', 'AXIAL', 'CT_SOM5 SPI']\n",
       "(0008, 0016) SOP Class UID                       UI: CT Image Storage\n",
       "(0008, 0018) SOP Instance UID                    UI: 1.3.12.2.1107.5.1.4.91362.30000019081301265952000001507\n",
       "(0008, 0020) Study Date                          DA: '20190813'\n",
       "(0008, 0021) Series Date                         DA: '20190813'\n",
       "(0008, 0022) Acquisition Date                    DA: '20190813'\n",
       "(0008, 0023) Content Date                        DA: '20190813'\n",
       "(0008, 0030) Study Time                          TM: '143238'\n",
       "(0008, 0031) Series Time                         TM: '143648.379000'\n",
       "(0008, 0032) Acquisition Time                    TM: '143512'\n",
       "(0008, 0033) Content Time                        TM: '143512'\n",
       "(0008, 0050) Accession Number                    SH: 'A543076000000003'\n",
       "(0008, 0060) Modality                            CS: 'CT'\n",
       "(0008, 0070) Manufacturer                        LO: 'SIEMENS'\n",
       "(0008, 0080) Institution Name                    LO: 'LOVEPLUSHospital'\n",
       "(0008, 0081) Institution Address                 ST: '1\\r\\nSEOUL\\r\\nDistrict\\r\\nKR'\n",
       "(0008, 0090) Referring Physician's Name          PN: ''\n",
       "(0008, 1010) Station Name                        SH: 'CT91362'\n",
       "(0008, 1030) Study Description                   LO: 'Pelvis^Pelvic_bone (Adult)'\n",
       "(0008, 103e) Series Description                  LO: 'Pelvic bone  3.0  B80s'\n",
       "(0010, 0000) Group Length                        UL: 78\n",
       "(0010, 0010) Patient's Name                      PN: '20190813left'\n",
       "(0010, 0020) Patient ID                          LO: '20190813left'\n",
       "(0010, 0030) Patient's Birth Date                DA: '19700511'\n",
       "(0010, 0040) Patient's Sex                       CS: 'M'\n",
       "(0010, 1010) Patient's Age                       AS: '049Y'\n",
       "(0018, 0000) Group Length                        UL: 342\n",
       "(0018, 0015) Body Part Examined                  CS: 'PELVIS'\n",
       "(0018, 0050) Slice Thickness                     DS: \"3\"\n",
       "(0018, 0060) KVP                                 DS: \"130\"\n",
       "(0018, 0088) Spacing Between Slices              DS: \"3\"\n",
       "(0018, 0090) Data Collection Diameter            DS: \"500.084\"\n",
       "(0018, 1000) Device Serial Number                LO: '91362'\n",
       "(0018, 1020) Software Version(s)                 LO: 'syngo CT VC30 - easyIQ version'\n",
       "(0018, 1030) Protocol Name                       LO: 'Pelvic_bone'\n",
       "(0018, 1100) Reconstruction Diameter             DS: \"250\"\n",
       "(0018, 1110) Distance Source to Detector         DS: \"940\"\n",
       "(0018, 1111) Distance Source to Patient          DS: \"535\"\n",
       "(0018, 1120) Gantry/Detector Tilt                DS: \"0\"\n",
       "(0018, 1130) Table Height                        DS: \"86\"\n",
       "(0018, 1140) Rotation Direction                  CS: 'CW'\n",
       "(0018, 1150) Exposure Time                       IS: \"1000\"\n",
       "(0018, 1151) X-Ray Tube Current                  IS: \"24\"\n",
       "(0018, 1152) Exposure                            IS: \"24\"\n",
       "(0018, 1160) Filter Type                         SH: '1'\n",
       "(0018, 1170) Generator Power                     IS: \"3\"\n",
       "(0018, 1190) Focal Spot(s)                       DS: \"0.95\"\n",
       "(0018, 1200) Date of Last Calibration            DA: '20190813'\n",
       "(0018, 1201) Time of Last Calibration            TM: '085444.000000'\n",
       "(0018, 1210) Convolution Kernel                  SH: 'B80s'\n",
       "(0018, 5100) Patient Position                    CS: 'FFS'\n",
       "(0018, 9345) CTDIvol                             FD: 2.3616\n",
       "(0020, 0000) Group Length                        UL: 338\n",
       "(0020, 000d) Study Instance UID                  UI: 1.3.12.2.1107.5.1.4.91362.30000019081303543076000000003\n",
       "(0020, 000e) Series Instance UID                 UI: 1.3.12.2.1107.5.1.4.91362.30000019081301265952000000966\n",
       "(0020, 0010) Study ID                            SH: '1'\n",
       "(0020, 0011) Series Number                       IS: \"2\"\n",
       "(0020, 0012) Acquisition Number                  IS: \"2\"\n",
       "(0020, 0013) Instance Number                     IS: \"541\"\n",
       "(0020, 0020) Patient Orientation                 CS: ''\n",
       "(0020, 0032) Image Position (Patient)            DS: ['-105.756', '-210.756', '-126.8']\n",
       "(0020, 0037) Image Orientation (Patient)         DS: ['1', '0', '0', '0', '1', '0']\n",
       "(0020, 0050) Location                            DS: \"126.8\"\n",
       "(0020, 0052) Frame of Reference UID              UI: 1.3.12.2.1107.5.1.4.91362.30000019081300514720100000182\n",
       "(0020, 1040) Position Reference Indicator        LO: ''\n",
       "(0020, 1041) Slice Location                      DS: \"126.8\"\n",
       "(0020, 4000) Image Comments                      LT: ''\n",
       "(0028, 0000) Group Length                        UL: 268\n",
       "(0028, 0002) Samples per Pixel                   US: 1\n",
       "(0028, 0004) Photometric Interpretation          CS: 'MONOCHROME2'\n",
       "(0028, 0006) Planar Configuration                US: 0\n",
       "(0028, 0008) Number of Frames                    IS: \"1\"\n",
       "(0028, 0010) Rows                                US: 512\n",
       "(0028, 0011) Columns                             US: 512\n",
       "(0028, 0030) Pixel Spacing                       DS: ['0.488281', '0.488281']\n",
       "(0028, 0100) Bits Allocated                      US: 16\n",
       "(0028, 0101) Bits Stored                         US: 12\n",
       "(0028, 0102) High Bit                            US: 11\n",
       "(0028, 0103) Pixel Representation                US: 0\n",
       "(0028, 0106) Smallest Image Pixel Value          US: ['0', '0']\n",
       "(0028, 0107) Largest Image Pixel Value           US: ['1546', '0']\n",
       "(0028, 0120) Pixel Padding Value                 US: 0\n",
       "(0028, 1050) Window Center                       DS: \"-854.000000\"\n",
       "(0028, 1051) Window Width                        DS: \"170.000000\"\n",
       "(0028, 1052) Rescale Intercept                   DS: \"-1024.000000\"\n",
       "(0028, 1053) Rescale Slope                       DS: \"1.000000\"\n",
       "(0028, 1055) Window Center & Width Explanation   LO: ['WINDOW1', 'WINDOW2']\n",
       "(0040, 0000) Group Length                        UL: 62\n",
       "(0040, 0244) Performed Procedure Step Start Date DA: '20190813'\n",
       "(0040, 0245) Performed Procedure Step Start Time TM: '143238.566000'\n",
       "(0040, 0253) Performed Procedure Step ID         SH: 'CT20190813143238'\n",
       "(7fe0, 0000) Group Length                        UL: 524296\n",
       "(7fe0, 0010) Pixel Data                          OW: Array of 524288 elements"
      ]
     },
     "execution_count": 4,
     "metadata": {},
     "output_type": "execute_result"
    }
   ],
   "source": [
    "dc_1"
   ]
  },
  {
   "cell_type": "code",
   "execution_count": 5,
   "metadata": {},
   "outputs": [
    {
     "data": {
      "text/plain": [
       "(0008, 0008) Image Type                          CS: 'ORIGINAL'\n",
       "(0008, 0012) Instance Creation Date              DA: '20190814'\n",
       "(0008, 0013) Instance Creation Time              TM: '100245.000775'\n",
       "(0008, 0016) SOP Class UID                       UI: CT Image Storage\n",
       "(0008, 0018) SOP Instance UID                    UI: 1.2.410.200010.4096232629.190814.100245.000775.016827\n",
       "(0008, 0020) Study Date                          DA: '20190813'\n",
       "(0008, 0021) Series Date                         DA: '20190814'\n",
       "(0008, 0030) Study Time                          TM: '143238.501000'\n",
       "(0008, 0031) Series Time                         TM: '100245.000775'\n",
       "(0008, 0060) Modality                            CS: 'CT'\n",
       "(0008, 0070) Manufacturer                        LO: 'INFINITT'\n",
       "(0008, 0080) Institution Name                    LO: 'LOVEPLUSHospital'\n",
       "(0008, 1030) Study Description                   LO: 'Pelvis^Pelvic_bone (Adult)'\n",
       "(0008, 103e) Series Description                  LO: 'Captured Image'\n",
       "(0008, 1090) Manufacturer's Model Name           LO: 'INFINITT PACS'\n",
       "(0010, 0010) Patient's Name                      PN: '20190813left'\n",
       "(0010, 0020) Patient ID                          LO: '20190813left'\n",
       "(0010, 0030) Patient's Birth Date                DA: '19700511'\n",
       "(0010, 0040) Patient's Sex                       CS: 'M'\n",
       "(0010, 1010) Patient's Age                       AS: '049Y'\n",
       "(0018, 0015) Body Part Examined                  CS: 'PELVIS'\n",
       "(0018, 5100) Patient Position                    CS: 'FFS'\n",
       "(0020, 000d) Study Instance UID                  UI: 1.3.12.2.1107.5.1.4.91362.30000019081303543076000000003\n",
       "(0020, 000e) Series Instance UID                 UI: 1.2.410.200010.4096232629.20190814.093321.000775.220992\n",
       "(0020, 0010) Study ID                            SH: '1'\n",
       "(0020, 0011) Series Number                       IS: \"3\"\n",
       "(0020, 0032) Image Position (Patient)            DS: ['-105.755859375', '-210.755859375', '360.2']\n",
       "(0020, 0037) Image Orientation (Patient)         DS: ['1', '0', '0', '0', '1', '0']\n",
       "(0020, 0052) Frame of Reference UID              UI: 1.3.12.2.1107.5.1.4.91362.30000019081300514720100000182\n",
       "(0028, 0002) Samples per Pixel                   US: 1\n",
       "(0028, 0004) Photometric Interpretation          CS: 'MONOCHROME2'\n",
       "(0028, 0010) Rows                                US: 512\n",
       "(0028, 0011) Columns                             US: 512\n",
       "(0028, 0030) Pixel Spacing                       DS: ['0.488281', '0.488281']\n",
       "(0028, 0100) Bits Allocated                      US: 16\n",
       "(0028, 0101) Bits Stored                         US: 16\n",
       "(0028, 0102) High Bit                            US: 15\n",
       "(0028, 0103) Pixel Representation                US: 1\n",
       "(0028, 1050) Window Center                       DS: \"-800\"\n",
       "(0028, 1051) Window Width                        DS: \"454\"\n",
       "(0028, 1052) Rescale Intercept                   DS: \"0.0\"\n",
       "(0028, 1053) Rescale Slope                       DS: \"1.0\"\n",
       "(0028, 2110) Lossy Image Compression             CS: '00'\n",
       "(0040, 0244) Performed Procedure Step Start Date DA: '20190813'\n",
       "(0040, 0245) Performed Procedure Step Start Time TM: '143238.566000'\n",
       "(0040, 0253) Performed Procedure Step ID         SH: 'CT20190813143238'\n",
       "(7fe0, 0010) Pixel Data                          OB: Array of 212292 elements"
      ]
     },
     "execution_count": 5,
     "metadata": {},
     "output_type": "execute_result"
    }
   ],
   "source": [
    "dc_2"
   ]
  },
  {
   "cell_type": "markdown",
   "metadata": {},
   "source": [
    " - pixel data는 실제 dicom의 이미지 값들 (intensity)이 저장되어 있음\n",
    "\n",
    " - 위의 두 데이터에서 dc_1과 dc_2는 compressed로 나뉘게 됨\n",
    " \n",
    " - 여기서 compressed는 무손실 압축을 의미\n",
    " \n",
    " - dc_2는 compressed 데이터이므로 pydicom에서 dc_2가 가지는 pixel data에 바로 접근이 불가능\n",
    " \n",
    " - 압축된 dicom 데이터의 pixel data에 접근하기 위해서는 다른 방법을 사용하여 접근"
   ]
  },
  {
   "cell_type": "code",
   "execution_count": 6,
   "metadata": {},
   "outputs": [
    {
     "data": {
      "text/plain": [
       "array([[20, 12, 35, ..., 31, 22,  6],\n",
       "       [ 5, 15, 32, ..., 14, 38, 23],\n",
       "       [21, 29, 30, ..., 23,  5, 23],\n",
       "       ...,\n",
       "       [14, 75, 31, ...,  0, 32,  9],\n",
       "       [10, 37, 53, ..., 29,  8,  5],\n",
       "       [41, 32, 33, ..., 11, 10, 38]], dtype=uint16)"
      ]
     },
     "execution_count": 6,
     "metadata": {},
     "output_type": "execute_result"
    }
   ],
   "source": [
    "dc_1.pixel_array"
   ]
  },
  {
   "cell_type": "code",
   "execution_count": 7,
   "metadata": {
    "scrolled": true
   },
   "outputs": [
    {
     "ename": "NotImplementedError",
     "evalue": "None",
     "output_type": "error",
     "traceback": [
      "\u001b[1;31m---------------------------------------------------------------------------\u001b[0m",
      "\u001b[1;31mOSError\u001b[0m                                   Traceback (most recent call last)",
      "\u001b[1;32mc:\\users\\ddk13\\appdata\\local\\programs\\python\\python36\\lib\\site-packages\\pydicom\\pixel_data_handlers\\pillow_handler.py\u001b[0m in \u001b[0;36mget_pixeldata\u001b[1;34m(dicom_dataset)\u001b[0m\n\u001b[0;32m    196\u001b[0m                 \u001b[0mfio\u001b[0m \u001b[1;33m=\u001b[0m \u001b[0mio\u001b[0m\u001b[1;33m.\u001b[0m\u001b[0mBytesIO\u001b[0m\u001b[1;33m(\u001b[0m\u001b[0mpixel_data\u001b[0m\u001b[1;33m)\u001b[0m\u001b[1;33m\u001b[0m\u001b[1;33m\u001b[0m\u001b[0m\n\u001b[1;32m--> 197\u001b[1;33m                 \u001b[0mdecompressed_image\u001b[0m \u001b[1;33m=\u001b[0m \u001b[0mImage\u001b[0m\u001b[1;33m.\u001b[0m\u001b[0mopen\u001b[0m\u001b[1;33m(\u001b[0m\u001b[0mfio\u001b[0m\u001b[1;33m)\u001b[0m\u001b[1;33m\u001b[0m\u001b[1;33m\u001b[0m\u001b[0m\n\u001b[0m\u001b[0;32m    198\u001b[0m             \u001b[1;32mexcept\u001b[0m \u001b[0mIOError\u001b[0m \u001b[1;32mas\u001b[0m \u001b[0me\u001b[0m\u001b[1;33m:\u001b[0m\u001b[1;33m\u001b[0m\u001b[1;33m\u001b[0m\u001b[0m\n",
      "\u001b[1;32mc:\\users\\ddk13\\appdata\\local\\programs\\python\\python36\\lib\\site-packages\\PIL\\Image.py\u001b[0m in \u001b[0;36mopen\u001b[1;34m(fp, mode)\u001b[0m\n\u001b[0;32m   2821\u001b[0m         \u001b[0mwarnings\u001b[0m\u001b[1;33m.\u001b[0m\u001b[0mwarn\u001b[0m\u001b[1;33m(\u001b[0m\u001b[0mmessage\u001b[0m\u001b[1;33m)\u001b[0m\u001b[1;33m\u001b[0m\u001b[1;33m\u001b[0m\u001b[0m\n\u001b[1;32m-> 2822\u001b[1;33m     \u001b[1;32mraise\u001b[0m \u001b[0mIOError\u001b[0m\u001b[1;33m(\u001b[0m\u001b[1;34m\"cannot identify image file %r\"\u001b[0m \u001b[1;33m%\u001b[0m \u001b[1;33m(\u001b[0m\u001b[0mfilename\u001b[0m \u001b[1;32mif\u001b[0m \u001b[0mfilename\u001b[0m \u001b[1;32melse\u001b[0m \u001b[0mfp\u001b[0m\u001b[1;33m)\u001b[0m\u001b[1;33m)\u001b[0m\u001b[1;33m\u001b[0m\u001b[1;33m\u001b[0m\u001b[0m\n\u001b[0m\u001b[0;32m   2823\u001b[0m \u001b[1;33m\u001b[0m\u001b[0m\n",
      "\u001b[1;31mOSError\u001b[0m: cannot identify image file <_io.BytesIO object at 0x000001ED443B6DB0>",
      "\nDuring handling of the above exception, another exception occurred:\n",
      "\u001b[1;31mNotImplementedError\u001b[0m                       Traceback (most recent call last)",
      "\u001b[1;32m<ipython-input-7-1a5586f514b8>\u001b[0m in \u001b[0;36m<module>\u001b[1;34m\u001b[0m\n\u001b[0;32m      1\u001b[0m \u001b[1;31m# need to decompressed\u001b[0m\u001b[1;33m\u001b[0m\u001b[1;33m\u001b[0m\u001b[1;33m\u001b[0m\u001b[0m\n\u001b[1;32m----> 2\u001b[1;33m \u001b[0mdc_2\u001b[0m\u001b[1;33m.\u001b[0m\u001b[0mpixel_array\u001b[0m\u001b[1;33m\u001b[0m\u001b[1;33m\u001b[0m\u001b[0m\n\u001b[0m",
      "\u001b[1;32mc:\\users\\ddk13\\appdata\\local\\programs\\python\\python36\\lib\\site-packages\\pydicom\\dataset.py\u001b[0m in \u001b[0;36mpixel_array\u001b[1;34m(self)\u001b[0m\n\u001b[0;32m   1360\u001b[0m             \u001b[0mThe\u001b[0m \u001b[0mPixel\u001b[0m \u001b[0mData\u001b[0m \u001b[1;33m(\u001b[0m\u001b[1;36m7\u001b[0m\u001b[0mFE0\u001b[0m\u001b[1;33m,\u001b[0m\u001b[1;36m00\u001b[0m\u001b[1;36m10\u001b[0m\u001b[1;33m)\u001b[0m \u001b[1;32mas\u001b[0m \u001b[0ma\u001b[0m \u001b[0mNumPy\u001b[0m \u001b[0mndarray\u001b[0m\u001b[1;33m.\u001b[0m\u001b[1;33m\u001b[0m\u001b[1;33m\u001b[0m\u001b[0m\n\u001b[0;32m   1361\u001b[0m         \"\"\"\n\u001b[1;32m-> 1362\u001b[1;33m         \u001b[0mself\u001b[0m\u001b[1;33m.\u001b[0m\u001b[0mconvert_pixel_data\u001b[0m\u001b[1;33m(\u001b[0m\u001b[1;33m)\u001b[0m\u001b[1;33m\u001b[0m\u001b[1;33m\u001b[0m\u001b[0m\n\u001b[0m\u001b[0;32m   1363\u001b[0m         \u001b[1;32mreturn\u001b[0m \u001b[0mself\u001b[0m\u001b[1;33m.\u001b[0m\u001b[0m_pixel_array\u001b[0m\u001b[1;33m\u001b[0m\u001b[1;33m\u001b[0m\u001b[0m\n\u001b[0;32m   1364\u001b[0m \u001b[1;33m\u001b[0m\u001b[0m\n",
      "\u001b[1;32mc:\\users\\ddk13\\appdata\\local\\programs\\python\\python36\\lib\\site-packages\\pydicom\\dataset.py\u001b[0m in \u001b[0;36mconvert_pixel_data\u001b[1;34m(self)\u001b[0m\n\u001b[0;32m   1306\u001b[0m         )\n\u001b[0;32m   1307\u001b[0m \u001b[1;33m\u001b[0m\u001b[0m\n\u001b[1;32m-> 1308\u001b[1;33m         \u001b[1;32mraise\u001b[0m \u001b[0mlast_exception\u001b[0m\u001b[1;33m\u001b[0m\u001b[1;33m\u001b[0m\u001b[0m\n\u001b[0m\u001b[0;32m   1309\u001b[0m \u001b[1;33m\u001b[0m\u001b[0m\n\u001b[0;32m   1310\u001b[0m     \u001b[1;32mdef\u001b[0m \u001b[0mdecompress\u001b[0m\u001b[1;33m(\u001b[0m\u001b[0mself\u001b[0m\u001b[1;33m)\u001b[0m\u001b[1;33m:\u001b[0m\u001b[1;33m\u001b[0m\u001b[1;33m\u001b[0m\u001b[0m\n",
      "\u001b[1;32mc:\\users\\ddk13\\appdata\\local\\programs\\python\\python36\\lib\\site-packages\\pydicom\\dataset.py\u001b[0m in \u001b[0;36mconvert_pixel_data\u001b[1;34m(self)\u001b[0m\n\u001b[0;32m   1274\u001b[0m             \u001b[1;32mtry\u001b[0m\u001b[1;33m:\u001b[0m\u001b[1;33m\u001b[0m\u001b[1;33m\u001b[0m\u001b[0m\n\u001b[0;32m   1275\u001b[0m                 \u001b[1;31m# Use the handler to get a 1D numpy array of the pixel data\u001b[0m\u001b[1;33m\u001b[0m\u001b[1;33m\u001b[0m\u001b[1;33m\u001b[0m\u001b[0m\n\u001b[1;32m-> 1276\u001b[1;33m                 \u001b[0marr\u001b[0m \u001b[1;33m=\u001b[0m \u001b[0mhandler\u001b[0m\u001b[1;33m.\u001b[0m\u001b[0mget_pixeldata\u001b[0m\u001b[1;33m(\u001b[0m\u001b[0mself\u001b[0m\u001b[1;33m)\u001b[0m\u001b[1;33m\u001b[0m\u001b[1;33m\u001b[0m\u001b[0m\n\u001b[0m\u001b[0;32m   1277\u001b[0m                 \u001b[0mself\u001b[0m\u001b[1;33m.\u001b[0m\u001b[0m_pixel_array\u001b[0m \u001b[1;33m=\u001b[0m \u001b[0mreshape_pixel_array\u001b[0m\u001b[1;33m(\u001b[0m\u001b[0mself\u001b[0m\u001b[1;33m,\u001b[0m \u001b[0marr\u001b[0m\u001b[1;33m)\u001b[0m\u001b[1;33m\u001b[0m\u001b[1;33m\u001b[0m\u001b[0m\n\u001b[0;32m   1278\u001b[0m \u001b[1;33m\u001b[0m\u001b[0m\n",
      "\u001b[1;32mc:\\users\\ddk13\\appdata\\local\\programs\\python\\python36\\lib\\site-packages\\pydicom\\pixel_data_handlers\\pillow_handler.py\u001b[0m in \u001b[0;36mget_pixeldata\u001b[1;34m(dicom_dataset)\u001b[0m\n\u001b[0;32m    197\u001b[0m                 \u001b[0mdecompressed_image\u001b[0m \u001b[1;33m=\u001b[0m \u001b[0mImage\u001b[0m\u001b[1;33m.\u001b[0m\u001b[0mopen\u001b[0m\u001b[1;33m(\u001b[0m\u001b[0mfio\u001b[0m\u001b[1;33m)\u001b[0m\u001b[1;33m\u001b[0m\u001b[1;33m\u001b[0m\u001b[0m\n\u001b[0;32m    198\u001b[0m             \u001b[1;32mexcept\u001b[0m \u001b[0mIOError\u001b[0m \u001b[1;32mas\u001b[0m \u001b[0me\u001b[0m\u001b[1;33m:\u001b[0m\u001b[1;33m\u001b[0m\u001b[1;33m\u001b[0m\u001b[0m\n\u001b[1;32m--> 199\u001b[1;33m                 \u001b[1;32mraise\u001b[0m \u001b[0mNotImplementedError\u001b[0m\u001b[1;33m(\u001b[0m\u001b[0me\u001b[0m\u001b[1;33m.\u001b[0m\u001b[0mstrerror\u001b[0m\u001b[1;33m)\u001b[0m\u001b[1;33m\u001b[0m\u001b[1;33m\u001b[0m\u001b[0m\n\u001b[0m\u001b[0;32m    200\u001b[0m             \u001b[0mUncompressedPixelData\u001b[0m\u001b[1;33m.\u001b[0m\u001b[0mextend\u001b[0m\u001b[1;33m(\u001b[0m\u001b[0mdecompressed_image\u001b[0m\u001b[1;33m.\u001b[0m\u001b[0mtobytes\u001b[0m\u001b[1;33m(\u001b[0m\u001b[1;33m)\u001b[0m\u001b[1;33m)\u001b[0m\u001b[1;33m\u001b[0m\u001b[1;33m\u001b[0m\u001b[0m\n\u001b[0;32m    201\u001b[0m     \u001b[1;32mexcept\u001b[0m \u001b[0mException\u001b[0m\u001b[1;33m:\u001b[0m\u001b[1;33m\u001b[0m\u001b[1;33m\u001b[0m\u001b[0m\n",
      "\u001b[1;31mNotImplementedError\u001b[0m: None"
     ]
    }
   ],
   "source": [
    "# need to decompressed\n",
    "dc_2.pixel_array"
   ]
  },
  {
   "cell_type": "markdown",
   "metadata": {},
   "source": [
    "## 2. display dicom data"
   ]
  },
  {
   "cell_type": "code",
   "execution_count": 8,
   "metadata": {},
   "outputs": [],
   "source": [
    "# set jupyter property(?)\n",
    "%matplotlib inline\n",
    "\n",
    "# import module\n",
    "import matplotlib.pyplot as plt"
   ]
  },
  {
   "cell_type": "markdown",
   "metadata": {},
   "source": [
    " - dc_1 dicom이 가지는 pixel data를 사용하여 display를 진행"
   ]
  },
  {
   "cell_type": "code",
   "execution_count": 9,
   "metadata": {},
   "outputs": [
    {
     "data": {
      "text/plain": [
       "Text(0.5, 0.98, 'sawbone CT data with gray colormap')"
      ]
     },
     "execution_count": 9,
     "metadata": {},
     "output_type": "execute_result"
    },
    {
     "data": {
      "image/png": "[encoded data removed]",
      "text/plain": [
       "<Figure size 432x288 with 2 Axes>"
      ]
     },
     "metadata": {
      "needs_background": "light"
     },
     "output_type": "display_data"
    }
   ],
   "source": [
    "dc_1_pxd = dc_1.pixel_array\n",
    "\n",
    "fig1  = plt.figure()\n",
    "plt.imshow(dc_1_pxd, cmap=\"gray\", interpolation=\"bicubic\")\n",
    "plt.colorbar()\n",
    "fig1.suptitle(\"sawbone CT data with gray colormap\", fontsize=12)"
   ]
  },
  {
   "cell_type": "code",
   "execution_count": null,
   "metadata": {},
   "outputs": [],
   "source": []
  }
 ],
 "metadata": {
  "kernelspec": {
   "display_name": "Python 3",
   "language": "python",
   "name": "python3"
  },
  "language_info": {
   "codemirror_mode": {
    "name": "ipython",
    "version": 3
   },
   "file_extension": ".py",
   "mimetype": "text/x-python",
   "name": "python",
   "nbconvert_exporter": "python",
   "pygments_lexer": "ipython3",
   "version": "3.6.8"
  }
 },
 "nbformat": 4,
 "nbformat_minor": 2
}
