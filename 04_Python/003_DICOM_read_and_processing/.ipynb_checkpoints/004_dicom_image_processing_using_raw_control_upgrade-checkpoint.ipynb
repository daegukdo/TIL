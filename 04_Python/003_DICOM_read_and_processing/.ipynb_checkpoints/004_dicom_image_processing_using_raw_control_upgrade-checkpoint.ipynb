{
 "cells": [
  {
   "cell_type": "markdown",
   "metadata": {},
   "source": [
    "### Load module and data path  \n",
    "\n",
    " - module을 import하고 DICOM을 읽기 위한 경로 등을 정의  "
   ]
  },
  {
   "cell_type": "code",
   "execution_count": 1,
   "metadata": {},
   "outputs": [],
   "source": [
    "import numpy as np\n",
    "import pydicom\n",
    "import glob\n",
    "import os\n",
    "\n",
    "dcmlists = glob.glob(os.path.join(\"data/\", \"*.dcm\"))"
   ]
  },
  {
   "cell_type": "markdown",
   "metadata": {},
   "source": [
    "### Read DICOM data  \n",
    "\n",
    " - DICOM 데이터를 읽어드리는 작업을 수행  \n",
    " - 이때 의료 영상 데이터가 아닌 경우 예외 처리로 제외  \n",
    " - `AttributeError`인 경우 의료 영상 데이터가 아닌 것에 대한 예외 처리  \n",
    " - 다른 예외 발생 시 추후에 왜, 어떻게 발생했는지 확인하여 추가 필요  "
   ]
  },
  {
   "cell_type": "code",
   "execution_count": 2,
   "metadata": {},
   "outputs": [],
   "source": [
    "dcm_list = []\n",
    "\n",
    "for i in range(len(dcmlists)):\n",
    "    file_path = dcmlists[i]\n",
    "    file_name = os.path.basename(file_path)\n",
    "\n",
    "    try:\n",
    "        dcm = pydicom.dcmread(file_path)\n",
    "        dcm_list.append(dcm)\n",
    "    except AttributeError:\n",
    "        print(\"AttributeError : wrong attribute\")\n",
    "    except:\n",
    "        print(\"Error\")"
   ]
  },
  {
   "cell_type": "markdown",
   "metadata": {},
   "source": [
    "### DICOM header의 값 중 영상의 raw한 정보와 관련된 부분을 확인  \n",
    "\n",
    " - 일반적으로 CT 데이터의 raw한 pixel 값은 0~xxxx등으로 저장되어 있음  \n",
    " - 하지만 CT의 경우 물(0)을 기준으로 공기(-1000), 뼈(+400) 등의 CT number를 정의함 ... Hounsfield Unit(HU)  \n",
    " - 이를 위해 DICOM header 정보에 `Rescale factor`를 저장하여 사용 ... 이 값을 사용하여 raw를 HU로 변환  \n",
    " - `Rescale factor`와 관련된 header 정보는 `Rescale Intercept`와 `Rescale Slope`가 있음  "
   ]
  },
  {
   "cell_type": "code",
   "execution_count": 4,
   "metadata": {},
   "outputs": [
    {
     "name": "stdout",
     "output_type": "stream",
     "text": [
      "Rescale Intercept : -1024\n",
      "Rescale Slope : 1\n"
     ]
    }
   ],
   "source": [
    "dcm_test = dcm_list[0]\n",
    "\n",
    "print(\"Rescale Intercept : \" + str(dcm_test.RescaleIntercept))\n",
    "print(\"Rescale Slope : \"     + str(dcm_test.RescaleSlope))"
   ]
  },
  {
   "cell_type": "markdown",
   "metadata": {},
   "source": [
    " - DICOM 중 의료 영상에 해당하는 `.dcm`의 포맷을 가지는 데이터는 영상으로써 각 pixel마다 intensity를 가짐  \n",
    " - 영상 처리에서 이러한 intensity는 어떤 해상도(몇 bits로 표현되는가)를 가지고 표현되는가가 중요함  \n",
    " > **Example** 어떤 영상의 intensity가 16 bits로 표현된다고 하자. 이 데이터를 8 bits로 처리되는 변수에 저장하는 경우 intensity의 range에 손상이 발생하게 되고, 정확한 영상처리가 아니게되기 때문.  \n",
    " - 위와 같은 이유로 이 의료 영상이 어떤 해상도로 표현되는지를 알아야 함  \n",
    " - 이를 알 수 있게 DICOM header에서 tag 값을 지원하며 이름은 `BitsAllocated`임  \n",
    " > **Note** 아래의 reference에 의하면 대부분의 DICOM image는 16 bits 또는 8 bits라고 함  \n",
    " \n",
    " > **Reference** http://dicomiseasy.blogspot.com/2012/08/chapter-12-pixel-data.html  "
   ]
  },
  {
   "cell_type": "code",
   "execution_count": 5,
   "metadata": {},
   "outputs": [
    {
     "name": "stdout",
     "output_type": "stream",
     "text": [
      "Bits Allocated : 16\n"
     ]
    }
   ],
   "source": [
    "print(\"Bits Allocated : \"     + str(dcm_test.BitsAllocated))"
   ]
  },
  {
   "cell_type": "markdown",
   "metadata": {},
   "source": [
    "### 이전보다 빠른 방법으로 측정 대역의 intensity를 조절하는 방법  \n",
    "\n",
    " - 여기서 이전 방법은 `003_...`에서 설명한 방법을 의미  \n",
    " - 이전에는 하나하나 pixel 값을 바꾸는 방식을 사용  \n",
    " - 그 이유로는 데이터 해상도의 손실이 우려되었기 때문  \n",
    " - 여기서는 위에서 설명한 raw 데이터를 손실없이 받는 방법을 알기에 이를 응용  \n",
    " - numpy의 데이터 타입 지원을 사용하여 `BitsAllocated`의 해상도를 지원하는 타입을 선택  \n",
    " - 이후 numpy의 코드를 사용하여 한번에 pixel 값을 변경  \n",
    " - 여기서 pixel 데이터를 한번에 변경할 때 주의할 점은 2D 데이터를 1D로 만들어서 변경한다는 점  \n",
    " > **Note** 2D가 3 by 3 데이터이면 이를 가장 윗줄부터 차례로 기차처럼 연결하여 1D로 만들게 되면 1 by 9가 된다고 생각할 수 있음  "
   ]
  },
  {
   "cell_type": "code",
   "execution_count": 7,
   "metadata": {},
   "outputs": [
    {
     "name": "stdout",
     "output_type": "stream",
     "text": [
      "data_cvt/I20101142.dcm\n",
      "data_cvt/I20101142.dcm\n",
      "data_cvt/I20101142.dcm\n"
     ]
    }
   ],
   "source": [
    "for dcm in dcm_list:\n",
    "    image = dcm.pixel_array                                           # pixel data 값을 저장\n",
    "    image = image.astype(np.int16)                                    # BitsAllocated가 16이므로 int16으로 저장\n",
    "    image[(image > 380) & (image < 1500)] += 1024                     # 특정 intensity 대역을 선택하여 값을 조정\n",
    "\n",
    "    dcm.pixel_array.flat = np.array(image, dtype=np.int16).flat       # 조정한 데이터 값들을 flat를 사용하여 2D to 1D로 바꾸고 덮어쓰기\n",
    "    dcm.PixelData = dcm.pixel_array.tobytes()                         # tobytes를 사용하여 type을 맞추어 데이터에 저장해주기\n",
    "        \n",
    "    result_file_name = os.path.join(\"data_cvt/\", os.path.splitext(file_name)[0] + str(i) + \".dcm\")\n",
    "    \n",
    "    dcm.save_as(result_file_name)\n",
    "\n",
    "    print(result_file_name)"
   ]
  },
  {
   "cell_type": "code",
   "execution_count": null,
   "metadata": {},
   "outputs": [],
   "source": []
  }
 ],
 "metadata": {
  "kernelspec": {
   "display_name": "Python 3",
   "language": "python",
   "name": "python3"
  }
 },
 "nbformat": 4,
 "nbformat_minor": 4
}
