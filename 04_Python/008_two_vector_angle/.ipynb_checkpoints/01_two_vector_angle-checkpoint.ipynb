{
 "cells": [
  {
   "cell_type": "markdown",
   "metadata": {},
   "source": [
    "### 두 벡터 사이의 각도 구하기\n",
    "\n",
    " - reference\n",
    " \n",
    " > https://stackoverflow.com/questions/2827393/angles-between-two-n-dimensional-vectors-in-python\n",
    " \n",
    " - 두 벡터 사이의 각도를 계산할 때 사용하는 함수를 미리 정의 --> 사용 및 응용\n",
    " \n",
    " - 같은 원점을 가지는 두 벡터(A, B) 사이의 각도는 아래와 같이 구할 수 있다 \n",
    " \n",
    " > angle diff. = $cos^{-1}(\\frac{A*B}{|A|*|B|})$\n",
    " \n",
    " - 여기서 $cos^{-1}$은 $acos$ 와 같다"
   ]
  },
  {
   "cell_type": "code",
   "execution_count": null,
   "metadata": {},
   "outputs": [],
   "source": [
    "import math\n",
    "\n",
    "def dotproduct(v1, v2):\n",
    "    return sum((a*b) for a, b in zip(v1, v2))\n",
    "\n",
    "def length(v):\n",
    "    return math.sqrt(dotproduct(v, v))\n",
    "\n",
    "def angle(v1, v2, degree = False):\n",
    "    if(degree):\n",
    "        return math.acos(dotproduct(v1, v2) / (length(v1) * length(v2))) / math.pi * 180.000 \n",
    "    else:\n",
    "        return math.acos(dotproduct(v1, v2) / (length(v1) * length(v2)))"
   ]
  }
 ],
 "metadata": {
  "kernelspec": {
   "display_name": "Python 3",
   "language": "python",
   "name": "python3"
  },
  "language_info": {
   "codemirror_mode": {
    "name": "ipython",
    "version": 3
   },
   "file_extension": ".py",
   "mimetype": "text/x-python",
   "name": "python",
   "nbconvert_exporter": "python",
   "pygments_lexer": "ipython3",
   "version": "3.6.8"
  }
 },
 "nbformat": 4,
 "nbformat_minor": 2
}
