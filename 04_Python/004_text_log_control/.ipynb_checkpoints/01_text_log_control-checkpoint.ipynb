{
 "cells": [
  {
   "cell_type": "markdown",
   "metadata": {},
   "source": [
    "## 1. text로 작성된 log 파일 분석\n",
    "\n",
    " - 만약 text로 log 파일이 남겨지는 경우 다양한 control이 가능함\n",
    " \n",
    " - 여기서는 text로 작성된 log를 excel을 사용하여 나눈 이후 처리를 해보고자 함\n",
    " \n",
    " - excel을 읽고 출력하기 위해서 read_excel, to_excel을 사용하는데 이는 pandas에서 지원하는 함수이지만 따로  xlrd, openxlsx 등의 외부 라이브러리가 필요함"
   ]
  },
  {
   "cell_type": "code",
   "execution_count": 1,
   "metadata": {},
   "outputs": [],
   "source": [
    "# import modeule\n",
    "import pandas as pd\n",
    "import os"
   ]
  },
  {
   "cell_type": "code",
   "execution_count": 2,
   "metadata": {},
   "outputs": [],
   "source": [
    "# read_excel in pandas need to xrld module\n",
    "df1 = pd.read_excel(os.path.join(\"data\", \"01_right_cvs.xlsx\"))\n",
    "df2 = pd.read_excel(os.path.join(\"data\", \"02_left_cvs.xlsx\"))"
   ]
  },
  {
   "cell_type": "markdown",
   "metadata": {},
   "source": [
    "- 데이터를 확인"
   ]
  },
  {
   "cell_type": "code",
   "execution_count": 3,
   "metadata": {
    "scrolled": true
   },
   "outputs": [],
   "source": [
    "# df1"
   ]
  },
  {
   "cell_type": "markdown",
   "metadata": {},
   "source": [
    " - 특정 text가 있는 부분만 추출해야함\n",
    " \n",
    " - 이를 위해 특정한 text가 없으면 drop_list에 colume의 number를 추가하고 이후에 이 colume들을 제거"
   ]
  },
  {
   "cell_type": "code",
   "execution_count": 4,
   "metadata": {},
   "outputs": [],
   "source": [
    "drop_list = []\n",
    "\n",
    "for i in range(len(df1.index)):\n",
    "    if((not(\"Name of point\" in str(df1.iloc[i][1]))) & (not(\"Mean of points\" in str(df1.iloc[i][1])))):\n",
    "        drop_list.append(i)"
   ]
  },
  {
   "cell_type": "code",
   "execution_count": 5,
   "metadata": {
    "scrolled": true
   },
   "outputs": [],
   "source": [
    "df1_pc = df1.drop(drop_list)"
   ]
  },
  {
   "cell_type": "code",
   "execution_count": 6,
   "metadata": {},
   "outputs": [],
   "source": [
    "drop_list = []\n",
    "\n",
    "for i in range(len(df2.index)):\n",
    "    if((not(\"Name of point\" in str(df2.iloc[i][1]))) & (not(\"Mean of points\" in str(df2.iloc[i][1])))):\n",
    "        drop_list.append(i)"
   ]
  },
  {
   "cell_type": "code",
   "execution_count": 7,
   "metadata": {
    "scrolled": true
   },
   "outputs": [],
   "source": [
    "df2_pc = df2.drop(drop_list)"
   ]
  },
  {
   "cell_type": "markdown",
   "metadata": {},
   "source": [
    " - 바로 to_excel을 사용하면 \"openpyxl.utils.exceptions.IllegalCharacterError\"이라는 error를 확인할 수 있음\n",
    " \n",
    " - 이는 NaN에 해당하는 데이터 처리에 대한 문제로 생각되어지며 아래의 참고자료에서 확인하여 문제를 해결함\n",
    " \n",
    " > https://stackoverflow.com/questions/42306755/how-to-remove-illegal-characters-so-a-dataframe-can-write-to-excel"
   ]
  },
  {
   "cell_type": "code",
   "execution_count": 8,
   "metadata": {},
   "outputs": [],
   "source": [
    "df1_pc_ = df1_pc.applymap(lambda x: x.encode('unicode_escape').\n",
    "                 decode('utf-8') if isinstance(x, str) else x)\n",
    "\n",
    "df2_pc_ = df2_pc.applymap(lambda x: x.encode('unicode_escape').\n",
    "                 decode('utf-8') if isinstance(x, str) else x)"
   ]
  },
  {
   "cell_type": "code",
   "execution_count": 9,
   "metadata": {},
   "outputs": [],
   "source": [
    "# to_excel in pandas neet to openxlsx module\n",
    "df1_pc_.to_excel(os.path.join(\"data\", \"01_right_cvs_pc.xlsx\"))\n",
    "df2_pc_.to_excel(os.path.join(\"data\", \"02_left_cvs_pc.xlsx\"))"
   ]
  },
  {
   "cell_type": "code",
   "execution_count": null,
   "metadata": {},
   "outputs": [],
   "source": []
  }
 ],
 "metadata": {
  "kernelspec": {
   "display_name": "Python 3",
   "language": "python",
   "name": "python3"
  },
  "language_info": {
   "codemirror_mode": {
    "name": "ipython",
    "version": 3
   },
   "file_extension": ".py",
   "mimetype": "text/x-python",
   "name": "python",
   "nbconvert_exporter": "python",
   "pygments_lexer": "ipython3",
   "version": "3.6.8"
  }
 },
 "nbformat": 4,
 "nbformat_minor": 2
}
