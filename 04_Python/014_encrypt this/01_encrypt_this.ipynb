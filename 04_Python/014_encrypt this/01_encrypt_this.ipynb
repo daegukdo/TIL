{
 "cells": [
  {
   "cell_type": "markdown",
   "metadata": {},
   "source": [
    "###### Encrypt this!\n",
    "\n",
    " - Encrypt this!\n",
    "\n",
    " - You want to create secret messages which can be deciphered by the Decipher this! kata. Here are the conditions:\n",
    "\n",
    " > 1. Your message is a string containing space separated words.  \n",
    " > 2. You need to encrypt each word in the message using the following rules:  \n",
    " > 1) The first letter needs to be converted to its ASCII code.  \n",
    " > 2) The second letter needs to be switched with the last letter  \n",
    " > 3. Keepin' it simple: There are no special characters in input.  \n",
    "\n",
    " - Examples:\n",
    "\n",
    "```\n",
    "encrypt_this(\"Hello\") == \"72olle\"\n",
    "encrypt_this(\"good\") == \"103doo\"\n",
    "encrypt_this(\"hello world\") == \"104olle 119drlo\"\n",
    "```"
   ]
  },
  {
   "cell_type": "code",
   "execution_count": 9,
   "metadata": {},
   "outputs": [],
   "source": [
    "def encrypt_this(text):\n",
    "    text_word_list = text.split(' ')\n",
    "    text_encrypt_word_list = []\n",
    "    text_encrypt = \"\"\n",
    "    \n",
    "    for word in text_word_list:\n",
    "        tmp_str = \"\"\n",
    "        for i in range(len(word)):\n",
    "            if(i == 0):\n",
    "                tmp_str += str(ord(word[i]))\n",
    "            elif(i == 1):\n",
    "                tmp_str += str(word[len(word) - 1])\n",
    "            elif(i == len(word) - 1):\n",
    "                tmp_str += str(word[1])\n",
    "            else:\n",
    "                tmp_str += word[i]\n",
    "        text_encrypt_word_list.append(tmp_str)\n",
    "        \n",
    "    for i in range(len(text_encrypt_word_list)):\n",
    "        text_encrypt += text_encrypt_word_list[i]\n",
    "        text_encrypt += \" \"\n",
    "        \n",
    "    return text_encrypt[:-1]"
   ]
  },
  {
   "cell_type": "code",
   "execution_count": 10,
   "metadata": {},
   "outputs": [
    {
     "data": {
      "text/plain": [
       "'104olle 119drlo'"
      ]
     },
     "execution_count": 10,
     "metadata": {},
     "output_type": "execute_result"
    }
   ],
   "source": [
    "def encrypt_this(text):\n",
    "    result = []\n",
    "    \n",
    "    for word in text.split():\n",
    "        # turn word into a list\n",
    "        word = list(word)\n",
    "        \n",
    "        # replace first letter with ascii code\n",
    "        word[0] = str(ord(word[0]))\n",
    "        \n",
    "        # switch 2nd and last letters\n",
    "        if len(word) > 2:\n",
    "            word[1], word[-1] = word[-1], word[1]\n",
    "        \n",
    "        # add to results\n",
    "        result.append(''.join(word))\n",
    "    \n",
    "    return ' '.join(result)"
   ]
  },
  {
   "cell_type": "code",
   "execution_count": null,
   "metadata": {},
   "outputs": [],
   "source": []
  }
 ],
 "metadata": {
  "kernelspec": {
   "display_name": "Python 3",
   "language": "python",
   "name": "python3"
  },
  "language_info": {
   "codemirror_mode": {
    "name": "ipython",
    "version": 3
   },
   "file_extension": ".py",
   "mimetype": "text/x-python",
   "name": "python",
   "nbconvert_exporter": "python",
   "pygments_lexer": "ipython3",
   "version": "3.6.8"
  }
 },
 "nbformat": 4,
 "nbformat_minor": 2
}
