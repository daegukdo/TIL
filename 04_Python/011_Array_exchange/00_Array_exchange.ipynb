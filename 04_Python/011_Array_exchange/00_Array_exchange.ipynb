{
 "cells": [
  {
   "cell_type": "markdown",
   "metadata": {},
   "source": [
    "###### Array Exchange\n",
    "\n",
    " - Array Exchange and Reversing\n",
    "\n",
    " - It's time for some array exchange! \n",
    " \n",
    " - The objective is simple: exchange the elements of two arrays in-place in a way that their new content is also reversed.\n",
    "\n",
    "```\n",
    "# before\n",
    "my_list = ['a', 'b', 'c']\n",
    "other_list = [1, 2, 3]\n",
    "\n",
    "exchange_with(my_list, other_list)\n",
    "\n",
    "# after\n",
    "my_list == [3, 2, 1]\n",
    "other_list == ['c', 'b', 'a']\n",
    "```"
   ]
  },
  {
   "cell_type": "code",
   "execution_count": null,
   "metadata": {},
   "outputs": [],
   "source": [
    "def exchange_with(a, b):\n",
    "    return"
   ]
  }
 ],
 "metadata": {
  "kernelspec": {
   "display_name": "Python 3",
   "language": "python",
   "name": "python3"
  },
  "language_info": {
   "codemirror_mode": {
    "name": "ipython",
    "version": 3
   },
   "file_extension": ".py",
   "mimetype": "text/x-python",
   "name": "python",
   "nbconvert_exporter": "python",
   "pygments_lexer": "ipython3",
   "version": "3.6.8"
  }
 },
 "nbformat": 4,
 "nbformat_minor": 2
}
