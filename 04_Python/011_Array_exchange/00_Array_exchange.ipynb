{
 "cells": [
  {
   "cell_type": "markdown",
   "metadata": {},
   "source": [
    "###### Array Exchange\n",
    "\n",
    " - Array Exchange and Reversing\n",
    "\n",
    " - It's time for some array exchange! \n",
    " \n",
    " - The objective is simple: exchange the elements of two arrays in-place in a way that their new content is also reversed.\n",
    "\n",
    "```\n",
    "# before\n",
    "my_list = ['a', 'b', 'c']\n",
    "other_list = [1, 2, 3]\n",
    "\n",
    "exchange_with(my_list, other_list)\n",
    "\n",
    "# after\n",
    "my_list == [3, 2, 1]\n",
    "other_list == ['c', 'b', 'a']\n",
    "```"
   ]
  },
  {
   "cell_type": "code",
   "execution_count": 33,
   "metadata": {},
   "outputs": [],
   "source": [
    "def exchange_with(a, b):\n",
    "    tmp_a = a.copy()\n",
    "    tmp_b = b.copy()\n",
    "    \n",
    "    tmp_a.reverse()\n",
    "    tmp_b.reverse()\n",
    "    \n",
    "    a_list_length = len(a)\n",
    "    b_list_length = len(b)\n",
    "    \n",
    "    a.clear()\n",
    "    b.clear()\n",
    "    \n",
    "    for i in range(len(tmp_b)):\n",
    "        a.append(tmp_b[i])\n",
    "    \n",
    "    for i in range(len(tmp_a)):\n",
    "        b.append(tmp_a[i])\n",
    "    \n",
    "    return "
   ]
  },
  {
   "cell_type": "code",
   "execution_count": 34,
   "metadata": {},
   "outputs": [],
   "source": [
    "def exchange_with(a, b):\n",
    "    a[:], b[:] = b[::-1], a[::-1]"
   ]
  }
 ],
 "metadata": {
  "kernelspec": {
   "display_name": "Python 3",
   "language": "python",
   "name": "python3"
  },
  "language_info": {
   "codemirror_mode": {
    "name": "ipython",
    "version": 3
   },
   "file_extension": ".py",
   "mimetype": "text/x-python",
   "name": "python",
   "nbconvert_exporter": "python",
   "pygments_lexer": "ipython3",
   "version": "3.6.8"
  }
 },
 "nbformat": 4,
 "nbformat_minor": 2
}
