{
 "cells": [
  {
   "cell_type": "markdown",
   "metadata": {},
   "source": [
    "### 파일 이름 바꾸기\n",
    "\n",
    " - 특정 경로의 파일들을 읽음\n",
    " \n",
    " - 그 파일들의 이름을 일괄적으로 순서를 적용하여 변경하고 저장"
   ]
  },
  {
   "cell_type": "code",
   "execution_count": 3,
   "metadata": {},
   "outputs": [],
   "source": [
    "import os\n",
    "\n",
    "def rename_file(path, name, ext):\n",
    "    count = 0\n",
    "    pre_path = path + '/' \n",
    "    for filename in os.listdir(path):\n",
    "        print(path + '/' + filename)\n",
    "        count = count + 1\n",
    "        os.rename(pre_path + filename, pre_path + name +(\"%d\" % count) + ext)       "
   ]
  },
  {
   "cell_type": "code",
   "execution_count": 4,
   "metadata": {},
   "outputs": [
    {
     "name": "stdout",
     "output_type": "stream",
     "text": [
      "data/asd.txt\n",
      "data/data1 - 복사본 (2) - 복사본.txt\n",
      "data/data1 - 복사본 (2).txt\n",
      "data/data1 - 복사본 (3) - 복사본.txt\n",
      "data/data1 - 복사본 (3).txt\n",
      "data/data1 - 복사본 (4) - 복사본.txt\n",
      "data/data1 - 복사본 (4).txt\n",
      "data/data1 - 복사본 (5).txt\n",
      "data/data1 - 복사본 - 복사본 (2).txt\n",
      "data/data1 - 복사본 - 복사본 (3).txt\n",
      "data/data1 - 복사본 - 복사본.txt\n",
      "data/data1 - 복사본.txt\n"
     ]
    }
   ],
   "source": [
    "data_in_path = 'data'\n",
    "rename_file(data_in_path, 'data', '.txt')"
   ]
  },
  {
   "cell_type": "code",
   "execution_count": null,
   "metadata": {},
   "outputs": [],
   "source": []
  }
 ],
 "metadata": {
  "kernelspec": {
   "display_name": "Python 3",
   "language": "python",
   "name": "python3"
  },
  "language_info": {
   "codemirror_mode": {
    "name": "ipython",
    "version": 3
   },
   "file_extension": ".py",
   "mimetype": "text/x-python",
   "name": "python",
   "nbconvert_exporter": "python",
   "pygments_lexer": "ipython3",
   "version": "3.6.8"
  }
 },
 "nbformat": 4,
 "nbformat_minor": 2
}
