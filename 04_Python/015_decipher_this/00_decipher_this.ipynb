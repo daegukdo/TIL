{
 "cells": [
  {
   "cell_type": "markdown",
   "metadata": {},
   "source": [
    "###### Decipher this!\n",
    "\n",
    " - You are given a secret message you need to decipher. Here are the things you need to know to decipher it:  \n",
    "\n",
    " - For each word:  \n",
    "\n",
    " > 1. the second and the last letter is switched (e.g. Hello becomes Holle)  \n",
    " > 2. the first letter is replaced by its character code (e.g. H becomes 72)  \n",
    "\n",
    " - Note: there are no special characters used, only letters and spaces  \n",
    "\n",
    " - Examples  \n",
    "\n",
    "```\n",
    "decipherThis('72olle 103doo 100ya'); // 'Hello good day'\n",
    "decipherThis('82yade 115te 103o'); // 'Ready set go'\n",
    "```"
   ]
  },
  {
   "cell_type": "code",
   "execution_count": null,
   "metadata": {},
   "outputs": [],
   "source": [
    "def decipher_this(string):\n",
    "    text_word_list = string.split(' ')\n",
    "    text_decipher_word_list = []\n",
    "    text_decipher = \"\"\n",
    "    \n",
    "    for word in text_word_list:\n",
    "        word_split_str = \"\"\n",
    "        word_split_int_str = \"\"\n",
    "        count = 0\n",
    "        for i in range(len(word)):\n",
    "            if(word[i].isdigit()):\n",
    "                word_split_int_str += word[i]\n",
    "            else:\n",
    "                word_split_str += word[i]\n",
    "        tmp_str = \"\"\n",
    "        for i in range(len(word_split_str)):\n",
    "            if(i == 0):\n",
    "                tmp_str += word_split_str[len(word_split_str) - 1]\n",
    "            elif(i == len(word_split_str) - 1):\n",
    "                tmp_str += word_split_str[0]\n",
    "            else:\n",
    "                tmp_str += word_split_str[i]\n",
    "            \n",
    "        text_decipher_word_list.append(chr(int(word_split_int_str)) + tmp_str)\n",
    "    \n",
    "    for i in range(len(text_decipher_word_list)):\n",
    "        text_decipher += text_decipher_word_list[i]\n",
    "        text_decipher += \" \"\n",
    "        \n",
    "    return text_decipher[:-1]"
   ]
  },
  {
   "cell_type": "code",
   "execution_count": null,
   "metadata": {},
   "outputs": [],
   "source": [
    "def decipher_word(word):\n",
    "    i = sum(map(str.isdigit, word))\n",
    "    decoded = chr(int(word[:i]))\n",
    "    if len(word) > i + 1:\n",
    "        decoded += word[-1]\n",
    "    if len(word) > i:\n",
    "        decoded += word[i+1:-1] + word[i:i+1]\n",
    "    return decoded\n",
    "\n",
    "def decipher_this(string):\n",
    "    return ' '.join(map(decipher_word, string.split()))"
   ]
  }
 ],
 "metadata": {
  "kernelspec": {
   "display_name": "Python 3",
   "language": "python",
   "name": "python3"
  },
  "language_info": {
   "codemirror_mode": {
    "name": "ipython",
    "version": 3
   },
   "file_extension": ".py",
   "mimetype": "text/x-python",
   "name": "python",
   "nbconvert_exporter": "python",
   "pygments_lexer": "ipython3",
   "version": "3.6.8"
  }
 },
 "nbformat": 4,
 "nbformat_minor": 2
}
