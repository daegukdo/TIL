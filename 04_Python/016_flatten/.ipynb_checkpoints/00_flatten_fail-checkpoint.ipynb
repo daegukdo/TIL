{
 "cells": [
  {
   "cell_type": "markdown",
   "metadata": {},
   "source": [
    "###### flatten()\n",
    "\n",
    " - For this exercise you will create a global flatten method. \n",
    " \n",
    " - The method takes in any number of arguments and flattens them into a single array. \n",
    " \n",
    " - If any of the arguments passed in are an array then the individual objects within the array will be flattened so that they exist at the same level as the other arguments. \n",
    " \n",
    " - Any nested arrays, no matter how deep, should be flattened into the single array result.\n",
    "\n",
    " - The following are examples of how this function would be used and what the expected results would be:\n",
    "\n",
    "```\n",
    "flatten(1, [2, 3], 4, 5, [6, [7]]) # returns [1, 2, 3, 4, 5, 6, 7]\n",
    "flatten('a', ['b', 2], 3, None, [[4], ['c']]) # returns ['a', 'b', 2, 3, None, 4, 'c']\n",
    "```"
   ]
  },
  {
   "cell_type": "code",
   "execution_count": 13,
   "metadata": {},
   "outputs": [],
   "source": [
    "def flatten(*num_list):\n",
    "    answer = []\n",
    "    for i in num_list:\n",
    "        if type(i) == type([]):\n",
    "            if(i == []):\n",
    "                pass\n",
    "            else:\n",
    "                answer = answer + i\n",
    "        else:\n",
    "            answer.append(i)\n",
    "            \n",
    "    if(num_list == []):\n",
    "        return\n",
    "    \n",
    "    return answer"
   ]
  },
  {
   "cell_type": "code",
   "execution_count": 19,
   "metadata": {},
   "outputs": [],
   "source": [
    "def flatten(*a):\n",
    "    r = []\n",
    "    for x in a:\n",
    "        if isinstance(x, list):\n",
    "            print(x)\n",
    "            print(*x)\n",
    "            r.extend(flatten(*x))\n",
    "        else:\n",
    "            r.append(x)\n",
    "    return r"
   ]
  }
 ],
 "metadata": {
  "kernelspec": {
   "display_name": "Python 3",
   "language": "python",
   "name": "python3"
  },
  "language_info": {
   "codemirror_mode": {
    "name": "ipython",
    "version": 3
   },
   "file_extension": ".py",
   "mimetype": "text/x-python",
   "name": "python",
   "nbconvert_exporter": "python",
   "pygments_lexer": "ipython3",
   "version": "3.6.8"
  }
 },
 "nbformat": 4,
 "nbformat_minor": 2
}
