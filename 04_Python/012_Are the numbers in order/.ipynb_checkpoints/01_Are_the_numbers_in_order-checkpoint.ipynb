{
 "cells": [
  {
   "cell_type": "markdown",
   "metadata": {},
   "source": [
    "###### Are the numbers in order?\n",
    "\n",
    " - In this Kata, your function receives an array of integers as input. \n",
    " \n",
    " - Your task is to determine whether the numbers are in ascending order. \n",
    " \n",
    " - An array is said to be in ascending order if there are no two adjacent integers where the left integer exceeds the right integer in value.\n",
    "\n",
    " - For the purposes of this Kata, you may assume that all inputs are valid, i.e. non-empty arrays containing only integers.\n",
    "\n",
    " - Note that an array of 1 integer is automatically considered to be sorted in ascending order since all (zero) adjacent pairs of integers satisfy the condition that the left integer does not exceed the right integer in value. \n",
    " \n",
    " - An empty list is considered a degenerate case and therefore will not be tested in this Kata - feel free to raise an Issue if you see such a list being tested.\n",
    "\n",
    " - For example:\n",
    "\n",
    "```\n",
    "in_asc_order([1,2,4,7,19]) # returns True\n",
    "in_asc_order([1,2,3,4,5]); // returns True\n",
    "in_asc_order([1,6,10,18,2,4,20]) # returns False\n",
    "in_asc_order([9,8,7,6,5,4,3,2,1]) # returns False because the numbers are in DESCENDING order\n",
    "```\n",
    "\n",
    " - N.B. If your solution passes all fixed tests but fails at the random tests, make sure you aren't mutating the input array."
   ]
  },
  {
   "cell_type": "code",
   "execution_count": 1,
   "metadata": {},
   "outputs": [],
   "source": [
    "def in_asc_order(arr):\n",
    "    arr_asc = sorted(arr)\n",
    "    \n",
    "    if(arr != arr_asc):\n",
    "        return False\n",
    "    else:\n",
    "        return True"
   ]
  },
  {
   "cell_type": "code",
   "execution_count": null,
   "metadata": {},
   "outputs": [],
   "source": [
    "def in_asc_order(arr):\n",
    "    return arr == sorted(arr)"
   ]
  }
 ],
 "metadata": {
  "kernelspec": {
   "display_name": "Python 3",
   "language": "python",
   "name": "python3"
  },
  "language_info": {
   "codemirror_mode": {
    "name": "ipython",
    "version": 3
   },
   "file_extension": ".py",
   "mimetype": "text/x-python",
   "name": "python",
   "nbconvert_exporter": "python",
   "pygments_lexer": "ipython3",
   "version": "3.6.8"
  }
 },
 "nbformat": 4,
 "nbformat_minor": 2
}
