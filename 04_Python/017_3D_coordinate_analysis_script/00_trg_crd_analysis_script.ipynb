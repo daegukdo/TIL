{
 "cells": [
  {
   "cell_type": "markdown",
   "metadata": {},
   "source": [
    "### constant value"
   ]
  },
  {
   "cell_type": "code",
   "execution_count": 1,
   "metadata": {},
   "outputs": [],
   "source": [
    "import glob\n",
    "import numpy as np\n",
    "import math\n",
    "import os"
   ]
  },
  {
   "cell_type": "code",
   "execution_count": 2,
   "metadata": {},
   "outputs": [],
   "source": [
    "def eulerRad2mtx(data):\n",
    "    posX = data[0]\n",
    "    posY = data[1]\n",
    "    posZ = data[2]\n",
    "    pitch = data[3]\n",
    "    roll = data[4]\n",
    "    yaw = data[5]\n",
    "    \n",
    "    Rx = np.array([[1, 0, 0, 0],\n",
    "                   [0, math.cos(pitch), -1 * math.sin(pitch), 0],\n",
    "                   [0, math.sin(pitch), math.cos(pitch), 0],\n",
    "                   [0, 0, 0, 1]])\n",
    "    \n",
    "    Ry = np.array([[math.cos(roll), 0, math.sin(roll), 0],\n",
    "                   [0, 1, 0, 0],\n",
    "                   [-1 * math.sin(roll), 0, math.cos(roll), 0],\n",
    "                   [0, 0, 0, 1]])\n",
    "    \n",
    "    Rz = np.array([[math.cos(yaw), -1 * math.sin(yaw), 0, 0],\n",
    "                   [math.sin(yaw), math.cos(yaw), 0, 0],\n",
    "                   [0, 0, 1, 0],\n",
    "                   [0, 0, 0, 1]])\n",
    "    \n",
    "    mtxR = np.dot(Rz, np.dot(Ry, Rx))\n",
    "    \n",
    "    mtxR[0][3] = posX\n",
    "    mtxR[1][3] = posY\n",
    "    mtxR[2][3] = posZ\n",
    "    \n",
    "    return mtxR\n",
    "\n",
    "def mtx2eulerDeg(mtx) :\n",
    "    dLocSqrt = (mtx[0][0] * mtx[0][0] +  mtx[1][0] * mtx[1][0])\n",
    "    \n",
    "    if(dLocSqrt<0.0):\n",
    "        dLocSqrt = 0.0\n",
    "    else:\n",
    "        dLocSqrt= math.sqrt(dLocSqrt)\n",
    "    \n",
    "    dLocRy = math.atan2(-mtx[2][0], dLocSqrt)\n",
    "    dLocCy = math.cos(dLocRy)\n",
    " \n",
    "    if (dLocCy < 0.001745328365898):\n",
    "        Rx = 0.0\n",
    "        Ry = dLocRy\n",
    "        Rz = math.atan2(-mtx[0][1], mtx[1][1])\n",
    "    else:\n",
    "        Rx = math.atan2(mtx[2][1]/dLocCy, mtx[2][2]/dLocCy)\n",
    "        Ry = dLocRy\n",
    "        Rz = math.atan2(mtx[1][0]/dLocCy, mtx[0][0]/dLocCy)\n",
    "        \n",
    "    X = mtx[0][3]\n",
    "    Y = mtx[1][3]\n",
    "    Z = mtx[2][3]\n",
    "    Rx = Rx * 180 / 3.141592653589793238462643383279\n",
    "    Ry = Ry * 180 / 3.141592653589793238462643383279\n",
    "    Rz = Rz * 180 / 3.141592653589793238462643383279\n",
    " \n",
    "    return np.array([X, Y, Z, Rx, Ry, Rz])"
   ]
  },
  {
   "cell_type": "code",
   "execution_count": 3,
   "metadata": {},
   "outputs": [],
   "source": [
    "def mulmulmtx(robot2base, ots2base, ots2marker, marker2bone, bone2imp):\n",
    "    temp0 = np.dot(robot2base, np.linalg.inv(ots2base))\n",
    "    temp1 = np.dot(temp0, ots2marker)\n",
    "    temp2 = np.dot(temp1, marker2bone)\n",
    "    temp3 = np.dot(temp2, bone2imp)\n",
    "    \n",
    "    result = temp3\n",
    "    \n",
    "    return result"
   ]
  },
  {
   "cell_type": "code",
   "execution_count": 4,
   "metadata": {},
   "outputs": [],
   "source": [
    "robot2robotBaseMrk = []\n",
    "\n",
    "femurMrk2femurBone = []\n",
    "tibiaMrk2tibiaBone = []\n",
    "\n",
    "femurBone2femurImp = []\n",
    "tibiaBone2tibiaImp = []"
   ]
  },
  {
   "cell_type": "code",
   "execution_count": 5,
   "metadata": {},
   "outputs": [],
   "source": [
    "mtx_lists = glob.glob(os.path.join(\"data\", \"*.txt\"))"
   ]
  },
  {
   "cell_type": "code",
   "execution_count": 6,
   "metadata": {},
   "outputs": [
    {
     "name": "stdout",
     "output_type": "stream",
     "text": [
      "data\\Transform_BaseMarker2Robot.txt\n",
      "data\\Transform_Femur.txt\n",
      "data\\Transform_Femur_Imp.txt\n",
      "data\\Transform_Tibia.txt\n",
      "data\\Transform_Tibia_Imp.txt\n"
     ]
    }
   ],
   "source": [
    "for file_name in mtx_lists:\n",
    "    print(file_name)\n",
    "    \n",
    "    line_data = []\n",
    "    \n",
    "    with open(file_name, \"r\", encoding='UTF8') as f:\n",
    "        line_data = f.readlines()\n",
    "    \n",
    "    if \"Robot\" in file_name:\n",
    "        for line in line_data:\n",
    "            robot2robotBaseMrk.append(line.split('\\n')[0].split(','))\n",
    "    elif \"Femur.\" in file_name:\n",
    "        for line in line_data:\n",
    "            femurMrk2femurBone.append(line.split('\\n')[0].split(','))\n",
    "    elif \"Tibia.\" in file_name:\n",
    "        for line in line_data:\n",
    "            tibiaMrk2tibiaBone.append(line.split('\\n')[0].split(','))\n",
    "    elif \"Femur_Imp\" in file_name:\n",
    "        for line in line_data:\n",
    "            femurBone2femurImp.append(line.split('\\n')[0].split(','))\n",
    "    elif \"Tibia_Imp\" in file_name:\n",
    "        for line in line_data:\n",
    "            tibiaBone2tibiaImp.append(line.split('\\n')[0].split(','))"
   ]
  },
  {
   "cell_type": "code",
   "execution_count": 7,
   "metadata": {},
   "outputs": [],
   "source": [
    "robot2robotBaseMrk = np.array(robot2robotBaseMrk, dtype='float')\n",
    "\n",
    "femurMrk2femurBone = np.array(femurMrk2femurBone, dtype='float')\n",
    "tibiaMrk2tibiaBone = np.array(tibiaMrk2tibiaBone, dtype='float')\n",
    "\n",
    "femurBone2femurImp = np.array(femurBone2femurImp, dtype='float')\n",
    "tibiaBone2tibiaImp = np.array(tibiaBone2tibiaImp, dtype='float')"
   ]
  },
  {
   "cell_type": "markdown",
   "metadata": {},
   "source": [
    "### raw mrk data"
   ]
  },
  {
   "cell_type": "markdown",
   "metadata": {},
   "source": [
    "###### < 0.15"
   ]
  },
  {
   "cell_type": "code",
   "execution_count": 8,
   "metadata": {},
   "outputs": [],
   "source": [
    "pass_v0_f_OTS2RobotMrk = []\n",
    "pass_v0_OTS2FemurMrk = []"
   ]
  },
  {
   "cell_type": "code",
   "execution_count": 9,
   "metadata": {},
   "outputs": [],
   "source": [
    "euler_pass_lists = glob.glob(os.path.join(\"data/00_pass/00_f\", \"*.txt\"))"
   ]
  },
  {
   "cell_type": "code",
   "execution_count": 10,
   "metadata": {},
   "outputs": [
    {
     "name": "stdout",
     "output_type": "stream",
     "text": [
      "data/00_pass/00_f\\2020-09-01-15-58-01_base_Euler_points.txt\n",
      "data/00_pass/00_f\\2020-09-01-15-58-01_femur_Euler_points.txt\n"
     ]
    }
   ],
   "source": [
    "for file_name in euler_pass_lists:\n",
    "    print(file_name)\n",
    "    \n",
    "    line_data = []\n",
    "    \n",
    "    with open(file_name, \"r\", encoding='UTF8') as f:\n",
    "        line_data = f.readlines()\n",
    "        \n",
    "    if \"base\" in file_name:\n",
    "        for line in line_data:\n",
    "            pass_v0_f_OTS2RobotMrk.append(eulerRad2mtx(np.array(line.split('\\n')[0].split(','), dtype='float')))\n",
    "    elif \"femur\" in file_name:\n",
    "        for line in line_data:\n",
    "            pass_v0_OTS2FemurMrk.append(eulerRad2mtx(np.array(line.split('\\n')[0].split(','), dtype='float')))"
   ]
  },
  {
   "cell_type": "code",
   "execution_count": 11,
   "metadata": {},
   "outputs": [],
   "source": [
    "pass_v0_t_OTS2RobotMrk = []\n",
    "pass_v0_OTS2TibiaMrk = []"
   ]
  },
  {
   "cell_type": "code",
   "execution_count": 12,
   "metadata": {},
   "outputs": [],
   "source": [
    "euler_pass_lists = glob.glob(os.path.join(\"data/00_pass/01_t\", \"*.txt\"))"
   ]
  },
  {
   "cell_type": "code",
   "execution_count": 13,
   "metadata": {},
   "outputs": [
    {
     "name": "stdout",
     "output_type": "stream",
     "text": [
      "data/00_pass/01_t\\2020-09-01-15-58-01_base_Euler_points.txt\n",
      "data/00_pass/01_t\\2020-09-01-15-58-01_tibia_Euler_points.txt\n"
     ]
    }
   ],
   "source": [
    "for file_name in euler_pass_lists:\n",
    "    print(file_name)\n",
    "    \n",
    "    line_data = []\n",
    "    \n",
    "    with open(file_name, \"r\", encoding='UTF8') as f:\n",
    "        line_data = f.readlines()\n",
    "        \n",
    "    if \"base\" in file_name:\n",
    "        for line in line_data:\n",
    "            pass_v0_t_OTS2RobotMrk.append(eulerRad2mtx(np.array(line.split('\\n')[0].split(','), dtype='float')))\n",
    "    elif \"tibia\" in file_name:\n",
    "        for line in line_data:\n",
    "            pass_v0_OTS2TibiaMrk.append(eulerRad2mtx(np.array(line.split('\\n')[0].split(','), dtype='float')))"
   ]
  },
  {
   "cell_type": "code",
   "execution_count": 14,
   "metadata": {},
   "outputs": [],
   "source": [
    "femur_v0_imp_crd_euler = []\n",
    "tibia_v0_imp_crd_euler = []\n",
    "\n",
    "for i in range(len(pass_v0_f_OTS2RobotMrk)):\n",
    "    tmp = mulmulmtx(robot2robotBaseMrk, pass_v0_f_OTS2RobotMrk[i], pass_v0_OTS2FemurMrk[i], femurMrk2femurBone, femurBone2femurImp)\n",
    "    femur_v0_imp_crd_euler.append(mtx2eulerDeg(tmp))\n",
    "    \n",
    "for i in range(len(pass_v0_t_OTS2RobotMrk)):\n",
    "    tmp = mulmulmtx(robot2robotBaseMrk, pass_v0_t_OTS2RobotMrk[i], pass_v0_OTS2TibiaMrk[i], tibiaMrk2tibiaBone, tibiaBone2tibiaImp)\n",
    "    tibia_v0_imp_crd_euler.append(mtx2eulerDeg(tmp))"
   ]
  },
  {
   "cell_type": "markdown",
   "metadata": {},
   "source": [
    "###### 0.15 < x < 0.30"
   ]
  },
  {
   "cell_type": "code",
   "execution_count": 15,
   "metadata": {},
   "outputs": [],
   "source": [
    "fail_v1_f_OTS2RobotMrk = []\n",
    "fail_v1_OTS2FemurMrk = []"
   ]
  },
  {
   "cell_type": "code",
   "execution_count": 16,
   "metadata": {},
   "outputs": [],
   "source": [
    "euler_pass_lists = glob.glob(os.path.join(\"data/02_femur_fail/02\", \"*.txt\"))"
   ]
  },
  {
   "cell_type": "code",
   "execution_count": 17,
   "metadata": {},
   "outputs": [
    {
     "name": "stdout",
     "output_type": "stream",
     "text": [
      "data/02_femur_fail/02\\2020-09-01-16-16-49_base_Euler_points.txt\n",
      "data/02_femur_fail/02\\2020-09-01-16-16-49_femur_Euler_points.txt\n"
     ]
    }
   ],
   "source": [
    "for file_name in euler_pass_lists:\n",
    "    print(file_name)\n",
    "    \n",
    "    line_data = []\n",
    "    \n",
    "    with open(file_name, \"r\", encoding='UTF8') as f:\n",
    "        line_data = f.readlines()\n",
    "        \n",
    "    if \"base\" in file_name:\n",
    "        for line in line_data:\n",
    "            fail_v1_f_OTS2RobotMrk.append(eulerRad2mtx(np.array(line.split('\\n')[0].split(','), dtype='float')))\n",
    "    elif \"femur\" in file_name:\n",
    "        for line in line_data:\n",
    "            fail_v1_OTS2FemurMrk.append(eulerRad2mtx(np.array(line.split('\\n')[0].split(','), dtype='float')))"
   ]
  },
  {
   "cell_type": "code",
   "execution_count": 18,
   "metadata": {},
   "outputs": [],
   "source": [
    "fail_v1_t_OTS2RobotMrk = []\n",
    "fail_v1_OTS2TibiaMrk = []"
   ]
  },
  {
   "cell_type": "code",
   "execution_count": 19,
   "metadata": {},
   "outputs": [],
   "source": [
    "euler_pass_lists = glob.glob(os.path.join(\"data/03_tibia_fail/02\", \"*.txt\"))"
   ]
  },
  {
   "cell_type": "code",
   "execution_count": 20,
   "metadata": {},
   "outputs": [
    {
     "name": "stdout",
     "output_type": "stream",
     "text": [
      "data/03_tibia_fail/02\\2020-09-01-16-01-13_base_Euler_points.txt\n",
      "data/03_tibia_fail/02\\2020-09-01-16-01-13_tibia_Euler_points.txt\n"
     ]
    }
   ],
   "source": [
    "for file_name in euler_pass_lists:\n",
    "    print(file_name)\n",
    "    \n",
    "    line_data = []\n",
    "    \n",
    "    with open(file_name, \"r\", encoding='UTF8') as f:\n",
    "        line_data = f.readlines()\n",
    "        \n",
    "    if \"base\" in file_name:\n",
    "        for line in line_data:\n",
    "            fail_v1_t_OTS2RobotMrk.append(eulerRad2mtx(np.array(line.split('\\n')[0].split(','), dtype='float')))\n",
    "    elif \"tibia\" in file_name:\n",
    "        for line in line_data:\n",
    "            fail_v1_OTS2TibiaMrk.append(eulerRad2mtx(np.array(line.split('\\n')[0].split(','), dtype='float')))"
   ]
  },
  {
   "cell_type": "code",
   "execution_count": 21,
   "metadata": {},
   "outputs": [],
   "source": [
    "femur_v1_imp_crd_euler = []\n",
    "tibia_v1_imp_crd_euler = []\n",
    "\n",
    "for i in range(len(fail_v1_f_OTS2RobotMrk)):\n",
    "    tmp = mulmulmtx(robot2robotBaseMrk, fail_v1_f_OTS2RobotMrk[i], fail_v1_OTS2FemurMrk[i], femurMrk2femurBone, femurBone2femurImp)\n",
    "    femur_v1_imp_crd_euler.append(mtx2eulerDeg(tmp))\n",
    "    \n",
    "for i in range(len(fail_v1_t_OTS2RobotMrk)):\n",
    "    tmp = mulmulmtx(robot2robotBaseMrk, fail_v1_t_OTS2RobotMrk[i], fail_v1_OTS2TibiaMrk[i], tibiaMrk2tibiaBone, tibiaBone2tibiaImp)\n",
    "    tibia_v1_imp_crd_euler.append(mtx2eulerDeg(tmp))"
   ]
  },
  {
   "cell_type": "markdown",
   "metadata": {},
   "source": [
    "###### > 0.30"
   ]
  },
  {
   "cell_type": "code",
   "execution_count": 22,
   "metadata": {},
   "outputs": [],
   "source": [
    "fail_v2_f_OTS2RobotMrk = []\n",
    "fail_v2_OTS2FemurMrk = []"
   ]
  },
  {
   "cell_type": "code",
   "execution_count": 23,
   "metadata": {},
   "outputs": [],
   "source": [
    "euler_pass_lists = glob.glob(os.path.join(\"data/02_femur_fail/03\", \"*.txt\"))"
   ]
  },
  {
   "cell_type": "code",
   "execution_count": 24,
   "metadata": {},
   "outputs": [
    {
     "name": "stdout",
     "output_type": "stream",
     "text": [
      "data/02_femur_fail/03\\2020-09-01-16-16-59_base_Euler_points.txt\n",
      "data/02_femur_fail/03\\2020-09-01-16-16-59_femur_Euler_points.txt\n"
     ]
    }
   ],
   "source": [
    "for file_name in euler_pass_lists:\n",
    "    print(file_name)\n",
    "    \n",
    "    line_data = []\n",
    "    \n",
    "    with open(file_name, \"r\", encoding='UTF8') as f:\n",
    "        line_data = f.readlines()\n",
    "        \n",
    "    if \"base\" in file_name:\n",
    "        for line in line_data:\n",
    "            fail_v2_f_OTS2RobotMrk.append(eulerRad2mtx(np.array(line.split('\\n')[0].split(','), dtype='float')))\n",
    "    elif \"femur\" in file_name:\n",
    "        for line in line_data:\n",
    "            fail_v2_OTS2FemurMrk.append(eulerRad2mtx(np.array(line.split('\\n')[0].split(','), dtype='float')))"
   ]
  },
  {
   "cell_type": "code",
   "execution_count": 25,
   "metadata": {},
   "outputs": [],
   "source": [
    "fail_v2_t_OTS2RobotMrk = []\n",
    "fail_v2_OTS2TibiaMrk = []"
   ]
  },
  {
   "cell_type": "code",
   "execution_count": 26,
   "metadata": {},
   "outputs": [],
   "source": [
    "euler_pass_lists = glob.glob(os.path.join(\"data/03_tibia_fail/03\", \"*.txt\"))"
   ]
  },
  {
   "cell_type": "code",
   "execution_count": 27,
   "metadata": {},
   "outputs": [
    {
     "name": "stdout",
     "output_type": "stream",
     "text": [
      "data/03_tibia_fail/03\\2020-09-01-16-02-53_base_Euler_points.txt\n",
      "data/03_tibia_fail/03\\2020-09-01-16-02-53_tibia_Euler_points.txt\n"
     ]
    }
   ],
   "source": [
    "for file_name in euler_pass_lists:\n",
    "    print(file_name)\n",
    "    \n",
    "    line_data = []\n",
    "    \n",
    "    with open(file_name, \"r\", encoding='UTF8') as f:\n",
    "        line_data = f.readlines()\n",
    "        \n",
    "    if \"base\" in file_name:\n",
    "        for line in line_data:\n",
    "            fail_v2_t_OTS2RobotMrk.append(eulerRad2mtx(np.array(line.split('\\n')[0].split(','), dtype='float')))\n",
    "    elif \"tibia\" in file_name:\n",
    "        for line in line_data:\n",
    "            fail_v2_OTS2TibiaMrk.append(eulerRad2mtx(np.array(line.split('\\n')[0].split(','), dtype='float')))"
   ]
  },
  {
   "cell_type": "code",
   "execution_count": 28,
   "metadata": {},
   "outputs": [],
   "source": [
    "femur_v2_imp_crd_euler = []\n",
    "tibia_v2_imp_crd_euler = []\n",
    "\n",
    "for i in range(len(fail_v2_f_OTS2RobotMrk)):\n",
    "    tmp = mulmulmtx(robot2robotBaseMrk, fail_v2_f_OTS2RobotMrk[i], fail_v2_OTS2FemurMrk[i], femurMrk2femurBone, femurBone2femurImp)\n",
    "    femur_v2_imp_crd_euler.append(mtx2eulerDeg(tmp))\n",
    "    \n",
    "for i in range(len(fail_v2_t_OTS2RobotMrk)):\n",
    "    tmp = mulmulmtx(robot2robotBaseMrk, fail_v2_t_OTS2RobotMrk[i], fail_v2_OTS2TibiaMrk[i], tibiaMrk2tibiaBone, tibiaBone2tibiaImp)\n",
    "    tibia_v2_imp_crd_euler.append(mtx2eulerDeg(tmp))"
   ]
  },
  {
   "cell_type": "markdown",
   "metadata": {},
   "source": [
    "#### 정리!"
   ]
  },
  {
   "cell_type": "code",
   "execution_count": 29,
   "metadata": {},
   "outputs": [
    {
     "data": {
      "text/plain": [
       "[array([ 616.43328531, -209.87226241,  195.14384242, -128.24631732,\n",
       "           6.75140138, -179.94028207]),\n",
       " array([ 615.9461995 , -210.1188125 ,  194.87817908, -128.24526698,\n",
       "           6.72205939, -179.89832643]),\n",
       " array([ 615.6032212 , -210.388566  ,  195.19810801, -128.2449674 ,\n",
       "           6.73421705, -179.9812598 ]),\n",
       " array([ 616.08488363, -209.93016971,  194.72104814, -128.26106575,\n",
       "           6.65851615, -179.91930351]),\n",
       " array([ 615.81635736, -210.02941179,  194.83731145, -128.23942213,\n",
       "           6.66066215, -179.93214069]),\n",
       " array([ 616.32332746, -209.80659413,  194.91700575, -128.23955987,\n",
       "           6.68841672, -179.92343287]),\n",
       " array([ 615.90516919, -209.96998954,  194.76586498, -128.23398454,\n",
       "           6.66433164, -179.96157893]),\n",
       " array([ 616.16422646, -209.80823276,  194.80265841, -128.24269118,\n",
       "           6.67061839, -179.94760502]),\n",
       " array([ 615.69402154, -210.09264236,  194.72226873, -128.24413347,\n",
       "           6.70164688, -179.94270706]),\n",
       " array([ 615.32241308, -210.3463998 ,  194.96984658, -128.2354865 ,\n",
       "           6.71423608, -179.95976662]),\n",
       " array([ 615.38985052, -210.387723  ,  195.18268709, -128.23634867,\n",
       "           6.75695996, -179.99564549]),\n",
       " array([ 615.78092917, -210.05226691,  194.81249278, -128.26450097,\n",
       "           6.793598  , -179.96151677]),\n",
       " array([ 615.2749183 , -210.38039581,  195.27596095, -128.23985089,\n",
       "           6.80220991,  179.9771343 ]),\n",
       " array([ 615.70483505, -210.11982927,  194.92236301, -128.26835964,\n",
       "           6.86356143, -179.97587319]),\n",
       " array([ 615.06653806, -210.56523834,  194.93600098, -128.25086116,\n",
       "           6.8603164 ,  179.98412122]),\n",
       " array([ 615.8462459 , -209.93412111,  194.84023165, -128.25850626,\n",
       "           6.81115097,  179.99433288]),\n",
       " array([ 615.72425359, -210.08706507,  194.90922173, -128.26075795,\n",
       "           6.77966692,  179.91651887]),\n",
       " array([ 616.05262932, -209.88829472,  194.81645948, -128.2437519 ,\n",
       "           6.77331344, -179.97510163]),\n",
       " array([ 615.38796945, -210.23517855,  194.67803888, -128.24047161,\n",
       "           6.77869315, -179.91998998]),\n",
       " array([ 615.30998143, -210.29932331,  194.55432711, -128.23097822,\n",
       "           6.72637543, -179.92748817])]"
      ]
     },
     "execution_count": 29,
     "metadata": {},
     "output_type": "execute_result"
    }
   ],
   "source": [
    "femur_v0_imp_crd_euler\n",
    "tibia_v0_imp_crd_euler\n",
    "femur_v1_imp_crd_euler\n",
    "tibia_v1_imp_crd_euler\n",
    "femur_v2_imp_crd_euler\n",
    "tibia_v2_imp_crd_euler"
   ]
  },
  {
   "cell_type": "code",
   "execution_count": 30,
   "metadata": {},
   "outputs": [],
   "source": [
    "def print_euler_np_array(np_array):\n",
    "    for arr in np_array:\n",
    "        str_data = \"\"\n",
    "        for elm in arr:\n",
    "            str_data = str_data + str(elm) + ', '\n",
    "        print(str_data[:-2])"
   ]
  },
  {
   "cell_type": "code",
   "execution_count": 31,
   "metadata": {
    "scrolled": false
   },
   "outputs": [
    {
     "name": "stdout",
     "output_type": "stream",
     "text": [
      "601.4091836057117, -148.24232288328898, 263.76489598890606, -154.1496727791568, -10.660306593362366, -0.9770608300292912\n",
      "600.7619257661697, -148.69726420964759, 263.69836952684125, -154.1560019586136, -10.654742295915954, -0.9989885085553565\n",
      "601.7213447208869, -148.24370530770142, 263.8815520656629, -154.1664325725781, -10.718562833931752, -0.8964225744020816\n",
      "600.6177977894578, -148.568455123077, 263.56499354220693, -154.15425511601097, -10.71543784985411, -1.0549710921711026\n",
      "600.9642156312523, -148.54781166900233, 263.6794455930895, -154.16578426822065, -10.719318387450217, -0.9924949621381743\n",
      "601.0324365416609, -148.67451586677623, 263.857918678245, -154.16147560077474, -10.69847924690413, -0.9919365156654749\n",
      "601.1886831743001, -148.5362437316185, 263.79693983879434, -154.15942777394565, -10.714133669591037, -0.9763072491320396\n",
      "600.6562867224204, -149.15738277737125, 264.05203420344856, -154.1857040301312, -10.738219900678013, -0.9724337606570631\n",
      "601.018733962152, -148.72804872424004, 263.46710834317224, -154.15932610582863, -10.655541321345629, -0.9364779652839061\n",
      "600.6404846313488, -148.84277736515125, 263.73208989469794, -154.16237801393768, -10.667858891503062, -1.025972590557416\n",
      "600.8592621363987, -148.3746504909558, 263.821943669668, -154.16216537554524, -10.72095142309571, -1.064406503147556\n",
      "601.0084719043454, -148.3872736103458, 263.3542190886754, -154.1627151580467, -10.691200968574327, -0.9800008542077521\n",
      "600.9175374823328, -148.52959506853864, 263.6990770645332, -154.158984061075, -10.664417435010185, -1.0112053506511791\n",
      "601.4726862307767, -148.5879897967333, 263.7692177315921, -154.16407423617986, -10.633413728191355, -0.8741248655514318\n",
      "601.1904247777377, -148.66427690297382, 263.95040687114084, -154.16719136729938, -10.671809063865087, -0.9452779390465375\n",
      "601.6999513354956, -148.39347584580315, 263.9023802053974, -154.1762196516232, -10.721493797386032, -0.8680603807556918\n",
      "601.361742091408, -148.39236710053885, 263.600472906134, -154.15566449781178, -10.663313540703987, -0.9405635601820452\n",
      "601.1499859633236, -148.54849022854364, 263.8935565112844, -154.14860027777496, -10.642214084827444, -0.9898258789552832\n",
      "601.536559888313, -148.34037479365978, 263.9182963072883, -154.156149634368, -10.664319388842179, -0.9400404405361866\n",
      "601.3637143899473, -148.36823288264753, 263.9619755099749, -154.1517188184108, -10.665615271074314, -0.9720829346971477\n",
      "\n",
      "\n",
      "613.3106471162288, -211.15838813264358, 196.33735679464343, -128.59558270631354, 7.9104459910394, 179.5358767312218\n",
      "612.4337114114016, -211.66376605463685, 196.33556767405628, -128.5861136487793, 7.8786604851619915, 179.5293322679576\n",
      "613.6772786850538, -211.06141046447453, 196.54749444630738, -128.59518923571562, 7.923103940008646, 179.58028670031155\n",
      "612.3154411177271, -211.69424498768504, 196.27967214430302, -128.5951447075088, 7.8738519710161325, 179.5315001105859\n",
      "612.598587466481, -211.63665025647444, 196.36525895191218, -128.58719664190428, 7.8962104447804675, 179.5891888125832\n",
      "612.604264025586, -211.67186023780505, 196.31476412331952, -128.59389812301637, 7.968996967982158, 179.5518456242519\n",
      "613.0059033537616, -211.42002395772963, 196.46909295649132, -128.59800181183988, 7.908232140401821, 179.53109415754668\n",
      "612.0600044173676, -212.02860951753954, 196.63960759619857, -128.57756693235098, 7.94305438083013, 179.50670599672043\n",
      "612.5432663294073, -211.55029619844228, 195.96490384374434, -128.61305637696094, 7.914112627356065, 179.53878802555238\n",
      "612.3296378648974, -211.77535766179577, 196.28645738588006, -128.60035673178777, 7.931634188060751, 179.4794687905667\n",
      "612.7196883909627, -211.55107711020938, 196.58900710742418, -128.57659761568118, 7.885658693472961, 179.53820496068425\n",
      "612.6311301330915, -211.51422226145993, 196.01710794277713, -128.59458260677889, 7.875289642910373, 179.60872004426528\n",
      "612.6734592915419, -211.49962994773142, 196.28666983179158, -128.59654005450398, 7.905180331734556, 179.51347446979466\n",
      "612.8777427743264, -211.3118325638229, 196.18871241517397, -128.6039409539069, 7.919149585503048, 179.56134156637194\n",
      "612.7297788436953, -211.5490458088614, 196.44731319495352, -128.5877129291526, 7.94003258867185, 179.5463771195524\n",
      "613.3308512461786, -211.21729220001635, 196.44867922032512, -128.59152379242343, 7.961896778387465, 179.60018348199404\n",
      "613.0152454724595, -211.2930550658465, 196.09338035919814, -128.60169577455542, 7.929950528730069, 179.57293597055212\n",
      "612.7063256094461, -211.5522891326741, 196.40280772067794, -128.59021586527953, 7.913204065685143, 179.57141735539167\n",
      "613.2436658070153, -211.22689374669474, 196.40007683610597, -128.59222082721763, 7.942294261699322, 179.5774565084081\n",
      "613.0211137107456, -211.3746948578558, 196.45971765179388, -128.58833209860038, 7.940950288929372, 179.5924185509024\n",
      "\n",
      "\n",
      "637.9047119555559, -140.04311909027422, 255.9210940943516, -164.65938882971787, -5.780343026486682, -2.6277308279839904\n",
      "637.628984424374, -140.4021521101228, 256.24722954945, -164.67121251522778, -5.780106565406265, -2.6474716505744285\n",
      "637.4645464751011, -140.39700588801247, 256.13224404109974, -164.6610132267257, -5.768459569056966, -2.6779001934485778\n",
      "637.4596976200164, -140.3001732195949, 255.96317731005152, -164.65661604010086, -5.798855226563206, -2.694967310572423\n",
      "637.7693142837745, -140.30502043568515, 256.12982991736396, -164.66256080625058, -5.779783406280262, -2.6264356917883265\n",
      "637.7513771612184, -140.23577062512783, 255.99800878436258, -164.67030669002816, -5.745926189666386, -2.6342620288227856\n",
      "637.8930666138484, -140.14564629679597, 255.93056248399935, -164.6736494672917, -5.7406558248006725, -2.617494341194588\n",
      "637.9417131139306, -140.12459247668403, 255.88058935831685, -164.69623502802668, -5.795996440423369, -2.5718113187292695\n",
      "637.9767239404483, -140.16579154622704, 256.0774013632646, -164.6687237742391, -5.739391900279194, -2.6081412035601272\n",
      "637.8971658900944, -140.15550297463054, 256.0163029827496, -164.67914711788757, -5.798047293900767, -2.623177795890315\n",
      "637.5652220985817, -140.45008406387458, 255.68891098081423, -164.65136000826948, -5.681292690057868, -2.6675928307092245\n",
      "637.4723478588527, -140.27608401178898, 255.85082365647773, -164.65316100367497, -5.767117919977148, -2.7077130139343195\n",
      "638.0162511915372, -140.0725029070589, 256.0576775045384, -164.65677223089637, -5.758928121140543, -2.634097973787163\n",
      "637.6169842377277, -140.4029075576129, 256.25813080558794, -164.66339076943447, -5.801623537601392, -2.648451761364084\n",
      "637.6570980539859, -140.10223641890337, 256.15111859801766, -164.63842676338018, -5.778021382292295, -2.6993453991687906\n",
      "637.8723379064631, -140.19373907494867, 256.02501070737895, -164.6324090569672, -5.7444258546527145, -2.6544615885583274\n",
      "637.609120079254, -140.13165345150037, 256.03790234268826, -164.61646158058304, -5.749319969024898, -2.7154534754870507\n",
      "637.2554543674725, -140.5150122035821, 256.2496908744073, -164.6302685199631, -5.77907892830023, -2.734175354571456\n",
      "637.4348264598976, -140.45111972095964, 256.0853040232766, -164.63391873164963, -5.782566804545744, -2.6719083177951934\n",
      "636.9714855443378, -140.8770558617211, 256.3329018645239, -164.64148085437506, -5.7900612629189565, -2.749270108262004\n",
      "\n",
      "\n",
      "613.2706239604541, -210.89118318568453, 195.7177308686674, -128.5371306121074, 7.424170171599565, 179.8805929401478\n",
      "613.1509723607281, -211.01645495601568, 195.7782510524961, -128.53011808615057, 7.3802265994876235, 179.83984546593794\n",
      "613.6898665326911, -210.7610012806568, 195.89081339032785, -128.51786057765906, 7.381519333944394, 179.904439013669\n",
      "614.0538493955071, -210.42679231178124, 195.86556907815202, -128.51923812228975, 7.364595610027565, 179.95546172755223\n",
      "613.951059044362, -210.44952504188754, 195.65900110524075, -128.52743979448604, 7.318646700146388, 179.91490895755635\n",
      "613.8127672896406, -210.5506240066345, 195.6389587729082, -128.52817217684017, 7.32332106138522, 179.89831355856984\n",
      "614.2240564070958, -210.44845688270854, 195.7808394902195, -128.5207161357479, 7.3788854645983575, 179.9813403094069\n",
      "613.579219146589, -210.90631296247471, 196.13258702051155, -128.50513916013267, 7.446466723255186, 179.91392355309836\n",
      "613.162653956237, -210.93492340081048, 195.69666177387876, -128.52324690088184, 7.395180846666833, 179.9079829127597\n",
      "613.4488138319808, -210.8652168212317, 196.01047559561567, -128.5142073724548, 7.364220169176995, 179.8720741532955\n",
      "613.5125935924015, -210.8507489318472, 195.9223490007505, -128.5160135826908, 7.3628045483875635, 179.8563641375194\n",
      "613.5577974248184, -210.83261960055808, 195.8241570536622, -128.51707142502582, 7.381033488576966, 179.91544047328793\n",
      "613.5214197417586, -210.87783657566226, 196.00367850973785, -128.50088022088778, 7.301831525818835, 179.96618868792305\n",
      "613.6195471624249, -210.7326388175011, 195.72795140595366, -128.51933731470896, 7.355325739517907, 179.86726653712435\n",
      "613.3782311891558, -210.86910335326283, 196.0027565629361, -128.5022437671476, 7.371912058412417, 179.85215535327907\n",
      "613.4908768923301, -210.82126056293475, 195.72376932649, -128.51432346803742, 7.38850594590123, 179.92436623886056\n",
      "613.2287653778397, -210.92860267929305, 196.00051491997692, -128.5046257070367, 7.357058012305092, 179.91317435966226\n",
      "613.786372347284, -210.5387832247144, 195.68274385765585, -128.5181584452776, 7.383686033961269, 179.92216518205893\n",
      "613.8556875899106, -210.59781135516818, 195.8038029751163, -128.52028656068347, 7.350501832482784, 179.89001555873128\n",
      "613.6995179139168, -210.72808302195787, 196.06212077807157, -128.5063953398909, 7.34518238798046, 179.93459698619483\n",
      "\n",
      "\n",
      "637.8012318353592, -140.0387070665605, 255.8570023531881, -164.68677389036662, -5.792810933619864, -2.6510289712998163\n",
      "637.7534269337916, -140.0440341323303, 255.70369647228787, -164.67618017140643, -5.788775722926171, -2.644950544865819\n",
      "638.028235604393, -140.0426451608987, 255.99895152672553, -164.6740427904845, -5.773269210676318, -2.606585925817018\n",
      "637.7117081739532, -140.19232153287658, 256.01706570902667, -164.67670867630682, -5.791041884949243, -2.6504492185447717\n",
      "637.7287628682019, -140.08074102035684, 256.0644910302763, -164.6500190629861, -5.782953247580102, -2.66698335776083\n",
      "637.2149720535766, -140.35289648107727, 256.2011611995319, -164.64352257529802, -5.814131972011056, -2.7269279849748695\n",
      "636.9925819029183, -140.30902830977502, 255.91022211677492, -164.63035260279594, -5.85772302940902, -2.749882352507559\n",
      "636.9042093582763, -140.71233167879984, 256.218442431516, -164.60888107376658, -5.819818154155282, -2.7640130599415156\n",
      "636.8717144178471, -140.5797389508496, 256.11732685146603, -164.60172209710072, -5.885919673011379, -2.7409443465608945\n",
      "636.8722481799741, -140.43266723236925, 256.0159821363608, -164.5706102274449, -5.909283382570641, -2.7651085046067676\n",
      "636.9557671330772, -140.77058334496238, 256.4089675557621, -164.58918771964665, -5.916798627783342, -2.7193369357994537\n",
      "637.378655721832, -140.41431684864935, 256.4436537591657, -164.59292473785186, -5.84785665862791, -2.6816586984444966\n",
      "637.5081767535088, -140.4343441953304, 256.26810628868947, -164.66567265071873, -5.812578159751437, -2.6379510941211977\n",
      "637.7994546753033, -140.15584650084296, 256.04106477799826, -164.66107003606962, -5.770644796452153, -2.63366082662057\n",
      "637.4540214396486, -140.36675169102452, 256.05320733366597, -164.67214232422725, -5.782690792162046, -2.6890982473349885\n",
      "637.4222489759046, -140.47929361212488, 255.91258602200756, -164.67403167123237, -5.75453872103666, -2.6706245807938562\n",
      "637.644119796656, -140.3221015370188, 256.12005432285184, -164.67810416244254, -5.76120149438003, -2.665709617297257\n",
      "637.6208752456099, -140.30634659881122, 255.69227054414904, -164.6800754988357, -5.765922926173153, -2.622342372117525\n",
      "637.598207154144, -140.39931341049956, 256.05642689480277, -164.68541055638727, -5.768721010785726, -2.6307406673410467\n",
      "637.5608892714739, -140.3717254364647, 256.0338218617849, -164.68019830697446, -5.784101850494919, -2.639764692877978\n",
      "\n",
      "\n",
      "616.4332853069884, -209.87226240602146, 195.14384242499557, -128.24631732314904, 6.751401381802048, -179.94028207278154\n",
      "615.9461994967269, -210.11881250215043, 194.87817908129512, -128.24526698029203, 6.722059385266808, -179.89832643339645\n",
      "615.6032211950937, -210.38856600035697, 195.19810801124413, -128.24496739715747, 6.734217050181702, -179.9812598033134\n",
      "616.0848836251057, -209.93016970522186, 194.72104814365068, -128.26106574530385, 6.658516147576826, -179.91930351081606\n",
      "615.8163573553204, -210.02941179134928, 194.83731144530066, -128.23942213316988, 6.66066215071278, -179.93214069072778\n",
      "616.3233274567623, -209.8065941253019, 194.91700575375876, -128.23955986635983, 6.688416718456525, -179.92343286826176\n",
      "615.9051691922449, -209.9699895443224, 194.76586497960736, -128.2339845382541, 6.664331644605714, -179.9615789336944\n",
      "616.1642264566997, -209.80823276120125, 194.80265841024234, -128.24269117836928, 6.6706183894452185, -179.94760501711892\n",
      "615.6940215389446, -210.09264235559675, 194.72226872851718, -128.24413346726075, 6.7016468803204745, -179.9427070606242\n",
      "615.3224130827753, -210.34639979922136, 194.96984657799123, -128.23548650114384, 6.714236080817058, -179.95976662421637\n",
      "615.3898505246912, -210.38772300463307, 195.18268708892987, -128.2363486702566, 6.756959957319452, -179.99564549334923\n",
      "615.7809291733245, -210.05226690627316, 194.81249278463932, -128.26450097390617, 6.793597999296136, -179.9615167741818\n",
      "615.2749182959531, -210.38039581498714, 195.27596095223902, -128.2398508930301, 6.802209907355441, 179.97713429804105\n",
      "615.7048350461381, -210.11982926554836, 194.92236301115184, -128.26835963851076, 6.863561430380848, -179.9758731868761\n",
      "615.0665380621971, -210.56523833984096, 194.93600097610525, -128.2508611602531, 6.860316396647466, 179.98412121840988\n",
      "615.8462458987232, -209.93412110942916, 194.84023165131524, -128.25850625953316, 6.811150971476718, 179.99433288463524\n",
      "615.724253590874, -210.0870650671269, 194.9092217313583, -128.26075794612947, 6.779666920712483, 179.9165188651332\n",
      "616.0526293165399, -209.8882947174314, 194.81645948043192, -128.24375190146102, 6.773313442690224, -179.97510163313947\n",
      "615.3879694498198, -210.2351785519572, 194.67803888457635, -128.24047160620506, 6.778693146055897, -179.91998998096852\n",
      "615.3099814320818, -210.29932331292335, 194.55432711425232, -128.23097822343675, 6.72637543441737, -179.927488173095\n"
     ]
    }
   ],
   "source": [
    "print_euler_np_array(femur_v0_imp_crd_euler)\n",
    "print('\\n')\n",
    "print_euler_np_array(tibia_v0_imp_crd_euler)\n",
    "print('\\n')\n",
    "print_euler_np_array(femur_v1_imp_crd_euler)\n",
    "print('\\n')\n",
    "print_euler_np_array(tibia_v1_imp_crd_euler)\n",
    "print('\\n')\n",
    "print_euler_np_array(femur_v2_imp_crd_euler)\n",
    "print('\\n')\n",
    "print_euler_np_array(tibia_v2_imp_crd_euler)"
   ]
  },
  {
   "cell_type": "markdown",
   "metadata": {},
   "source": [
    "### dist."
   ]
  },
  {
   "cell_type": "code",
   "execution_count": 32,
   "metadata": {},
   "outputs": [],
   "source": [
    "femur_v0_imp_crd_euler_dist = []\n",
    "tibia_v0_imp_crd_euler_dist = []\n",
    "femur_v1_imp_crd_euler_dist = []\n",
    "tibia_v1_imp_crd_euler_dist = []\n",
    "femur_v2_imp_crd_euler_dist = []\n",
    "tibia_v2_imp_crd_euler_dist = []"
   ]
  },
  {
   "cell_type": "code",
   "execution_count": 33,
   "metadata": {},
   "outputs": [],
   "source": [
    "def euler_2_dist(euler):\n",
    "    x = euler[0]\n",
    "    y = euler[1]\n",
    "    z = euler[2]\n",
    "    \n",
    "    return math.sqrt(pow(x, 2) + pow(y, 2) + pow(z, 2))\n",
    "\n",
    "def euler_list_2_mean_diff_and_dist(euler_list):\n",
    "    mean_diff_and_dist = []\n",
    "    \n",
    "    tmp_sum = np.array([0, 0, 0, 0, 0, 0])\n",
    "\n",
    "    for el in euler_list:\n",
    "        tmp_sum = tmp_sum + el\n",
    "        \n",
    "    tmp_avr = tmp_sum / len(euler_list)\n",
    "    mean_diff_and_dist.append(tmp_avr.tolist())\n",
    "    \n",
    "    for el in euler_list:\n",
    "        mean_diff_and_dist.append((tmp_avr - el).tolist())\n",
    "        \n",
    "    for i in range(len(mean_diff_and_dist)):\n",
    "        if i == 0:\n",
    "            mean_diff_and_dist[i].append(0)\n",
    "        else:\n",
    "            mean_diff_and_dist[i].append(euler_2_dist(mean_diff_and_dist[i]))\n",
    "            \n",
    "    return mean_diff_and_dist"
   ]
  },
  {
   "cell_type": "code",
   "execution_count": 34,
   "metadata": {},
   "outputs": [],
   "source": [
    "femur_v0_imp_crd_euler_dist = euler_list_2_mean_diff_and_dist(femur_v0_imp_crd_euler)\n",
    "tibia_v0_imp_crd_euler_dist = euler_list_2_mean_diff_and_dist(tibia_v0_imp_crd_euler)\n",
    "femur_v1_imp_crd_euler_dist = euler_list_2_mean_diff_and_dist(femur_v1_imp_crd_euler)\n",
    "tibia_v1_imp_crd_euler_dist = euler_list_2_mean_diff_and_dist(tibia_v1_imp_crd_euler)\n",
    "femur_v2_imp_crd_euler_dist = euler_list_2_mean_diff_and_dist(femur_v2_imp_crd_euler)\n",
    "tibia_v2_imp_crd_euler_dist = euler_list_2_mean_diff_and_dist(tibia_v2_imp_crd_euler)"
   ]
  },
  {
   "cell_type": "markdown",
   "metadata": {},
   "source": [
    "### export to xlsx"
   ]
  },
  {
   "cell_type": "code",
   "execution_count": 35,
   "metadata": {},
   "outputs": [],
   "source": [
    "case_name = 'case1'"
   ]
  },
  {
   "cell_type": "code",
   "execution_count": 36,
   "metadata": {},
   "outputs": [],
   "source": [
    "head_data = ['x < 0.15', '0.15 < x < 0.3', 'x > 0.3']\n",
    "head_bone_data = ['femur', 'tibia']\n",
    "\n",
    "data_list = [femur_v0_imp_crd_euler,\n",
    "             tibia_v0_imp_crd_euler,\n",
    "             femur_v1_imp_crd_euler,\n",
    "             tibia_v1_imp_crd_euler,\n",
    "             femur_v2_imp_crd_euler,\n",
    "             tibia_v2_imp_crd_euler]\n",
    "\n",
    "data_list_dist = [femur_v0_imp_crd_euler_dist,\n",
    "                  tibia_v0_imp_crd_euler_dist,\n",
    "                  femur_v1_imp_crd_euler_dist,\n",
    "                  tibia_v1_imp_crd_euler_dist,\n",
    "                  femur_v2_imp_crd_euler_dist,\n",
    "                  tibia_v2_imp_crd_euler_dist]"
   ]
  },
  {
   "cell_type": "code",
   "execution_count": 37,
   "metadata": {},
   "outputs": [],
   "source": [
    "import pandas as pd\n",
    "from pandas import DataFrame"
   ]
  },
  {
   "cell_type": "code",
   "execution_count": 38,
   "metadata": {},
   "outputs": [],
   "source": [
    "df = pd.DataFrame()"
   ]
  },
  {
   "cell_type": "code",
   "execution_count": 39,
   "metadata": {},
   "outputs": [],
   "source": [
    "count = 0\n",
    "\n",
    "for i in range(len(head_data)):\n",
    "    for j in range(len(head_bone_data)):\n",
    "        df_head = pd.DataFrame([[head_data[i], head_bone_data[j], ' ', ' ', ' ', ' ']], \n",
    "                               columns = ['Tx', 'Ty', 'Tz', 'Rx', 'Ry', 'Rz'])\n",
    "\n",
    "        df_data = pd.DataFrame(data_list[count], columns = ['Tx', 'Ty', 'Tz', 'Rx', 'Ry', 'Rz'])\n",
    "\n",
    "        df_tmp = pd.concat([df_head, df_data])\n",
    "        \n",
    "        df = pd.concat([df, df_tmp])\n",
    "        \n",
    "        count = count + 1"
   ]
  },
  {
   "cell_type": "code",
   "execution_count": 40,
   "metadata": {},
   "outputs": [
    {
     "data": {
      "text/html": [
       "<div>\n",
       "<style scoped>\n",
       "    .dataframe tbody tr th:only-of-type {\n",
       "        vertical-align: middle;\n",
       "    }\n",
       "\n",
       "    .dataframe tbody tr th {\n",
       "        vertical-align: top;\n",
       "    }\n",
       "\n",
       "    .dataframe thead th {\n",
       "        text-align: right;\n",
       "    }\n",
       "</style>\n",
       "<table border=\"1\" class=\"dataframe\">\n",
       "  <thead>\n",
       "    <tr style=\"text-align: right;\">\n",
       "      <th></th>\n",
       "      <th>Tx</th>\n",
       "      <th>Ty</th>\n",
       "      <th>Tz</th>\n",
       "      <th>Rx</th>\n",
       "      <th>Ry</th>\n",
       "      <th>Rz</th>\n",
       "    </tr>\n",
       "  </thead>\n",
       "  <tbody>\n",
       "    <tr>\n",
       "      <th>0</th>\n",
       "      <td>x &lt; 0.15</td>\n",
       "      <td>femur</td>\n",
       "      <td></td>\n",
       "      <td></td>\n",
       "      <td></td>\n",
       "      <td></td>\n",
       "    </tr>\n",
       "    <tr>\n",
       "      <th>0</th>\n",
       "      <td>601.409</td>\n",
       "      <td>-148.242</td>\n",
       "      <td>263.765</td>\n",
       "      <td>-154.15</td>\n",
       "      <td>-10.6603</td>\n",
       "      <td>-0.977061</td>\n",
       "    </tr>\n",
       "    <tr>\n",
       "      <th>1</th>\n",
       "      <td>600.762</td>\n",
       "      <td>-148.697</td>\n",
       "      <td>263.698</td>\n",
       "      <td>-154.156</td>\n",
       "      <td>-10.6547</td>\n",
       "      <td>-0.998989</td>\n",
       "    </tr>\n",
       "    <tr>\n",
       "      <th>2</th>\n",
       "      <td>601.721</td>\n",
       "      <td>-148.244</td>\n",
       "      <td>263.882</td>\n",
       "      <td>-154.166</td>\n",
       "      <td>-10.7186</td>\n",
       "      <td>-0.896423</td>\n",
       "    </tr>\n",
       "    <tr>\n",
       "      <th>3</th>\n",
       "      <td>600.618</td>\n",
       "      <td>-148.568</td>\n",
       "      <td>263.565</td>\n",
       "      <td>-154.154</td>\n",
       "      <td>-10.7154</td>\n",
       "      <td>-1.05497</td>\n",
       "    </tr>\n",
       "    <tr>\n",
       "      <th>...</th>\n",
       "      <td>...</td>\n",
       "      <td>...</td>\n",
       "      <td>...</td>\n",
       "      <td>...</td>\n",
       "      <td>...</td>\n",
       "      <td>...</td>\n",
       "    </tr>\n",
       "    <tr>\n",
       "      <th>15</th>\n",
       "      <td>615.846</td>\n",
       "      <td>-209.934</td>\n",
       "      <td>194.84</td>\n",
       "      <td>-128.259</td>\n",
       "      <td>6.81115</td>\n",
       "      <td>179.994</td>\n",
       "    </tr>\n",
       "    <tr>\n",
       "      <th>16</th>\n",
       "      <td>615.724</td>\n",
       "      <td>-210.087</td>\n",
       "      <td>194.909</td>\n",
       "      <td>-128.261</td>\n",
       "      <td>6.77967</td>\n",
       "      <td>179.917</td>\n",
       "    </tr>\n",
       "    <tr>\n",
       "      <th>17</th>\n",
       "      <td>616.053</td>\n",
       "      <td>-209.888</td>\n",
       "      <td>194.816</td>\n",
       "      <td>-128.244</td>\n",
       "      <td>6.77331</td>\n",
       "      <td>-179.975</td>\n",
       "    </tr>\n",
       "    <tr>\n",
       "      <th>18</th>\n",
       "      <td>615.388</td>\n",
       "      <td>-210.235</td>\n",
       "      <td>194.678</td>\n",
       "      <td>-128.24</td>\n",
       "      <td>6.77869</td>\n",
       "      <td>-179.92</td>\n",
       "    </tr>\n",
       "    <tr>\n",
       "      <th>19</th>\n",
       "      <td>615.31</td>\n",
       "      <td>-210.299</td>\n",
       "      <td>194.554</td>\n",
       "      <td>-128.231</td>\n",
       "      <td>6.72638</td>\n",
       "      <td>-179.927</td>\n",
       "    </tr>\n",
       "  </tbody>\n",
       "</table>\n",
       "<p>126 rows × 6 columns</p>\n",
       "</div>"
      ],
      "text/plain": [
       "          Tx       Ty       Tz       Rx       Ry        Rz\n",
       "0   x < 0.15    femur                                     \n",
       "0    601.409 -148.242  263.765  -154.15 -10.6603 -0.977061\n",
       "1    600.762 -148.697  263.698 -154.156 -10.6547 -0.998989\n",
       "2    601.721 -148.244  263.882 -154.166 -10.7186 -0.896423\n",
       "3    600.618 -148.568  263.565 -154.154 -10.7154  -1.05497\n",
       "..       ...      ...      ...      ...      ...       ...\n",
       "15   615.846 -209.934   194.84 -128.259  6.81115   179.994\n",
       "16   615.724 -210.087  194.909 -128.261  6.77967   179.917\n",
       "17   616.053 -209.888  194.816 -128.244  6.77331  -179.975\n",
       "18   615.388 -210.235  194.678  -128.24  6.77869   -179.92\n",
       "19    615.31 -210.299  194.554 -128.231  6.72638  -179.927\n",
       "\n",
       "[126 rows x 6 columns]"
      ]
     },
     "execution_count": 40,
     "metadata": {},
     "output_type": "execute_result"
    }
   ],
   "source": [
    "df"
   ]
  },
  {
   "cell_type": "code",
   "execution_count": 41,
   "metadata": {},
   "outputs": [],
   "source": [
    "df.to_excel('00_' + case_name + '.xlsx')"
   ]
  },
  {
   "cell_type": "code",
   "execution_count": 42,
   "metadata": {},
   "outputs": [],
   "source": [
    "dfd = pd.DataFrame()"
   ]
  },
  {
   "cell_type": "code",
   "execution_count": 43,
   "metadata": {},
   "outputs": [],
   "source": [
    "count = 0\n",
    "\n",
    "for i in range(len(head_data)):\n",
    "    for j in range(len(head_bone_data)):\n",
    "        df_head = pd.DataFrame([[head_data[i], head_bone_data[j], ' ', ' ', ' ', ' ', ' ']], \n",
    "                               columns = ['diff. Tx', 'diff. Ty', 'diff. Tz', 'diff. Rx', 'diff. Ry', 'diff. Rz', 'dist.'])\n",
    "\n",
    "        df_data = pd.DataFrame(data_list_dist[count], \n",
    "                               columns = ['diff. Tx', 'diff. Ty', 'diff. Tz', 'diff. Rx', 'diff. Ry', 'diff. Rz', 'dist.'])\n",
    "\n",
    "        df_tmp = pd.concat([df_head, df_data])\n",
    "        \n",
    "        dfd = pd.concat([dfd, df_tmp])\n",
    "        \n",
    "        count = count + 1"
   ]
  },
  {
   "cell_type": "code",
   "execution_count": 44,
   "metadata": {},
   "outputs": [
    {
     "data": {
      "text/html": [
       "<div>\n",
       "<style scoped>\n",
       "    .dataframe tbody tr th:only-of-type {\n",
       "        vertical-align: middle;\n",
       "    }\n",
       "\n",
       "    .dataframe tbody tr th {\n",
       "        vertical-align: top;\n",
       "    }\n",
       "\n",
       "    .dataframe thead th {\n",
       "        text-align: right;\n",
       "    }\n",
       "</style>\n",
       "<table border=\"1\" class=\"dataframe\">\n",
       "  <thead>\n",
       "    <tr style=\"text-align: right;\">\n",
       "      <th></th>\n",
       "      <th>diff. Tx</th>\n",
       "      <th>diff. Ty</th>\n",
       "      <th>diff. Tz</th>\n",
       "      <th>diff. Rx</th>\n",
       "      <th>diff. Ry</th>\n",
       "      <th>diff. Rz</th>\n",
       "      <th>dist.</th>\n",
       "    </tr>\n",
       "  </thead>\n",
       "  <tbody>\n",
       "    <tr>\n",
       "      <th>0</th>\n",
       "      <td>x &lt; 0.15</td>\n",
       "      <td>femur</td>\n",
       "      <td></td>\n",
       "      <td></td>\n",
       "      <td></td>\n",
       "      <td></td>\n",
       "      <td></td>\n",
       "    </tr>\n",
       "    <tr>\n",
       "      <th>0</th>\n",
       "      <td>601.129</td>\n",
       "      <td>-148.541</td>\n",
       "      <td>263.768</td>\n",
       "      <td>-154.161</td>\n",
       "      <td>-10.6841</td>\n",
       "      <td>-0.970433</td>\n",
       "      <td>0</td>\n",
       "    </tr>\n",
       "    <tr>\n",
       "      <th>1</th>\n",
       "      <td>-0.280612</td>\n",
       "      <td>-0.29894</td>\n",
       "      <td>0.00344869</td>\n",
       "      <td>-0.0115243</td>\n",
       "      <td>-0.0237609</td>\n",
       "      <td>0.00662809</td>\n",
       "      <td>0.410025</td>\n",
       "    </tr>\n",
       "    <tr>\n",
       "      <th>2</th>\n",
       "      <td>0.366646</td>\n",
       "      <td>0.156001</td>\n",
       "      <td>0.0699752</td>\n",
       "      <td>-0.00519511</td>\n",
       "      <td>-0.0293252</td>\n",
       "      <td>0.0285558</td>\n",
       "      <td>0.404552</td>\n",
       "    </tr>\n",
       "    <tr>\n",
       "      <th>3</th>\n",
       "      <td>-0.592773</td>\n",
       "      <td>-0.297557</td>\n",
       "      <td>-0.113207</td>\n",
       "      <td>0.00523551</td>\n",
       "      <td>0.0344953</td>\n",
       "      <td>-0.0740102</td>\n",
       "      <td>0.672857</td>\n",
       "    </tr>\n",
       "    <tr>\n",
       "      <th>...</th>\n",
       "      <td>...</td>\n",
       "      <td>...</td>\n",
       "      <td>...</td>\n",
       "      <td>...</td>\n",
       "      <td>...</td>\n",
       "      <td>...</td>\n",
       "      <td>...</td>\n",
       "    </tr>\n",
       "    <tr>\n",
       "      <th>16</th>\n",
       "      <td>-0.104683</td>\n",
       "      <td>-0.181505</td>\n",
       "      <td>0.0539642</td>\n",
       "      <td>0.0121421</td>\n",
       "      <td>-0.0655534</td>\n",
       "      <td>-287.959</td>\n",
       "      <td>0.216367</td>\n",
       "    </tr>\n",
       "    <tr>\n",
       "      <th>17</th>\n",
       "      <td>0.0173092</td>\n",
       "      <td>-0.0285608</td>\n",
       "      <td>-0.0150259</td>\n",
       "      <td>0.0143938</td>\n",
       "      <td>-0.0340693</td>\n",
       "      <td>-287.881</td>\n",
       "      <td>0.0366211</td>\n",
       "    </tr>\n",
       "    <tr>\n",
       "      <th>18</th>\n",
       "      <td>-0.311067</td>\n",
       "      <td>-0.227331</td>\n",
       "      <td>0.0777364</td>\n",
       "      <td>-0.00261222</td>\n",
       "      <td>-0.0277159</td>\n",
       "      <td>72.0106</td>\n",
       "      <td>0.393046</td>\n",
       "    </tr>\n",
       "    <tr>\n",
       "      <th>19</th>\n",
       "      <td>0.353593</td>\n",
       "      <td>0.119553</td>\n",
       "      <td>0.216157</td>\n",
       "      <td>-0.00589251</td>\n",
       "      <td>-0.0330956</td>\n",
       "      <td>71.9555</td>\n",
       "      <td>0.431329</td>\n",
       "    </tr>\n",
       "    <tr>\n",
       "      <th>20</th>\n",
       "      <td>0.431581</td>\n",
       "      <td>0.183697</td>\n",
       "      <td>0.339869</td>\n",
       "      <td>-0.0153859</td>\n",
       "      <td>0.0192221</td>\n",
       "      <td>71.963</td>\n",
       "      <td>0.579239</td>\n",
       "    </tr>\n",
       "  </tbody>\n",
       "</table>\n",
       "<p>132 rows × 7 columns</p>\n",
       "</div>"
      ],
      "text/plain": [
       "     diff. Tx   diff. Ty    diff. Tz    diff. Rx   diff. Ry    diff. Rz  \\\n",
       "0    x < 0.15      femur                                                  \n",
       "0     601.129   -148.541     263.768    -154.161   -10.6841   -0.970433   \n",
       "1   -0.280612   -0.29894  0.00344869  -0.0115243 -0.0237609  0.00662809   \n",
       "2    0.366646   0.156001   0.0699752 -0.00519511 -0.0293252   0.0285558   \n",
       "3   -0.592773  -0.297557   -0.113207  0.00523551  0.0344953  -0.0740102   \n",
       "..        ...        ...         ...         ...        ...         ...   \n",
       "16  -0.104683  -0.181505   0.0539642   0.0121421 -0.0655534    -287.959   \n",
       "17  0.0173092 -0.0285608  -0.0150259   0.0143938 -0.0340693    -287.881   \n",
       "18  -0.311067  -0.227331   0.0777364 -0.00261222 -0.0277159     72.0106   \n",
       "19   0.353593   0.119553    0.216157 -0.00589251 -0.0330956     71.9555   \n",
       "20   0.431581   0.183697    0.339869  -0.0153859  0.0192221      71.963   \n",
       "\n",
       "        dist.  \n",
       "0              \n",
       "0           0  \n",
       "1    0.410025  \n",
       "2    0.404552  \n",
       "3    0.672857  \n",
       "..        ...  \n",
       "16   0.216367  \n",
       "17  0.0366211  \n",
       "18   0.393046  \n",
       "19   0.431329  \n",
       "20   0.579239  \n",
       "\n",
       "[132 rows x 7 columns]"
      ]
     },
     "execution_count": 44,
     "metadata": {},
     "output_type": "execute_result"
    }
   ],
   "source": [
    "dfd"
   ]
  },
  {
   "cell_type": "code",
   "execution_count": 45,
   "metadata": {},
   "outputs": [],
   "source": [
    "dfd.to_excel('00_' + case_name + '_dist.xlsx')"
   ]
  },
  {
   "cell_type": "code",
   "execution_count": 46,
   "metadata": {},
   "outputs": [],
   "source": [
    "## XlsxWriter 엔진으로 Pandas writer 객체 만들기\n",
    "writer = pd.ExcelWriter('00_' + case_name + '_with_chart.xlsx', engine='xlsxwriter')\n",
    " \n",
    "    \n",
    "trial_num = 6\n",
    "\n",
    "trg_chart_point = ['A', 'B', 'C']\n",
    "trg_start_num = 3\n",
    "trg_end_num = 22\n",
    "\n",
    "chart_start_point = ['H', 'P', 'X']\n",
    "\n",
    "add_row_num = 21\n",
    "    \n",
    "## DataFrame을 xlsx에 쓰기\n",
    "df.to_excel(writer, sheet_name='Sheet1', index=False)\n",
    "\n",
    "## Pandas writer 객체에서 xlsxwriter 객체 가져오기\n",
    "workbook = writer.book\n",
    "worksheet = writer.sheets['Sheet1']\n",
    " \n",
    "for i in range(trial_num):\n",
    "    for j in range(len(trg_chart_point)):\n",
    "        ## Chart 객체 만들기\n",
    "        chart = workbook.add_chart({'type':'line'})\n",
    "\n",
    "        ## 데이터 고르기\n",
    "        chart.add_series({'values':'=Sheet1!' + trg_chart_point[j] + str(trg_start_num) + ':' + trg_chart_point[j] + str(trg_end_num)})\n",
    "\n",
    "        ## Chart 넣기\n",
    "        worksheet.insert_chart(chart_start_point[j] + str(trg_start_num), chart)\n",
    "        \n",
    "    trg_start_num = trg_start_num + add_row_num\n",
    "    trg_end_num = trg_end_num + add_row_num\n",
    "    \n",
    "    \n",
    "    \n",
    "trg_start_num_ = 4\n",
    "trg_end_num_ = 23\n",
    "\n",
    "add_row_num_ = 22\n",
    "\n",
    "## DataFrame을 xlsx에 쓰기\n",
    "dfd.to_excel(writer, sheet_name='Sheet2', index=False)\n",
    "\n",
    "## Pandas writer 객체에서 xlsxwriter 객체 가져오기\n",
    "workbook = writer.book\n",
    "worksheet = writer.sheets['Sheet2']\n",
    " \n",
    "for i in range(trial_num):\n",
    "    ## Chart 객체 만들기\n",
    "    chart = workbook.add_chart({'type':'line'})\n",
    "\n",
    "    ## 데이터 고르기\n",
    "    chart.add_series({'values':'=Sheet2!' + 'G' + str(trg_start_num_) + ':' + 'G' + str(trg_end_num_)})\n",
    "\n",
    "    ## Chart 넣기\n",
    "    worksheet.insert_chart('J' + str(trg_start_num_), chart)\n",
    "        \n",
    "    trg_start_num_ = trg_start_num_ + add_row_num_\n",
    "    trg_end_num_ = trg_end_num_ + add_row_num_\n",
    "\n",
    "    \n",
    "    \n",
    "## Pandas writer 객체 닫기\n",
    "writer.close()"
   ]
  },
  {
   "cell_type": "code",
   "execution_count": null,
   "metadata": {},
   "outputs": [],
   "source": []
  }
 ],
 "metadata": {
  "kernelspec": {
   "display_name": "Python 3",
   "language": "python",
   "name": "python3"
  },
  "language_info": {
   "codemirror_mode": {
    "name": "ipython",
    "version": 3
   },
   "file_extension": ".py",
   "mimetype": "text/x-python",
   "name": "python",
   "nbconvert_exporter": "python",
   "pygments_lexer": "ipython3",
   "version": "3.6.7"
  }
 },
 "nbformat": 4,
 "nbformat_minor": 4
}
