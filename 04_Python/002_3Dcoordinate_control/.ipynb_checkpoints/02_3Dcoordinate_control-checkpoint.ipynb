{
 "cells": [
  {
   "cell_type": "markdown",
   "metadata": {},
   "source": [
    "### 3차원 좌표 변환 정리\n",
    "\n",
    " - 먼저 euler angle coordinate를 transformation coordinate로 바꾸기\n",
    " - 그 다음은 python에서 transformation matrix를 다루기 위해 list type으로 저장하는 방법을 봄\n",
    " - 저장된 list type을 numpy를 사용하여 numpy.array로 바꾸기\n",
    " - 이렇게 데이터 타입이 바뀐 transformation matrix를 numpy에서 지원하는 matrix 연산을 해보기\n",
    " \n",
    " > 추후 pandas도 같이 사용하여 수기 작성 없이 변환 및 계산이 가능하게 함수 생성 필요!"
   ]
  },
  {
   "cell_type": "markdown",
   "metadata": {},
   "source": [
    "#### euler coordinate에서 transformation matrix로 변환하기\n",
    "\n",
    " - 변환은 언제나 error 누적이라는 부분을 늘 가지고 있음을 알아야 함\n",
    " - 먼저 euler coordinate에서 rotation term 부분만 연산을 진행\n",
    " - 그 이후, translation term에 해당하는 부분을 추가하는 방식을 사용\n",
    " - 아래에 작성한 함수는 data라는 변수를 받는 데 이는 euler angle의 6 term을 가지는 list \n",
    " - 즉, 0~5의 list index에 각각 x, y, z, Rx, Ry, Rz가 입력됨\n",
    " - return되는 값은 transformation matrix로 numpy.array 형식\n",
    " \n",
    " > 참고자료 :\n",
    " > <https://en.wikipedia.org/wiki/Rotation_matrix>\n",
    " > <http://easyspin.org/easyspin/documentation/eulerangles.html>\n",
    " > <https://www.learnopencv.com/rotation-matrix-to-euler-angles/>"
   ]
  },
  {
   "cell_type": "code",
   "execution_count": 4,
   "metadata": {},
   "outputs": [],
   "source": [
    "import math\n",
    "\n",
    "def euler2mtx(data):\n",
    "    posX = data[0]\n",
    "    posY = data[1]\n",
    "    posZ = data[2]\n",
    "    pitch = data[3]\n",
    "    roll = data[4]\n",
    "    yaw = data[5]\n",
    "    \n",
    "    Rx = [[1, 0, 0, 0],\n",
    "          [0, math.cos(pitch), math.sin(pitch), 0],\n",
    "          [0, -1*math.sin(pitch), math.cos(pitch), 0],\n",
    "          [0, 0, 0, 1]]\n",
    "    \n",
    "    Ry = [[math.cos(roll), 0, -1 * math.sin(roll), 0],\n",
    "          [0, 1, 0, 0],\n",
    "          [math.sin(roll), 0, math.cos(roll), 0],\n",
    "          [0, 0, 0, 1]]\n",
    "    \n",
    "    Rz = [[math.cos(yaw), math.sin(yaw), 0, 0],\n",
    "          [-1 * math.sin(yaw), math.cos(yaw), 0, 0],\n",
    "          [0, 0, 1, 0],\n",
    "          [0, 0, 0, 1]]\n",
    "    \n",
    "    mtxR = np.matmul(np.matmul(np.array(Rx), np.array(Ry)), np.array(Rz))\n",
    "    \n",
    "    mtxR[0][3] = posX\n",
    "    mtxR[1][3] = posY\n",
    "    mtxR[2][3] = posZ\n",
    "    \n",
    "    return mtxR"
   ]
  },
  {
   "cell_type": "markdown",
   "metadata": {},
   "source": [
    "#### 3차원 transformation 연산\n",
    "\n",
    " - 먼저, csv의 transformation data를 받았다고 가정 --> 여기서는 이를 수기로 list type에 저장\n",
    " - transformation matrix가 저장되어 있는 list type을 python에서 matrix 연산을 쉽게하기 위해 numpy.array로 바꿈\n",
    " - numpy.array로 변경된 데이터를 np.matmul을 사용하여 matrix multiplication을 진행\n",
    " - 참고자료\n",
    " > 1. <https://docs.scipy.org/doc/numpy/reference/generated/numpy.matmul.html>\n",
    " > 2. <https://www.python-course.eu/matrix_arithmetic.php>"
   ]
  },
  {
   "cell_type": "code",
   "execution_count": 5,
   "metadata": {},
   "outputs": [],
   "source": [
    "robot2base = [[-0.230246455124679,-0.343713471775025,0.91041069108691,377.636827588619],\n",
    "              [0.044191197884157,-0.938274557846383,-0.343056956963818,413.839184030169],\n",
    "              [0.972128487045339,-0.0387555069188734,0.231223484185981,294.024615805593],\n",
    "              [0,0,0,1]]\n",
    "\n",
    "ots2base_v1 = [-316.825444, 482.4823181, -1985.835834, -0.230162646, -0.056251684, 3.131292963]\n",
    "ots2base_v2 = [32.75094299, 461.7471207, -2011.554492, -0.222212908, 0.107236162, 3.126904833]\n",
    "\n",
    "ots2marker_v1 = [41.96472969, -208.2040459, -1617.433521, 0, -0.000147887, -1.514371941]\n",
    "ots2marker_v2 = [322.9706802, -225.3924011, -1583.386017, 0.041197983, -0.021568373, -1.520555811]\n",
    "\n",
    "marker2bone_v1 = [[-0.0331968143582344,-0.943108856678009,-0.330822706222534,-116.856120969405],\n",
    "                  [0.167795315384865,0.321047723293304,-0.932079970836639,-130.746276136137],\n",
    "                  [0.985262751579285,-0.0864525884389877,0.147591486573219,-88.9828105937332],\n",
    "                  [0,0,0,1]]\n",
    "marker2bone_v2 = [[-0.0542800202965736,-0.949741065502167,-0.308294713497162,-116.682082416504],\n",
    "                  [0.184413388371468,0.293903678655624,-0.937876522541046,-130.989310617106],\n",
    "                  [0.981348752975464,-0.1077616289258,0.159191861748695,-88.99862098117],\n",
    "                  [0,0,0,1]]\n",
    "\n",
    "bone2imp = [[-1.000000, 0.000000, 0.000000, -0.000046],\n",
    "            [-0.000000, 0.992547, -0.121869, 8.286835],\n",
    "            [0.000000, -0.121869, -0.992544, 3.332855],\n",
    "            [0.000000, 0.000000, 0.000000, 1.000000]]"
   ]
  },
  {
   "cell_type": "code",
   "execution_count": 6,
   "metadata": {},
   "outputs": [],
   "source": [
    "import numpy as np\n",
    "\n",
    "robot2base_mtx = np.array(robot2base)\n",
    "\n",
    "ots2base_v1_mtx = euler2mtx(ots2base_v1)\n",
    "ots2base_v2_mtx = euler2mtx(ots2base_v2)\n",
    "\n",
    "ots2marker_v1_mtx = euler2mtx(ots2marker_v1)\n",
    "ots2marker_v2_mtx = euler2mtx(ots2marker_v2)\n",
    "\n",
    "marker2bone_v1_mtx = np.array(marker2bone_v1)\n",
    "marker2bone_v2_mtx = np.array(marker2bone_v2)\n",
    "\n",
    "bone2imp_mtx = np.array(bone2imp)"
   ]
  },
  {
   "cell_type": "code",
   "execution_count": 7,
   "metadata": {},
   "outputs": [],
   "source": [
    "def mulmulmtx(robot2base_mtx, ots2base_mtx, ots2marker_mtx, marker2bone_mtx, bone2imp_mtx):\n",
    "    temp0 = np.matmul(robot2base_mtx, ots2base_mtx)\n",
    "    temp1 = np.matmul(temp0, ots2marker_mtx)\n",
    "    temp2 = np.matmul(temp1, marker2bone_mtx)\n",
    "    temp3 = np.matmul(temp2, bone2imp_mtx)\n",
    "    \n",
    "    result = temp3\n",
    "    \n",
    "    return result"
   ]
  },
  {
   "cell_type": "code",
   "execution_count": 8,
   "metadata": {},
   "outputs": [],
   "source": [
    "usrcrd_v1 = mulmulmtx(robot2base_mtx, np.linalg.inv(ots2base_v1_mtx), \n",
    "                      ots2marker_v1_mtx, marker2bone_v1_mtx, bone2imp_mtx)\n",
    "usrcrd_v2 = mulmulmtx(robot2base_mtx, np.linalg.inv(ots2base_v2_mtx), \n",
    "                      ots2marker_v2_mtx, marker2bone_v2_mtx, bone2imp_mtx)"
   ]
  },
  {
   "cell_type": "code",
   "execution_count": 9,
   "metadata": {},
   "outputs": [
    {
     "data": {
      "text/plain": [
       "array([[-8.87433374e-01, -3.47739459e-01, -3.02554109e-01,\n",
       "         6.68117375e+02],\n",
       "       [ 1.25971021e-01, -8.14374159e-01,  5.66503417e-01,\n",
       "        -4.69797723e+02],\n",
       "       [-4.43388432e-01,  4.64622094e-01,  7.66505447e-01,\n",
       "        -5.82938699e+01],\n",
       "       [ 0.00000000e+00,  0.00000000e+00,  0.00000000e+00,\n",
       "         1.00000000e+00]])"
      ]
     },
     "execution_count": 9,
     "metadata": {},
     "output_type": "execute_result"
    }
   ],
   "source": [
    "usrcrd_v1"
   ]
  },
  {
   "cell_type": "code",
   "execution_count": 10,
   "metadata": {},
   "outputs": [
    {
     "data": {
      "text/plain": [
       "array([[-9.47792658e-01, -2.54787919e-01, -1.91760535e-01,\n",
       "         6.55690760e+02],\n",
       "       [ 1.31136618e-01, -8.59561044e-01,  4.93921611e-01,\n",
       "        -4.55407620e+02],\n",
       "       [-2.90675523e-01,  4.42989442e-01,  8.48094998e-01,\n",
       "        -6.91018456e+01],\n",
       "       [ 0.00000000e+00,  0.00000000e+00,  0.00000000e+00,\n",
       "         1.00000000e+00]])"
      ]
     },
     "execution_count": 10,
     "metadata": {},
     "output_type": "execute_result"
    }
   ],
   "source": [
    "usrcrd_v2"
   ]
  },
  {
   "cell_type": "code",
   "execution_count": null,
   "metadata": {},
   "outputs": [],
   "source": []
  }
 ],
 "metadata": {
  "kernelspec": {
   "display_name": "Python 3",
   "language": "python",
   "name": "python3"
  },
  "language_info": {
   "codemirror_mode": {
    "name": "ipython",
    "version": 3
   },
   "file_extension": ".py",
   "mimetype": "text/x-python",
   "name": "python",
   "nbconvert_exporter": "python",
   "pygments_lexer": "ipython3",
   "version": "3.6.8"
  }
 },
 "nbformat": 4,
 "nbformat_minor": 2
}
