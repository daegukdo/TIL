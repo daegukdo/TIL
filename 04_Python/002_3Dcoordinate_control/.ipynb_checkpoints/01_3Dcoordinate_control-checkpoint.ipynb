{
 "cells": [
  {
   "cell_type": "markdown",
   "metadata": {},
   "source": [
    "### 3차원 좌표 변환 정리\n",
    "\n",
    " - 먼저 euler angle coordinate를 transformation coordinate로 바꾸기\n",
    " - 그 다음은 python에서 transformation matrix를 다루기 위해 list type으로 저장하는 방법을 봄\n",
    " - 저장된 list type을 numpy를 사용하여 numpy.array로 바꾸기\n",
    " - 이렇게 데이터 타입이 바뀐 transformation matrix를 numpy에서 지원하는 matrix 연산을 해보기\n",
    " \n",
    " > 추후 pandas도 같이 사용하여 수기 작성 없이 변환 및 계산이 가능하게 함수 생성 필요!"
   ]
  },
  {
   "cell_type": "markdown",
   "metadata": {},
   "source": [
    "#### euler coordinate에서 transformation matrix로 변환하기\n",
    "\n",
    " - 변환은 언제나 error 누적이라는 부분을 늘 가지고 있음을 알아야 함\n",
    " - 먼저 euler coordinate에서 rotation term 부분만 연산을 진행\n",
    " - 그 이후, translation term에 해당하는 부분을 추가하는 방식을 사용\n",
    " - 아래에 작성한 함수는 data라는 변수를 받는 데 이는 euler angle의 6 term을 가지는 list \n",
    " - 즉, 0~5의 list index에 각각 x, y, z, Rx, Ry, Rz가 입력됨\n",
    " - 여기서의 euler 값 중 rotation은 Rx, Ry, Rz가 degree 단위\n",
    " - return되는 값은 transformation matrix로 numpy.array 형식\n",
    " - 만약, rotation term이 radian 이라면 아래의 부분을 수정 진행\n",
    " \n",
    " > \n",
    " > pitch = data[3] / 180 * 3.141592653589793238462643383279 --> pitch = data[3]\n",
    " >\n",
    " > roll = data[4] / 180 * 3.141592653589793238462643383279 --> roll = data[4]\n",
    " >\n",
    " > yaw = data[5] / 180 * 3.141592653589793238462643383279 --> yaw = data[5]\n",
    " >\n",
    " \n",
    " > 참고자료 : \n",
    " > \n",
    " > https://en.wikipedia.org/wiki/Rotation_matrix\n",
    " > \n",
    " > http://easyspin.org/easyspin/documentation/eulerangles.html\n",
    " > \n",
    " > https://www.learnopencv.com/rotation-matrix-to-euler-angles/"
   ]
  },
  {
   "cell_type": "code",
   "execution_count": 1,
   "metadata": {},
   "outputs": [],
   "source": [
    "import numpy as np\n",
    "import math\n",
    "\n",
    "def euler2mtx(data):\n",
    "    posX = data[0]\n",
    "    posY = data[1]\n",
    "    posZ = data[2]\n",
    "    pitch = data[3] / 180 * 3.141592653589793238462643383279\n",
    "    roll = data[4] / 180 * 3.141592653589793238462643383279\n",
    "    yaw = data[5] / 180 * 3.141592653589793238462643383279\n",
    "    \n",
    "    Rx = np.array([[1, 0, 0, 0],\n",
    "                   [0, math.cos(pitch), -1 * math.sin(pitch), 0],\n",
    "                   [0, math.sin(pitch), math.cos(pitch), 0],\n",
    "                   [0, 0, 0, 1]])\n",
    "    \n",
    "    Ry = np.array([[math.cos(roll), 0, math.sin(roll), 0],\n",
    "                   [0, 1, 0, 0],\n",
    "                   [-1 * math.sin(roll), 0, math.cos(roll), 0],\n",
    "                   [0, 0, 0, 1]])\n",
    "    \n",
    "    Rz = np.array([[math.cos(yaw), -1 * math.sin(yaw), 0, 0],\n",
    "                   [math.sin(yaw), math.cos(yaw), 0, 0],\n",
    "                   [0, 0, 1, 0],\n",
    "                   [0, 0, 0, 1]])\n",
    "    \n",
    "    mtxR = np.dot(Rz, np.dot(Ry, Rx))\n",
    "    \n",
    "    mtxR[0][3] = posX\n",
    "    mtxR[1][3] = posY\n",
    "    mtxR[2][3] = posZ\n",
    "    \n",
    "    return mtxR"
   ]
  },
  {
   "cell_type": "code",
   "execution_count": 2,
   "metadata": {},
   "outputs": [
    {
     "name": "stdout",
     "output_type": "stream",
     "text": [
      "[[ 9.85234650e-01  1.14597026e-01  1.27201439e-01  6.02156206e+02]\n",
      " [-1.19265645e-04 -7.42498378e-01  6.69847852e-01 -1.80355737e+02]\n",
      " [ 1.71209434e-01 -6.59972484e-01 -7.31521462e-01  2.78247963e+02]\n",
      " [ 0.00000000e+00  0.00000000e+00  0.00000000e+00  1.00000000e+00]]\n"
     ]
    }
   ],
   "source": [
    "# test\n",
    "euler_raw = np.array([602.156206084942,-180.355737056239,278.247962852899,-137.943489136756,-9.85814556786191,-0.00693582798166002])\n",
    "\n",
    "mtx_result = euler2mtx(euler_raw)\n",
    "\n",
    "print(mtx_result)"
   ]
  },
  {
   "cell_type": "markdown",
   "metadata": {},
   "source": [
    "#### transformation matrix에서 euler coordinate로 변환하기\n",
    "\n",
    " - 변환은 언제나 error 누적이라는 부분을 늘 가지고 있음을 알아야 함 (강조)\n",
    " - 위의 변환과 반대로 transformation matrix를 euler coordinate 다시 변환\n",
    " - 여기서 출력 euler 값 중 rotation 부분은 degree 단위의 출력\n",
    " - 만약 radian 단위로 바꾸어 출력하고 싶다면 아래와 같이 수정을 진행\n",
    " \n",
    " > \n",
    " > Rx = Rx / 180 * 3.141592653589793238462643383279 --> Rx = Rx\n",
    " >\n",
    " > Ry = Ry / 180 * 3.141592653589793238462643383279 --> Ry = Ry\n",
    " >\n",
    " > Rz = Rz / 180 * 3.141592653589793238462643383279 --> Rz = Rz\n",
    " >\n",
    " \n",
    " > 참고자료 :\n",
    " > \n",
    " > https://www.learnopencv.com/rotation-matrix-to-euler-angles/"
   ]
  },
  {
   "cell_type": "code",
   "execution_count": 3,
   "metadata": {},
   "outputs": [],
   "source": [
    "def mtx2euler(mtx) :\n",
    "    dLocSqrt = (mtx[0][0] * mtx[0][0] +  mtx[1][0] * mtx[1][0])\n",
    "    \n",
    "    if(dLocSqrt<0.0):\n",
    "        dLocSqrt = 0.0\n",
    "    else:\n",
    "        dLocSqrt= math.sqrt(dLocSqrt)\n",
    "    \n",
    "    dLocRy = math.atan2(-mtx[2][0], dLocSqrt)\n",
    "    dLocCy = math.cos(dLocRy)\n",
    " \n",
    "    if (dLocCy < 0.001745328365898):\n",
    "        Rx = 0.0\n",
    "        Ry = dLocRy\n",
    "        Rz = math.atan2(-mtx[0][1], mtx[1][1])\n",
    "    else:\n",
    "        Rx = math.atan2(mtx[2][1]/dLocCy, mtx[2][2]/dLocCy)\n",
    "        Ry = dLocRy\n",
    "        Rz = math.atan2(mtx[1][0]/dLocCy, mtx[0][0]/dLocCy)\n",
    "        \n",
    "    X = mtx[0][3]\n",
    "    Y = mtx[1][3]\n",
    "    Z = mtx[2][3]\n",
    "    Rx = Rx * 180 / 3.141592653589793238462643383279\n",
    "    Ry = Ry * 180 / 3.141592653589793238462643383279\n",
    "    Rz = Rz * 180 / 3.141592653589793238462643383279\n",
    " \n",
    "    return np.array([X, Y, Z, Rx, Ry, Rz])"
   ]
  },
  {
   "cell_type": "code",
   "execution_count": 4,
   "metadata": {},
   "outputs": [
    {
     "name": "stdout",
     "output_type": "stream",
     "text": [
      "[ 6.02156206e+02 -1.80355737e+02  2.78247963e+02 -1.37943489e+02\n",
      " -9.85814557e+00 -6.93582798e-03]\n"
     ]
    }
   ],
   "source": [
    "# test\n",
    "mtx_raw = np.array([[0.985234673141268, 0.114597023338963, 0.127201439702577, 602.156206084942],\n",
    "                    [-0.000119265647590905, -0.742498393044716, 0.669847870155848, -180.355737056239],\n",
    "                    [0.171209438466156, -0.659972512525325, -0.731521493031881, 278.247962852899],\n",
    "                    [0, 0, 0, 1]])\n",
    "\n",
    "euler_result = mtx2euler(mtx_raw)\n",
    "\n",
    "print(euler_result)"
   ]
  },
  {
   "cell_type": "markdown",
   "metadata": {},
   "source": [
    "#### 3차원 transformation 연산\n",
    "\n",
    " - 먼저, csv의 transformation data를 받았다고 가정 --> 여기서는 이를 수기로 list type에 저장\n",
    " - transformation matrix가 저장되어 있는 list type을 python에서 matrix 연산을 쉽게하기 위해 numpy.array로 바꿈\n",
    " - numpy.array로 변경된 데이터를 np.matmul을 사용하여 matrix multiplication을 진행\n",
    " > 참고자료 :\n",
    " >\n",
    " > https://docs.scipy.org/doc/numpy/reference/generated/numpy.matmul.html\n",
    " >\n",
    " > https://www.python-course.eu/matrix_arithmetic.php"
   ]
  },
  {
   "cell_type": "code",
   "execution_count": 5,
   "metadata": {},
   "outputs": [],
   "source": [
    "def mulmulmtx(robot2base, ots2base, ots2marker, marker2bone, bone2imp):\n",
    "    temp0 = np.dot(robot2base, np.linalg.inv(ots2base))\n",
    "    temp1 = np.dot(temp0, ots2marker)\n",
    "    temp2 = np.dot(temp1, marker2bone)\n",
    "    temp3 = np.dot(temp2, bone2imp)\n",
    "    \n",
    "    result = temp3\n",
    "    \n",
    "    return result"
   ]
  },
  {
   "cell_type": "code",
   "execution_count": 6,
   "metadata": {},
   "outputs": [],
   "source": [
    "robot2base = euler2mtx([253.269071, \n",
    "                        414.51447008,\n",
    "                        279.74407606, \n",
    "                        1.20551186, \n",
    "                        1.42310002,   \n",
    "                        1.10477878])\n",
    "\n",
    "ots2base = euler2mtx([-208.548349761963, 388.787348937988, -2011.54149169922, \n",
    "                      0.0903048948035879, 0.247921335883417, 0.17057611320074])\n",
    "\n",
    "ots2marker = euler2mtx([150.102372741699, 1.30939945578575, -1611.90225830078, \n",
    "                        -0.0560360913413306, 0.210461585543916, -1.07238553906404])\n",
    "\n",
    "marker2bone = np.array([ [-0.294216424226761,0.944720804691315,-0.144704341888428,97.8893999809042],\n",
    "                         [0.0446099266409874,0.164815202355385,0.985315144062042,-192.473947331195],\n",
    "                         [0.954697132110596,0.28344064950943,-0.0906352624297142,-26.534008611088],\n",
    "                         [0,0,0,1] ])\n",
    "\n",
    "bone2imp = np.array([ [1.000000, 0.000000, -0.000000, 0.499977],\n",
    "                      [-0.000000, 1.000000, 0.000000, -27.695404], \n",
    "                      [0.000000, -0.000000, 1.000000, -16.773041], \n",
    "                      [0.000000, 0.000000, 0.000000, 1.000000] ])"
   ]
  },
  {
   "cell_type": "code",
   "execution_count": 7,
   "metadata": {},
   "outputs": [],
   "source": [
    "usrcrd_mtx = mulmulmtx(robot2base, ots2base, ots2marker, marker2bone, bone2imp)"
   ]
  },
  {
   "cell_type": "code",
   "execution_count": 8,
   "metadata": {},
   "outputs": [],
   "source": [
    "usrcrd = mtx2euler(usrcrd_mtx)"
   ]
  },
  {
   "cell_type": "code",
   "execution_count": 9,
   "metadata": {},
   "outputs": [
    {
     "data": {
      "text/plain": [
       "array([ 698.84311722, -187.74555767,  626.28950776,  104.75316732,\n",
       "        -74.21616108,  174.0829137 ])"
      ]
     },
     "execution_count": 9,
     "metadata": {},
     "output_type": "execute_result"
    }
   ],
   "source": [
    "usrcrd"
   ]
  },
  {
   "cell_type": "code",
   "execution_count": 10,
   "metadata": {},
   "outputs": [
    {
     "data": {
      "text/plain": [
       "array([[-2.70559594e-01,  9.51863964e-01, -1.44057456e-01,\n",
       "         6.98843117e+02],\n",
       "       [ 2.80411625e-02,  1.57366993e-01,  9.87142012e-01,\n",
       "        -1.87745558e+02],\n",
       "       [ 9.62294738e-01,  2.63041204e-01, -6.92685186e-02,\n",
       "         6.26289508e+02],\n",
       "       [ 0.00000000e+00,  0.00000000e+00,  0.00000000e+00,\n",
       "         1.00000000e+00]])"
      ]
     },
     "execution_count": 10,
     "metadata": {},
     "output_type": "execute_result"
    }
   ],
   "source": [
    "usrcrd_mtx"
   ]
  },
  {
   "cell_type": "code",
   "execution_count": null,
   "metadata": {},
   "outputs": [],
   "source": []
  }
 ],
 "metadata": {
  "kernelspec": {
   "display_name": "Python 3",
   "language": "python",
   "name": "python3"
  },
  "language_info": {
   "codemirror_mode": {
    "name": "ipython",
    "version": 3
   },
   "file_extension": ".py",
   "mimetype": "text/x-python",
   "name": "python",
   "nbconvert_exporter": "python",
   "pygments_lexer": "ipython3",
   "version": "3.6.8"
  }
 },
 "nbformat": 4,
 "nbformat_minor": 2
}
