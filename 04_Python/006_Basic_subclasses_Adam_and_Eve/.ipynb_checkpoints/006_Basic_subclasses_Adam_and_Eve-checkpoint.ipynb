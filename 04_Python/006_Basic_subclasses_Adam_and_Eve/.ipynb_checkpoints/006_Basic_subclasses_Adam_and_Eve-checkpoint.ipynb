{
 "cells": [
  {
   "cell_type": "markdown",
   "metadata": {},
   "source": [
    "### issue description\n",
    "\n",
    " - According to the creation myths of the Abrahamic religions, Adam and Eve were the first Humans to wander the Earth.\n",
    "\n",
    " - You have to do God's job. The creation method must return an array of length 2 containing objects (representing Adam and Eve). \n",
    " \n",
    " - The first object in the array should be an instance of the class `Man`. \n",
    " \n",
    " - The second should be an instance of the class `Woman`.\n",
    " \n",
    " - Both objects have to be subclasses of `Human`.\n",
    " \n",
    " - Your job is to implement the `Human`, `Man` and `Woman` classes."
   ]
  },
  {
   "cell_type": "code",
   "execution_count": 4,
   "metadata": {},
   "outputs": [],
   "source": [
    "def God():\n",
    "    m = Man()\n",
    "    w = Woman()\n",
    "    \n",
    "    return [m, w]\n",
    "\n",
    "class Human:\n",
    "    name = ''\n",
    "    sex = ''\n",
    "class Man(Human):\n",
    "    sex = 'M'\n",
    "class Woman(Human):\n",
    "    sex = 'W'"
   ]
  },
  {
   "cell_type": "code",
   "execution_count": null,
   "metadata": {},
   "outputs": [],
   "source": []
  }
 ],
 "metadata": {
  "kernelspec": {
   "display_name": "Python 3",
   "language": "python",
   "name": "python3"
  },
  "language_info": {
   "codemirror_mode": {
    "name": "ipython",
    "version": 3
   },
   "file_extension": ".py",
   "mimetype": "text/x-python",
   "name": "python",
   "nbconvert_exporter": "python",
   "pygments_lexer": "ipython3",
   "version": "3.6.8"
  }
 },
 "nbformat": 4,
 "nbformat_minor": 2
}
